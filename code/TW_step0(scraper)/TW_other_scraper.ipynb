{
 "cells": [
  {
   "cell_type": "code",
   "execution_count": 3,
   "id": "9b12790c",
   "metadata": {},
   "outputs": [
    {
     "name": "stderr",
     "output_type": "stream",
     "text": [
      "/Users/user/opt/anaconda3/envs/newsai/lib/python3.8/site-packages/_distutils_hack/__init__.py:33: UserWarning: Setuptools is replacing distutils.\n",
      "  warnings.warn(\"Setuptools is replacing distutils.\")\n"
     ]
    }
   ],
   "source": [
    "import requests\n",
    "import json\n",
    "import datetime\n",
    "import pandas as pd\n",
    "import re\n",
    "import os\n",
    "import random\n",
    "import urllib3\n",
    "import time\n",
    "\n",
    "from concurrent.futures import ThreadPoolExecutor, as_completed, wait\n",
    "from datetime import datetime, timedelta\n",
    "from bs4 import BeautifulSoup\n",
    "from tqdm.notebook import tqdm\n",
    "from gnews import GNews\n",
    "\n",
    "gnews = GNews(country='TW')\n",
    "gnews.language = 'chinese traditional'\n",
    "\n",
    "headers = {\n",
    "      'User-Agent':\"Mozilla/5.0 (Macintosh; Intel Mac OS X 10.6; rv:2.0.1) Gecko/20100101 Firefox/4.0.1\"\n",
    "}\n",
    "urllib3.disable_warnings()\n",
    "\n",
    "path = '../../data/tw/raw/'\n"
   ]
  },
  {
   "cell_type": "markdown",
   "id": "ee10f51a",
   "metadata": {},
   "source": [
    "# 1. get links"
   ]
  },
  {
   "cell_type": "code",
   "execution_count": 4,
   "id": "1ab2fa61",
   "metadata": {},
   "outputs": [],
   "source": [
    "def get_week_dates(start_date_str, end_date_str):\n",
    "    start_date = datetime.strptime(start_date_str, \"%Y/%m/%d\")\n",
    "    end_date = datetime.strptime(end_date_str, \"%Y/%m/%d\")\n",
    "    week_start = start_date - timedelta(days=start_date.weekday())\n",
    "    week_end = week_start + timedelta(days=6)\n",
    "\n",
    "    result = []\n",
    "    while week_start <= end_date:\n",
    "        result.append((week_start.strftime(\"%Y/%m/%d\"), week_end.strftime(\"%Y/%m/%d\")))\n",
    "        week_start = week_end + timedelta(days=1)\n",
    "        week_end = week_start + timedelta(days=6)\n",
    "    return result"
   ]
  },
  {
   "cell_type": "code",
   "execution_count": 5,
   "id": "46d4dc20",
   "metadata": {},
   "outputs": [],
   "source": [
    "week_dates = get_week_dates(\"2019/09/01\", \"2020/01/18\")\n",
    "(start, end) = week_dates[0]"
   ]
  },
  {
   "cell_type": "markdown",
   "id": "ea5a34f9",
   "metadata": {},
   "source": [
    "## CNA"
   ]
  },
  {
   "cell_type": "code",
   "execution_count": 7,
   "id": "8dbe88d4",
   "metadata": {},
   "outputs": [
    {
     "data": {
      "application/vnd.jupyter.widget-view+json": {
       "model_id": "23de5a4ae82f406ba973c8d5183ed721",
       "version_major": 2,
       "version_minor": 0
      },
      "text/plain": [
       "  0%|          | 0/21 [00:00<?, ?it/s]"
      ]
     },
     "metadata": {},
     "output_type": "display_data"
    },
    {
     "data": {
      "text/plain": [
       "205"
      ]
     },
     "execution_count": 7,
     "metadata": {},
     "output_type": "execute_result"
    }
   ],
   "source": [
    "cna_tsai = []\n",
    "cna_han = []\n",
    "cna_dpp = []\n",
    "cna_kmt = []\n",
    "cna_election = []\n",
    "\n",
    "for (start, end) in tqdm(week_dates):\n",
    "    cna_tsai += gnews.get_news(f'蔡英文 after:{start} before:{end} site:https://www.cna.com.tw/')\n",
    "    \n",
    "    cna_han += gnews.get_news(f'韓國瑜 after:{start} before:{end} site:https://www.cna.com.tw/')\n",
    "\n",
    "    cna_dpp += gnews.get_news(f'國民黨 after:{start} before:{end} site:https://www.cna.com.tw/')\n",
    "\n",
    "    cna_kmt += gnews.get_news(f'韓國瑜 after:{start} before:{end} site:https://www.cna.com.tw/')\n",
    "\n",
    "    cna_election += gnews.get_news(f'選舉|大選 after:{start} before:{end} site:https://www.cna.com.tw/')\n",
    "\n",
    "len(cna_tsai)"
   ]
  },
  {
   "cell_type": "code",
   "execution_count": 8,
   "id": "bfa0943e-7dd6-4885-826e-d0f6082e036f",
   "metadata": {},
   "outputs": [
    {
     "name": "stdout",
     "output_type": "stream",
     "text": [
      "1975\n",
      "1951\n"
     ]
    }
   ],
   "source": [
    "cna = cna_tsai + cna_han + cna_dpp + cna_kmt + cna_election \n",
    "print(len(cna))\n",
    "\n",
    "cna_df = pd.DataFrame(cna)\n",
    "cna_df.drop_duplicates(inplace=True)\n",
    "cna_df = cna_df.reset_index(drop=True)\n",
    "print(len(cna_df))"
   ]
  },
  {
   "cell_type": "code",
   "execution_count": 9,
   "id": "ec16a759-fc96-4b9d-b591-5fe11f1b3e9c",
   "metadata": {},
   "outputs": [],
   "source": [
    "def GetCnaContent(idx, url):\n",
    "\n",
    "    try:\n",
    "\n",
    "        res = requests.get(url)\n",
    "        soup = BeautifulSoup(res.text)\n",
    "        content = \" \".join([p.text for p in soup.find('div', attrs={'class':'paragraph'}).find_all('p')])\n",
    "        content = \"\".join(re.split(r'[（）\\s]\\s*', content)[2:-2])\n",
    "        \n",
    "        return {\"id\": idx, \"content\":content}\n",
    "    except: \n",
    "        return {\"id\": idx, \"content\":None}\n"
   ]
  },
  {
   "cell_type": "code",
   "execution_count": 10,
   "id": "d59d1a09-7e54-48f7-b13f-c32aa157b5d0",
   "metadata": {},
   "outputs": [
    {
     "data": {
      "application/vnd.jupyter.widget-view+json": {
       "model_id": "96c0d2d562774debaafb2981b97e0eff",
       "version_major": 2,
       "version_minor": 0
      },
      "text/plain": [
       "0it [00:00, ?it/s]"
      ]
     },
     "metadata": {},
     "output_type": "display_data"
    }
   ],
   "source": [
    "# tmp_df = cna_df.sample(10)\n",
    "contents = []\n",
    "TreadNum = 16 \n",
    "\n",
    "with ThreadPoolExecutor( TreadNum) as executor:\n",
    "\n",
    "    futures = [executor.submit(GetCnaContent, idx, row.url) for idx, row in tqdm(cna_df.iterrows())]\n",
    "\n",
    "    for future in as_completed(futures):\n",
    "        contents.append(future.result())"
   ]
  },
  {
   "cell_type": "code",
   "execution_count": 11,
   "id": "ffa7d183-725e-4109-ac1f-48bf78808b1e",
   "metadata": {
    "scrolled": true,
    "tags": []
   },
   "outputs": [
    {
     "data": {
      "text/html": [
       "<div>\n",
       "<style scoped>\n",
       "    .dataframe tbody tr th:only-of-type {\n",
       "        vertical-align: middle;\n",
       "    }\n",
       "\n",
       "    .dataframe tbody tr th {\n",
       "        vertical-align: top;\n",
       "    }\n",
       "\n",
       "    .dataframe thead th {\n",
       "        text-align: right;\n",
       "    }\n",
       "</style>\n",
       "<table border=\"1\" class=\"dataframe\">\n",
       "  <thead>\n",
       "    <tr style=\"text-align: right;\">\n",
       "      <th></th>\n",
       "      <th>content</th>\n",
       "    </tr>\n",
       "    <tr>\n",
       "      <th>id</th>\n",
       "      <th></th>\n",
       "    </tr>\n",
       "  </thead>\n",
       "  <tbody>\n",
       "    <tr>\n",
       "      <th>1443</th>\n",
       "      <td>中共建政70週年前夕，習近平等中共領導人30日赴北京「毛主席紀念堂」，習近平向毛澤東坐像三鞠...</td>\n",
       "    </tr>\n",
       "    <tr>\n",
       "      <th>670</th>\n",
       "      <td>日本沖繩那霸市登記為世界遺產的首里城今天凌晨發生大火，正殿、南北殿等主要建築全燒毀，珍藏的許...</td>\n",
       "    </tr>\n",
       "    <tr>\n",
       "      <th>1289</th>\n",
       "      <td>媒體報導，新版身分證將換發，女性最在意「沒有配偶欄」登熱搜之冠。內政部今天對此澄清表示，數位...</td>\n",
       "    </tr>\n",
       "    <tr>\n",
       "      <th>1816</th>\n",
       "      <td>桃園市政府捷運工程局表示，國家發展委員會今天開會審查桃園捷運綠線G01站延伸至中壢火車站的可...</td>\n",
       "    </tr>\n",
       "    <tr>\n",
       "      <th>595</th>\n",
       "      <td>有關高雄大林蒲遷村案，行政院副院長陳其邁今天表示，經過多次會議、並與市府協商，行政院已正式核...</td>\n",
       "    </tr>\n",
       "  </tbody>\n",
       "</table>\n",
       "</div>"
      ],
      "text/plain": [
       "                                                content\n",
       "id                                                     \n",
       "1443  中共建政70週年前夕，習近平等中共領導人30日赴北京「毛主席紀念堂」，習近平向毛澤東坐像三鞠...\n",
       "670   日本沖繩那霸市登記為世界遺產的首里城今天凌晨發生大火，正殿、南北殿等主要建築全燒毀，珍藏的許...\n",
       "1289  媒體報導，新版身分證將換發，女性最在意「沒有配偶欄」登熱搜之冠。內政部今天對此澄清表示，數位...\n",
       "1816  桃園市政府捷運工程局表示，國家發展委員會今天開會審查桃園捷運綠線G01站延伸至中壢火車站的可...\n",
       "595   有關高雄大林蒲遷村案，行政院副院長陳其邁今天表示，經過多次會議、並與市府協商，行政院已正式核..."
      ]
     },
     "execution_count": 11,
     "metadata": {},
     "output_type": "execute_result"
    }
   ],
   "source": [
    "\n",
    "cna_contents = pd.DataFrame(contents).set_index('id').sort_index()\n",
    "cna_contents.sample(5)"
   ]
  },
  {
   "cell_type": "code",
   "execution_count": 12,
   "id": "d557a260",
   "metadata": {
    "scrolled": true
   },
   "outputs": [
    {
     "name": "stdout",
     "output_type": "stream",
     "text": [
      "1951\n"
     ]
    },
    {
     "data": {
      "text/html": [
       "<div>\n",
       "<style scoped>\n",
       "    .dataframe tbody tr th:only-of-type {\n",
       "        vertical-align: middle;\n",
       "    }\n",
       "\n",
       "    .dataframe tbody tr th {\n",
       "        vertical-align: top;\n",
       "    }\n",
       "\n",
       "    .dataframe thead th {\n",
       "        text-align: right;\n",
       "    }\n",
       "</style>\n",
       "<table border=\"1\" class=\"dataframe\">\n",
       "  <thead>\n",
       "    <tr style=\"text-align: right;\">\n",
       "      <th></th>\n",
       "      <th>title</th>\n",
       "      <th>description</th>\n",
       "      <th>published date</th>\n",
       "      <th>url</th>\n",
       "      <th>publisher</th>\n",
       "      <th>content</th>\n",
       "    </tr>\n",
       "  </thead>\n",
       "  <tbody>\n",
       "    <tr>\n",
       "      <th>386</th>\n",
       "      <td>高雄50萬人罷韓35萬人挺韓遊行 群眾上街展意志| 政治 | 重點新聞 - 中央社即時新聞</td>\n",
       "      <td>高雄50萬人罷韓35萬人挺韓遊行 群眾上街展意志| 政治 | 重點新聞  中央社即時新聞</td>\n",
       "      <td>Sat, 21 Dec 2019 08:00:00 GMT</td>\n",
       "      <td>https://news.google.com/rss/articles/CBMiN2h0d...</td>\n",
       "      <td>{'href': 'https://www.cna.com.tw', 'title': '中...</td>\n",
       "      <td>罷韓、挺韓大遊行今天在不同路線登場，兩方共集結約85萬人走上街頭表達訴求，挺韓方就像造勢活動...</td>\n",
       "    </tr>\n",
       "    <tr>\n",
       "      <th>941</th>\n",
       "      <td>台南市立委民進黨全壘打6席全贏| 政治 | 重點新聞 - 中央社即時新聞</td>\n",
       "      <td>台南市立委民進黨全壘打6席全贏| 政治 | 重點新聞  中央社即時新聞</td>\n",
       "      <td>Sat, 11 Jan 2020 08:00:00 GMT</td>\n",
       "      <td>https://news.google.com/rss/articles/CBMiN2h0d...</td>\n",
       "      <td>{'href': 'https://www.cna.com.tw', 'title': '中...</td>\n",
       "      <td>第10屆立法委員選舉，民主進步黨在台南市6席全贏，王定宇、賴惠員、陳亭妃、林宜瑾、林俊憲、郭...</td>\n",
       "    </tr>\n",
       "    <tr>\n",
       "      <th>1603</th>\n",
       "      <td>歡樂無法黨開創黨大會 選出黨主席邱威傑| 政治 | 重點新聞 - 中央社即時新聞</td>\n",
       "      <td>歡樂無法黨開創黨大會 選出黨主席邱威傑| 政治 | 重點新聞  中央社即時新聞</td>\n",
       "      <td>Thu, 14 Nov 2019 08:00:00 GMT</td>\n",
       "      <td>https://news.google.com/rss/articles/CBMiN2h0d...</td>\n",
       "      <td>{'href': 'https://www.cna.com.tw', 'title': '中...</td>\n",
       "      <td>台北市議員邱威傑呱吉與網紅志祺七七、視網膜共組「歡樂無法黨」，今天舉辦創黨大會，經過一整個下...</td>\n",
       "    </tr>\n",
       "    <tr>\n",
       "      <th>1028</th>\n",
       "      <td>連戰發起 國民黨大老連署登報籲韓郭合作| 政治 | 重點新聞 - 中央社即時新聞</td>\n",
       "      <td>連戰發起 國民黨大老連署登報籲韓郭合作| 政治 | 重點新聞  中央社即時新聞</td>\n",
       "      <td>Thu, 12 Sep 2019 07:00:00 GMT</td>\n",
       "      <td>https://news.google.com/rss/articles/CBMiN2h0d...</td>\n",
       "      <td>{'href': 'https://www.cna.com.tw', 'title': '中...</td>\n",
       "      <td>鴻海創辦人郭台銘參選總統態勢漸趨明顯，國民黨大老親筆簽名今天在各報刊登「團結、奮鬥、救中華民...</td>\n",
       "    </tr>\n",
       "    <tr>\n",
       "      <th>82</th>\n",
       "      <td>NCC發函中天三立新聞 籲回歸專業平衡報導| 政治 | 重點新聞 - 中央社即時新聞</td>\n",
       "      <td>NCC發函中天三立新聞 籲回歸專業平衡報導| 政治 | 重點新聞  中央社即時新聞</td>\n",
       "      <td>Wed, 30 Oct 2019 07:00:00 GMT</td>\n",
       "      <td>https://news.google.com/rss/articles/CBMiN2h0d...</td>\n",
       "      <td>{'href': 'https://www.cna.com.tw', 'title': '中...</td>\n",
       "      <td>NCC今天召開委員會議，決議對三立新聞台「1000整點新聞」、「台灣大頭條」，以及中天新聞台...</td>\n",
       "    </tr>\n",
       "  </tbody>\n",
       "</table>\n",
       "</div>"
      ],
      "text/plain": [
       "                                              title  \\\n",
       "386   高雄50萬人罷韓35萬人挺韓遊行 群眾上街展意志| 政治 | 重點新聞 - 中央社即時新聞   \n",
       "941            台南市立委民進黨全壘打6席全贏| 政治 | 重點新聞 - 中央社即時新聞   \n",
       "1603       歡樂無法黨開創黨大會 選出黨主席邱威傑| 政治 | 重點新聞 - 中央社即時新聞   \n",
       "1028       連戰發起 國民黨大老連署登報籲韓郭合作| 政治 | 重點新聞 - 中央社即時新聞   \n",
       "82       NCC發函中天三立新聞 籲回歸專業平衡報導| 政治 | 重點新聞 - 中央社即時新聞   \n",
       "\n",
       "                                       description  \\\n",
       "386   高雄50萬人罷韓35萬人挺韓遊行 群眾上街展意志| 政治 | 重點新聞  中央社即時新聞   \n",
       "941            台南市立委民進黨全壘打6席全贏| 政治 | 重點新聞  中央社即時新聞   \n",
       "1603       歡樂無法黨開創黨大會 選出黨主席邱威傑| 政治 | 重點新聞  中央社即時新聞   \n",
       "1028       連戰發起 國民黨大老連署登報籲韓郭合作| 政治 | 重點新聞  中央社即時新聞   \n",
       "82       NCC發函中天三立新聞 籲回歸專業平衡報導| 政治 | 重點新聞  中央社即時新聞   \n",
       "\n",
       "                     published date  \\\n",
       "386   Sat, 21 Dec 2019 08:00:00 GMT   \n",
       "941   Sat, 11 Jan 2020 08:00:00 GMT   \n",
       "1603  Thu, 14 Nov 2019 08:00:00 GMT   \n",
       "1028  Thu, 12 Sep 2019 07:00:00 GMT   \n",
       "82    Wed, 30 Oct 2019 07:00:00 GMT   \n",
       "\n",
       "                                                    url  \\\n",
       "386   https://news.google.com/rss/articles/CBMiN2h0d...   \n",
       "941   https://news.google.com/rss/articles/CBMiN2h0d...   \n",
       "1603  https://news.google.com/rss/articles/CBMiN2h0d...   \n",
       "1028  https://news.google.com/rss/articles/CBMiN2h0d...   \n",
       "82    https://news.google.com/rss/articles/CBMiN2h0d...   \n",
       "\n",
       "                                              publisher  \\\n",
       "386   {'href': 'https://www.cna.com.tw', 'title': '中...   \n",
       "941   {'href': 'https://www.cna.com.tw', 'title': '中...   \n",
       "1603  {'href': 'https://www.cna.com.tw', 'title': '中...   \n",
       "1028  {'href': 'https://www.cna.com.tw', 'title': '中...   \n",
       "82    {'href': 'https://www.cna.com.tw', 'title': '中...   \n",
       "\n",
       "                                                content  \n",
       "386   罷韓、挺韓大遊行今天在不同路線登場，兩方共集結約85萬人走上街頭表達訴求，挺韓方就像造勢活動...  \n",
       "941   第10屆立法委員選舉，民主進步黨在台南市6席全贏，王定宇、賴惠員、陳亭妃、林宜瑾、林俊憲、郭...  \n",
       "1603  台北市議員邱威傑呱吉與網紅志祺七七、視網膜共組「歡樂無法黨」，今天舉辦創黨大會，經過一整個下...  \n",
       "1028  鴻海創辦人郭台銘參選總統態勢漸趨明顯，國民黨大老親筆簽名今天在各報刊登「團結、奮鬥、救中華民...  \n",
       "82    NCC今天召開委員會議，決議對三立新聞台「1000整點新聞」、「台灣大頭條」，以及中天新聞台...  "
      ]
     },
     "execution_count": 12,
     "metadata": {},
     "output_type": "execute_result"
    }
   ],
   "source": [
    "cna_df = cna_df.join(cna_contents)\n",
    "print(len(cna_df))\n"
   ]
  },
  {
   "cell_type": "code",
   "execution_count": 16,
   "id": "795c7764",
   "metadata": {},
   "outputs": [],
   "source": [
    "cna_df = cna_df.dropna()\n",
    "cna_df['source'] = 'cna'\n",
    "cna_df.to_csv(path + 'cna.csv')"
   ]
  },
  {
   "cell_type": "markdown",
   "id": "fba143b6",
   "metadata": {
    "tags": []
   },
   "source": [
    "## pts_news"
   ]
  },
  {
   "cell_type": "code",
   "execution_count": 17,
   "id": "74e0a257",
   "metadata": {},
   "outputs": [
    {
     "data": {
      "application/vnd.jupyter.widget-view+json": {
       "model_id": "7e7989eeca524fee8d0eb070b22cd882",
       "version_major": 2,
       "version_minor": 0
      },
      "text/plain": [
       "  0%|          | 0/21 [00:00<?, ?it/s]"
      ]
     },
     "metadata": {},
     "output_type": "display_data"
    },
    {
     "data": {
      "text/plain": [
       "47"
      ]
     },
     "execution_count": 17,
     "metadata": {},
     "output_type": "execute_result"
    }
   ],
   "source": [
    "pts_tsai = []\n",
    "pts_han = []\n",
    "pts_dpp = []\n",
    "pts_kmt = []\n",
    "pts_election = []\n",
    "\n",
    "for (start, end) in tqdm(week_dates):\n",
    "    pts_tsai += gnews.get_news(f'蔡英文 after:{start} before:{end} site:https://news.pts.org.tw/')\n",
    "    \n",
    "    pts_han += gnews.get_news(f'韓國瑜 after:{start} before:{end} site:https://news.pts.org.tw/')\n",
    "\n",
    "    pts_dpp += gnews.get_news(f'國民黨 after:{start} before:{end} site:https://news.pts.org.tw/')\n",
    "\n",
    "    pts_kmt += gnews.get_news(f'韓國瑜 after:{start} before:{end} site:https://news.pts.org.tw/')\n",
    "\n",
    "    pts_election += gnews.get_news(f'選舉|大選 after:{start} before:{end} site:https://news.pts.org.tw/')\n",
    "\n",
    "len(pts_tsai)"
   ]
  },
  {
   "cell_type": "code",
   "execution_count": 18,
   "id": "b0d9442c",
   "metadata": {},
   "outputs": [
    {
     "name": "stdout",
     "output_type": "stream",
     "text": [
      "187\n",
      "179\n"
     ]
    }
   ],
   "source": [
    "pts = pts_tsai + pts_han + pts_dpp + pts_kmt +pts_election \n",
    "print(len(pts))\n",
    "\n",
    "pts_df = pd.DataFrame(pts)\n",
    "pts_df.drop_duplicates(inplace=True)\n",
    "pts_df = pts_df.reset_index(drop=True)\n",
    "print(len(pts_df))"
   ]
  },
  {
   "cell_type": "code",
   "execution_count": 19,
   "id": "8da1e9d8-d34d-4ac9-9089-c84d711961aa",
   "metadata": {},
   "outputs": [],
   "source": [
    "def GetPtsContent(idx, url):\n",
    "\n",
    "    try:\n",
    "\n",
    "        res = requests.get(url)\n",
    "        soup = BeautifulSoup(res.text)\n",
    "        content =  soup.find('article', attrs={'class':'post-article'}).text.replace(\"\\n\", \"\")\n",
    "\n",
    "\n",
    "        return {\"id\": idx, \"content\":content}\n",
    "    except: \n",
    "        return {\"id\": idx, \"content\":None}"
   ]
  },
  {
   "cell_type": "code",
   "execution_count": 21,
   "id": "ad5da8b5",
   "metadata": {},
   "outputs": [
    {
     "data": {
      "application/vnd.jupyter.widget-view+json": {
       "model_id": "84de4ada299a47beba0b9ac0698034e6",
       "version_major": 2,
       "version_minor": 0
      },
      "text/plain": [
       "0it [00:00, ?it/s]"
      ]
     },
     "metadata": {},
     "output_type": "display_data"
    },
    {
     "data": {
      "text/html": [
       "<div>\n",
       "<style scoped>\n",
       "    .dataframe tbody tr th:only-of-type {\n",
       "        vertical-align: middle;\n",
       "    }\n",
       "\n",
       "    .dataframe tbody tr th {\n",
       "        vertical-align: top;\n",
       "    }\n",
       "\n",
       "    .dataframe thead th {\n",
       "        text-align: right;\n",
       "    }\n",
       "</style>\n",
       "<table border=\"1\" class=\"dataframe\">\n",
       "  <thead>\n",
       "    <tr style=\"text-align: right;\">\n",
       "      <th></th>\n",
       "      <th>content</th>\n",
       "    </tr>\n",
       "    <tr>\n",
       "      <th>id</th>\n",
       "      <th></th>\n",
       "    </tr>\n",
       "  </thead>\n",
       "  <tbody>\n",
       "    <tr>\n",
       "      <th>0</th>\n",
       "      <td>2020總統大選競爭激烈，總統蔡英文拚連任，今天舉行競選團隊的全國授證大會，也親自授旗。競選...</td>\n",
       "    </tr>\n",
       "    <tr>\n",
       "      <th>1</th>\n",
       "      <td>臺灣大學的名譽教授賀德芬，早起召開記者會，表示伊有調查的資料講，蔡英文總統是無佇咧1984年...</td>\n",
       "    </tr>\n",
       "    <tr>\n",
       "      <th>2</th>\n",
       "      <td>九三軍人節前...</td>\n",
       "    </tr>\n",
       "  </tbody>\n",
       "</table>\n",
       "</div>"
      ],
      "text/plain": [
       "                                              content\n",
       "id                                                   \n",
       "0   2020總統大選競爭激烈，總統蔡英文拚連任，今天舉行競選團隊的全國授證大會，也親自授旗。競選...\n",
       "1   臺灣大學的名譽教授賀德芬，早起召開記者會，表示伊有調查的資料講，蔡英文總統是無佇咧1984年...\n",
       "2                                           九三軍人節前..."
      ]
     },
     "execution_count": 21,
     "metadata": {},
     "output_type": "execute_result"
    }
   ],
   "source": [
    "\n",
    "contents = []\n",
    "TreadNum = 8\n",
    "\n",
    "with ThreadPoolExecutor( TreadNum) as executor:\n",
    "\n",
    "    futures = [executor.submit(GetPtsContent, idx, row.url) for idx, row in tqdm(pts_df.iterrows())]\n",
    "\n",
    "    for future in as_completed(futures):\n",
    "        contents.append(future.result())\n",
    "\n",
    "\n",
    "pts_contents = pd.DataFrame(contents).set_index(\"id\").sort_index()\n",
    "pts_contents.head(3)"
   ]
  },
  {
   "cell_type": "code",
   "execution_count": 23,
   "id": "46409c77",
   "metadata": {},
   "outputs": [
    {
     "name": "stdout",
     "output_type": "stream",
     "text": [
      "179\n"
     ]
    },
    {
     "data": {
      "text/html": [
       "<div>\n",
       "<style scoped>\n",
       "    .dataframe tbody tr th:only-of-type {\n",
       "        vertical-align: middle;\n",
       "    }\n",
       "\n",
       "    .dataframe tbody tr th {\n",
       "        vertical-align: top;\n",
       "    }\n",
       "\n",
       "    .dataframe thead th {\n",
       "        text-align: right;\n",
       "    }\n",
       "</style>\n",
       "<table border=\"1\" class=\"dataframe\">\n",
       "  <thead>\n",
       "    <tr style=\"text-align: right;\">\n",
       "      <th></th>\n",
       "      <th>title</th>\n",
       "      <th>description</th>\n",
       "      <th>published date</th>\n",
       "      <th>url</th>\n",
       "      <th>publisher</th>\n",
       "      <th>source</th>\n",
       "      <th>content</th>\n",
       "    </tr>\n",
       "  </thead>\n",
       "  <tbody>\n",
       "    <tr>\n",
       "      <th>174</th>\n",
       "      <td>台中立委選戰 民進黨拿下5席、國民黨2席 ｜ 公視新聞網 PNN - 公視新聞</td>\n",
       "      <td>台中立委選戰 民進黨拿下5席、國民黨2席 ｜ 公視新聞網 PNN  公視新聞</td>\n",
       "      <td>Sun, 12 Jan 2020 08:00:00 GMT</td>\n",
       "      <td>https://news.google.com/rss/articles/CBMiJmh0d...</td>\n",
       "      <td>{'href': 'https://news.pts.org.tw', 'title': '...</td>\n",
       "      <td>pts</td>\n",
       "      <td>至於中台灣選...</td>\n",
       "    </tr>\n",
       "    <tr>\n",
       "      <th>175</th>\n",
       "      <td>因慶富案虧損7.9億 高雄銀行告前老總背信 ｜ 公視新聞網 PNN - 公視新聞</td>\n",
       "      <td>因慶富案虧損7.9億 高雄銀行告前老總背信 ｜ 公視新聞網 PNN  公視新聞</td>\n",
       "      <td>Tue, 07 Jan 2020 08:00:00 GMT</td>\n",
       "      <td>https://news.google.com/rss/articles/CBMiJmh0d...</td>\n",
       "      <td>{'href': 'https://news.pts.org.tw', 'title': '...</td>\n",
       "      <td>pts</td>\n",
       "      <td>慶富獵雷艦詐貸案是高雄銀行核貸給慶富17.4億元的履約保證金，造成後來虧損7.9億，高銀內部...</td>\n",
       "    </tr>\n",
       "    <tr>\n",
       "      <th>176</th>\n",
       "      <td>總統：台灣已是獨立國家 叫「中華民國台灣」 ｜ 公視新聞網 PNN - 公視新聞</td>\n",
       "      <td>總統：台灣已是獨立國家 叫「中華民國台灣」 ｜ 公視新聞網 PNN  公視新聞</td>\n",
       "      <td>Wed, 15 Jan 2020 08:00:00 GMT</td>\n",
       "      <td>https://news.google.com/rss/articles/CBMiJmh0d...</td>\n",
       "      <td>{'href': 'https://news.pts.org.tw', 'title': '...</td>\n",
       "      <td>pts</td>\n",
       "      <td>2020大選...</td>\n",
       "    </tr>\n",
       "    <tr>\n",
       "      <th>177</th>\n",
       "      <td>We are an Independent Country Already: Preside...</td>\n",
       "      <td>We are an Independent Country Already: Preside...</td>\n",
       "      <td>Wed, 15 Jan 2020 08:00:00 GMT</td>\n",
       "      <td>https://news.google.com/rss/articles/CBMiJmh0d...</td>\n",
       "      <td>{'href': 'https://news.pts.org.tw', 'title': '...</td>\n",
       "      <td>pts</td>\n",
       "      <td>President Tsai Ing-wen has secured a second te...</td>\n",
       "    </tr>\n",
       "    <tr>\n",
       "      <th>178</th>\n",
       "      <td>媒體可信度研究 民眾好惡頻道高度重疊 ｜ 公視新聞網 PNN - 公視新聞</td>\n",
       "      <td>媒體可信度研究 民眾好惡頻道高度重疊 ｜ 公視新聞網 PNN  公視新聞</td>\n",
       "      <td>Tue, 14 Jan 2020 08:00:00 GMT</td>\n",
       "      <td>https://news.google.com/rss/articles/CBMiJmh0d...</td>\n",
       "      <td>{'href': 'https://news.pts.org.tw', 'title': '...</td>\n",
       "      <td>pts</td>\n",
       "      <td>您相信新聞媒體嗎？台灣媒體觀察教育基金會公布最新的「台灣新聞媒體可信度研究」，一般民眾最常收...</td>\n",
       "    </tr>\n",
       "  </tbody>\n",
       "</table>\n",
       "</div>"
      ],
      "text/plain": [
       "                                                 title  \\\n",
       "174            台中立委選戰 民進黨拿下5席、國民黨2席 ｜ 公視新聞網 PNN - 公視新聞   \n",
       "175           因慶富案虧損7.9億 高雄銀行告前老總背信 ｜ 公視新聞網 PNN - 公視新聞   \n",
       "176           總統：台灣已是獨立國家 叫「中華民國台灣」 ｜ 公視新聞網 PNN - 公視新聞   \n",
       "177  We are an Independent Country Already: Preside...   \n",
       "178              媒體可信度研究 民眾好惡頻道高度重疊 ｜ 公視新聞網 PNN - 公視新聞   \n",
       "\n",
       "                                           description  \\\n",
       "174             台中立委選戰 民進黨拿下5席、國民黨2席 ｜ 公視新聞網 PNN  公視新聞   \n",
       "175            因慶富案虧損7.9億 高雄銀行告前老總背信 ｜ 公視新聞網 PNN  公視新聞   \n",
       "176            總統：台灣已是獨立國家 叫「中華民國台灣」 ｜ 公視新聞網 PNN  公視新聞   \n",
       "177  We are an Independent Country Already: Preside...   \n",
       "178               媒體可信度研究 民眾好惡頻道高度重疊 ｜ 公視新聞網 PNN  公視新聞   \n",
       "\n",
       "                    published date  \\\n",
       "174  Sun, 12 Jan 2020 08:00:00 GMT   \n",
       "175  Tue, 07 Jan 2020 08:00:00 GMT   \n",
       "176  Wed, 15 Jan 2020 08:00:00 GMT   \n",
       "177  Wed, 15 Jan 2020 08:00:00 GMT   \n",
       "178  Tue, 14 Jan 2020 08:00:00 GMT   \n",
       "\n",
       "                                                   url  \\\n",
       "174  https://news.google.com/rss/articles/CBMiJmh0d...   \n",
       "175  https://news.google.com/rss/articles/CBMiJmh0d...   \n",
       "176  https://news.google.com/rss/articles/CBMiJmh0d...   \n",
       "177  https://news.google.com/rss/articles/CBMiJmh0d...   \n",
       "178  https://news.google.com/rss/articles/CBMiJmh0d...   \n",
       "\n",
       "                                             publisher source  \\\n",
       "174  {'href': 'https://news.pts.org.tw', 'title': '...    pts   \n",
       "175  {'href': 'https://news.pts.org.tw', 'title': '...    pts   \n",
       "176  {'href': 'https://news.pts.org.tw', 'title': '...    pts   \n",
       "177  {'href': 'https://news.pts.org.tw', 'title': '...    pts   \n",
       "178  {'href': 'https://news.pts.org.tw', 'title': '...    pts   \n",
       "\n",
       "                                               content  \n",
       "174                                          至於中台灣選...  \n",
       "175  慶富獵雷艦詐貸案是高雄銀行核貸給慶富17.4億元的履約保證金，造成後來虧損7.9億，高銀內部...  \n",
       "176                                          2020大選...  \n",
       "177  President Tsai Ing-wen has secured a second te...  \n",
       "178  您相信新聞媒體嗎？台灣媒體觀察教育基金會公布最新的「台灣新聞媒體可信度研究」，一般民眾最常收...  "
      ]
     },
     "execution_count": 23,
     "metadata": {},
     "output_type": "execute_result"
    }
   ],
   "source": [
    "pts_df = pts_df.join(pts_contents)\n",
    "print(len(pts_df))\n",
    "pts_df.tail(5)"
   ]
  },
  {
   "cell_type": "code",
   "execution_count": 25,
   "id": "c7a6b76f",
   "metadata": {
    "scrolled": true
   },
   "outputs": [],
   "source": [
    "pts_df = pts_df.dropna()\n",
    "pts_df['source'] = 'pts'\n",
    "pts_df.to_csv(path + 'pts.csv')"
   ]
  },
  {
   "cell_type": "code",
   "execution_count": null,
   "id": "d2f307df",
   "metadata": {},
   "outputs": [],
   "source": []
  },
  {
   "cell_type": "markdown",
   "id": "0c04e7db",
   "metadata": {},
   "source": [
    "## the reporter"
   ]
  },
  {
   "cell_type": "code",
   "execution_count": 9,
   "id": "2a0f9d51",
   "metadata": {},
   "outputs": [],
   "source": [
    "gnews = GNews(country='TW')\n",
    "gnews.language = 'chinese traditional'"
   ]
  },
  {
   "cell_type": "code",
   "execution_count": 10,
   "id": "85c41768",
   "metadata": {},
   "outputs": [
    {
     "name": "stdout",
     "output_type": "stream",
     "text": [
      "23\n",
      "14\n",
      "21\n",
      "14\n",
      "51\n"
     ]
    }
   ],
   "source": [
    "reporter_tsai = gnews.get_news('蔡英文 before:2020/01/18 after:2019/09/01 site:https://www.twreporter.org/')\n",
    "print(len(reporter_tsai))\n",
    "\n",
    "reporter_han = gnews.get_news('韓國瑜 before:2020/01/18 after:2019/09/01 site:https://www.twreporter.org/')\n",
    "print(len(reporter_han))\n",
    "\n",
    "reporter_dpp = gnews.get_news('國民黨 before:2020/01/18 after:2019/09/01 site:https://www.twreporter.org/')\n",
    "print(len(reporter_dpp))\n",
    "\n",
    "reporter_kmt = gnews.get_news('韓國瑜 before:2020/01/18 after:2019/09/01 site:https://www.twreporter.org/')\n",
    "print(len(reporter_kmt))\n",
    "\n",
    "reporter_election = gnews.get_news('選舉|大選 before:2020/01/18 after:2019/09/01 site:https://www.twreporter.org/')\n",
    "print(len(reporter_election))\n"
   ]
  },
  {
   "cell_type": "code",
   "execution_count": 90,
   "id": "7584e0e6",
   "metadata": {},
   "outputs": [
    {
     "name": "stdout",
     "output_type": "stream",
     "text": [
      "128\n"
     ]
    }
   ],
   "source": [
    "reporter = reporter_tsai + reporter_han + reporter_dpp + reporter_kmt + reporter_election\n",
    "reporter_df = pd.DataFrame(reporter)\n",
    "reporter_df.drop_duplicates(inplace=True)\n",
    "reporter_df = reporter_df.reset_index(drop=True)\n",
    "print(len(reporter_df))\n"
   ]
  },
  {
   "cell_type": "code",
   "execution_count": 110,
   "id": "1af4beab",
   "metadata": {},
   "outputs": [],
   "source": [
    "def get_reporter_content(url):\n",
    "\n",
    "    try:\n",
    "        res = requests.get(url)\n",
    "        soup = BeautifulSoup(res.text)\n",
    "        content = \" \".join([p.text for p in soup.find('div', attrs={'class':'jONJYq'}).find_all('p')])\n",
    "\n",
    "        return content\n",
    "    except: \n",
    "        return None\n"
   ]
  },
  {
   "cell_type": "code",
   "execution_count": 111,
   "id": "2e6ed90c",
   "metadata": {},
   "outputs": [
    {
     "data": {
      "application/vnd.jupyter.widget-view+json": {
       "model_id": "bda542ea61284415bc00a9e2969e4ed2",
       "version_major": 2,
       "version_minor": 0
      },
      "text/plain": [
       "  0%|          | 0/128 [00:00<?, ?it/s]"
      ]
     },
     "metadata": {},
     "output_type": "display_data"
    }
   ],
   "source": [
    "reporter_df['content'] = [get_reporter_content(url) for url in tqdm(reporter_df.url)]\n"
   ]
  },
  {
   "cell_type": "code",
   "execution_count": 115,
   "id": "603ebba7",
   "metadata": {},
   "outputs": [
    {
     "name": "stdout",
     "output_type": "stream",
     "text": [
      "(128, 6)\n"
     ]
    }
   ],
   "source": [
    "# reporter_df = reporter_df.drop(columns=[\"index\"])\n",
    "print(reporter_df.shape)\n",
    "reporter_df = reporter_df.dropna(axis=0)"
   ]
  },
  {
   "cell_type": "code",
   "execution_count": 116,
   "id": "24d6ff88",
   "metadata": {},
   "outputs": [
    {
     "data": {
      "text/html": [
       "<div>\n",
       "<style scoped>\n",
       "    .dataframe tbody tr th:only-of-type {\n",
       "        vertical-align: middle;\n",
       "    }\n",
       "\n",
       "    .dataframe tbody tr th {\n",
       "        vertical-align: top;\n",
       "    }\n",
       "\n",
       "    .dataframe thead th {\n",
       "        text-align: right;\n",
       "    }\n",
       "</style>\n",
       "<table border=\"1\" class=\"dataframe\">\n",
       "  <thead>\n",
       "    <tr style=\"text-align: right;\">\n",
       "      <th></th>\n",
       "      <th>title</th>\n",
       "      <th>description</th>\n",
       "      <th>published date</th>\n",
       "      <th>url</th>\n",
       "      <th>publisher</th>\n",
       "      <th>content</th>\n",
       "    </tr>\n",
       "  </thead>\n",
       "  <tbody>\n",
       "    <tr>\n",
       "      <th>0</th>\n",
       "      <td>選舉語言的祕密：解析韓國瑜、蔡英文圈粉術 - 報導者The Reporter</td>\n",
       "      <td>選舉語言的祕密：解析韓國瑜、蔡英文圈粉術  報導者The Reporter</td>\n",
       "      <td>Tue, 07 Jan 2020 08:00:00 GMT</td>\n",
       "      <td>https://news.google.com/rss/articles/CBMiQ2h0d...</td>\n",
       "      <td>{'href': 'https://www.twreporter.org', 'title'...</td>\n",
       "      <td>2020總統大選進入倒數階段，藍綠兩大黨候選人韓國瑜、蔡英文一路纏鬥至今，留下許多令人印象深...</td>\n",
       "    </tr>\n",
       "    <tr>\n",
       "      <th>1</th>\n",
       "      <td>【2020大選評論】野島剛：香港救了蔡英文，國民黨親中救了民進黨 - 報導者The Repo...</td>\n",
       "      <td>【2020大選評論】野島剛：香港救了蔡英文，國民黨親中救了民進黨  報導者The Reporter</td>\n",
       "      <td>Sat, 11 Jan 2020 08:00:00 GMT</td>\n",
       "      <td>https://news.google.com/rss/articles/CBMiPGh0d...</td>\n",
       "      <td>{'href': 'https://www.twreporter.org', 'title'...</td>\n",
       "      <td>民進黨總統候選人蔡英文連任成功，以817萬票創下台灣民選總統以來最高得票紀錄。前《朝日新聞》...</td>\n",
       "    </tr>\n",
       "    <tr>\n",
       "      <th>2</th>\n",
       "      <td>張烽益／蔡英文勞動政策新挑戰平衡世代與勞資需求、回應經濟參與 ... - 報導者The Re...</td>\n",
       "      <td>張烽益／蔡英文勞動政策新挑戰平衡世代與勞資需求、回應經濟參與 ...  報導者The Rep...</td>\n",
       "      <td>Wed, 15 Jan 2020 08:00:00 GMT</td>\n",
       "      <td>https://news.google.com/rss/articles/CBMiSmh0d...</td>\n",
       "      <td>{'href': 'https://www.twreporter.org', 'title'...</td>\n",
       "      <td>民進黨蔡英文總統以史上最高票數連任後，必須回歸台灣人民日常生活的改善之上，勞工議題是關乎世代...</td>\n",
       "    </tr>\n",
       "  </tbody>\n",
       "</table>\n",
       "</div>"
      ],
      "text/plain": [
       "                                               title  \\\n",
       "0             選舉語言的祕密：解析韓國瑜、蔡英文圈粉術 - 報導者The Reporter   \n",
       "1  【2020大選評論】野島剛：香港救了蔡英文，國民黨親中救了民進黨 - 報導者The Repo...   \n",
       "2  張烽益／蔡英文勞動政策新挑戰平衡世代與勞資需求、回應經濟參與 ... - 報導者The Re...   \n",
       "\n",
       "                                         description  \\\n",
       "0              選舉語言的祕密：解析韓國瑜、蔡英文圈粉術  報導者The Reporter   \n",
       "1  【2020大選評論】野島剛：香港救了蔡英文，國民黨親中救了民進黨  報導者The Reporter   \n",
       "2  張烽益／蔡英文勞動政策新挑戰平衡世代與勞資需求、回應經濟參與 ...  報導者The Rep...   \n",
       "\n",
       "                  published date  \\\n",
       "0  Tue, 07 Jan 2020 08:00:00 GMT   \n",
       "1  Sat, 11 Jan 2020 08:00:00 GMT   \n",
       "2  Wed, 15 Jan 2020 08:00:00 GMT   \n",
       "\n",
       "                                                 url  \\\n",
       "0  https://news.google.com/rss/articles/CBMiQ2h0d...   \n",
       "1  https://news.google.com/rss/articles/CBMiPGh0d...   \n",
       "2  https://news.google.com/rss/articles/CBMiSmh0d...   \n",
       "\n",
       "                                           publisher  \\\n",
       "0  {'href': 'https://www.twreporter.org', 'title'...   \n",
       "1  {'href': 'https://www.twreporter.org', 'title'...   \n",
       "2  {'href': 'https://www.twreporter.org', 'title'...   \n",
       "\n",
       "                                             content  \n",
       "0  2020總統大選進入倒數階段，藍綠兩大黨候選人韓國瑜、蔡英文一路纏鬥至今，留下許多令人印象深...  \n",
       "1  民進黨總統候選人蔡英文連任成功，以817萬票創下台灣民選總統以來最高得票紀錄。前《朝日新聞》...  \n",
       "2  民進黨蔡英文總統以史上最高票數連任後，必須回歸台灣人民日常生活的改善之上，勞工議題是關乎世代...  "
      ]
     },
     "execution_count": 116,
     "metadata": {},
     "output_type": "execute_result"
    }
   ],
   "source": [
    "reporter_df.to_csv(path + 'reporter.csv')\n",
    "reporter_df.head(3)"
   ]
  },
  {
   "cell_type": "code",
   "execution_count": null,
   "id": "fec794d8",
   "metadata": {},
   "outputs": [],
   "source": []
  }
 ],
 "metadata": {
  "kernelspec": {
   "display_name": "Python 3 (ipykernel)",
   "language": "python",
   "name": "python3"
  },
  "language_info": {
   "codemirror_mode": {
    "name": "ipython",
    "version": 3
   },
   "file_extension": ".py",
   "mimetype": "text/x-python",
   "name": "python",
   "nbconvert_exporter": "python",
   "pygments_lexer": "ipython3",
   "version": "3.11.3"
  }
 },
 "nbformat": 4,
 "nbformat_minor": 5
}
