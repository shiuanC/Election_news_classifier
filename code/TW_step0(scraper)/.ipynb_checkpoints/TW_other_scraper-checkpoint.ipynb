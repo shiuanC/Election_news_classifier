{
 "cells": [
  {
   "cell_type": "code",
   "execution_count": 7,
   "id": "9b12790c",
   "metadata": {},
   "outputs": [],
   "source": [
    "import requests\n",
    "import json\n",
    "import datetime\n",
    "import pandas as pd\n",
    "import re\n",
    "import os\n",
    "import random\n",
    "import urllib3\n",
    "import time\n",
    "\n",
    "from concurrent.futures import ThreadPoolExecutor, as_completed, wait\n",
    "from datetime import datetime, timedelta\n",
    "from bs4 import BeautifulSoup\n",
    "from tqdm.notebook import tqdm\n",
    "from gnews import GNews\n",
    "\n",
    "gnews = GNews(country='TW')\n",
    "gnews.language = 'chinese traditional'\n",
    "\n",
    "headers = {\n",
    "      'User-Agent':\"Mozilla/5.0 (Macintosh; Intel Mac OS X 10.6; rv:2.0.1) Gecko/20100101 Firefox/4.0.1\"\n",
    "}\n",
    "urllib3.disable_warnings()\n",
    "\n",
    "path = '../../data/tw/raw/'\n"
   ]
  },
  {
   "cell_type": "markdown",
   "id": "ee10f51a",
   "metadata": {},
   "source": [
    "# 1. get links"
   ]
  },
  {
   "cell_type": "code",
   "execution_count": 8,
   "id": "1ab2fa61",
   "metadata": {},
   "outputs": [],
   "source": [
    "def get_week_dates(start_date_str, end_date_str):\n",
    "    start_date = datetime.strptime(start_date_str, \"%Y/%m/%d\")\n",
    "    end_date = datetime.strptime(end_date_str, \"%Y/%m/%d\")\n",
    "    week_start = start_date - timedelta(days=start_date.weekday())\n",
    "    week_end = week_start + timedelta(days=6)\n",
    "\n",
    "    result = []\n",
    "    while week_start <= end_date:\n",
    "        result.append((week_start.strftime(\"%Y/%m/%d\"), week_end.strftime(\"%Y/%m/%d\")))\n",
    "        week_start = week_end + timedelta(days=1)\n",
    "        week_end = week_start + timedelta(days=6)\n",
    "    return result"
   ]
  },
  {
   "cell_type": "code",
   "execution_count": 9,
   "id": "46d4dc20",
   "metadata": {},
   "outputs": [],
   "source": [
    "week_dates = get_week_dates(\"2019/09/01\", \"2020/01/18\")"
   ]
  },
  {
   "cell_type": "code",
   "execution_count": 10,
   "id": "af2ebc2e",
   "metadata": {},
   "outputs": [],
   "source": [
    "(start, end) = week_dates[0]"
   ]
  },
  {
   "cell_type": "markdown",
   "id": "ea5a34f9",
   "metadata": {},
   "source": [
    "## CNA"
   ]
  },
  {
   "cell_type": "code",
   "execution_count": 11,
   "id": "8dbe88d4",
   "metadata": {},
   "outputs": [
    {
     "data": {
      "application/vnd.jupyter.widget-view+json": {
       "model_id": "f697f136063449efa7e06f74cb197c4e",
       "version_major": 2,
       "version_minor": 0
      },
      "text/plain": [
       "  0%|          | 0/21 [00:00<?, ?it/s]"
      ]
     },
     "metadata": {},
     "output_type": "display_data"
    },
    {
     "data": {
      "text/plain": [
       "220"
      ]
     },
     "execution_count": 11,
     "metadata": {},
     "output_type": "execute_result"
    }
   ],
   "source": [
    "cna_tsai = []\n",
    "cna_han = []\n",
    "cna_dpp = []\n",
    "cna_kmt = []\n",
    "cna_election = []\n",
    "\n",
    "for (start, end) in tqdm(week_dates):\n",
    "    cna_tsai += gnews.get_news(f'蔡英文 after:{start} before:{end} site:https://www.cna.com.tw/')\n",
    "    \n",
    "    cna_han += gnews.get_news(f'韓國瑜 after:{start} before:{end} site:https://www.cna.com.tw/')\n",
    "\n",
    "    cna_dpp += gnews.get_news(f'國民黨 after:{start} before:{end} site:https://www.cna.com.tw/')\n",
    "\n",
    "    cna_kmt += gnews.get_news(f'韓國瑜 after:{start} before:{end} site:https://www.cna.com.tw/')\n",
    "\n",
    "    cna_election += gnews.get_news(f'選舉|大選 after:{start} before:{end} site:https://www.cna.com.tw/')\n",
    "\n",
    "len(cna_tsai)"
   ]
  },
  {
   "cell_type": "code",
   "execution_count": 12,
   "id": "bfa0943e-7dd6-4885-826e-d0f6082e036f",
   "metadata": {},
   "outputs": [
    {
     "name": "stdout",
     "output_type": "stream",
     "text": [
      "2011\n",
      "1987\n"
     ]
    }
   ],
   "source": [
    "cna = cna_tsai + cna_han + cna_dpp + cna_kmt + cna_election \n",
    "print(len(cna))\n",
    "\n",
    "cna_df = pd.DataFrame(cna)\n",
    "cna_df.drop_duplicates(inplace=True)\n",
    "cna_df = cna_df.reset_index(drop=True)\n",
    "print(len(cna_df))"
   ]
  },
  {
   "cell_type": "code",
   "execution_count": 49,
   "id": "ec16a759-fc96-4b9d-b591-5fe11f1b3e9c",
   "metadata": {},
   "outputs": [],
   "source": [
    "def GetCnaContent(idx, url):\n",
    "\n",
    "    try:\n",
    "\n",
    "        res = requests.get(url)\n",
    "        soup = BeautifulSoup(res.text)\n",
    "        content = \" \".join([p.text for p in soup.find('div', attrs={'class':'paragraph'}).find_all('p')])\n",
    "        content = \"\".join(re.split(r'[（）\\s]\\s*', content)[2:-2])\n",
    "        \n",
    "        return {\"id\": idx, \"content\":content}\n",
    "    except: \n",
    "        return None\n"
   ]
  },
  {
   "cell_type": "code",
   "execution_count": 32,
   "id": "d59d1a09-7e54-48f7-b13f-c32aa157b5d0",
   "metadata": {},
   "outputs": [
    {
     "data": {
      "application/vnd.jupyter.widget-view+json": {
       "model_id": "806fa53b63a64514858adb6e817e8f7d",
       "version_major": 2,
       "version_minor": 0
      },
      "text/plain": [
       "0it [00:00, ?it/s]"
      ]
     },
     "metadata": {},
     "output_type": "display_data"
    }
   ],
   "source": [
    "# tmp_df = cna_df.sample(10)\n",
    "contents = []\n",
    "TreadNum = 8 \n",
    "\n",
    "with ThreadPoolExecutor( TreadNum) as executor:\n",
    "\n",
    "    futures = [executor.submit(GetCnaContent, idx, row.url) for idx, row in tqdm(cna_df.iterrows())]\n",
    "\n",
    "    for future in as_completed(futures):\n",
    "        contents.append(future.result())"
   ]
  },
  {
   "cell_type": "code",
   "execution_count": 37,
   "id": "ffa7d183-725e-4109-ac1f-48bf78808b1e",
   "metadata": {
    "scrolled": true,
    "tags": []
   },
   "outputs": [
    {
     "data": {
      "text/plain": [
       "1959"
      ]
     },
     "execution_count": 37,
     "metadata": {},
     "output_type": "execute_result"
    }
   ],
   "source": [
    "contents = [i for i in contents if i is not None]\n",
    "cna_contents = pd.DataFrame(contents).set_index(\"id\")\n",
    "cna_contents.head()"
   ]
  },
  {
   "cell_type": "code",
   "execution_count": 44,
   "id": "d557a260",
   "metadata": {
    "scrolled": true
   },
   "outputs": [
    {
     "name": "stdout",
     "output_type": "stream",
     "text": [
      "1959\n"
     ]
    }
   ],
   "source": [
    "cna_df = cna_df.merge(cna_contents, left_index=True, right_index=True )\n",
    "print(len(cna_df))\n",
    "cna_df.head(5)"
   ]
  },
  {
   "cell_type": "code",
   "execution_count": 46,
   "id": "795c7764",
   "metadata": {},
   "outputs": [],
   "source": [
    "cna_df['source'] = 'cna'\n",
    "cna_df.to_csv(path + 'cna.csv')"
   ]
  },
  {
   "cell_type": "markdown",
   "id": "fba143b6",
   "metadata": {
    "tags": []
   },
   "source": [
    "## pts_news"
   ]
  },
  {
   "cell_type": "code",
   "execution_count": 48,
   "id": "74e0a257",
   "metadata": {},
   "outputs": [
    {
     "data": {
      "application/vnd.jupyter.widget-view+json": {
       "model_id": "12fa76e32d384e85ac8ca30549ee29d1",
       "version_major": 2,
       "version_minor": 0
      },
      "text/plain": [
       "  0%|          | 0/21 [00:00<?, ?it/s]"
      ]
     },
     "metadata": {},
     "output_type": "display_data"
    },
    {
     "data": {
      "text/plain": [
       "47"
      ]
     },
     "execution_count": 48,
     "metadata": {},
     "output_type": "execute_result"
    }
   ],
   "source": [
    "pts_tsai = []\n",
    "pts_han = []\n",
    "pts_dpp = []\n",
    "pts_kmt = []\n",
    "pts_election = []\n",
    "\n",
    "for (start, end) in tqdm(week_dates):\n",
    "    pts_tsai += gnews.get_news(f'蔡英文 after:{start} before:{end} site:https://news.pts.org.tw/')\n",
    "    \n",
    "    pts_han += gnews.get_news(f'韓國瑜 after:{start} before:{end} site:https://news.pts.org.tw/')\n",
    "\n",
    "    pts_dpp += gnews.get_news(f'國民黨 after:{start} before:{end} site:https://news.pts.org.tw/')\n",
    "\n",
    "    pts_kmt += gnews.get_news(f'韓國瑜 after:{start} before:{end} site:https://news.pts.org.tw/')\n",
    "\n",
    "    pts_election += gnews.get_news(f'選舉|大選 after:{start} before:{end} site:https://news.pts.org.tw/')\n",
    "\n",
    "len(pts_tsai)"
   ]
  },
  {
   "cell_type": "code",
   "execution_count": 50,
   "id": "b0d9442c",
   "metadata": {},
   "outputs": [
    {
     "name": "stdout",
     "output_type": "stream",
     "text": [
      "187\n",
      "182\n"
     ]
    }
   ],
   "source": [
    "pts = pts_tsai + pts_han + pts_dpp + pts_kmt +pts_election \n",
    "print(len(pts))\n",
    "\n",
    "pts_df = pd.DataFrame(pts)\n",
    "pts_df.drop_duplicates(inplace=True)\n",
    "pts_df = pts_df.reset_index(drop=True)\n",
    "print(len(pts_df))"
   ]
  },
  {
   "cell_type": "code",
   "execution_count": 57,
   "id": "8da1e9d8-d34d-4ac9-9089-c84d711961aa",
   "metadata": {},
   "outputs": [],
   "source": [
    "def GetPtsContent(idx, url):\n",
    "\n",
    "    try:\n",
    "\n",
    "        res = requests.get(url)\n",
    "        soup = BeautifulSoup(res.text)\n",
    "        content =  soup.find('article', attrs={'class':'post-article'}).text.replace(\"\\n\", \"\")\n",
    "\n",
    "\n",
    "        return {\"id\": idx, \"content\":content}\n",
    "    except: \n",
    "        return None"
   ]
  },
  {
   "cell_type": "code",
   "execution_count": 59,
   "id": "ad5da8b5",
   "metadata": {},
   "outputs": [
    {
     "data": {
      "application/vnd.jupyter.widget-view+json": {
       "model_id": "d7f7d9459a5246e582028840e7763292",
       "version_major": 2,
       "version_minor": 0
      },
      "text/plain": [
       "0it [00:00, ?it/s]"
      ]
     },
     "metadata": {},
     "output_type": "display_data"
    },
    {
     "data": {
      "text/html": [
       "<div>\n",
       "<style scoped>\n",
       "    .dataframe tbody tr th:only-of-type {\n",
       "        vertical-align: middle;\n",
       "    }\n",
       "\n",
       "    .dataframe tbody tr th {\n",
       "        vertical-align: top;\n",
       "    }\n",
       "\n",
       "    .dataframe thead th {\n",
       "        text-align: right;\n",
       "    }\n",
       "</style>\n",
       "<table border=\"1\" class=\"dataframe\">\n",
       "  <thead>\n",
       "    <tr style=\"text-align: right;\">\n",
       "      <th></th>\n",
       "      <th>content</th>\n",
       "    </tr>\n",
       "    <tr>\n",
       "      <th>id</th>\n",
       "      <th></th>\n",
       "    </tr>\n",
       "  </thead>\n",
       "  <tbody>\n",
       "    <tr>\n",
       "      <th>0</th>\n",
       "      <td>2020總統大選競爭激烈，總統蔡英文拚連任，今天舉行競選團隊的全國授證大會，也親自授旗。競選...</td>\n",
       "    </tr>\n",
       "    <tr>\n",
       "      <th>1</th>\n",
       "      <td>臺灣大學的名譽教授賀德芬，早起召開記者會，表示伊有調查的資料講，蔡英文總統是無佇咧1984年...</td>\n",
       "    </tr>\n",
       "    <tr>\n",
       "      <th>2</th>\n",
       "      <td>九三軍人節前...</td>\n",
       "    </tr>\n",
       "    <tr>\n",
       "      <th>4</th>\n",
       "      <td>三軍統帥的蔡英文總統，今天首度為士官專科學校新入學班隊舉行聯合開學典禮，代表政府重視士官的專...</td>\n",
       "    </tr>\n",
       "    <tr>\n",
       "      <th>3</th>\n",
       "      <td>中華奧會在上...</td>\n",
       "    </tr>\n",
       "  </tbody>\n",
       "</table>\n",
       "</div>"
      ],
      "text/plain": [
       "                                              content\n",
       "id                                                   \n",
       "0   2020總統大選競爭激烈，總統蔡英文拚連任，今天舉行競選團隊的全國授證大會，也親自授旗。競選...\n",
       "1   臺灣大學的名譽教授賀德芬，早起召開記者會，表示伊有調查的資料講，蔡英文總統是無佇咧1984年...\n",
       "2                                           九三軍人節前...\n",
       "4   三軍統帥的蔡英文總統，今天首度為士官專科學校新入學班隊舉行聯合開學典禮，代表政府重視士官的專...\n",
       "3                                           中華奧會在上..."
      ]
     },
     "execution_count": 59,
     "metadata": {},
     "output_type": "execute_result"
    }
   ],
   "source": [
    "\n",
    "contents = []\n",
    "TreadNum = 2 \n",
    "\n",
    "with ThreadPoolExecutor( TreadNum) as executor:\n",
    "\n",
    "    futures = [executor.submit(GetPtsContent, idx, row.url) for idx, row in tqdm(pts_df.iterrows())]\n",
    "\n",
    "    for future in as_completed(futures):\n",
    "        contents.append(future.result())\n",
    "\n",
    "contents = [i for i in contents if i is not None]\n",
    "pts_contents = pd.DataFrame(contents).set_index(\"id\")\n",
    "pts_contents.head()"
   ]
  },
  {
   "cell_type": "code",
   "execution_count": 60,
   "id": "46409c77",
   "metadata": {},
   "outputs": [
    {
     "name": "stdout",
     "output_type": "stream",
     "text": [
      "182\n"
     ]
    },
    {
     "data": {
      "text/html": [
       "<div>\n",
       "<style scoped>\n",
       "    .dataframe tbody tr th:only-of-type {\n",
       "        vertical-align: middle;\n",
       "    }\n",
       "\n",
       "    .dataframe tbody tr th {\n",
       "        vertical-align: top;\n",
       "    }\n",
       "\n",
       "    .dataframe thead th {\n",
       "        text-align: right;\n",
       "    }\n",
       "</style>\n",
       "<table border=\"1\" class=\"dataframe\">\n",
       "  <thead>\n",
       "    <tr style=\"text-align: right;\">\n",
       "      <th></th>\n",
       "      <th>title</th>\n",
       "      <th>description</th>\n",
       "      <th>published date</th>\n",
       "      <th>url</th>\n",
       "      <th>publisher</th>\n",
       "      <th>content</th>\n",
       "    </tr>\n",
       "  </thead>\n",
       "  <tbody>\n",
       "    <tr>\n",
       "      <th>0</th>\n",
       "      <td>2020蔡英文力拚連任 競選團隊今授旗 ｜ 公視新聞網 PNN - 公視新聞</td>\n",
       "      <td>2020蔡英文力拚連任 競選團隊今授旗 ｜ 公視新聞網 PNN  公視新聞</td>\n",
       "      <td>Sun, 01 Sep 2019 07:00:00 GMT</td>\n",
       "      <td>https://news.google.com/rss/articles/CBMiJmh0d...</td>\n",
       "      <td>{'href': 'https://news.pts.org.tw', 'title': '...</td>\n",
       "      <td>2020總統大選競爭激烈，總統蔡英文拚連任，今天舉行競選團隊的全國授證大會，也親自授旗。競選...</td>\n",
       "    </tr>\n",
       "    <tr>\n",
       "      <th>1</th>\n",
       "      <td>賀德芬質疑蔡英文 無影提著博士學位 ｜ 公視新聞網 PNN - 公視新聞</td>\n",
       "      <td>賀德芬質疑蔡英文 無影提著博士學位 ｜ 公視新聞網 PNN  公視新聞</td>\n",
       "      <td>Thu, 29 Aug 2019 07:00:00 GMT</td>\n",
       "      <td>https://news.google.com/rss/articles/CBMiJmh0d...</td>\n",
       "      <td>{'href': 'https://news.pts.org.tw', 'title': '...</td>\n",
       "      <td>臺灣大學的名譽教授賀德芬，早起召開記者會，表示伊有調查的資料講，蔡英文總統是無佇咧1984年...</td>\n",
       "    </tr>\n",
       "    <tr>\n",
       "      <th>2</th>\n",
       "      <td>小二生向杰恩 國防教育貢獻獎最小得主 ｜ 公視新聞網 PNN - 公視新聞</td>\n",
       "      <td>小二生向杰恩 國防教育貢獻獎最小得主 ｜ 公視新聞網 PNN  公視新聞</td>\n",
       "      <td>Fri, 30 Aug 2019 07:00:00 GMT</td>\n",
       "      <td>https://news.google.com/rss/articles/CBMiJmh0d...</td>\n",
       "      <td>{'href': 'https://news.pts.org.tw', 'title': '...</td>\n",
       "      <td>九三軍人節前...</td>\n",
       "    </tr>\n",
       "    <tr>\n",
       "      <th>3</th>\n",
       "      <td>東京奧運上週總領隊會議 確認組團事宜 ｜ 公視新聞網 PNN - 公視新聞</td>\n",
       "      <td>東京奧運上週總領隊會議 確認組團事宜 ｜ 公視新聞網 PNN  公視新聞</td>\n",
       "      <td>Tue, 27 Aug 2019 07:00:00 GMT</td>\n",
       "      <td>https://news.google.com/rss/articles/CBMiJmh0d...</td>\n",
       "      <td>{'href': 'https://news.pts.org.tw', 'title': '...</td>\n",
       "      <td>中華奧會在上...</td>\n",
       "    </tr>\n",
       "    <tr>\n",
       "      <th>4</th>\n",
       "      <td>三軍士官學校開學 總統提5大改革方向 ｜ 公視新聞網 PNN - 公視新聞</td>\n",
       "      <td>三軍士官學校開學 總統提5大改革方向 ｜ 公視新聞網 PNN  公視新聞</td>\n",
       "      <td>Fri, 06 Sep 2019 07:00:00 GMT</td>\n",
       "      <td>https://news.google.com/rss/articles/CBMiJmh0d...</td>\n",
       "      <td>{'href': 'https://news.pts.org.tw', 'title': '...</td>\n",
       "      <td>三軍統帥的蔡英文總統，今天首度為士官專科學校新入學班隊舉行聯合開學典禮，代表政府重視士官的專...</td>\n",
       "    </tr>\n",
       "  </tbody>\n",
       "</table>\n",
       "</div>"
      ],
      "text/plain": [
       "                                    title  \\\n",
       "0  2020蔡英文力拚連任 競選團隊今授旗 ｜ 公視新聞網 PNN - 公視新聞   \n",
       "1    賀德芬質疑蔡英文 無影提著博士學位 ｜ 公視新聞網 PNN - 公視新聞   \n",
       "2   小二生向杰恩 國防教育貢獻獎最小得主 ｜ 公視新聞網 PNN - 公視新聞   \n",
       "3   東京奧運上週總領隊會議 確認組團事宜 ｜ 公視新聞網 PNN - 公視新聞   \n",
       "4   三軍士官學校開學 總統提5大改革方向 ｜ 公視新聞網 PNN - 公視新聞   \n",
       "\n",
       "                             description                 published date  \\\n",
       "0  2020蔡英文力拚連任 競選團隊今授旗 ｜ 公視新聞網 PNN  公視新聞  Sun, 01 Sep 2019 07:00:00 GMT   \n",
       "1    賀德芬質疑蔡英文 無影提著博士學位 ｜ 公視新聞網 PNN  公視新聞  Thu, 29 Aug 2019 07:00:00 GMT   \n",
       "2   小二生向杰恩 國防教育貢獻獎最小得主 ｜ 公視新聞網 PNN  公視新聞  Fri, 30 Aug 2019 07:00:00 GMT   \n",
       "3   東京奧運上週總領隊會議 確認組團事宜 ｜ 公視新聞網 PNN  公視新聞  Tue, 27 Aug 2019 07:00:00 GMT   \n",
       "4   三軍士官學校開學 總統提5大改革方向 ｜ 公視新聞網 PNN  公視新聞  Fri, 06 Sep 2019 07:00:00 GMT   \n",
       "\n",
       "                                                 url  \\\n",
       "0  https://news.google.com/rss/articles/CBMiJmh0d...   \n",
       "1  https://news.google.com/rss/articles/CBMiJmh0d...   \n",
       "2  https://news.google.com/rss/articles/CBMiJmh0d...   \n",
       "3  https://news.google.com/rss/articles/CBMiJmh0d...   \n",
       "4  https://news.google.com/rss/articles/CBMiJmh0d...   \n",
       "\n",
       "                                           publisher  \\\n",
       "0  {'href': 'https://news.pts.org.tw', 'title': '...   \n",
       "1  {'href': 'https://news.pts.org.tw', 'title': '...   \n",
       "2  {'href': 'https://news.pts.org.tw', 'title': '...   \n",
       "3  {'href': 'https://news.pts.org.tw', 'title': '...   \n",
       "4  {'href': 'https://news.pts.org.tw', 'title': '...   \n",
       "\n",
       "                                             content  \n",
       "0  2020總統大選競爭激烈，總統蔡英文拚連任，今天舉行競選團隊的全國授證大會，也親自授旗。競選...  \n",
       "1  臺灣大學的名譽教授賀德芬，早起召開記者會，表示伊有調查的資料講，蔡英文總統是無佇咧1984年...  \n",
       "2                                          九三軍人節前...  \n",
       "3                                          中華奧會在上...  \n",
       "4  三軍統帥的蔡英文總統，今天首度為士官專科學校新入學班隊舉行聯合開學典禮，代表政府重視士官的專...  "
      ]
     },
     "execution_count": 60,
     "metadata": {},
     "output_type": "execute_result"
    }
   ],
   "source": [
    "pts_df = pts_df.merge(pts_contents, left_index=True, right_index=True )\n",
    "print(len(pts_df))\n",
    "pts_df.head(5)"
   ]
  },
  {
   "cell_type": "code",
   "execution_count": null,
   "id": "614b3105",
   "metadata": {},
   "outputs": [],
   "source": []
  },
  {
   "cell_type": "code",
   "execution_count": 62,
   "id": "c7a6b76f",
   "metadata": {
    "scrolled": true
   },
   "outputs": [],
   "source": [
    "\n",
    "pts_df['source'] = 'pts'\n",
    "pts_df.to_csv(path + 'pts.csv')"
   ]
  },
  {
   "cell_type": "code",
   "execution_count": null,
   "id": "d2f307df",
   "metadata": {},
   "outputs": [],
   "source": []
  },
  {
   "cell_type": "markdown",
   "id": "0c04e7db",
   "metadata": {},
   "source": [
    "## the reporter"
   ]
  },
  {
   "cell_type": "code",
   "execution_count": 9,
   "id": "2a0f9d51",
   "metadata": {},
   "outputs": [],
   "source": [
    "gnews = GNews(country='TW')\n",
    "gnews.language = 'chinese traditional'"
   ]
  },
  {
   "cell_type": "code",
   "execution_count": 10,
   "id": "85c41768",
   "metadata": {},
   "outputs": [
    {
     "name": "stdout",
     "output_type": "stream",
     "text": [
      "23\n",
      "14\n",
      "21\n",
      "14\n",
      "51\n"
     ]
    }
   ],
   "source": [
    "reporter_tsai = gnews.get_news('蔡英文 before:2020/01/18 after:2019/09/01 site:https://www.twreporter.org/')\n",
    "print(len(reporter_tsai))\n",
    "\n",
    "reporter_han = gnews.get_news('韓國瑜 before:2020/01/18 after:2019/09/01 site:https://www.twreporter.org/')\n",
    "print(len(reporter_han))\n",
    "\n",
    "reporter_dpp = gnews.get_news('國民黨 before:2020/01/18 after:2019/09/01 site:https://www.twreporter.org/')\n",
    "print(len(reporter_dpp))\n",
    "\n",
    "reporter_kmt = gnews.get_news('韓國瑜 before:2020/01/18 after:2019/09/01 site:https://www.twreporter.org/')\n",
    "print(len(reporter_kmt))\n",
    "\n",
    "reporter_election = gnews.get_news('選舉|大選 before:2020/01/18 after:2019/09/01 site:https://www.twreporter.org/')\n",
    "print(len(reporter_election))\n"
   ]
  },
  {
   "cell_type": "code",
   "execution_count": 90,
   "id": "7584e0e6",
   "metadata": {},
   "outputs": [
    {
     "name": "stdout",
     "output_type": "stream",
     "text": [
      "128\n"
     ]
    }
   ],
   "source": [
    "reporter = reporter_tsai + reporter_han + reporter_dpp + reporter_kmt + reporter_election\n",
    "reporter_df = pd.DataFrame(reporter)\n",
    "reporter_df.drop_duplicates(inplace=True)\n",
    "reporter_df = reporter_df.reset_index(drop=True)\n",
    "print(len(reporter_df))\n"
   ]
  },
  {
   "cell_type": "code",
   "execution_count": 110,
   "id": "1af4beab",
   "metadata": {},
   "outputs": [],
   "source": [
    "def get_reporter_content(url):\n",
    "\n",
    "    try:\n",
    "        res = requests.get(url)\n",
    "        soup = BeautifulSoup(res.text)\n",
    "        content = \" \".join([p.text for p in soup.find('div', attrs={'class':'jONJYq'}).find_all('p')])\n",
    "\n",
    "        return content\n",
    "    except: \n",
    "        return None\n"
   ]
  },
  {
   "cell_type": "code",
   "execution_count": 111,
   "id": "2e6ed90c",
   "metadata": {},
   "outputs": [
    {
     "data": {
      "application/vnd.jupyter.widget-view+json": {
       "model_id": "bda542ea61284415bc00a9e2969e4ed2",
       "version_major": 2,
       "version_minor": 0
      },
      "text/plain": [
       "  0%|          | 0/128 [00:00<?, ?it/s]"
      ]
     },
     "metadata": {},
     "output_type": "display_data"
    }
   ],
   "source": [
    "reporter_df['content'] = [get_reporter_content(url) for url in tqdm(reporter_df.url)]\n"
   ]
  },
  {
   "cell_type": "code",
   "execution_count": 115,
   "id": "603ebba7",
   "metadata": {},
   "outputs": [
    {
     "name": "stdout",
     "output_type": "stream",
     "text": [
      "(128, 6)\n"
     ]
    }
   ],
   "source": [
    "# reporter_df = reporter_df.drop(columns=[\"index\"])\n",
    "print(reporter_df.shape)\n",
    "reporter_df = reporter_df.dropna(axis=0)"
   ]
  },
  {
   "cell_type": "code",
   "execution_count": 116,
   "id": "24d6ff88",
   "metadata": {},
   "outputs": [
    {
     "data": {
      "text/html": [
       "<div>\n",
       "<style scoped>\n",
       "    .dataframe tbody tr th:only-of-type {\n",
       "        vertical-align: middle;\n",
       "    }\n",
       "\n",
       "    .dataframe tbody tr th {\n",
       "        vertical-align: top;\n",
       "    }\n",
       "\n",
       "    .dataframe thead th {\n",
       "        text-align: right;\n",
       "    }\n",
       "</style>\n",
       "<table border=\"1\" class=\"dataframe\">\n",
       "  <thead>\n",
       "    <tr style=\"text-align: right;\">\n",
       "      <th></th>\n",
       "      <th>title</th>\n",
       "      <th>description</th>\n",
       "      <th>published date</th>\n",
       "      <th>url</th>\n",
       "      <th>publisher</th>\n",
       "      <th>content</th>\n",
       "    </tr>\n",
       "  </thead>\n",
       "  <tbody>\n",
       "    <tr>\n",
       "      <th>0</th>\n",
       "      <td>選舉語言的祕密：解析韓國瑜、蔡英文圈粉術 - 報導者The Reporter</td>\n",
       "      <td>選舉語言的祕密：解析韓國瑜、蔡英文圈粉術  報導者The Reporter</td>\n",
       "      <td>Tue, 07 Jan 2020 08:00:00 GMT</td>\n",
       "      <td>https://news.google.com/rss/articles/CBMiQ2h0d...</td>\n",
       "      <td>{'href': 'https://www.twreporter.org', 'title'...</td>\n",
       "      <td>2020總統大選進入倒數階段，藍綠兩大黨候選人韓國瑜、蔡英文一路纏鬥至今，留下許多令人印象深...</td>\n",
       "    </tr>\n",
       "    <tr>\n",
       "      <th>1</th>\n",
       "      <td>【2020大選評論】野島剛：香港救了蔡英文，國民黨親中救了民進黨 - 報導者The Repo...</td>\n",
       "      <td>【2020大選評論】野島剛：香港救了蔡英文，國民黨親中救了民進黨  報導者The Reporter</td>\n",
       "      <td>Sat, 11 Jan 2020 08:00:00 GMT</td>\n",
       "      <td>https://news.google.com/rss/articles/CBMiPGh0d...</td>\n",
       "      <td>{'href': 'https://www.twreporter.org', 'title'...</td>\n",
       "      <td>民進黨總統候選人蔡英文連任成功，以817萬票創下台灣民選總統以來最高得票紀錄。前《朝日新聞》...</td>\n",
       "    </tr>\n",
       "    <tr>\n",
       "      <th>2</th>\n",
       "      <td>張烽益／蔡英文勞動政策新挑戰平衡世代與勞資需求、回應經濟參與 ... - 報導者The Re...</td>\n",
       "      <td>張烽益／蔡英文勞動政策新挑戰平衡世代與勞資需求、回應經濟參與 ...  報導者The Rep...</td>\n",
       "      <td>Wed, 15 Jan 2020 08:00:00 GMT</td>\n",
       "      <td>https://news.google.com/rss/articles/CBMiSmh0d...</td>\n",
       "      <td>{'href': 'https://www.twreporter.org', 'title'...</td>\n",
       "      <td>民進黨蔡英文總統以史上最高票數連任後，必須回歸台灣人民日常生活的改善之上，勞工議題是關乎世代...</td>\n",
       "    </tr>\n",
       "  </tbody>\n",
       "</table>\n",
       "</div>"
      ],
      "text/plain": [
       "                                               title  \\\n",
       "0             選舉語言的祕密：解析韓國瑜、蔡英文圈粉術 - 報導者The Reporter   \n",
       "1  【2020大選評論】野島剛：香港救了蔡英文，國民黨親中救了民進黨 - 報導者The Repo...   \n",
       "2  張烽益／蔡英文勞動政策新挑戰平衡世代與勞資需求、回應經濟參與 ... - 報導者The Re...   \n",
       "\n",
       "                                         description  \\\n",
       "0              選舉語言的祕密：解析韓國瑜、蔡英文圈粉術  報導者The Reporter   \n",
       "1  【2020大選評論】野島剛：香港救了蔡英文，國民黨親中救了民進黨  報導者The Reporter   \n",
       "2  張烽益／蔡英文勞動政策新挑戰平衡世代與勞資需求、回應經濟參與 ...  報導者The Rep...   \n",
       "\n",
       "                  published date  \\\n",
       "0  Tue, 07 Jan 2020 08:00:00 GMT   \n",
       "1  Sat, 11 Jan 2020 08:00:00 GMT   \n",
       "2  Wed, 15 Jan 2020 08:00:00 GMT   \n",
       "\n",
       "                                                 url  \\\n",
       "0  https://news.google.com/rss/articles/CBMiQ2h0d...   \n",
       "1  https://news.google.com/rss/articles/CBMiPGh0d...   \n",
       "2  https://news.google.com/rss/articles/CBMiSmh0d...   \n",
       "\n",
       "                                           publisher  \\\n",
       "0  {'href': 'https://www.twreporter.org', 'title'...   \n",
       "1  {'href': 'https://www.twreporter.org', 'title'...   \n",
       "2  {'href': 'https://www.twreporter.org', 'title'...   \n",
       "\n",
       "                                             content  \n",
       "0  2020總統大選進入倒數階段，藍綠兩大黨候選人韓國瑜、蔡英文一路纏鬥至今，留下許多令人印象深...  \n",
       "1  民進黨總統候選人蔡英文連任成功，以817萬票創下台灣民選總統以來最高得票紀錄。前《朝日新聞》...  \n",
       "2  民進黨蔡英文總統以史上最高票數連任後，必須回歸台灣人民日常生活的改善之上，勞工議題是關乎世代...  "
      ]
     },
     "execution_count": 116,
     "metadata": {},
     "output_type": "execute_result"
    }
   ],
   "source": [
    "reporter_df.to_csv(path + 'reporter.csv')\n",
    "reporter_df.head(3)"
   ]
  },
  {
   "cell_type": "code",
   "execution_count": null,
   "id": "fec794d8",
   "metadata": {},
   "outputs": [],
   "source": []
  }
 ],
 "metadata": {
  "kernelspec": {
   "display_name": "Python 3 (ipykernel)",
   "language": "python",
   "name": "python3"
  },
  "language_info": {
   "codemirror_mode": {
    "name": "ipython",
    "version": 3
   },
   "file_extension": ".py",
   "mimetype": "text/x-python",
   "name": "python",
   "nbconvert_exporter": "python",
   "pygments_lexer": "ipython3",
   "version": "3.8.16"
  }
 },
 "nbformat": 4,
 "nbformat_minor": 5
}
