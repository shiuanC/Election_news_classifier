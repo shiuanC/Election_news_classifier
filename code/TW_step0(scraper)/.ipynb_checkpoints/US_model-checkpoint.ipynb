{
 "cells": [
  {
   "cell_type": "code",
   "execution_count": 2,
   "id": "2f16cfa8",
   "metadata": {},
   "outputs": [],
   "source": [
    "import requests\n",
    "import json\n",
    "import datetime\n",
    "import pandas as pd\n",
    "import numpy as np\n",
    "import re\n",
    "import os\n",
    "import random\n",
    "import urllib3\n",
    "import time\n",
    "import matplotlib\n",
    "import nltk\n",
    "\n",
    "from nltk.corpus import stopwords\n",
    "from wordcloud import WordCloud,STOPWORDS\n",
    "from datetime import datetime\n",
    "from tqdm.notebook import tqdm\n",
    "import matplotlib.pyplot as plt\n",
    "import seaborn as sns\n",
    "\n",
    "from sklearn.neighbors import KNeighborsClassifier\n",
    "from sklearn.naive_bayes import MultinomialNB\n",
    "from sklearn.tree import DecisionTreeClassifier, plot_tree\n",
    "from sklearn.svm import SVC\n",
    "from sklearn.feature_extraction.text import TfidfVectorizer\n",
    "from sklearn.model_selection import cross_val_score,train_test_split, validation_curve, cross_val_predict\n",
    "from sklearn.metrics import roc_curve, accuracy_score, recall_score, confusion_matrix,f1_score\n"
   ]
  },
  {
   "cell_type": "code",
   "execution_count": 3,
   "id": "0c28591a",
   "metadata": {},
   "outputs": [],
   "source": [
    "path = '../data/us/'"
   ]
  },
  {
   "cell_type": "code",
   "execution_count": 3,
   "id": "d6126a9b",
   "metadata": {},
   "outputs": [],
   "source": [
    "df = pd.read_csv(path + 'US.csv')\n"
   ]
  },
  {
   "cell_type": "code",
   "execution_count": 4,
   "id": "49ea53d3",
   "metadata": {},
   "outputs": [
    {
     "data": {
      "text/html": [
       "<div>\n",
       "<style scoped>\n",
       "    .dataframe tbody tr th:only-of-type {\n",
       "        vertical-align: middle;\n",
       "    }\n",
       "\n",
       "    .dataframe tbody tr th {\n",
       "        vertical-align: top;\n",
       "    }\n",
       "\n",
       "    .dataframe thead th {\n",
       "        text-align: right;\n",
       "    }\n",
       "</style>\n",
       "<table border=\"1\" class=\"dataframe\">\n",
       "  <thead>\n",
       "    <tr style=\"text-align: right;\">\n",
       "      <th></th>\n",
       "      <th>Unnamed: 0</th>\n",
       "      <th>title</th>\n",
       "      <th>date</th>\n",
       "      <th>content</th>\n",
       "      <th>source</th>\n",
       "      <th>keyword-trump</th>\n",
       "      <th>keyword-republican</th>\n",
       "      <th>keyword-biden</th>\n",
       "      <th>keyword-democratic</th>\n",
       "      <th>keyword-election</th>\n",
       "    </tr>\n",
       "  </thead>\n",
       "  <tbody>\n",
       "    <tr>\n",
       "      <th>0</th>\n",
       "      <td>0</td>\n",
       "      <td>'Empathy matters': Joe Biden's endorsers highl...</td>\n",
       "      <td>2020-04-15</td>\n",
       "      <td>CNN Nearly every top Democrat says the same t...</td>\n",
       "      <td>cnn</td>\n",
       "      <td>True</td>\n",
       "      <td>True</td>\n",
       "      <td>True</td>\n",
       "      <td>True</td>\n",
       "      <td>False</td>\n",
       "    </tr>\n",
       "    <tr>\n",
       "      <th>1</th>\n",
       "      <td>1</td>\n",
       "      <td>Elizabeth Warren endorses Joe Biden for president</td>\n",
       "      <td>2020-04-15</td>\n",
       "      <td>The former 2020 Democratic presidential candid...</td>\n",
       "      <td>cnn</td>\n",
       "      <td>True</td>\n",
       "      <td>False</td>\n",
       "      <td>True</td>\n",
       "      <td>True</td>\n",
       "      <td>True</td>\n",
       "    </tr>\n",
       "    <tr>\n",
       "      <th>2</th>\n",
       "      <td>2</td>\n",
       "      <td>Amid a pandemic, lawmakers urge leadership to ...</td>\n",
       "      <td>2020-04-15</td>\n",
       "      <td>CNN Many rank and file House Democrats are gr...</td>\n",
       "      <td>cnn</td>\n",
       "      <td>False</td>\n",
       "      <td>True</td>\n",
       "      <td>False</td>\n",
       "      <td>True</td>\n",
       "      <td>False</td>\n",
       "    </tr>\n",
       "    <tr>\n",
       "      <th>3</th>\n",
       "      <td>3</td>\n",
       "      <td>Stacey Abrams says she would be an 'excellent ...</td>\n",
       "      <td>2020-04-15</td>\n",
       "      <td>Washington CNN Former Georgia gubernatorial ca...</td>\n",
       "      <td>cnn</td>\n",
       "      <td>False</td>\n",
       "      <td>True</td>\n",
       "      <td>True</td>\n",
       "      <td>True</td>\n",
       "      <td>True</td>\n",
       "    </tr>\n",
       "    <tr>\n",
       "      <th>4</th>\n",
       "      <td>4</td>\n",
       "      <td>Justin Amash discussing 'potential campaign' f...</td>\n",
       "      <td>2020-04-15</td>\n",
       "      <td>He has been discussing the potential campaign...</td>\n",
       "      <td>cnn</td>\n",
       "      <td>True</td>\n",
       "      <td>True</td>\n",
       "      <td>False</td>\n",
       "      <td>False</td>\n",
       "      <td>True</td>\n",
       "    </tr>\n",
       "  </tbody>\n",
       "</table>\n",
       "</div>"
      ],
      "text/plain": [
       "   Unnamed: 0                                              title        date  \\\n",
       "0           0  'Empathy matters': Joe Biden's endorsers highl...  2020-04-15   \n",
       "1           1  Elizabeth Warren endorses Joe Biden for president  2020-04-15   \n",
       "2           2  Amid a pandemic, lawmakers urge leadership to ...  2020-04-15   \n",
       "3           3  Stacey Abrams says she would be an 'excellent ...  2020-04-15   \n",
       "4           4  Justin Amash discussing 'potential campaign' f...  2020-04-15   \n",
       "\n",
       "                                             content source  keyword-trump  \\\n",
       "0   CNN Nearly every top Democrat says the same t...    cnn           True   \n",
       "1  The former 2020 Democratic presidential candid...    cnn           True   \n",
       "2   CNN Many rank and file House Democrats are gr...    cnn          False   \n",
       "3  Washington CNN Former Georgia gubernatorial ca...    cnn          False   \n",
       "4   He has been discussing the potential campaign...    cnn           True   \n",
       "\n",
       "   keyword-republican  keyword-biden  keyword-democratic  keyword-election  \n",
       "0                True           True                True             False  \n",
       "1               False           True                True              True  \n",
       "2                True          False                True             False  \n",
       "3                True           True                True              True  \n",
       "4                True          False               False              True  "
      ]
     },
     "execution_count": 4,
     "metadata": {},
     "output_type": "execute_result"
    }
   ],
   "source": [
    "df.head()"
   ]
  },
  {
   "cell_type": "markdown",
   "id": "054d3431",
   "metadata": {},
   "source": [
    "## preprocess"
   ]
  },
  {
   "cell_type": "code",
   "execution_count": 5,
   "id": "3581d9f0",
   "metadata": {},
   "outputs": [
    {
     "name": "stdout",
     "output_type": "stream",
     "text": [
      "cnn        7327\n",
      "foxnews    3775\n",
      "pbs        2135\n",
      "Name: source, dtype: int64\n",
      " 1    7327\n",
      "-1    3775\n",
      " 0    2135\n",
      "Name: source_num, dtype: int64\n"
     ]
    }
   ],
   "source": [
    "print(df.source.value_counts())\n",
    "df[\"source_num\"] = df.source.map({'cnn': 1, 'pbs': 0, 'foxnews': -1})\n",
    "print(df.source_num.value_counts())\n"
   ]
  },
  {
   "cell_type": "code",
   "execution_count": 60,
   "id": "353117dd",
   "metadata": {},
   "outputs": [],
   "source": [
    "def clean_str(string):\n",
    "    \"\"\"\n",
    "    Tokenization/string cleaning for datasets.\n",
    "    Original taken from https://github.com/yoonkim/CNN_sentence/blob/master/process_data.py\n",
    "    \"\"\"\n",
    "    string = re.sub(r\"\\'s\", \"\", string)\n",
    "    string = re.sub(r\"\\'ve\", \"\", string)\n",
    "    string = re.sub(r\"n\\'t\", \"\", string)\n",
    "    string = re.sub(r\"\\'re\", \"\", string)\n",
    "    string = re.sub(r\"\\'d\", \"\", string)\n",
    "    string = re.sub(r\"\\'ll\", \"\", string)\n",
    "    string = re.sub(r\",\", \"\", string)\n",
    "    string = re.sub(r\"!\", \" ! \", string)\n",
    "    string = re.sub(r\"\\(\", \"\", string)\n",
    "    string = re.sub(r\"\\)\", \"\", string)\n",
    "    string = re.sub(r\"\\?\", \"\", string)\n",
    "    string = re.sub(r\"'\", \"\", string)\n",
    "    string = re.sub(r\"[^A-Za-z0-9(),!?\\'\\`]\", \" \", string)\n",
    "    string = re.sub(r\"[0-9]\\w+|[0-9]\",\"\", string)\n",
    "    string = re.sub(r\"\\s{2,}\", \" \", string)\n",
    "    string = re.sub(r\"cnn\", \" \", string)\n",
    "    string = re.sub(r\"fox\", \" \", string)\n",
    "    string = re.sub(r\"news\", \" \", string)\n",
    "    string = re.sub(r\"pbs\", \" \", string)\n",
    "    string = re.sub(r\"said\", \" \", string)\n",
    "    return string.strip().lower()"
   ]
  },
  {
   "cell_type": "code",
   "execution_count": 62,
   "id": "aabd81cd",
   "metadata": {
    "scrolled": true
   },
   "outputs": [
    {
     "data": {
      "text/plain": [
       "0    nearly every top democrat says the same thing ...\n",
       "1    the former democratic presidential candidate t...\n",
       "2    many rank and file house democrats are growing...\n",
       "3    washington   former georgia gubernatorial cand...\n",
       "4    he has been discussing the potential campaign ...\n",
       "Name: content, dtype: object"
      ]
     },
     "execution_count": 62,
     "metadata": {},
     "output_type": "execute_result"
    }
   ],
   "source": [
    "# df = df.drop(columns=['Unnamed: 0'])\n",
    "df['content'] = [clean_str(s) for s in df.content]\n",
    "df.content.head()"
   ]
  },
  {
   "cell_type": "code",
   "execution_count": 26,
   "id": "ea121f05",
   "metadata": {},
   "outputs": [],
   "source": [
    "def undersamples(df):\n",
    "    # Count the number of observations for each source\n",
    "    source_counts = df['source'].value_counts()\n",
    "\n",
    "    # Find the minimum count among the sources\n",
    "    min_count = source_counts.min()\n",
    "\n",
    "    # Subset the data to include only observations with the minimum count for each source\n",
    "    subset_df = df.groupby('source').apply(lambda x: x.sample(min_count)).reset_index(drop=True)\n",
    "    return subset_df"
   ]
  },
  {
   "cell_type": "code",
   "execution_count": 27,
   "id": "c29a8d1c",
   "metadata": {},
   "outputs": [],
   "source": [
    "republican_df = df[df['keyword-republican']==1]\n",
    "republican_subset = undersamples(republican_df)\n",
    "\n",
    "trump_df = df[df['keyword-trump']==1]\n",
    "trump_subset = undersamples(trump_df)\n",
    "\n",
    "democratic_df = df[df['keyword-democratic']==1]\n",
    "democratic_subset = undersamples(democratic_df)\n",
    "\n",
    "biden_df = df[df['keyword-biden']==1]\n",
    "biden_subset = undersamples(biden_df)\n",
    "\n",
    "election_df = df[df['keyword-election']==1]\n",
    "election_subset = undersamples(election_df)"
   ]
  },
  {
   "cell_type": "code",
   "execution_count": 9,
   "id": "fa20af50",
   "metadata": {},
   "outputs": [],
   "source": [
    "def get_xy(df):\n",
    "    x = df['content'].tolist()\n",
    "    y = df['source_num'].tolist()\n",
    "    \n",
    "    stopwordset= set(stopwords.words('english'))\n",
    "    morestop={'cnn', 'keyword', 'state', 'said'}\n",
    "    stopwordset= list(stopwordset.union(morestop))\n",
    "\n",
    "    vect = TfidfVectorizer(stop_words=stopwordset)\n",
    "    X = vect.fit_transform(x)\n",
    "    Y = np.array(y)\n",
    "    \n",
    "    return (X, Y)\n"
   ]
  },
  {
   "cell_type": "code",
   "execution_count": 10,
   "id": "d1c297a8",
   "metadata": {},
   "outputs": [],
   "source": [
    "(X, y) = get_xy(subset_df)\n",
    "X_train, X_test, y_train, y_test = train_test_split(X, y, test_size=0.20, random_state=42)\n"
   ]
  },
  {
   "cell_type": "code",
   "execution_count": 19,
   "id": "2cc99991",
   "metadata": {},
   "outputs": [],
   "source": [
    "def generate_evaluate(df):\n",
    "\n",
    "    (X, y) = get_xy(df)\n",
    "    X_train, X_test, y_train, y_test = train_test_split(X, y, test_size=0.20, random_state=42)\n",
    "\n",
    "    \n",
    "    evalute_dict = {}\n",
    "    # create logistic regression model\n",
    "    # Fit logistic regression model\n",
    "   \n",
    "    evalute_dict['knn'] = {}\n",
    "    knn = KNeighborsClassifier(n_neighbors=3)\n",
    "    knn.fit(X_train, y_train)\n",
    "    evalute_dict['knn']['preds'] = knn.predict(X_test)\n",
    "    evalute_dict['knn']['acc'] = accuracy_score(y_test, evalute_dict['knn']['preds'])\n",
    "    evalute_dict['knn']['f1'] = f1_score(y_test, evalute_dict['knn']['preds'], average='weighted')\n",
    "    print(f\"K Neighbors Classifier: accuracy {evalute_dict['knn']['acc']}/ f1 {evalute_dict['knn']['f1']}\" )\n",
    "\n",
    "    \n",
    "    # Fit Multinomial Naive Bayes model\n",
    "    evalute_dict['mnb'] = {}\n",
    "    mnb = MultinomialNB()\n",
    "    mnb.fit(X_train, y_train)\n",
    "    evalute_dict['mnb']['preds'] = mnb.predict(X_test)\n",
    "    evalute_dict['mnb']['acc'] = accuracy_score(y_test, evalute_dict['mnb']['preds'])\n",
    "    evalute_dict['mnb']['f1'] = f1_score(y_test, evalute_dict['mnb']['preds'],  average='weighted')\n",
    "    print(f\"Multinomial Naive Bayes: accuracy {evalute_dict['mnb']['acc']}/ f1 {evalute_dict['mnb']['f1']}\" )\n",
    "    \n",
    "    evalute_dict['svm'] = {}\n",
    "    svm = SVC(kernel='poly', degree=3, C=1).fit(X_train, y_train)\n",
    "    evalute_dict['svm']['preds'] = svm.predict(X_test)\n",
    "    evalute_dict['svm']['acc'] = accuracy_score(y_test, evalute_dict['svm']['preds'])\n",
    "    evalute_dict['svm']['f1'] = f1_score(y_test, evalute_dict['svm']['preds'], average='weighted')\n",
    "    print(f\"Support Vector Machine: accuracy {evalute_dict['svm']['acc']}/ f1 {evalute_dict['svm']['f1']}\" )\n",
    "\n",
    "    # Decision Tree\n",
    "    evalute_dict['tree'] = {}\n",
    "    tree = DecisionTreeClassifier(random_state=1234)\n",
    "    tree.fit(X_train, y_train)\n",
    "    evalute_dict['tree']['preds'] = tree.predict(X_test)\n",
    "    evalute_dict['tree']['acc'] = accuracy_score(y_test,evalute_dict['tree']['preds'])\n",
    "    evalute_dict['tree']['f1'] = f1_score(y_test, evalute_dict['tree']['preds'], average='weighted')\n",
    "    print(f\"Decision Tree: accuracy {evalute_dict['tree']['acc']}/ f1 {evalute_dict['tree']['f1']}\" )\n",
    "   \n",
    "    return evalute_dict "
   ]
  },
  {
   "cell_type": "markdown",
   "id": "9c48f139-fa12-44ef-b454-676241ed8da3",
   "metadata": {},
   "source": [
    "## run models"
   ]
  },
  {
   "cell_type": "code",
   "execution_count": 20,
   "id": "94337dcd",
   "metadata": {},
   "outputs": [
    {
     "name": "stdout",
     "output_type": "stream",
     "text": [
      "K Neighbors Classifier: accuracy 0.5487900078064013/ f1 0.5470695951381053\n",
      "Multinomial Naive Bayes: accuracy 0.7681498829039812/ f1 0.7671236539919905\n",
      "Support Vector Machine: accuracy 0.7283372365339579/ f1 0.7255694977571744\n",
      "Decision Tree: accuracy 0.8282591725214676/ f1 0.8283254579069258\n",
      "K Neighbors Classifier: accuracy 0.6891993957703928/ f1 0.6784629018152096\n",
      "Multinomial Naive Bayes: accuracy 0.5596676737160121/ f1 0.4189680292740334\n",
      "Support Vector Machine: accuracy 0.7111027190332326/ f1 0.6654125698816473\n",
      "Decision Tree: accuracy 0.9018126888217523/ f1 0.9011733542791027\n"
     ]
    }
   ],
   "source": [
    "subset_table = generate_evaluate(subset_df)\n",
    "\n",
    "df_table = generate_evaluate(df)"
   ]
  },
  {
   "cell_type": "code",
   "execution_count": 42,
   "id": "511cb29f",
   "metadata": {},
   "outputs": [],
   "source": [
    "subset_result = pd.DataFrame(subset_table).T\n",
    "df_result = pd.DataFrame(df_table).T\n",
    "\n",
    "subset_result.to_csv(path+ 'subset_result.csv')\n",
    "df_result.to_csv(path+ 'df_result.csv')"
   ]
  },
  {
   "cell_type": "markdown",
   "id": "36874b8c-53b2-4051-8a10-2faee58c7eee",
   "metadata": {},
   "source": [
    "### get keywords' models"
   ]
  },
  {
   "cell_type": "code",
   "execution_count": 28,
   "id": "812ab493",
   "metadata": {},
   "outputs": [
    {
     "name": "stdout",
     "output_type": "stream",
     "text": [
      "K Neighbors Classifier: accuracy 0.5447870778267254/ f1 0.5369695568366998\n",
      "Multinomial Naive Bayes: accuracy 0.7254038179148311/ f1 0.723973111204457\n",
      "Support Vector Machine: accuracy 0.6901615271659325/ f1 0.6874450191387571\n",
      "Decision Tree: accuracy 0.8531571218795888/ f1 0.8527928510554694\n",
      "K Neighbors Classifier: accuracy 0.7144772117962467/ f1 0.7032836662716228\n",
      "Multinomial Naive Bayes: accuracy 0.5864611260053619/ f1 0.439774565769508\n",
      "Support Vector Machine: accuracy 0.7004021447721179/ f1 0.6437260254428283\n",
      "Decision Tree: accuracy 0.910857908847185/ f1 0.9104225013276099\n"
     ]
    }
   ],
   "source": [
    "republican_subset_table = generate_evaluate(republican_subset)\n",
    "republican_table = generate_evaluate(republican_df)"
   ]
  },
  {
   "cell_type": "code",
   "execution_count": 29,
   "id": "f900b2fa",
   "metadata": {},
   "outputs": [
    {
     "name": "stdout",
     "output_type": "stream",
     "text": [
      "K Neighbors Classifier: accuracy 0.5844444444444444/ f1 0.583347845041075\n",
      "Multinomial Naive Bayes: accuracy 0.7577777777777778/ f1 0.7591195319234992\n",
      "Support Vector Machine: accuracy 0.7133333333333334/ f1 0.7104410703618003\n",
      "Decision Tree: accuracy 0.8433333333333334/ f1 0.8424775721164691\n",
      "K Neighbors Classifier: accuracy 0.6743562231759657/ f1 0.6665403068897857\n",
      "Multinomial Naive Bayes: accuracy 0.5579399141630901/ f1 0.42576303795721177\n",
      "Support Vector Machine: accuracy 0.7274678111587983/ f1 0.6896304220375314\n",
      "Decision Tree: accuracy 0.8953862660944206/ f1 0.8955288204734361\n"
     ]
    }
   ],
   "source": [
    "democratic_subset_table = generate_evaluate(democratic_subset)\n",
    "print('\\n')\n",
    "democratic_table = generate_evaluate(democratic_df)"
   ]
  },
  {
   "cell_type": "code",
   "execution_count": 30,
   "id": "84287390",
   "metadata": {},
   "outputs": [
    {
     "name": "stdout",
     "output_type": "stream",
     "text": [
      "K Neighbors Classifier: accuracy 0.5566905005107252/ f1 0.5565546037251357\n",
      "Multinomial Naive Bayes: accuracy 0.7722165474974464/ f1 0.772522228991722\n",
      "Support Vector Machine: accuracy 0.7027579162410623/ f1 0.70252835252204\n",
      "Decision Tree: accuracy 0.8651685393258427/ f1 0.8652298770816927\n",
      "K Neighbors Classifier: accuracy 0.7063529411764706/ f1 0.6963269269824534\n",
      "Multinomial Naive Bayes: accuracy 0.5792941176470588/ f1 0.43577473185624477\n",
      "Support Vector Machine: accuracy 0.7152941176470589/ f1 0.6671286199276716\n",
      "Decision Tree: accuracy 0.9058823529411765/ f1 0.905288476214972\n"
     ]
    }
   ],
   "source": [
    "trump_subset_table = generate_evaluate(trump_subset)\n",
    "trump_table = generate_evaluate(trump_df)"
   ]
  },
  {
   "cell_type": "code",
   "execution_count": 31,
   "id": "f6b0d7ba",
   "metadata": {},
   "outputs": [
    {
     "name": "stdout",
     "output_type": "stream",
     "text": [
      "K Neighbors Classifier: accuracy 0.5598755832037325/ f1 0.558115652669275\n",
      "Multinomial Naive Bayes: accuracy 0.7589424572317263/ f1 0.7583046676373444\n",
      "Support Vector Machine: accuracy 0.7045101088646968/ f1 0.7033438869977534\n",
      "Decision Tree: accuracy 0.8724727838258165/ f1 0.8724461222485487\n",
      "K Neighbors Classifier: accuracy 0.6851063829787234/ f1 0.6764192152365968\n",
      "Multinomial Naive Bayes: accuracy 0.5957446808510638/ f1 0.45401034827233394\n",
      "Support Vector Machine: accuracy 0.7163120567375887/ f1 0.6650012375304899\n",
      "Decision Tree: accuracy 0.8943262411347518/ f1 0.8939427294499157\n"
     ]
    }
   ],
   "source": [
    "biden_subset_table = generate_evaluate(biden_subset)\n",
    "biden_table = generate_evaluate(biden_df)"
   ]
  },
  {
   "cell_type": "code",
   "execution_count": 32,
   "id": "dde33824",
   "metadata": {},
   "outputs": [
    {
     "name": "stdout",
     "output_type": "stream",
     "text": [
      "K Neighbors Classifier: accuracy 0.5811088295687885/ f1 0.5802458068649637\n",
      "Multinomial Naive Bayes: accuracy 0.7792607802874744/ f1 0.7784675366955252\n",
      "Support Vector Machine: accuracy 0.7063655030800822/ f1 0.7057832730802301\n",
      "Decision Tree: accuracy 0.8521560574948666/ f1 0.8525356645196743\n",
      "K Neighbors Classifier: accuracy 0.7011437095972153/ f1 0.6924045223151432\n",
      "Multinomial Naive Bayes: accuracy 0.6001989060169071/ f1 0.4559806529858375\n",
      "Support Vector Machine: accuracy 0.7061163600198906/ f1 0.6521303761540761\n",
      "Decision Tree: accuracy 0.9085032322227747/ f1 0.9076214857290009\n"
     ]
    }
   ],
   "source": [
    "election_subset_table = generate_evaluate(election_subset)\n",
    "election_table = generate_evaluate(election_df)"
   ]
  },
  {
   "cell_type": "code",
   "execution_count": 1,
   "id": "3ecc7639",
   "metadata": {},
   "outputs": [
    {
     "ename": "NameError",
     "evalue": "name 'pd' is not defined",
     "output_type": "error",
     "traceback": [
      "\u001b[0;31m---------------------------------------------------------------------------\u001b[0m",
      "\u001b[0;31mNameError\u001b[0m                                 Traceback (most recent call last)",
      "Input \u001b[0;32mIn [1]\u001b[0m, in \u001b[0;36m<cell line: 1>\u001b[0;34m()\u001b[0m\n\u001b[0;32m----> 1\u001b[0m election_subset_result \u001b[38;5;241m=\u001b[39m \u001b[43mpd\u001b[49m\u001b[38;5;241m.\u001b[39mDataFrame(election_subset_table)\u001b[38;5;241m.\u001b[39mT\n\u001b[1;32m      2\u001b[0m election_result \u001b[38;5;241m=\u001b[39m pd\u001b[38;5;241m.\u001b[39mDataFrame(election_table)\u001b[38;5;241m.\u001b[39mT\n\u001b[1;32m      4\u001b[0m biden_subset_result \u001b[38;5;241m=\u001b[39m pd\u001b[38;5;241m.\u001b[39mDataFrame(biden_subset_table)\u001b[38;5;241m.\u001b[39mT\n",
      "\u001b[0;31mNameError\u001b[0m: name 'pd' is not defined"
     ]
    }
   ],
   "source": [
    "election_subset_result = pd.DataFrame(election_subset_table).T\n",
    "election_result = pd.DataFrame(election_table).T\n",
    "\n",
    "biden_subset_result = pd.DataFrame(biden_subset_table).T\n",
    "biden_result = pd.DataFrame(biden_table).T\n",
    "\n",
    "trump_subset_result = pd.DataFrame(trump_subset_table).T\n",
    "trump_result = pd.DataFrame(trump_table).T\n",
    "\n",
    "republican_subset_result = pd.DataFrame(republican_subset_table).T\n",
    "republican_result = pd.DataFrame(republican_table).T\n",
    "\n",
    "democratic_subset_result = pd.DataFrame(democratic_subset_table).T\n",
    "democratic_result = pd.DataFrame(democratic_table).T"
   ]
  },
  {
   "cell_type": "code",
   "execution_count": 45,
   "id": "4ba69b86",
   "metadata": {},
   "outputs": [],
   "source": [
    "election_subset_result.to_csv(path+ 'election_subset_result.csv')\n",
    "election_result.to_csv(path+ 'election_result.csv')\n",
    "\n",
    "biden_subset_result.to_csv(path+ 'biden_subset_result.csv')\n",
    "biden_result.to_csv(path+ 'biden_result.csv')\n",
    "\n",
    "trump_subset_result.to_csv(path+ 'trump_subset_result.csv')\n",
    "trump_result.to_csv(path+ 'trump_result.csv')\n",
    "\n",
    "republican_subset_result.to_csv(path+ 'republican_subset_result.csv')\n",
    "republican_result.to_csv(path+ 'republican_result.csv')\n",
    "\n",
    "democratic_subset_result.to_csv(path+ 'democratic_subset_result.csv')\n",
    "democratic_result.to_csv(path+ 'democratic_result.csv')"
   ]
  },
  {
   "cell_type": "markdown",
   "id": "17ea5c00",
   "metadata": {
    "jp-MarkdownHeadingCollapsed": true,
    "tags": []
   },
   "source": [
    "### get sources"
   ]
  },
  {
   "cell_type": "markdown",
   "id": "be4855e9",
   "metadata": {
    "jp-MarkdownHeadingCollapsed": true,
    "tags": []
   },
   "source": [
    "#### CNN VS PBS\n"
   ]
  },
  {
   "cell_type": "code",
   "execution_count": 41,
   "id": "76d83b32",
   "metadata": {},
   "outputs": [],
   "source": [
    "def get_2news(data, except_num):\n",
    "    return data[data.source_num!=except_num]\n",
    "\n",
    "cnn_pbs = get_2news(df, -1)\n",
    "cnn_pbs_subset = get_2news(subset_df, -1)\n",
    "\n",
    "cnn_pbs_rep = get_2news(republican_df, -1)\n",
    "cnn_pbs_rep_subset = get_2news(republican_subset, -1)\n",
    "\n",
    "cnn_pbs_trump = get_2news(trump_df, -1)\n",
    "cnn_pbs_trump_subset = get_2news(trump_subset, -1)\n",
    "\n",
    "cnn_pbs_dem = get_2news(democratic_df, -1)\n",
    "cnn_pbs_dem_subset = get_2news(democratic_subset, -1)\n",
    "\n",
    "cnn_pbs_biden = get_2news(biden_df, -1)\n",
    "cnn_pbs_biden_subset = get_2news(biden_subset, -1)\n",
    "\n",
    "cnn_pbs_election = get_2news(election_df, -1)\n",
    "cnn_pbs_election_subset = get_2news(election_subset, -1)\n"
   ]
  },
  {
   "cell_type": "markdown",
   "id": "cdf3675f",
   "metadata": {},
   "source": [
    "#### whole"
   ]
  },
  {
   "cell_type": "code",
   "execution_count": 46,
   "id": "fc118684",
   "metadata": {
    "scrolled": true
   },
   "outputs": [
    {
     "name": "stdout",
     "output_type": "stream",
     "text": [
      "K Neighbors Classifier: accuracy 0.8140517696777602/ f1 0.8041968711001628\n",
      "Multinomial Naive Bayes: accuracy 0.7770734284204965/ f1 0.6801268428298619\n",
      "Support Vector Machine: accuracy 0.8103539355520338/ f1 0.752011669923128\n",
      "Decision Tree: accuracy 0.93026941362916/ f1 0.9296607939735608\n"
     ]
    }
   ],
   "source": [
    "cnn_pbs_dict = generate_evaluate(cnn_pbs)\n",
    "cnn_pbs_result = pd.DataFrame(cnn_pbs_dict).T\n",
    "cnn_pbs_result.to_csv(path+ 'cnn_pbs_result.csv')"
   ]
  },
  {
   "cell_type": "code",
   "execution_count": 47,
   "id": "3f6a2175",
   "metadata": {},
   "outputs": [
    {
     "name": "stdout",
     "output_type": "stream",
     "text": [
      "K Neighbors Classifier: accuracy 0.6932084309133489/ f1 0.6932757595983048\n",
      "Multinomial Naive Bayes: accuracy 0.8044496487119438/ f1 0.8040202026492713\n",
      "Support Vector Machine: accuracy 0.7669789227166276/ f1 0.7653689139645339\n",
      "Decision Tree: accuracy 0.8723653395784543/ f1 0.8723697184805\n"
     ]
    }
   ],
   "source": [
    "cnn_pbs_subset_dict = generate_evaluate(cnn_pbs_subset)\n",
    "cnn_pbs_subset_result = pd.DataFrame(cnn_pbs_subset_dict).T\n",
    "cnn_pbs_subset_result.to_csv(path+ 'cnn_pbs_subset_result.csv')"
   ]
  },
  {
   "cell_type": "markdown",
   "id": "8e50a2ff",
   "metadata": {},
   "source": [
    "#### rep"
   ]
  },
  {
   "cell_type": "code",
   "execution_count": 48,
   "id": "53298852",
   "metadata": {},
   "outputs": [
    {
     "name": "stdout",
     "output_type": "stream",
     "text": [
      "K Neighbors Classifier: accuracy 0.8072289156626506/ f1 0.7966503980697741\n",
      "Multinomial Naive Bayes: accuracy 0.7849860982391103/ f1 0.6904291019818551\n",
      "Support Vector Machine: accuracy 0.8266913809082483/ f1 0.7768066570984876\n",
      "Decision Tree: accuracy 0.9249304911955515/ f1 0.9248715670094069\n"
     ]
    }
   ],
   "source": [
    "cnn_pbs_rep_dict = generate_evaluate(cnn_pbs_rep)\n",
    "cnn_pbs_rep_result = pd.DataFrame(cnn_pbs_rep_dict).T\n",
    "cnn_pbs_rep_result.to_csv(path+ 'cnn_pbs_rep_result.csv')"
   ]
  },
  {
   "cell_type": "code",
   "execution_count": 49,
   "id": "3c662508",
   "metadata": {},
   "outputs": [
    {
     "name": "stdout",
     "output_type": "stream",
     "text": [
      "K Neighbors Classifier: accuracy 0.6696035242290749/ f1 0.6693213149822066\n",
      "Multinomial Naive Bayes: accuracy 0.7775330396475771/ f1 0.7773095307253408\n",
      "Support Vector Machine: accuracy 0.7819383259911894/ f1 0.7816465031845827\n",
      "Decision Tree: accuracy 0.8832599118942731/ f1 0.8832854090377912\n"
     ]
    }
   ],
   "source": [
    "cnn_pbs_rep_subset_dict = generate_evaluate(cnn_pbs_rep_subset)\n",
    "cnn_pbs_rep_subset_result = pd.DataFrame(cnn_pbs_rep_subset_dict).T\n",
    "cnn_pbs_rep_subset_result.to_csv(path+ 'cnn_pbs_rep_subset_result.csv')\n"
   ]
  },
  {
   "cell_type": "markdown",
   "id": "301b0bed",
   "metadata": {},
   "source": [
    "#### trump"
   ]
  },
  {
   "cell_type": "code",
   "execution_count": 50,
   "id": "5b83016f",
   "metadata": {},
   "outputs": [
    {
     "name": "stdout",
     "output_type": "stream",
     "text": [
      "K Neighbors Classifier: accuracy 0.8137573004542504/ f1 0.7979450985157795\n",
      "Multinomial Naive Bayes: accuracy 0.7890979883192732/ f1 0.6960777321699211\n",
      "Support Vector Machine: accuracy 0.8247890979883192/ f1 0.772023334273318\n",
      "Decision Tree: accuracy 0.936404931862427/ f1 0.9352538013020113\n"
     ]
    }
   ],
   "source": [
    "cnn_pbs_trump_dict = generate_evaluate(cnn_pbs_trump)\n",
    "cnn_pbs_trump_result = pd.DataFrame(cnn_pbs_trump_dict).T\n",
    "cnn_pbs_trump_result.to_csv(path+ 'cnn_pbs_trump_result.csv')"
   ]
  },
  {
   "cell_type": "code",
   "execution_count": 51,
   "id": "998c59d2",
   "metadata": {},
   "outputs": [
    {
     "name": "stdout",
     "output_type": "stream",
     "text": [
      "K Neighbors Classifier: accuracy 0.6615620214395099/ f1 0.6613016509485511\n",
      "Multinomial Naive Bayes: accuracy 0.7947932618683001/ f1 0.7944465833175923\n",
      "Support Vector Machine: accuracy 0.7840735068912711/ f1 0.7841049029644239\n",
      "Decision Tree: accuracy 0.886676875957121/ f1 0.886747628433357\n"
     ]
    }
   ],
   "source": [
    "cnn_pbs_trump_subset_dict = generate_evaluate(cnn_pbs_trump_subset)\n",
    "cnn_pbs_trump_subset_result = pd.DataFrame(cnn_pbs_trump_subset_dict).T\n",
    "cnn_pbs_trump_subset_result.to_csv(path+ 'cnn_pbs_trump_subset_result.csv')\n"
   ]
  },
  {
   "cell_type": "markdown",
   "id": "6be4f090",
   "metadata": {},
   "source": [
    "#### democractic"
   ]
  },
  {
   "cell_type": "code",
   "execution_count": 52,
   "id": "b11c017b",
   "metadata": {},
   "outputs": [
    {
     "name": "stdout",
     "output_type": "stream",
     "text": [
      "K Neighbors Classifier: accuracy 0.80234375/ f1 0.7883130639281084\n",
      "Multinomial Naive Bayes: accuracy 0.7546875/ f1 0.6491790961709706\n",
      "Support Vector Machine: accuracy 0.796875/ f1 0.7388655250535668\n",
      "Decision Tree: accuracy 0.934375/ f1 0.933862893398636\n"
     ]
    }
   ],
   "source": [
    "cnn_pbs_dem_dict = generate_evaluate(cnn_pbs_dem)\n",
    "cnn_pbs_dem_result = pd.DataFrame(cnn_pbs_dem_dict).T\n",
    "cnn_pbs_dem_result.to_csv(path+ 'cnn_pbs_dem_result.csv')"
   ]
  },
  {
   "cell_type": "code",
   "execution_count": 53,
   "id": "b622b6a7",
   "metadata": {},
   "outputs": [
    {
     "name": "stdout",
     "output_type": "stream",
     "text": [
      "K Neighbors Classifier: accuracy 0.6916666666666667/ f1 0.691736043401085\n",
      "Multinomial Naive Bayes: accuracy 0.7883333333333333/ f1 0.7880680728800513\n",
      "Support Vector Machine: accuracy 0.7516666666666667/ f1 0.7511150618135114\n",
      "Decision Tree: accuracy 0.8883333333333333/ f1 0.8883585093146956\n"
     ]
    }
   ],
   "source": [
    "cnn_pbs_dem_subset_dict = generate_evaluate(cnn_pbs_dem_subset)\n",
    "cnn_pbs_dem_subset_result = pd.DataFrame(cnn_pbs_dem_subset_dict).T\n",
    "cnn_pbs_dem_subset_result.to_csv(path+ 'cnn_pbs_dem_subset_result.csv')"
   ]
  },
  {
   "cell_type": "markdown",
   "id": "de0dbdd3",
   "metadata": {},
   "source": [
    "#### Biden"
   ]
  },
  {
   "cell_type": "code",
   "execution_count": 54,
   "id": "3b5ba9d7",
   "metadata": {},
   "outputs": [
    {
     "name": "stdout",
     "output_type": "stream",
     "text": [
      "K Neighbors Classifier: accuracy 0.8107843137254902/ f1 0.7943429735858252\n",
      "Multinomial Naive Bayes: accuracy 0.7901960784313725/ f1 0.6975882138178383\n",
      "Support Vector Machine: accuracy 0.8186274509803921/ f1 0.7601358091983312\n",
      "Decision Tree: accuracy 0.9362745098039216/ f1 0.9345217544344785\n"
     ]
    }
   ],
   "source": [
    "cnn_pbs_biden_dict = generate_evaluate(cnn_pbs_biden)\n",
    "cnn_pbs_biden_result = pd.DataFrame(cnn_pbs_biden_dict).T\n",
    "cnn_pbs_biden_result.to_csv(path+ 'cnn_pbs_biden_result.csv')"
   ]
  },
  {
   "cell_type": "code",
   "execution_count": 55,
   "id": "242d533f",
   "metadata": {},
   "outputs": [
    {
     "name": "stdout",
     "output_type": "stream",
     "text": [
      "K Neighbors Classifier: accuracy 0.6713286713286714/ f1 0.6706524260044077\n",
      "Multinomial Naive Bayes: accuracy 0.8251748251748252/ f1 0.825123519180746\n",
      "Support Vector Machine: accuracy 0.7925407925407926/ f1 0.7921566945967815\n",
      "Decision Tree: accuracy 0.8787878787878788/ f1 0.8787694326630803\n"
     ]
    }
   ],
   "source": [
    "cnn_pbs_biden_subset_dict = generate_evaluate(cnn_pbs_biden_subset)\n",
    "cnn_pbs_biden_subset_result = pd.DataFrame(cnn_pbs_biden_subset_dict).T\n",
    "cnn_pbs_biden_subset_result.to_csv(path+ 'cnn_pbs_biden_subset_result.csv')"
   ]
  },
  {
   "cell_type": "markdown",
   "id": "7ccbc288",
   "metadata": {},
   "source": [
    "#### election"
   ]
  },
  {
   "cell_type": "code",
   "execution_count": 56,
   "id": "d7a01265",
   "metadata": {},
   "outputs": [
    {
     "name": "stdout",
     "output_type": "stream",
     "text": [
      "K Neighbors Classifier: accuracy 0.8134228187919463/ f1 0.7999093403145633\n",
      "Multinomial Naive Bayes: accuracy 0.7798657718120805/ f1 0.6840891324285018\n",
      "Support Vector Machine: accuracy 0.8093959731543624/ f1 0.7482401880431757\n",
      "Decision Tree: accuracy 0.938255033557047/ f1 0.9378402783167481\n"
     ]
    }
   ],
   "source": [
    "cnn_pbs_election_dict = generate_evaluate(cnn_pbs_election)\n",
    "cnn_pbs_election_result = pd.DataFrame(cnn_pbs_election_dict).T\n",
    "cnn_pbs_election_result.to_csv(path+ 'cnn_pbs_election_result.csv')"
   ]
  },
  {
   "cell_type": "code",
   "execution_count": 57,
   "id": "f3dfc718",
   "metadata": {},
   "outputs": [
    {
     "name": "stdout",
     "output_type": "stream",
     "text": [
      "K Neighbors Classifier: accuracy 0.6702619414483821/ f1 0.671546761808541\n",
      "Multinomial Naive Bayes: accuracy 0.7842835130970724/ f1 0.7849538185648499\n",
      "Support Vector Machine: accuracy 0.6949152542372882/ f1 0.6915131464166403\n",
      "Decision Tree: accuracy 0.8674884437596302/ f1 0.8677145183581757\n"
     ]
    }
   ],
   "source": [
    "cnn_pbs_election_subset_dict = generate_evaluate(cnn_pbs_election_subset)\n",
    "cnn_pbs_election_subset_result = pd.DataFrame(cnn_pbs_election_subset_dict).T\n",
    "cnn_pbs_election_subset_result.to_csv(path+ 'cnn_pbs_election_subset_result.csv')"
   ]
  },
  {
   "cell_type": "markdown",
   "id": "51808f14",
   "metadata": {
    "jp-MarkdownHeadingCollapsed": true,
    "tags": []
   },
   "source": [
    "#### cnn fox"
   ]
  },
  {
   "cell_type": "code",
   "execution_count": 65,
   "id": "7cd05b8f",
   "metadata": {},
   "outputs": [],
   "source": [
    "cnn_fox = get_2news(df, 0)\n",
    "cnn_fox_subset = get_2news(subset_df, 0)"
   ]
  },
  {
   "cell_type": "code",
   "execution_count": 66,
   "id": "fe2a983c",
   "metadata": {},
   "outputs": [
    {
     "name": "stdout",
     "output_type": "stream",
     "text": [
      "K Neighbors Classifier: accuracy 0.8162989644304367/ f1 0.8112708091960126\n",
      "Multinomial Naive Bayes: accuracy 0.6834759117514633/ f1 0.571790408364311\n",
      "Support Vector Machine: accuracy 0.820351193156236/ f1 0.8006462605462548\n",
      "Decision Tree: accuracy 0.9513732552904097/ f1 0.9511165666152633\n"
     ]
    }
   ],
   "source": [
    "cnn_fox_dict = generate_evaluate(cnn_fox)\n",
    "cnn_fox_result = pd.DataFrame(cnn_fox_dict).T\n",
    "cnn_fox_result.to_csv(path+ 'cnn_fox_result.csv')"
   ]
  },
  {
   "cell_type": "code",
   "execution_count": 67,
   "id": "239565e5",
   "metadata": {},
   "outputs": [
    {
     "name": "stdout",
     "output_type": "stream",
     "text": [
      "K Neighbors Classifier: accuracy 0.7622950819672131/ f1 0.7618780357104386\n",
      "Multinomial Naive Bayes: accuracy 0.8782201405152225/ f1 0.8782348443531915\n",
      "Support Vector Machine: accuracy 0.810304449648712/ f1 0.8088778212981808\n",
      "Decision Tree: accuracy 0.9332552693208431/ f1 0.9332179518988516\n"
     ]
    }
   ],
   "source": [
    "cnn_fox_subset_dict = generate_evaluate(cnn_fox_subset)\n",
    "cnn_fox_subset_result = pd.DataFrame(cnn_fox_subset_dict).T\n",
    "cnn_fox_subset_result.to_csv(path+ 'cnn_fox_subset_result.csv')"
   ]
  },
  {
   "cell_type": "code",
   "execution_count": null,
   "id": "8fbc3c54",
   "metadata": {},
   "outputs": [],
   "source": [
    "\n",
    "cnn_pbs_rep = get_2news(republican_df, -1)\n",
    "cnn_pbs_rep_subset = get_2news(republican_subset, -1)\n",
    "\n",
    "cnn_pbs_trump = get_2news(trump_df, -1)\n",
    "cnn_pbs_trump_subset = get_2news(trump_subset, -1)\n",
    "\n",
    "cnn_pbs_dem = get_2news(democratic_df, -1)\n",
    "cnn_pbs_dem_subset = get_2news(democratic_subset, -1)\n",
    "\n",
    "cnn_pbs_biden = get_2news(biden_df, -1)\n",
    "cnn_pbs_biden_subset = get_2news(biden_subset, -1)\n",
    "\n",
    "cnn_pbs_election = get_2news(election_df, -1)\n",
    "cnn_pbs_election_subset = get_2news(election_subset, -1)\n"
   ]
  },
  {
   "cell_type": "markdown",
   "id": "2e91211e",
   "metadata": {},
   "source": [
    "#### fox pbs"
   ]
  },
  {
   "cell_type": "code",
   "execution_count": 68,
   "id": "9189ffa1",
   "metadata": {},
   "outputs": [],
   "source": [
    "fox_pbs = get_2news(df, 1)\n",
    "fox_pbs_subset = get_2news(subset_df, 1)"
   ]
  },
  {
   "cell_type": "code",
   "execution_count": 69,
   "id": "bdb22911",
   "metadata": {},
   "outputs": [
    {
     "name": "stdout",
     "output_type": "stream",
     "text": [
      "K Neighbors Classifier: accuracy 0.7529610829103215/ f1 0.7534817810518549\n",
      "Multinomial Naive Bayes: accuracy 0.6641285956006768/ f1 0.546893647191278\n",
      "Support Vector Machine: accuracy 0.7445008460236887/ f1 0.7005196629912455\n",
      "Decision Tree: accuracy 0.9255499153976311/ f1 0.9252093248425186\n"
     ]
    }
   ],
   "source": [
    "fox_pbs_dict = generate_evaluate(fox_pbs)\n",
    "fox_pbs_result = pd.DataFrame(fox_pbs_dict).T\n",
    "fox_pbs_result.to_csv(path+ 'fox_pbs_result.csv')"
   ]
  },
  {
   "cell_type": "code",
   "execution_count": 70,
   "id": "89e36c5e",
   "metadata": {},
   "outputs": [
    {
     "name": "stdout",
     "output_type": "stream",
     "text": [
      "K Neighbors Classifier: accuracy 0.7224824355971897/ f1 0.7221569319411829\n",
      "Multinomial Naive Bayes: accuracy 0.8747072599531616/ f1 0.8747335549864419\n",
      "Support Vector Machine: accuracy 0.8442622950819673/ f1 0.8442676335744196\n",
      "Decision Tree: accuracy 0.9543325526932084/ f1 0.9543428876566157\n"
     ]
    }
   ],
   "source": [
    "fox_pbs_subset_dict = generate_evaluate(fox_pbs_subset)\n",
    "fox_pbs_subset_result = pd.DataFrame(fox_pbs_subset_dict).T\n",
    "fox_pbs_subset_result.to_csv(path+ 'fox_pbs_subset_result.csv')"
   ]
  },
  {
   "cell_type": "markdown",
   "id": "4e7d379e-989a-46eb-946d-f3c4bf150759",
   "metadata": {},
   "source": [
    "## analysis"
   ]
  },
  {
   "cell_type": "markdown",
   "id": "ea2b6a33-c81a-4a74-8d3a-82201f3d7ea7",
   "metadata": {
    "tags": []
   },
   "source": [
    "### read in datas and form data table"
   ]
  },
  {
   "cell_type": "markdown",
   "id": "3a14a640-755e-43e6-8cca-af40a8979bf3",
   "metadata": {
    "jp-MarkdownHeadingCollapsed": true,
    "tags": []
   },
   "source": [
    "#### source"
   ]
  },
  {
   "cell_type": "code",
   "execution_count": 29,
   "id": "8b12c6f1-2bf6-4cd3-aa92-9f144585a2e5",
   "metadata": {},
   "outputs": [
    {
     "data": {
      "text/html": [
       "<div>\n",
       "<style scoped>\n",
       "    .dataframe tbody tr th:only-of-type {\n",
       "        vertical-align: middle;\n",
       "    }\n",
       "\n",
       "    .dataframe tbody tr th {\n",
       "        vertical-align: top;\n",
       "    }\n",
       "\n",
       "    .dataframe thead th {\n",
       "        text-align: right;\n",
       "    }\n",
       "</style>\n",
       "<table border=\"1\" class=\"dataframe\">\n",
       "  <thead>\n",
       "    <tr style=\"text-align: right;\">\n",
       "      <th></th>\n",
       "      <th>preds</th>\n",
       "      <th>acc</th>\n",
       "      <th>f1</th>\n",
       "    </tr>\n",
       "    <tr>\n",
       "      <th>model</th>\n",
       "      <th></th>\n",
       "      <th></th>\n",
       "      <th></th>\n",
       "    </tr>\n",
       "  </thead>\n",
       "  <tbody>\n",
       "    <tr>\n",
       "      <th>knn</th>\n",
       "      <td>[ 0  1  1 ...  1  1 -1]</td>\n",
       "      <td>0.689199</td>\n",
       "      <td>0.678463</td>\n",
       "    </tr>\n",
       "    <tr>\n",
       "      <th>mnb</th>\n",
       "      <td>[1 1 1 ... 1 1 1]</td>\n",
       "      <td>0.559668</td>\n",
       "      <td>0.418968</td>\n",
       "    </tr>\n",
       "    <tr>\n",
       "      <th>svm</th>\n",
       "      <td>[ 1  1  1 ...  1  1 -1]</td>\n",
       "      <td>0.711103</td>\n",
       "      <td>0.665413</td>\n",
       "    </tr>\n",
       "    <tr>\n",
       "      <th>tree</th>\n",
       "      <td>[0 1 1 ... 1 1 1]</td>\n",
       "      <td>0.901813</td>\n",
       "      <td>0.901173</td>\n",
       "    </tr>\n",
       "  </tbody>\n",
       "</table>\n",
       "</div>"
      ],
      "text/plain": [
       "                         preds       acc        f1\n",
       "model                                             \n",
       "knn    [ 0  1  1 ...  1  1 -1]  0.689199  0.678463\n",
       "mnb          [1 1 1 ... 1 1 1]  0.559668  0.418968\n",
       "svm    [ 1  1  1 ...  1  1 -1]  0.711103  0.665413\n",
       "tree         [0 1 1 ... 1 1 1]  0.901813  0.901173"
      ]
     },
     "execution_count": 29,
     "metadata": {},
     "output_type": "execute_result"
    }
   ],
   "source": [
    "\n",
    "df_result = pd.read_csv(path+ 'df_result.csv').rename(columns={\"Unnamed: 0\": \"model\"}).set_index('model')\n",
    "cnn_fox_result = pd.read_csv(path+ 'cnn_fox_result.csv').rename(columns={\"Unnamed: 0\": \"model\"}).set_index('model')\n",
    "fox_pbs_result = pd.read_csv(path+ 'fox_pbs_result.csv').rename(columns={\"Unnamed: 0\": \"model\"}).set_index('model')\n",
    "cnn_pbs_result = pd.read_csv(path+ 'cnn_pbs_result.csv').rename(columns={\"Unnamed: 0\": \"model\"}).set_index('model')\n",
    "\n",
    "subset_result = pd.read_csv(path+ 'subset_result.csv').rename(columns={\"Unnamed: 0\": \"model\"}).set_index('model')\n",
    "\n",
    "cnn_fox_subset_result = pd.read_csv(path+ 'cnn_fox_subset_result.csv').rename(columns={\"Unnamed: 0\": \"model\"}).set_index('model')\n",
    "fox_pbs_subset_result = pd.read_csv(path+ 'fox_pbs_subset_result.csv').rename(columns={\"Unnamed: 0\": \"model\"}).set_index('model')\n",
    "cnn_pbs_subset_result = pd.read_csv(path+ 'cnn_pbs_subset_result.csv').rename(columns={\"Unnamed: 0\": \"model\"}).set_index('model')\n",
    "\n",
    "\n",
    "df_result.head()"
   ]
  },
  {
   "cell_type": "code",
   "execution_count": 30,
   "id": "9336df54-6ec8-4ac3-afa6-d5d38ca54f05",
   "metadata": {},
   "outputs": [],
   "source": [
    "models_list = []\n",
    "\n",
    "models = ['knn', 'mnb', 'svm', 'tree']\n",
    "\n",
    "for m in models:\n",
    "    model_df = pd.DataFrame()\n",
    "    model_df.attrs['name'] = m\n",
    "    \n",
    "    model_df['whole data'] = df_result.loc[m, ['acc', 'f1']]\n",
    "    model_df['CNN vs FOX'] = cnn_fox_result.loc[m, ['acc', 'f1']]\n",
    "    model_df['FOX vs PBS'] = fox_pbs_result.loc[m, ['acc', 'f1']]\n",
    "    model_df['CNN vs PBS'] = cnn_pbs_result.loc[m, ['acc', 'f1']]\n",
    "    \n",
    "    models_list.append(model_df)"
   ]
  },
  {
   "cell_type": "code",
   "execution_count": 31,
   "id": "da9909d8-52ca-4e6e-bd60-136f32075129",
   "metadata": {},
   "outputs": [
    {
     "data": {
      "text/html": [
       "<div>\n",
       "<style scoped>\n",
       "    .dataframe tbody tr th:only-of-type {\n",
       "        vertical-align: middle;\n",
       "    }\n",
       "\n",
       "    .dataframe tbody tr th {\n",
       "        vertical-align: top;\n",
       "    }\n",
       "\n",
       "    .dataframe thead th {\n",
       "        text-align: right;\n",
       "    }\n",
       "</style>\n",
       "<table border=\"1\" class=\"dataframe\">\n",
       "  <thead>\n",
       "    <tr style=\"text-align: right;\">\n",
       "      <th></th>\n",
       "      <th>whole data</th>\n",
       "      <th>CNN vs FOX</th>\n",
       "      <th>FOX vs PBS</th>\n",
       "      <th>CNN vs PBS</th>\n",
       "    </tr>\n",
       "  </thead>\n",
       "  <tbody>\n",
       "    <tr>\n",
       "      <th>acc</th>\n",
       "      <td>0.54879</td>\n",
       "      <td>0.762295</td>\n",
       "      <td>0.722482</td>\n",
       "      <td>0.693208</td>\n",
       "    </tr>\n",
       "    <tr>\n",
       "      <th>f1</th>\n",
       "      <td>0.54707</td>\n",
       "      <td>0.761878</td>\n",
       "      <td>0.722157</td>\n",
       "      <td>0.693276</td>\n",
       "    </tr>\n",
       "  </tbody>\n",
       "</table>\n",
       "</div>"
      ],
      "text/plain": [
       "    whole data CNN vs FOX FOX vs PBS CNN vs PBS\n",
       "acc    0.54879   0.762295   0.722482   0.693208\n",
       "f1     0.54707   0.761878   0.722157   0.693276"
      ]
     },
     "execution_count": 31,
     "metadata": {},
     "output_type": "execute_result"
    }
   ],
   "source": [
    "\n",
    "\n",
    "sub_models_list = []\n",
    "\n",
    "models = ['knn', 'mnb', 'svm', 'tree']\n",
    "\n",
    "for m in models:\n",
    "    model_df = pd.DataFrame()\n",
    "    model_df.attrs['name'] = m\n",
    "    \n",
    "    model_df['whole data'] = subset_result.loc[m, ['acc', 'f1']]\n",
    "    model_df['CNN vs FOX'] = cnn_fox_subset_result.loc[m, ['acc', 'f1']]\n",
    "    model_df['FOX vs PBS'] = fox_pbs_subset_result.loc[m, ['acc', 'f1']]\n",
    "    model_df['CNN vs PBS'] = cnn_pbs_subset_result.loc[m, ['acc', 'f1']]\n",
    "    \n",
    "    sub_models_list.append(model_df)\n",
    "    \n",
    "    \n",
    "sub_models_list[0]"
   ]
  },
  {
   "cell_type": "markdown",
   "id": "0628bc92-f80c-4e58-8478-ab419dd0f977",
   "metadata": {
    "tags": []
   },
   "source": [
    "#### keywords"
   ]
  },
  {
   "cell_type": "code",
   "execution_count": 22,
   "id": "5bf46a30-fc60-4d53-a88e-dd518659bf9e",
   "metadata": {},
   "outputs": [
    {
     "data": {
      "text/html": [
       "<div>\n",
       "<style scoped>\n",
       "    .dataframe tbody tr th:only-of-type {\n",
       "        vertical-align: middle;\n",
       "    }\n",
       "\n",
       "    .dataframe tbody tr th {\n",
       "        vertical-align: top;\n",
       "    }\n",
       "\n",
       "    .dataframe thead th {\n",
       "        text-align: right;\n",
       "    }\n",
       "</style>\n",
       "<table border=\"1\" class=\"dataframe\">\n",
       "  <thead>\n",
       "    <tr style=\"text-align: right;\">\n",
       "      <th></th>\n",
       "      <th>preds</th>\n",
       "      <th>acc</th>\n",
       "      <th>f1</th>\n",
       "    </tr>\n",
       "    <tr>\n",
       "      <th>model</th>\n",
       "      <th></th>\n",
       "      <th></th>\n",
       "      <th></th>\n",
       "    </tr>\n",
       "  </thead>\n",
       "  <tbody>\n",
       "    <tr>\n",
       "      <th>knn</th>\n",
       "      <td>[ 0  1  1 ...  1  1 -1]</td>\n",
       "      <td>0.689199</td>\n",
       "      <td>0.678463</td>\n",
       "    </tr>\n",
       "    <tr>\n",
       "      <th>mnb</th>\n",
       "      <td>[1 1 1 ... 1 1 1]</td>\n",
       "      <td>0.559668</td>\n",
       "      <td>0.418968</td>\n",
       "    </tr>\n",
       "    <tr>\n",
       "      <th>svm</th>\n",
       "      <td>[ 1  1  1 ...  1  1 -1]</td>\n",
       "      <td>0.711103</td>\n",
       "      <td>0.665413</td>\n",
       "    </tr>\n",
       "    <tr>\n",
       "      <th>tree</th>\n",
       "      <td>[0 1 1 ... 1 1 1]</td>\n",
       "      <td>0.901813</td>\n",
       "      <td>0.901173</td>\n",
       "    </tr>\n",
       "  </tbody>\n",
       "</table>\n",
       "</div>"
      ],
      "text/plain": [
       "                         preds       acc        f1\n",
       "model                                             \n",
       "knn    [ 0  1  1 ...  1  1 -1]  0.689199  0.678463\n",
       "mnb          [1 1 1 ... 1 1 1]  0.559668  0.418968\n",
       "svm    [ 1  1  1 ...  1  1 -1]  0.711103  0.665413\n",
       "tree         [0 1 1 ... 1 1 1]  0.901813  0.901173"
      ]
     },
     "execution_count": 22,
     "metadata": {},
     "output_type": "execute_result"
    }
   ],
   "source": [
    "election_result = pd.read_csv(path+ 'election_result.csv').rename(columns={\"Unnamed: 0\": \"model\"}).set_index('model')\n",
    "biden_result = pd.read_csv(path+ 'biden_result.csv').rename(columns={\"Unnamed: 0\": \"model\"}).set_index('model')\n",
    "trump_result = pd.read_csv(path+ 'trump_result.csv').rename(columns={\"Unnamed: 0\": \"model\"}).set_index('model')\n",
    "republican_result = pd.read_csv(path+ 'republican_result.csv').rename(columns={\"Unnamed: 0\": \"model\"}).set_index('model')\n",
    "democratic_result = pd.read_csv(path+ 'democratic_result.csv').rename(columns={\"Unnamed: 0\": \"model\"}).set_index('model')\n",
    "\n",
    "\n",
    "election_subset_result = pd.read_csv(path+ 'cnn_fox_subset_result.csv').rename(columns={\"Unnamed: 0\": \"model\"}).set_index('model')\n",
    "biden_subset_result = pd.read_csv(path+ 'biden_subset_result.csv').rename(columns={\"Unnamed: 0\": \"model\"}).set_index('model')\n",
    "trump_subset_result = pd.read_csv(path+ 'trump_subset_result.csv').rename(columns={\"Unnamed: 0\": \"model\"}).set_index('model')\n",
    "republican_subset_result = pd.read_csv(path+ 'republican_subset_result.csv').rename(columns={\"Unnamed: 0\": \"model\"}).set_index('model')\n",
    "democratic_subset_result = pd.read_csv(path+ 'democratic_subset_result.csv').rename(columns={\"Unnamed: 0\": \"model\"}).set_index('model')\n",
    "\n",
    "\n",
    "df_result.head()"
   ]
  },
  {
   "cell_type": "code",
   "execution_count": 27,
   "id": "79f2c5b2-e90e-498e-a204-d1d76d4dfbb0",
   "metadata": {},
   "outputs": [
    {
     "data": {
      "text/html": [
       "<div>\n",
       "<style scoped>\n",
       "    .dataframe tbody tr th:only-of-type {\n",
       "        vertical-align: middle;\n",
       "    }\n",
       "\n",
       "    .dataframe tbody tr th {\n",
       "        vertical-align: top;\n",
       "    }\n",
       "\n",
       "    .dataframe thead th {\n",
       "        text-align: right;\n",
       "    }\n",
       "</style>\n",
       "<table border=\"1\" class=\"dataframe\">\n",
       "  <thead>\n",
       "    <tr style=\"text-align: right;\">\n",
       "      <th></th>\n",
       "      <th>whole data</th>\n",
       "      <th>election</th>\n",
       "      <th>Trump</th>\n",
       "      <th>Biden</th>\n",
       "      <th>Democra</th>\n",
       "      <th>Republican</th>\n",
       "    </tr>\n",
       "  </thead>\n",
       "  <tbody>\n",
       "    <tr>\n",
       "      <th>acc</th>\n",
       "      <td>0.689199</td>\n",
       "      <td>0.701144</td>\n",
       "      <td>0.706353</td>\n",
       "      <td>0.685106</td>\n",
       "      <td>0.674356</td>\n",
       "      <td>0.714477</td>\n",
       "    </tr>\n",
       "    <tr>\n",
       "      <th>f1</th>\n",
       "      <td>0.678463</td>\n",
       "      <td>0.692405</td>\n",
       "      <td>0.696327</td>\n",
       "      <td>0.676419</td>\n",
       "      <td>0.66654</td>\n",
       "      <td>0.703284</td>\n",
       "    </tr>\n",
       "  </tbody>\n",
       "</table>\n",
       "</div>"
      ],
      "text/plain": [
       "    whole data  election     Trump     Biden   Democra Republican\n",
       "acc   0.689199  0.701144  0.706353  0.685106  0.674356   0.714477\n",
       "f1    0.678463  0.692405  0.696327  0.676419   0.66654   0.703284"
      ]
     },
     "execution_count": 27,
     "metadata": {},
     "output_type": "execute_result"
    }
   ],
   "source": [
    "keywords_models_list = []\n",
    "\n",
    "models = ['knn', 'mnb', 'svm', 'tree']\n",
    "\n",
    "for m in models:\n",
    "    model_df = pd.DataFrame()\n",
    "    model_df.attrs['name'] = m\n",
    "    \n",
    "    model_df['whole data'] = df_result.loc[m, ['acc', 'f1']]\n",
    "    model_df['election'] = election_result.loc[m, ['acc', 'f1']]\n",
    "    model_df['Trump'] = trump_result.loc[m, ['acc', 'f1']]\n",
    "    model_df['Biden'] = biden_result.loc[m, ['acc', 'f1']]\n",
    "    model_df['Democra'] = democratic_result.loc[m, ['acc', 'f1']]\n",
    "    model_df['Republican'] = republican_result.loc[m, ['acc', 'f1']]\n",
    "    \n",
    "    keywords_models_list.append(model_df)\n",
    "    \n",
    "keywords_models_list[0]"
   ]
  },
  {
   "cell_type": "code",
   "execution_count": 32,
   "id": "999305ce-6b33-4c7d-8aef-58e321755c90",
   "metadata": {},
   "outputs": [
    {
     "data": {
      "text/html": [
       "<div>\n",
       "<style scoped>\n",
       "    .dataframe tbody tr th:only-of-type {\n",
       "        vertical-align: middle;\n",
       "    }\n",
       "\n",
       "    .dataframe tbody tr th {\n",
       "        vertical-align: top;\n",
       "    }\n",
       "\n",
       "    .dataframe thead th {\n",
       "        text-align: right;\n",
       "    }\n",
       "</style>\n",
       "<table border=\"1\" class=\"dataframe\">\n",
       "  <thead>\n",
       "    <tr style=\"text-align: right;\">\n",
       "      <th></th>\n",
       "      <th>whole data</th>\n",
       "      <th>election</th>\n",
       "      <th>Trump</th>\n",
       "      <th>Biden</th>\n",
       "      <th>Republican</th>\n",
       "      <th>Democratic</th>\n",
       "    </tr>\n",
       "  </thead>\n",
       "  <tbody>\n",
       "    <tr>\n",
       "      <th>acc</th>\n",
       "      <td>0.54879</td>\n",
       "      <td>0.762295</td>\n",
       "      <td>0.556691</td>\n",
       "      <td>0.559876</td>\n",
       "      <td>0.544787</td>\n",
       "      <td>0.584444</td>\n",
       "    </tr>\n",
       "    <tr>\n",
       "      <th>f1</th>\n",
       "      <td>0.54707</td>\n",
       "      <td>0.761878</td>\n",
       "      <td>0.556555</td>\n",
       "      <td>0.558116</td>\n",
       "      <td>0.53697</td>\n",
       "      <td>0.583348</td>\n",
       "    </tr>\n",
       "  </tbody>\n",
       "</table>\n",
       "</div>"
      ],
      "text/plain": [
       "    whole data  election     Trump     Biden Republican Democratic\n",
       "acc    0.54879  0.762295  0.556691  0.559876   0.544787   0.584444\n",
       "f1     0.54707  0.761878  0.556555  0.558116    0.53697   0.583348"
      ]
     },
     "execution_count": 32,
     "metadata": {},
     "output_type": "execute_result"
    }
   ],
   "source": [
    "\n",
    "\n",
    "sub_keywords_models_list = []\n",
    "\n",
    "models = ['knn', 'mnb', 'svm', 'tree']\n",
    "\n",
    "for m in models:\n",
    "    model_df = pd.DataFrame()\n",
    "    model_df.attrs['name'] = m\n",
    "    \n",
    "    model_df['whole data'] = subset_result.loc[m, ['acc', 'f1']]\n",
    "    model_df['election'] = election_subset_result.loc[m, ['acc', 'f1']]\n",
    "    model_df['Trump'] = trump_subset_result.loc[m, ['acc', 'f1']]\n",
    "    model_df['Biden'] = biden_subset_result.loc[m, ['acc', 'f1']]\n",
    "    model_df['Republican'] = republican_subset_result.loc[m, ['acc', 'f1']]\n",
    "    model_df['Democratic'] = democratic_subset_result.loc[m, ['acc', 'f1']]\n",
    "    \n",
    "    sub_keywords_models_list.append(model_df)\n",
    "    \n",
    "sub_keywords_models_list[0]"
   ]
  },
  {
   "cell_type": "markdown",
   "id": "75e6103c-7f35-4b33-ab2b-42bcb7fa4159",
   "metadata": {},
   "source": [
    "### show graphs"
   ]
  },
  {
   "cell_type": "markdown",
   "id": "22cda503-9e9a-4b0a-aa8a-34ccbbf89de4",
   "metadata": {
    "tags": []
   },
   "source": [
    "#### functions"
   ]
  },
  {
   "cell_type": "code",
   "execution_count": 49,
   "id": "4d61480c-802d-419b-832a-0bc62f9b69ca",
   "metadata": {},
   "outputs": [],
   "source": [
    "\n",
    "def bars_2data(df1, df2):\n",
    "    name = df1.attrs[\"name\"] \n",
    "    # create a bar plot comparing the 'acc' values of the two data frames\n",
    "    fig, ax = plt.subplots()\n",
    "    bar_width = 0.35\n",
    "    opacity = 0.8\n",
    "\n",
    "    index = range(len(df1.columns))\n",
    "    rects1 = ax.bar(index, df1.loc['acc'], bar_width, alpha=opacity, color='b', label='Whole Dataset')\n",
    "    rects2 = ax.bar([i + bar_width for i in index], df2.loc['acc'], bar_width, alpha=opacity, color='g', label='Undersample')\n",
    "\n",
    "    ax.set_xlabel('Columns')\n",
    "    ax.set_ylabel('Accuracy')\n",
    "    ax.set_ylim(0,1)\n",
    "    ax.set_title(f'Accuracy of {name} model')\n",
    "    ax.set_xticks([i + bar_width/2 for i in index])\n",
    "    ax.set_xticklabels(df1.columns)\n",
    "    ax.legend()\n",
    "\n",
    "    # plt.figure(figsize=(20,8))\n",
    "    fig.set_dpi(100)\n",
    "    plt.tight_layout()\n",
    "    plt.show()"
   ]
  },
  {
   "cell_type": "code",
   "execution_count": 51,
   "id": "3cb7757d-2a0a-4669-873d-b0c80dc4abeb",
   "metadata": {},
   "outputs": [],
   "source": [
    "def show_bar(data):\n",
    "    # create the bar plot\n",
    "    name = data.attrs[\"name\"] \n",
    "    bar_width = 0.35\n",
    "    index = range(len(data.columns))\n",
    "    \n",
    "    fig, ax = plt.subplots()\n",
    "    fig.set_dpi(100)\n",
    "    \n",
    "    ax.bar(index, data.loc['acc'],  bar_width , color=['blue', 'orange', 'green', 'red'])\n",
    "    # ax = .plot(kind='bar', figsize=(12, 10))\n",
    "    ax.set_ylabel('Accuracy')\n",
    "    ax.set_title(f'Accuracy of {name} model')\n",
    "    \n",
    "    ax.set_xticks([i + bar_width/2 for i in index])\n",
    "    ax.set_xticklabels(data.columns)\n",
    "    plt.figure(figsize=(12,10))\n",
    "    \n",
    "    plt.show()\n",
    "    \n"
   ]
  },
  {
   "cell_type": "markdown",
   "id": "80b93d85-d85c-4bc7-a489-ccffdb7d8705",
   "metadata": {},
   "source": [
    "#### shoe viz"
   ]
  },
  {
   "cell_type": "code",
   "execution_count": 20,
   "id": "1499aefe-c93e-4311-8a02-7440203464cb",
   "metadata": {},
   "outputs": [
    {
     "data": {
      "image/png": "[encoded data removed]",
      "text/plain": [
       "<Figure size 432x288 with 1 Axes>"
      ]
     },
     "metadata": {
      "needs_background": "light"
     },
     "output_type": "display_data"
    }
   ],
   "source": [
    "bars_2data(models_list[0], sub_models_list[0])"
   ]
  },
  {
   "cell_type": "code",
   "execution_count": 48,
   "id": "c070bfa1-7879-4097-a393-74b99d7f3c94",
   "metadata": {},
   "outputs": [
    {
     "data": {
      "image/png": "[encoded data removed]",
      "text/plain": [
       "<Figure size 432x288 with 1 Axes>"
      ]
     },
     "metadata": {
      "needs_background": "light"
     },
     "output_type": "display_data"
    },
    {
     "data": {
      "text/plain": [
       "<Figure size 864x720 with 0 Axes>"
      ]
     },
     "metadata": {},
     "output_type": "display_data"
    },
    {
     "data": {
      "image/png": "[encoded data removed]",
      "text/plain": [
       "<Figure size 432x288 with 1 Axes>"
      ]
     },
     "metadata": {
      "needs_background": "light"
     },
     "output_type": "display_data"
    },
    {
     "data": {
      "text/plain": [
       "<Figure size 864x720 with 0 Axes>"
      ]
     },
     "metadata": {},
     "output_type": "display_data"
    },
    {
     "data": {
      "image/png": "[encoded data removed]",
      "text/plain": [
       "<Figure size 432x288 with 1 Axes>"
      ]
     },
     "metadata": {
      "needs_background": "light"
     },
     "output_type": "display_data"
    },
    {
     "data": {
      "text/plain": [
       "<Figure size 864x720 with 0 Axes>"
      ]
     },
     "metadata": {},
     "output_type": "display_data"
    },
    {
     "data": {
      "image/png": "[encoded data removed]",
      "text/plain": [
       "<Figure size 432x288 with 1 Axes>"
      ]
     },
     "metadata": {
      "needs_background": "light"
     },
     "output_type": "display_data"
    },
    {
     "data": {
      "text/plain": [
       "<Figure size 864x720 with 0 Axes>"
      ]
     },
     "metadata": {},
     "output_type": "display_data"
    }
   ],
   "source": [
    "for i in range(4):\n",
    "    show_bar(sub_keywords_models_list[i])"
   ]
  },
  {
   "cell_type": "code",
   "execution_count": 46,
   "id": "f4a34273-23f8-4275-9b8d-a1f4dca35794",
   "metadata": {},
   "outputs": [
    {
     "data": {
      "image/png": "[encoded data removed]",
      "text/plain": [
       "<Figure size 432x288 with 1 Axes>"
      ]
     },
     "metadata": {
      "needs_background": "light"
     },
     "output_type": "display_data"
    },
    {
     "data": {
      "text/plain": [
       "<Figure size 864x720 with 0 Axes>"
      ]
     },
     "metadata": {},
     "output_type": "display_data"
    },
    {
     "data": {
      "image/png": "[encoded data removed]",
      "text/plain": [
       "<Figure size 432x288 with 1 Axes>"
      ]
     },
     "metadata": {
      "needs_background": "light"
     },
     "output_type": "display_data"
    },
    {
     "data": {
      "text/plain": [
       "<Figure size 864x720 with 0 Axes>"
      ]
     },
     "metadata": {},
     "output_type": "display_data"
    },
    {
     "data": {
      "image/png": "[encoded data removed]",
      "text/plain": [
       "<Figure size 432x288 with 1 Axes>"
      ]
     },
     "metadata": {
      "needs_background": "light"
     },
     "output_type": "display_data"
    },
    {
     "data": {
      "text/plain": [
       "<Figure size 864x720 with 0 Axes>"
      ]
     },
     "metadata": {},
     "output_type": "display_data"
    },
    {
     "data": {
      "image/png": "[encoded data removed]",
      "text/plain": [
       "<Figure size 432x288 with 1 Axes>"
      ]
     },
     "metadata": {
      "needs_background": "light"
     },
     "output_type": "display_data"
    },
    {
     "data": {
      "text/plain": [
       "<Figure size 864x720 with 0 Axes>"
      ]
     },
     "metadata": {},
     "output_type": "display_data"
    }
   ],
   "source": [
    "for i in range(4):\n",
    "    show_bar(sub_models_list[i])"
   ]
  },
  {
   "cell_type": "code",
   "execution_count": 33,
   "id": "c2b6c7aa-f9b8-4f87-95c4-c022cdb445f7",
   "metadata": {},
   "outputs": [
    {
     "data": {
      "image/png": "[encoded data removed]",
      "text/plain": [
       "<Figure size 864x720 with 1 Axes>"
      ]
     },
     "metadata": {
      "needs_background": "light"
     },
     "output_type": "display_data"
    }
   ],
   "source": [
    "show_bar(keywords_models_list[0])"
   ]
  },
  {
   "cell_type": "code",
   "execution_count": 50,
   "id": "f7102447-235c-4bb3-a104-e8bba4f2147c",
   "metadata": {
    "scrolled": true,
    "tags": []
   },
   "outputs": [
    {
     "data": {
      "image/png": "[encoded data removed]",
      "text/plain": [
       "<Figure size 600x400 with 1 Axes>"
      ]
     },
     "metadata": {
      "needs_background": "light"
     },
     "output_type": "display_data"
    },
    {
     "data": {
      "image/png": "[encoded data removed]",
      "text/plain": [
       "<Figure size 600x400 with 1 Axes>"
      ]
     },
     "metadata": {
      "needs_background": "light"
     },
     "output_type": "display_data"
    },
    {
     "data": {
      "image/png": "[encoded data removed]",
      "text/plain": [
       "<Figure size 600x400 with 1 Axes>"
      ]
     },
     "metadata": {
      "needs_background": "light"
     },
     "output_type": "display_data"
    },
    {
     "data": {
      "image/png": "[encoded data removed]",
      "text/plain": [
       "<Figure size 600x400 with 1 Axes>"
      ]
     },
     "metadata": {
      "needs_background": "light"
     },
     "output_type": "display_data"
    }
   ],
   "source": [
    "for i in range(4):\n",
    "    bars_2data(models_list[i], sub_models_list[i])"
   ]
  },
  {
   "cell_type": "code",
   "execution_count": 36,
   "id": "87faa0ad-e90c-450b-a172-488023360429",
   "metadata": {},
   "outputs": [
    {
     "data": {
      "image/png": "[encoded data removed]",
      "text/plain": [
       "<Figure size 432x288 with 1 Axes>"
      ]
     },
     "metadata": {
      "needs_background": "light"
     },
     "output_type": "display_data"
    },
    {
     "data": {
      "image/png": "[encoded data removed]",
      "text/plain": [
       "<Figure size 432x288 with 1 Axes>"
      ]
     },
     "metadata": {
      "needs_background": "light"
     },
     "output_type": "display_data"
    },
    {
     "data": {
      "image/png": "[encoded data removed]",
      "text/plain": [
       "<Figure size 432x288 with 1 Axes>"
      ]
     },
     "metadata": {
      "needs_background": "light"
     },
     "output_type": "display_data"
    },
    {
     "data": {
      "image/png": "[encoded data removed]",
      "text/plain": [
       "<Figure size 432x288 with 1 Axes>"
      ]
     },
     "metadata": {
      "needs_background": "light"
     },
     "output_type": "display_data"
    }
   ],
   "source": [
    "for i in range(4):\n",
    "    bars_2data(keywords_models_list[i], sub_keywords_models_list[i])"
   ]
  },
  {
   "cell_type": "code",
   "execution_count": null,
   "id": "6f547846-11c9-4df7-bf9a-874c0cfb20b4",
   "metadata": {},
   "outputs": [],
   "source": []
  }
 ],
 "metadata": {
  "kernelspec": {
   "display_name": "Python 3 (ipykernel)",
   "language": "python",
   "name": "python3"
  },
  "language_info": {
   "codemirror_mode": {
    "name": "ipython",
    "version": 3
   },
   "file_extension": ".py",
   "mimetype": "text/x-python",
   "name": "python",
   "nbconvert_exporter": "python",
   "pygments_lexer": "ipython3",
   "version": "3.8.16"
  }
 },
 "nbformat": 4,
 "nbformat_minor": 5
}
