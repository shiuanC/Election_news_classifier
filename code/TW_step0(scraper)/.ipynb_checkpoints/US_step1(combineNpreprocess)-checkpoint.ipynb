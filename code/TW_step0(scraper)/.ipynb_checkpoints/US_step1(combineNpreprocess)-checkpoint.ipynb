{
 "cells": [
  {
   "cell_type": "code",
   "execution_count": 1,
   "id": "511edd82",
   "metadata": {},
   "outputs": [],
   "source": [
    "import requests\n",
    "import json\n",
    "import datetime\n",
    "import pandas as pd\n",
    "import re\n",
    "import os\n",
    "import random\n",
    "import urllib3\n",
    "import time\n",
    "\n",
    "from datetime import datetime\n",
    "from tqdm.notebook import tqdm\n",
    "import matplotlib.pyplot as plt"
   ]
  },
  {
   "cell_type": "code",
   "execution_count": 2,
   "id": "675b4568",
   "metadata": {},
   "outputs": [],
   "source": [
    "path = '../../data/us/'"
   ]
  },
  {
   "cell_type": "markdown",
   "id": "2750eb43",
   "metadata": {},
   "source": [
    "# 0. read in data"
   ]
  },
  {
   "cell_type": "code",
   "execution_count": 3,
   "id": "0635dd74",
   "metadata": {},
   "outputs": [
    {
     "name": "stdout",
     "output_type": "stream",
     "text": [
      "(7663, 10)\n"
     ]
    },
    {
     "data": {
      "text/html": [
       "<div>\n",
       "<style scoped>\n",
       "    .dataframe tbody tr th:only-of-type {\n",
       "        vertical-align: middle;\n",
       "    }\n",
       "\n",
       "    .dataframe tbody tr th {\n",
       "        vertical-align: top;\n",
       "    }\n",
       "\n",
       "    .dataframe thead th {\n",
       "        text-align: right;\n",
       "    }\n",
       "</style>\n",
       "<table border=\"1\" class=\"dataframe\">\n",
       "  <thead>\n",
       "    <tr style=\"text-align: right;\">\n",
       "      <th></th>\n",
       "      <th>id</th>\n",
       "      <th>date</th>\n",
       "      <th>source</th>\n",
       "      <th>title</th>\n",
       "      <th>content</th>\n",
       "      <th>author</th>\n",
       "      <th>url</th>\n",
       "      <th>published</th>\n",
       "      <th>published_utc</th>\n",
       "      <th>collection_utc</th>\n",
       "    </tr>\n",
       "  </thead>\n",
       "  <tbody>\n",
       "    <tr>\n",
       "      <th>0</th>\n",
       "      <td>cnn--2020-04-15--'Empathy matters': Joe Biden'...</td>\n",
       "      <td>2020-04-15</td>\n",
       "      <td>cnn</td>\n",
       "      <td>'Empathy matters': Joe Biden's endorsers highl...</td>\n",
       "      <td>( CNN ) Nearly every top Democrat says the sam...</td>\n",
       "      <td></td>\n",
       "      <td>http://rss.cnn.com/~r/rss/cnn_allpolitics/~3/y...</td>\n",
       "      <td>Wed, 15 Apr 2020 21:08:58 GMT</td>\n",
       "      <td>1586999338</td>\n",
       "      <td>1586994461</td>\n",
       "    </tr>\n",
       "    <tr>\n",
       "      <th>1</th>\n",
       "      <td>cnn--2020-04-15--Elizabeth Warren endorses Joe...</td>\n",
       "      <td>2020-04-15</td>\n",
       "      <td>cnn</td>\n",
       "      <td>Elizabeth Warren endorses Joe Biden for president</td>\n",
       "      <td>The former 2020 Democratic presidential candid...</td>\n",
       "      <td></td>\n",
       "      <td>http://rss.cnn.com/~r/rss/cnn_allpolitics/~3/Z...</td>\n",
       "      <td>Wed, 15 Apr 2020 14:40:30 GMT</td>\n",
       "      <td>1586976030</td>\n",
       "      <td>1586994474</td>\n",
       "    </tr>\n",
       "    <tr>\n",
       "      <th>2</th>\n",
       "      <td>cnn--2020-04-15--Amid a pandemic, lawmakers ur...</td>\n",
       "      <td>2020-04-15</td>\n",
       "      <td>cnn</td>\n",
       "      <td>Amid a pandemic, lawmakers urge leadership to ...</td>\n",
       "      <td>( CNN ) Many rank-and-file House Democrats are...</td>\n",
       "      <td></td>\n",
       "      <td>http://rss.cnn.com/~r/rss/cnn_allpolitics/~3/k...</td>\n",
       "      <td>Wed, 15 Apr 2020 20:15:14 GMT</td>\n",
       "      <td>1586996114</td>\n",
       "      <td>1586994454</td>\n",
       "    </tr>\n",
       "  </tbody>\n",
       "</table>\n",
       "</div>"
      ],
      "text/plain": [
       "                                                  id       date source  \\\n",
       "0  cnn--2020-04-15--'Empathy matters': Joe Biden'... 2020-04-15    cnn   \n",
       "1  cnn--2020-04-15--Elizabeth Warren endorses Joe... 2020-04-15    cnn   \n",
       "2  cnn--2020-04-15--Amid a pandemic, lawmakers ur... 2020-04-15    cnn   \n",
       "\n",
       "                                               title  \\\n",
       "0  'Empathy matters': Joe Biden's endorsers highl...   \n",
       "1  Elizabeth Warren endorses Joe Biden for president   \n",
       "2  Amid a pandemic, lawmakers urge leadership to ...   \n",
       "\n",
       "                                             content author  \\\n",
       "0  ( CNN ) Nearly every top Democrat says the sam...          \n",
       "1  The former 2020 Democratic presidential candid...          \n",
       "2  ( CNN ) Many rank-and-file House Democrats are...          \n",
       "\n",
       "                                                 url  \\\n",
       "0  http://rss.cnn.com/~r/rss/cnn_allpolitics/~3/y...   \n",
       "1  http://rss.cnn.com/~r/rss/cnn_allpolitics/~3/Z...   \n",
       "2  http://rss.cnn.com/~r/rss/cnn_allpolitics/~3/k...   \n",
       "\n",
       "                       published  published_utc  collection_utc  \n",
       "0  Wed, 15 Apr 2020 21:08:58 GMT     1586999338      1586994461  \n",
       "1  Wed, 15 Apr 2020 14:40:30 GMT     1586976030      1586994474  \n",
       "2  Wed, 15 Apr 2020 20:15:14 GMT     1586996114      1586994454  "
      ]
     },
     "execution_count": 3,
     "metadata": {},
     "output_type": "execute_result"
    }
   ],
   "source": [
    "cnn_df = pd.read_json(path + \"cnn.json\")\n",
    "print(cnn_df.shape)\n",
    "cnn_df.head(3)"
   ]
  },
  {
   "cell_type": "code",
   "execution_count": 4,
   "id": "26dde8dd",
   "metadata": {},
   "outputs": [
    {
     "name": "stdout",
     "output_type": "stream",
     "text": [
      "(3926, 10)\n"
     ]
    },
    {
     "data": {
      "text/html": [
       "<div>\n",
       "<style scoped>\n",
       "    .dataframe tbody tr th:only-of-type {\n",
       "        vertical-align: middle;\n",
       "    }\n",
       "\n",
       "    .dataframe tbody tr th {\n",
       "        vertical-align: top;\n",
       "    }\n",
       "\n",
       "    .dataframe thead th {\n",
       "        text-align: right;\n",
       "    }\n",
       "</style>\n",
       "<table border=\"1\" class=\"dataframe\">\n",
       "  <thead>\n",
       "    <tr style=\"text-align: right;\">\n",
       "      <th></th>\n",
       "      <th>id</th>\n",
       "      <th>date</th>\n",
       "      <th>source</th>\n",
       "      <th>title</th>\n",
       "      <th>content</th>\n",
       "      <th>author</th>\n",
       "      <th>url</th>\n",
       "      <th>published</th>\n",
       "      <th>published_utc</th>\n",
       "      <th>collection_utc</th>\n",
       "    </tr>\n",
       "  </thead>\n",
       "  <tbody>\n",
       "    <tr>\n",
       "      <th>0</th>\n",
       "      <td>foxnews--2020-04-15--Roll call vote becomes an...</td>\n",
       "      <td>2020-04-15</td>\n",
       "      <td>foxnews</td>\n",
       "      <td>Roll call vote becomes an unlikely victim of c...</td>\n",
       "      <td>The coronavirus pandemic has claimed an unlike...</td>\n",
       "      <td>Chad Pergram</td>\n",
       "      <td>http://feeds.foxnews.com/~r/foxnews/politics/~...</td>\n",
       "      <td>Wed, 15 Apr 2020 21:39:45 GMT</td>\n",
       "      <td>1587001185</td>\n",
       "      <td>1586994978</td>\n",
       "    </tr>\n",
       "    <tr>\n",
       "      <th>1</th>\n",
       "      <td>foxnews--2020-04-15--Dems quickly close ranks ...</td>\n",
       "      <td>2020-04-15</td>\n",
       "      <td>foxnews</td>\n",
       "      <td>Dems quickly close ranks behind Biden despite ...</td>\n",
       "      <td>The endorsements of Joe Biden came fast and fu...</td>\n",
       "      <td>Paul Steinhauser</td>\n",
       "      <td>http://feeds.foxnews.com/~r/foxnews/politics/~...</td>\n",
       "      <td>Wed, 15 Apr 2020 20:37:08 GMT</td>\n",
       "      <td>1586997428</td>\n",
       "      <td>1586994979</td>\n",
       "    </tr>\n",
       "    <tr>\n",
       "      <th>2</th>\n",
       "      <td>foxnews--2020-04-15--Watchdog review finds Pen...</td>\n",
       "      <td>2020-04-15</td>\n",
       "      <td>foxnews</td>\n",
       "      <td>Watchdog review finds Pentagon's $10B cloud co...</td>\n",
       "      <td>The Pentagon ’ s move to award a cloud computi...</td>\n",
       "      <td>Andrew O'Reilly</td>\n",
       "      <td>http://feeds.foxnews.com/~r/foxnews/politics/~...</td>\n",
       "      <td>Wed, 15 Apr 2020 20:34:50 GMT</td>\n",
       "      <td>1586997290</td>\n",
       "      <td>1586994978</td>\n",
       "    </tr>\n",
       "  </tbody>\n",
       "</table>\n",
       "</div>"
      ],
      "text/plain": [
       "                                                  id       date   source  \\\n",
       "0  foxnews--2020-04-15--Roll call vote becomes an... 2020-04-15  foxnews   \n",
       "1  foxnews--2020-04-15--Dems quickly close ranks ... 2020-04-15  foxnews   \n",
       "2  foxnews--2020-04-15--Watchdog review finds Pen... 2020-04-15  foxnews   \n",
       "\n",
       "                                               title  \\\n",
       "0  Roll call vote becomes an unlikely victim of c...   \n",
       "1  Dems quickly close ranks behind Biden despite ...   \n",
       "2  Watchdog review finds Pentagon's $10B cloud co...   \n",
       "\n",
       "                                             content            author  \\\n",
       "0  The coronavirus pandemic has claimed an unlike...      Chad Pergram   \n",
       "1  The endorsements of Joe Biden came fast and fu...  Paul Steinhauser   \n",
       "2  The Pentagon ’ s move to award a cloud computi...   Andrew O'Reilly   \n",
       "\n",
       "                                                 url  \\\n",
       "0  http://feeds.foxnews.com/~r/foxnews/politics/~...   \n",
       "1  http://feeds.foxnews.com/~r/foxnews/politics/~...   \n",
       "2  http://feeds.foxnews.com/~r/foxnews/politics/~...   \n",
       "\n",
       "                       published  published_utc  collection_utc  \n",
       "0  Wed, 15 Apr 2020 21:39:45 GMT     1587001185      1586994978  \n",
       "1  Wed, 15 Apr 2020 20:37:08 GMT     1586997428      1586994979  \n",
       "2  Wed, 15 Apr 2020 20:34:50 GMT     1586997290      1586994978  "
      ]
     },
     "execution_count": 4,
     "metadata": {},
     "output_type": "execute_result"
    }
   ],
   "source": [
    "fox_df = pd.read_json(path+ \"foxnews.json\")\n",
    "print(fox_df.shape)\n",
    "fox_df.head(3)"
   ]
  },
  {
   "cell_type": "code",
   "execution_count": 5,
   "id": "7d63069b",
   "metadata": {},
   "outputs": [
    {
     "name": "stdout",
     "output_type": "stream",
     "text": [
      "(2280, 10)\n"
     ]
    },
    {
     "data": {
      "text/html": [
       "<div>\n",
       "<style scoped>\n",
       "    .dataframe tbody tr th:only-of-type {\n",
       "        vertical-align: middle;\n",
       "    }\n",
       "\n",
       "    .dataframe tbody tr th {\n",
       "        vertical-align: top;\n",
       "    }\n",
       "\n",
       "    .dataframe thead th {\n",
       "        text-align: right;\n",
       "    }\n",
       "</style>\n",
       "<table border=\"1\" class=\"dataframe\">\n",
       "  <thead>\n",
       "    <tr style=\"text-align: right;\">\n",
       "      <th></th>\n",
       "      <th>id</th>\n",
       "      <th>date</th>\n",
       "      <th>source</th>\n",
       "      <th>title</th>\n",
       "      <th>content</th>\n",
       "      <th>author</th>\n",
       "      <th>url</th>\n",
       "      <th>published</th>\n",
       "      <th>published_utc</th>\n",
       "      <th>collection_utc</th>\n",
       "    </tr>\n",
       "  </thead>\n",
       "  <tbody>\n",
       "    <tr>\n",
       "      <th>0</th>\n",
       "      <td>pbs--2020-04-15--Louisiana GOP lawmakers block...</td>\n",
       "      <td>2020-04-15</td>\n",
       "      <td>pbs</td>\n",
       "      <td>Louisiana GOP lawmakers block plan to expand e...</td>\n",
       "      <td>BATON ROUGE , La .\\n— Republican state senator...</td>\n",
       "      <td>Associated Press</td>\n",
       "      <td>https://www.pbs.org/newshour/politics/louisian...</td>\n",
       "      <td>Wed, 15 Apr 2020 18:40:14 -0400</td>\n",
       "      <td>1586990414</td>\n",
       "      <td>1586996402</td>\n",
       "    </tr>\n",
       "    <tr>\n",
       "      <th>1</th>\n",
       "      <td>pbs--2020-04-15--Federal lawsuit challenges Id...</td>\n",
       "      <td>2020-04-15</td>\n",
       "      <td>pbs</td>\n",
       "      <td>Federal lawsuit challenges Idaho's transgender...</td>\n",
       "      <td>BOISE , Idaho — Two civil rights groups filed ...</td>\n",
       "      <td>Keith Ridler, Associated Press</td>\n",
       "      <td>https://www.pbs.org/newshour/nation/federal-la...</td>\n",
       "      <td>Wed, 15 Apr 2020 16:23:52 -0400</td>\n",
       "      <td>1586982232</td>\n",
       "      <td>1586996405</td>\n",
       "    </tr>\n",
       "    <tr>\n",
       "      <th>2</th>\n",
       "      <td>pbs--2020-04-15--WATCH: Joe Biden holds virtua...</td>\n",
       "      <td>2020-04-15</td>\n",
       "      <td>pbs</td>\n",
       "      <td>WATCH: Joe Biden holds virtual town hall</td>\n",
       "      <td>Former Vice President and 2020 Democratic pres...</td>\n",
       "      <td>Candice Norwood</td>\n",
       "      <td>https://www.pbs.org/newshour/politics/watch-li...</td>\n",
       "      <td>Wed, 15 Apr 2020 14:18:45 -0400</td>\n",
       "      <td>1586974725</td>\n",
       "      <td>1586996402</td>\n",
       "    </tr>\n",
       "  </tbody>\n",
       "</table>\n",
       "</div>"
      ],
      "text/plain": [
       "                                                  id       date source  \\\n",
       "0  pbs--2020-04-15--Louisiana GOP lawmakers block... 2020-04-15    pbs   \n",
       "1  pbs--2020-04-15--Federal lawsuit challenges Id... 2020-04-15    pbs   \n",
       "2  pbs--2020-04-15--WATCH: Joe Biden holds virtua... 2020-04-15    pbs   \n",
       "\n",
       "                                               title  \\\n",
       "0  Louisiana GOP lawmakers block plan to expand e...   \n",
       "1  Federal lawsuit challenges Idaho's transgender...   \n",
       "2           WATCH: Joe Biden holds virtual town hall   \n",
       "\n",
       "                                             content  \\\n",
       "0  BATON ROUGE , La .\\n— Republican state senator...   \n",
       "1  BOISE , Idaho — Two civil rights groups filed ...   \n",
       "2  Former Vice President and 2020 Democratic pres...   \n",
       "\n",
       "                           author  \\\n",
       "0                Associated Press   \n",
       "1  Keith Ridler, Associated Press   \n",
       "2                 Candice Norwood   \n",
       "\n",
       "                                                 url  \\\n",
       "0  https://www.pbs.org/newshour/politics/louisian...   \n",
       "1  https://www.pbs.org/newshour/nation/federal-la...   \n",
       "2  https://www.pbs.org/newshour/politics/watch-li...   \n",
       "\n",
       "                         published  published_utc  collection_utc  \n",
       "0  Wed, 15 Apr 2020 18:40:14 -0400     1586990414      1586996402  \n",
       "1  Wed, 15 Apr 2020 16:23:52 -0400     1586982232      1586996405  \n",
       "2  Wed, 15 Apr 2020 14:18:45 -0400     1586974725      1586996402  "
      ]
     },
     "execution_count": 5,
     "metadata": {},
     "output_type": "execute_result"
    }
   ],
   "source": [
    "pbs_df = pd.read_json(path + \"pbs.json\")\n",
    "print(pbs_df.shape)\n",
    "pbs_df.head(3)"
   ]
  },
  {
   "cell_type": "markdown",
   "id": "20b76833",
   "metadata": {},
   "source": [
    "## 1. Preprocess"
   ]
  },
  {
   "cell_type": "code",
   "execution_count": 6,
   "id": "ee364c8d",
   "metadata": {},
   "outputs": [
    {
     "data": {
      "text/html": [
       "<div>\n",
       "<style scoped>\n",
       "    .dataframe tbody tr th:only-of-type {\n",
       "        vertical-align: middle;\n",
       "    }\n",
       "\n",
       "    .dataframe tbody tr th {\n",
       "        vertical-align: top;\n",
       "    }\n",
       "\n",
       "    .dataframe thead th {\n",
       "        text-align: right;\n",
       "    }\n",
       "</style>\n",
       "<table border=\"1\" class=\"dataframe\">\n",
       "  <thead>\n",
       "    <tr style=\"text-align: right;\">\n",
       "      <th></th>\n",
       "      <th>id</th>\n",
       "      <th>date</th>\n",
       "      <th>source</th>\n",
       "      <th>title</th>\n",
       "      <th>content</th>\n",
       "      <th>author</th>\n",
       "      <th>url</th>\n",
       "      <th>published</th>\n",
       "      <th>published_utc</th>\n",
       "      <th>collection_utc</th>\n",
       "    </tr>\n",
       "  </thead>\n",
       "  <tbody>\n",
       "    <tr>\n",
       "      <th>0</th>\n",
       "      <td>cnn--2020-04-15--'Empathy matters': Joe Biden'...</td>\n",
       "      <td>2020-04-15</td>\n",
       "      <td>cnn</td>\n",
       "      <td>'Empathy matters': Joe Biden's endorsers highl...</td>\n",
       "      <td>( CNN ) Nearly every top Democrat says the sam...</td>\n",
       "      <td></td>\n",
       "      <td>http://rss.cnn.com/~r/rss/cnn_allpolitics/~3/y...</td>\n",
       "      <td>Wed, 15 Apr 2020 21:08:58 GMT</td>\n",
       "      <td>1586999338</td>\n",
       "      <td>1586994461</td>\n",
       "    </tr>\n",
       "    <tr>\n",
       "      <th>1</th>\n",
       "      <td>cnn--2020-04-15--Elizabeth Warren endorses Joe...</td>\n",
       "      <td>2020-04-15</td>\n",
       "      <td>cnn</td>\n",
       "      <td>Elizabeth Warren endorses Joe Biden for president</td>\n",
       "      <td>The former 2020 Democratic presidential candid...</td>\n",
       "      <td></td>\n",
       "      <td>http://rss.cnn.com/~r/rss/cnn_allpolitics/~3/Z...</td>\n",
       "      <td>Wed, 15 Apr 2020 14:40:30 GMT</td>\n",
       "      <td>1586976030</td>\n",
       "      <td>1586994474</td>\n",
       "    </tr>\n",
       "    <tr>\n",
       "      <th>2</th>\n",
       "      <td>cnn--2020-04-15--Amid a pandemic, lawmakers ur...</td>\n",
       "      <td>2020-04-15</td>\n",
       "      <td>cnn</td>\n",
       "      <td>Amid a pandemic, lawmakers urge leadership to ...</td>\n",
       "      <td>( CNN ) Many rank-and-file House Democrats are...</td>\n",
       "      <td></td>\n",
       "      <td>http://rss.cnn.com/~r/rss/cnn_allpolitics/~3/k...</td>\n",
       "      <td>Wed, 15 Apr 2020 20:15:14 GMT</td>\n",
       "      <td>1586996114</td>\n",
       "      <td>1586994454</td>\n",
       "    </tr>\n",
       "    <tr>\n",
       "      <th>3</th>\n",
       "      <td>cnn--2020-04-15--Stacey Abrams says she would ...</td>\n",
       "      <td>2020-04-15</td>\n",
       "      <td>cnn</td>\n",
       "      <td>Stacey Abrams says she would be an 'excellent ...</td>\n",
       "      <td>Washington ( CNN ) Former Georgia gubernatoria...</td>\n",
       "      <td></td>\n",
       "      <td>http://rss.cnn.com/~r/rss/cnn_allpolitics/~3/O...</td>\n",
       "      <td>Wed, 15 Apr 2020 15:46:47 GMT</td>\n",
       "      <td>1586980007</td>\n",
       "      <td>1586994475</td>\n",
       "    </tr>\n",
       "    <tr>\n",
       "      <th>4</th>\n",
       "      <td>cnn--2020-04-15--Justin Amash discussing 'pote...</td>\n",
       "      <td>2020-04-15</td>\n",
       "      <td>cnn</td>\n",
       "      <td>Justin Amash discussing 'potential campaign' f...</td>\n",
       "      <td>`` He has been discussing the potential campai...</td>\n",
       "      <td></td>\n",
       "      <td>http://rss.cnn.com/~r/rss/cnn_allpolitics/~3/B...</td>\n",
       "      <td>Wed, 15 Apr 2020 15:50:12 GMT</td>\n",
       "      <td>1586980212</td>\n",
       "      <td>1586994454</td>\n",
       "    </tr>\n",
       "  </tbody>\n",
       "</table>\n",
       "</div>"
      ],
      "text/plain": [
       "                                                  id       date source  \\\n",
       "0  cnn--2020-04-15--'Empathy matters': Joe Biden'... 2020-04-15    cnn   \n",
       "1  cnn--2020-04-15--Elizabeth Warren endorses Joe... 2020-04-15    cnn   \n",
       "2  cnn--2020-04-15--Amid a pandemic, lawmakers ur... 2020-04-15    cnn   \n",
       "3  cnn--2020-04-15--Stacey Abrams says she would ... 2020-04-15    cnn   \n",
       "4  cnn--2020-04-15--Justin Amash discussing 'pote... 2020-04-15    cnn   \n",
       "\n",
       "                                               title  \\\n",
       "0  'Empathy matters': Joe Biden's endorsers highl...   \n",
       "1  Elizabeth Warren endorses Joe Biden for president   \n",
       "2  Amid a pandemic, lawmakers urge leadership to ...   \n",
       "3  Stacey Abrams says she would be an 'excellent ...   \n",
       "4  Justin Amash discussing 'potential campaign' f...   \n",
       "\n",
       "                                             content author  \\\n",
       "0  ( CNN ) Nearly every top Democrat says the sam...          \n",
       "1  The former 2020 Democratic presidential candid...          \n",
       "2  ( CNN ) Many rank-and-file House Democrats are...          \n",
       "3  Washington ( CNN ) Former Georgia gubernatoria...          \n",
       "4  `` He has been discussing the potential campai...          \n",
       "\n",
       "                                                 url  \\\n",
       "0  http://rss.cnn.com/~r/rss/cnn_allpolitics/~3/y...   \n",
       "1  http://rss.cnn.com/~r/rss/cnn_allpolitics/~3/Z...   \n",
       "2  http://rss.cnn.com/~r/rss/cnn_allpolitics/~3/k...   \n",
       "3  http://rss.cnn.com/~r/rss/cnn_allpolitics/~3/O...   \n",
       "4  http://rss.cnn.com/~r/rss/cnn_allpolitics/~3/B...   \n",
       "\n",
       "                       published  published_utc  collection_utc  \n",
       "0  Wed, 15 Apr 2020 21:08:58 GMT     1586999338      1586994461  \n",
       "1  Wed, 15 Apr 2020 14:40:30 GMT     1586976030      1586994474  \n",
       "2  Wed, 15 Apr 2020 20:15:14 GMT     1586996114      1586994454  \n",
       "3  Wed, 15 Apr 2020 15:46:47 GMT     1586980007      1586994475  \n",
       "4  Wed, 15 Apr 2020 15:50:12 GMT     1586980212      1586994454  "
      ]
     },
     "execution_count": 6,
     "metadata": {},
     "output_type": "execute_result"
    }
   ],
   "source": [
    "df = pd.concat([cnn_df, fox_df, pbs_df]).reset_index()\n",
    "\n",
    "df = df.drop(columns=['index'])\n",
    "\n",
    "df.head()"
   ]
  },
  {
   "cell_type": "code",
   "execution_count": 7,
   "id": "aa6372e7",
   "metadata": {},
   "outputs": [
    {
     "data": {
      "text/html": [
       "<div>\n",
       "<style scoped>\n",
       "    .dataframe tbody tr th:only-of-type {\n",
       "        vertical-align: middle;\n",
       "    }\n",
       "\n",
       "    .dataframe tbody tr th {\n",
       "        vertical-align: top;\n",
       "    }\n",
       "\n",
       "    .dataframe thead th {\n",
       "        text-align: right;\n",
       "    }\n",
       "</style>\n",
       "<table border=\"1\" class=\"dataframe\">\n",
       "  <thead>\n",
       "    <tr style=\"text-align: right;\">\n",
       "      <th></th>\n",
       "      <th>title</th>\n",
       "      <th>date</th>\n",
       "      <th>content</th>\n",
       "      <th>source</th>\n",
       "    </tr>\n",
       "  </thead>\n",
       "  <tbody>\n",
       "    <tr>\n",
       "      <th>12785</th>\n",
       "      <td>Japan Prime Minister Shinzo Abe says he's resi...</td>\n",
       "      <td>2020-08-28</td>\n",
       "      <td>TOKYO — Japan ’ s longest-serving prime minist...</td>\n",
       "      <td>pbs</td>\n",
       "    </tr>\n",
       "    <tr>\n",
       "      <th>12844</th>\n",
       "      <td>Report from Senate Democrats says Postal Servi...</td>\n",
       "      <td>2020-09-09</td>\n",
       "      <td>WASHINGTON ( AP ) — Delivery of mail-order pre...</td>\n",
       "      <td>pbs</td>\n",
       "    </tr>\n",
       "    <tr>\n",
       "      <th>5827</th>\n",
       "      <td>At least 5 people in Trump's orbit, including ...</td>\n",
       "      <td>2020-11-07</td>\n",
       "      <td>White House chief of staff Mark Meadows , top ...</td>\n",
       "      <td>cnn</td>\n",
       "    </tr>\n",
       "  </tbody>\n",
       "</table>\n",
       "</div>"
      ],
      "text/plain": [
       "                                                   title       date  \\\n",
       "12785  Japan Prime Minister Shinzo Abe says he's resi... 2020-08-28   \n",
       "12844  Report from Senate Democrats says Postal Servi... 2020-09-09   \n",
       "5827   At least 5 people in Trump's orbit, including ... 2020-11-07   \n",
       "\n",
       "                                                 content source  \n",
       "12785  TOKYO — Japan ’ s longest-serving prime minist...    pbs  \n",
       "12844  WASHINGTON ( AP ) — Delivery of mail-order pre...    pbs  \n",
       "5827   White House chief of staff Mark Meadows , top ...    cnn  "
      ]
     },
     "execution_count": 7,
     "metadata": {},
     "output_type": "execute_result"
    }
   ],
   "source": [
    "df = df[['title', 'date', 'content', 'source']]\n",
    "df.sample(n=3)"
   ]
  },
  {
   "cell_type": "code",
   "execution_count": 8,
   "id": "8ae4b9fe",
   "metadata": {},
   "outputs": [
    {
     "data": {
      "text/plain": [
       "'North Carolina kicks off mail voting as requests spike'"
      ]
     },
     "execution_count": 8,
     "metadata": {},
     "output_type": "execute_result"
    }
   ],
   "source": [
    "df['title'][12818]"
   ]
  },
  {
   "cell_type": "code",
   "execution_count": 9,
   "id": "38726601",
   "metadata": {},
   "outputs": [
    {
     "data": {
      "text/html": [
       "<div>\n",
       "<style scoped>\n",
       "    .dataframe tbody tr th:only-of-type {\n",
       "        vertical-align: middle;\n",
       "    }\n",
       "\n",
       "    .dataframe tbody tr th {\n",
       "        vertical-align: top;\n",
       "    }\n",
       "\n",
       "    .dataframe thead th {\n",
       "        text-align: right;\n",
       "    }\n",
       "</style>\n",
       "<table border=\"1\" class=\"dataframe\">\n",
       "  <thead>\n",
       "    <tr style=\"text-align: right;\">\n",
       "      <th></th>\n",
       "      <th>title</th>\n",
       "      <th>date</th>\n",
       "      <th>content</th>\n",
       "      <th>source</th>\n",
       "      <th>keyword-trump</th>\n",
       "      <th>keyword-republican</th>\n",
       "      <th>keyword-biden</th>\n",
       "      <th>keyword-democratic</th>\n",
       "      <th>keyword-election</th>\n",
       "    </tr>\n",
       "  </thead>\n",
       "  <tbody>\n",
       "    <tr>\n",
       "      <th>0</th>\n",
       "      <td>'Empathy matters': Joe Biden's endorsers highl...</td>\n",
       "      <td>2020-04-15</td>\n",
       "      <td>( CNN ) Nearly every top Democrat says the sam...</td>\n",
       "      <td>cnn</td>\n",
       "      <td>True</td>\n",
       "      <td>True</td>\n",
       "      <td>True</td>\n",
       "      <td>True</td>\n",
       "      <td>False</td>\n",
       "    </tr>\n",
       "    <tr>\n",
       "      <th>1</th>\n",
       "      <td>Elizabeth Warren endorses Joe Biden for president</td>\n",
       "      <td>2020-04-15</td>\n",
       "      <td>The former 2020 Democratic presidential candid...</td>\n",
       "      <td>cnn</td>\n",
       "      <td>True</td>\n",
       "      <td>False</td>\n",
       "      <td>True</td>\n",
       "      <td>True</td>\n",
       "      <td>True</td>\n",
       "    </tr>\n",
       "    <tr>\n",
       "      <th>2</th>\n",
       "      <td>Amid a pandemic, lawmakers urge leadership to ...</td>\n",
       "      <td>2020-04-15</td>\n",
       "      <td>( CNN ) Many rank-and-file House Democrats are...</td>\n",
       "      <td>cnn</td>\n",
       "      <td>False</td>\n",
       "      <td>True</td>\n",
       "      <td>False</td>\n",
       "      <td>True</td>\n",
       "      <td>False</td>\n",
       "    </tr>\n",
       "  </tbody>\n",
       "</table>\n",
       "</div>"
      ],
      "text/plain": [
       "                                               title       date  \\\n",
       "0  'Empathy matters': Joe Biden's endorsers highl... 2020-04-15   \n",
       "1  Elizabeth Warren endorses Joe Biden for president 2020-04-15   \n",
       "2  Amid a pandemic, lawmakers urge leadership to ... 2020-04-15   \n",
       "\n",
       "                                             content source  keyword-trump  \\\n",
       "0  ( CNN ) Nearly every top Democrat says the sam...    cnn           True   \n",
       "1  The former 2020 Democratic presidential candid...    cnn           True   \n",
       "2  ( CNN ) Many rank-and-file House Democrats are...    cnn          False   \n",
       "\n",
       "   keyword-republican  keyword-biden  keyword-democratic  keyword-election  \n",
       "0                True           True                True             False  \n",
       "1               False           True                True              True  \n",
       "2                True          False                True             False  "
      ]
     },
     "execution_count": 9,
     "metadata": {},
     "output_type": "execute_result"
    }
   ],
   "source": [
    "## create onehot coded keywords recors\n",
    "df['keyword-trump'] = False\n",
    "df.loc[df.content.str.contains('|'.join(['Trump', 'Donald Trump'])), 'keyword-trump'] = True\n",
    "\n",
    "df['keyword-republican'] = False\n",
    "df.loc[df.content.str.contains('Republican'), 'keyword-republican'] = True\n",
    "\n",
    "df['keyword-biden'] = False\n",
    "df.loc[df.content.str.contains('|'.join(['Joe Biden', 'Biden'])), 'keyword-biden'] = True\n",
    "\n",
    "df['keyword-democratic'] = False\n",
    "df.loc[df.content.str.contains('Democratic'), 'keyword-democratic'] = True\n",
    "\n",
    "df['keyword-election'] = False\n",
    "df.loc[df.content.str.contains('|'.join(['presidential election', 'election'])), 'keyword-election'] = True\n",
    "\n",
    "df.head(3)"
   ]
  },
  {
   "cell_type": "code",
   "execution_count": 11,
   "id": "75c56aaa",
   "metadata": {},
   "outputs": [
    {
     "name": "stderr",
     "output_type": "stream",
     "text": [
      "/var/folders/_7/rk2bxwhd5wv3rvl66tld1lvr0000gn/T/ipykernel_1156/1076806693.py:8: FutureWarning: The default value of numeric_only in DataFrameGroupBy.sum is deprecated. In a future version, numeric_only will default to False. Either specify numeric_only or select only columns which should be valid for the function.\n",
      "  daily_counts = data.resample('W').sum()\n"
     ]
    },
    {
     "data": {
      "image/png": "[encoded data removed]",
      "text/plain": [
       "<Figure size 432x288 with 1 Axes>"
      ]
     },
     "metadata": {
      "needs_background": "light"
     },
     "output_type": "display_data"
    }
   ],
   "source": [
    "\n",
    "data = df\n",
    "\n",
    "# convert 'date' column to datetime type and set as index\n",
    "data['date'] = pd.to_datetime(data['date'])\n",
    "data.set_index('date', inplace=True)\n",
    "\n",
    "# resample data by day and count the number of occurrences\n",
    "daily_counts = data.resample('W').sum()\n",
    "\n",
    "# select columns to plot\n",
    "cols_to_plot = ['keyword-trump', 'keyword-republican', 'keyword-biden', 'keyword-democratic', 'keyword-election']\n",
    "\n",
    "# plot daily frequency of each variable\n",
    "for col in cols_to_plot:\n",
    "    plt.plot(daily_counts.index, daily_counts[col], label=col)\n",
    "\n",
    "# add title and axis labels\n",
    "# plt.title('Weekly Frequency of Boolean Variables')\n",
    "plt.xlabel('Date')\n",
    "plt.ylabel('Frequency')\n",
    "\n",
    "# add legend and show plot\n",
    "plt.legend()\n",
    "plt.show()\n"
   ]
  },
  {
   "cell_type": "code",
   "execution_count": 12,
   "id": "b8eeba29",
   "metadata": {},
   "outputs": [],
   "source": [
    "# Count the number of observations for each source\n",
    "source_counts = df['source'].value_counts()\n",
    "\n",
    "# Find the minimum count among the sources\n",
    "min_count = source_counts.min()\n",
    "\n",
    "# Subset the data to include only observations with the minimum count for each source\n",
    "subset_df = df.groupby('source').apply(lambda x: x.sample(min_count)).reset_index(drop=True)"
   ]
  },
  {
   "cell_type": "code",
   "execution_count": 13,
   "id": "22011c0a",
   "metadata": {},
   "outputs": [
    {
     "data": {
      "text/plain": [
       "(6840, 8)"
      ]
     },
     "execution_count": 13,
     "metadata": {},
     "output_type": "execute_result"
    }
   ],
   "source": [
    "subset_df.shape"
   ]
  },
  {
   "cell_type": "code",
   "execution_count": 14,
   "id": "c1b8e606",
   "metadata": {},
   "outputs": [
    {
     "name": "stdout",
     "output_type": "stream",
     "text": [
      "5116 74.8 3610 3436 3527 4868\n"
     ]
    }
   ],
   "source": [
    "freq_trump = subset_df['keyword-trump'].value_counts()[True]\n",
    "prec_trump = round(100* subset_df['keyword-trump'].value_counts(normalize=True)[True], 2)\n",
    "\n",
    "freq_republican = subset_df['keyword-republican'].value_counts()[True]\n",
    "prec_republican = round(100* subset_df['keyword-republican'].value_counts(normalize=True)[True], 2)\n",
    "\n",
    "freq_biden = subset_df['keyword-biden'].value_counts()[True]\n",
    "prec_biden = round(100* subset_df['keyword-biden'].value_counts(normalize=True)[True], 2)\n",
    "\n",
    "freq_democratic = subset_df['keyword-democratic'].value_counts()[True]\n",
    "prec_democratic = round(100* subset_df['keyword-democratic'].value_counts(normalize=True)[True], 2)\n",
    "\n",
    "freq_election = subset_df['keyword-election'].value_counts()[True]\n",
    "prec_election = round(100* subset_df['keyword-election'].value_counts(normalize=True)[True], 2)\n",
    "\n",
    "print(freq_trump,prec_trump,freq_republican,  freq_biden, freq_democratic, freq_election)"
   ]
  },
  {
   "cell_type": "code",
   "execution_count": 15,
   "id": "83df17d3",
   "metadata": {},
   "outputs": [
    {
     "ename": "SyntaxError",
     "evalue": "invalid syntax (3212383023.py, line 4)",
     "output_type": "error",
     "traceback": [
      "\u001b[0;36m  Input \u001b[0;32mIn [15]\u001b[0;36m\u001b[0m\n\u001b[0;31m    'Frequency': [prec_trump, prec_republican, prec_biden, prec_democratic, prec_election]\u001b[0m\n\u001b[0m    ^\u001b[0m\n\u001b[0;31mSyntaxError\u001b[0m\u001b[0;31m:\u001b[0m invalid syntax\n"
     ]
    }
   ],
   "source": [
    "freq_data = pd.DataFrame({\n",
    "    'keyword': ['Trump', 'Republican', 'Biden', 'Democratic', 'Election'],\n",
    "    'count': [freq_trump,freq_republican,  freq_biden, freq_democratic, freq_election],\n",
    "    'Frequency': [prec_trump, prec_republican, prec_biden, prec_democratic, prec_election]\n",
    "})\n",
    "\n",
    "fig, ax1 = plt.subplots()\n",
    "\n",
    "# plot count on primary axis\n",
    "ax1.bar(freq_data['keyword'], freq_data['count'], color='blue')\n",
    "ax1.set_ylabel('Count')\n",
    "\n",
    "# create secondary axis for percentage\n",
    "ax2 = ax1.twinx()\n",
    "ax2.plot(freq_data['keyword'], freq_data['percentage'], color='red', marker='o')\n",
    "ax2.set_ylabel('Percentage')\n",
    "\n",
    "# set titles and labels\n",
    "ax1.set_title('Count and Percentage by Keyword')\n",
    "ax1.set_xlabel('Keyword')\n",
    "ax2.set_ylim(0, 50)\n",
    "\n",
    "# show plot\n",
    "plt.show()"
   ]
  },
  {
   "cell_type": "markdown",
   "id": "ec3e5367",
   "metadata": {},
   "source": [
    "## show analyze"
   ]
  },
  {
   "cell_type": "code",
   "execution_count": 34,
   "id": "58480c2f",
   "metadata": {},
   "outputs": [
    {
     "name": "stderr",
     "output_type": "stream",
     "text": [
      "/Users/user/opt/anaconda3/envs/newsai/lib/python3.8/site-packages/sweetviz/dataframe_report.py:74: FutureWarning: iteritems is deprecated and will be removed in a future version. Use .items instead.\n",
      "  all_source_names = [cur_name for cur_name, cur_series in source_df.iteritems()]\n",
      "/Users/user/opt/anaconda3/envs/newsai/lib/python3.8/site-packages/sweetviz/dataframe_report.py:109: FutureWarning: iteritems is deprecated and will be removed in a future version. Use .items instead.\n",
      "  filtered_series_names_in_source = [cur_name for cur_name, cur_series in source_df.iteritems()\n"
     ]
    },
    {
     "data": {
      "application/vnd.jupyter.widget-view+json": {
       "model_id": "459653862ade47249db6fdf2f1ddb162",
       "version_major": 2,
       "version_minor": 0
      },
      "text/plain": [
       "                                             |      | [  0%]   00:00 -> (? left)"
      ]
     },
     "metadata": {},
     "output_type": "display_data"
    },
    {
     "name": "stderr",
     "output_type": "stream",
     "text": [
      "/Users/user/opt/anaconda3/envs/newsai/lib/python3.8/site-packages/sweetviz/series_analyzer_text.py:19: FutureWarning: iteritems is deprecated and will be removed in a future version. Use .items instead.\n",
      "  for item in to_process.source_counts[\"value_counts_without_nan\"].iteritems():\n",
      "/Users/user/opt/anaconda3/envs/newsai/lib/python3.8/site-packages/sweetviz/series_analyzer_text.py:19: FutureWarning: iteritems is deprecated and will be removed in a future version. Use .items instead.\n",
      "  for item in to_process.source_counts[\"value_counts_without_nan\"].iteritems():\n",
      "/Users/user/opt/anaconda3/envs/newsai/lib/python3.8/site-packages/sweetviz/series_analyzer_cat.py:28: FutureWarning: iteritems is deprecated and will be removed in a future version. Use .items instead.\n",
      "  for item in category_counts.iteritems():\n",
      "/Users/user/opt/anaconda3/envs/newsai/lib/python3.8/site-packages/sweetviz/series_analyzer_text.py:19: FutureWarning: iteritems is deprecated and will be removed in a future version. Use .items instead.\n",
      "  for item in to_process.source_counts[\"value_counts_without_nan\"].iteritems():\n",
      "/Users/user/opt/anaconda3/envs/newsai/lib/python3.8/site-packages/sweetviz/series_analyzer_text.py:19: FutureWarning: iteritems is deprecated and will be removed in a future version. Use .items instead.\n",
      "  for item in to_process.source_counts[\"value_counts_without_nan\"].iteritems():\n",
      "/Users/user/opt/anaconda3/envs/newsai/lib/python3.8/site-packages/sweetviz/series_analyzer_text.py:19: FutureWarning: iteritems is deprecated and will be removed in a future version. Use .items instead.\n",
      "  for item in to_process.source_counts[\"value_counts_without_nan\"].iteritems():\n",
      "/Users/user/opt/anaconda3/envs/newsai/lib/python3.8/site-packages/sweetviz/series_analyzer_cat.py:28: FutureWarning: iteritems is deprecated and will be removed in a future version. Use .items instead.\n",
      "  for item in category_counts.iteritems():\n",
      "/Users/user/opt/anaconda3/envs/newsai/lib/python3.8/site-packages/sweetviz/series_analyzer_cat.py:28: FutureWarning: iteritems is deprecated and will be removed in a future version. Use .items instead.\n",
      "  for item in category_counts.iteritems():\n",
      "/Users/user/opt/anaconda3/envs/newsai/lib/python3.8/site-packages/sweetviz/series_analyzer_cat.py:28: FutureWarning: iteritems is deprecated and will be removed in a future version. Use .items instead.\n",
      "  for item in category_counts.iteritems():\n",
      "/Users/user/opt/anaconda3/envs/newsai/lib/python3.8/site-packages/sweetviz/series_analyzer_cat.py:28: FutureWarning: iteritems is deprecated and will be removed in a future version. Use .items instead.\n",
      "  for item in category_counts.iteritems():\n",
      "/Users/user/opt/anaconda3/envs/newsai/lib/python3.8/site-packages/sweetviz/series_analyzer_cat.py:28: FutureWarning: iteritems is deprecated and will be removed in a future version. Use .items instead.\n",
      "  for item in category_counts.iteritems():\n"
     ]
    },
    {
     "name": "stdout",
     "output_type": "stream",
     "text": [
      "Report SWEETVIZ_REPORT.html was generated! NOTEBOOK/COLAB USERS: the web browser MAY not pop up, regardless, the report IS saved in your notebook/colab files.\n"
     ]
    }
   ],
   "source": [
    "import sweetviz as sv\n",
    "\n",
    "report = sv.analyze(df)\n",
    "report.show_html()"
   ]
  },
  {
   "cell_type": "code",
   "execution_count": 14,
   "id": "c96dc90a",
   "metadata": {},
   "outputs": [
    {
     "ename": "AttributeError",
     "evalue": "'DataframeReport' object has no attribute 'show'",
     "output_type": "error",
     "traceback": [
      "\u001b[0;31m---------------------------------------------------------------------------\u001b[0m",
      "\u001b[0;31mAttributeError\u001b[0m                            Traceback (most recent call last)",
      "Input \u001b[0;32mIn [14]\u001b[0m, in \u001b[0;36m<cell line: 1>\u001b[0;34m()\u001b[0m\n\u001b[0;32m----> 1\u001b[0m \u001b[43mmy_report\u001b[49m\u001b[38;5;241;43m.\u001b[39;49m\u001b[43mshow\u001b[49m\n",
      "\u001b[0;31mAttributeError\u001b[0m: 'DataframeReport' object has no attribute 'show'"
     ]
    }
   ],
   "source": [
    "my_report.show"
   ]
  },
  {
   "cell_type": "code",
   "execution_count": null,
   "id": "def8bc51",
   "metadata": {},
   "outputs": [],
   "source": []
  },
  {
   "cell_type": "code",
   "execution_count": 88,
   "id": "4839b2b4",
   "metadata": {},
   "outputs": [
    {
     "data": {
      "image/png": "[encoded data removed]",
      "text/plain": [
       "<Figure size 600x400 with 1 Axes>"
      ]
     },
     "metadata": {},
     "output_type": "display_data"
    }
   ],
   "source": [
    "# 设置“date”列为DataFrame的索引\n",
    "# data.set_index('date', inplace=True)\n",
    "\n",
    "# 获取“cnn”来源的数据，并按日期计数\n",
    "cnn_data = data[data['source'] == 'cnn'].resample('W').count()\n",
    "\n",
    "# 获取“fox news”来源的数据，并按日期计数\n",
    "fox_data = data[data['source'] == 'foxnews'].resample('W').count()\n",
    "\n",
    "# 获取“pbs”来源的数据，并按日期计数\n",
    "pbs_data = data[data['source'] == 'pbs'].resample('W').count()\n",
    "\n",
    "# 绘制三个来源的折线图\n",
    "plt.plot(cnn_data.index, cnn_data['source'], label='CNN')\n",
    "plt.plot(fox_data.index, fox_data['source'], label='Fox News')\n",
    "plt.plot(pbs_data.index, pbs_data['source'], label='PBS')\n",
    "plt.axvline(x=pd.to_datetime('2020-11-03'), color='r', linestyle='--', label='2020 Presidential Election')\n",
    "\n",
    "# 添加标题和轴标签\n",
    "plt.title('Weekly Frequency by Source')\n",
    "plt.xlabel('Date')\n",
    "plt.ylabel('Frequency')\n",
    "\n",
    "# 显示图例\n",
    "plt.legend()\n",
    "\n",
    "# 显示图形\n",
    "plt.show()"
   ]
  },
  {
   "cell_type": "code",
   "execution_count": null,
   "id": "96eb4465",
   "metadata": {},
   "outputs": [],
   "source": []
  }
 ],
 "metadata": {
  "kernelspec": {
   "display_name": "Python 3 (ipykernel)",
   "language": "python",
   "name": "python3"
  },
  "language_info": {
   "codemirror_mode": {
    "name": "ipython",
    "version": 3
   },
   "file_extension": ".py",
   "mimetype": "text/x-python",
   "name": "python",
   "nbconvert_exporter": "python",
   "pygments_lexer": "ipython3",
   "version": "3.8.16"
  }
 },
 "nbformat": 4,
 "nbformat_minor": 5
}
