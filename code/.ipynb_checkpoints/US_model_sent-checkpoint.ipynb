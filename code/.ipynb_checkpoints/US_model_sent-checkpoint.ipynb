{
 "cells": [
  {
   "cell_type": "markdown",
   "id": "cd9e392f",
   "metadata": {},
   "source": [
    "# 0 import libs and read data\n",
    "## import libs"
   ]
  },
  {
   "cell_type": "code",
   "execution_count": 45,
   "id": "2f16cfa8",
   "metadata": {},
   "outputs": [],
   "source": [
    "import requests\n",
    "import json\n",
    "import datetime\n",
    "import pandas as pd\n",
    "import numpy as np\n",
    "import re\n",
    "import os\n",
    "import random\n",
    "import urllib3\n",
    "import time\n",
    "import matplotlib\n",
    "import nltk\n",
    "\n",
    "from nltk.corpus import stopwords\n",
    "from nltk.sentiment import SentimentIntensityAnalyzer\n",
    "\n",
    "from wordcloud import WordCloud,STOPWORDS\n",
    "from datetime import datetime\n",
    "from tqdm.notebook import tqdm, tqdm_notebook\n",
    "import matplotlib.pyplot as plt\n",
    "import seaborn as sns\n",
    "\n",
    "from sklearn.neighbors import KNeighborsClassifier\n",
    "from sklearn.naive_bayes import MultinomialNB\n",
    "from sklearn.tree import DecisionTreeClassifier, plot_tree\n",
    "from sklearn.svm import SVC\n",
    "from sklearn.feature_extraction.text import TfidfVectorizer\n",
    "from sklearn.model_selection import cross_val_score,train_test_split, validation_curve, cross_val_predict\n",
    "from sklearn.metrics import roc_curve, accuracy_score, recall_score, confusion_matrix,f1_score\n"
   ]
  },
  {
   "cell_type": "code",
   "execution_count": 65,
   "id": "b6a993c5",
   "metadata": {},
   "outputs": [],
   "source": [
    "from flair.models import TextClassifier\n",
    "from flair.data import Sentence\n",
    "\n",
    "sia = TextClassifier.load('en-sentiment')"
   ]
  },
  {
   "cell_type": "markdown",
   "id": "51fbe1a5",
   "metadata": {},
   "source": [
    "## read in data"
   ]
  },
  {
   "cell_type": "code",
   "execution_count": 59,
   "id": "0c28591a",
   "metadata": {},
   "outputs": [],
   "source": [
    "path = '../data/us/'"
   ]
  },
  {
   "cell_type": "code",
   "execution_count": 60,
   "id": "d6126a9b",
   "metadata": {},
   "outputs": [],
   "source": [
    "df = pd.read_csv(path + 'US.csv')"
   ]
  },
  {
   "cell_type": "code",
   "execution_count": 61,
   "id": "49ea53d3",
   "metadata": {},
   "outputs": [
    {
     "data": {
      "text/html": [
       "<div>\n",
       "<style scoped>\n",
       "    .dataframe tbody tr th:only-of-type {\n",
       "        vertical-align: middle;\n",
       "    }\n",
       "\n",
       "    .dataframe tbody tr th {\n",
       "        vertical-align: top;\n",
       "    }\n",
       "\n",
       "    .dataframe thead th {\n",
       "        text-align: right;\n",
       "    }\n",
       "</style>\n",
       "<table border=\"1\" class=\"dataframe\">\n",
       "  <thead>\n",
       "    <tr style=\"text-align: right;\">\n",
       "      <th></th>\n",
       "      <th>Unnamed: 0</th>\n",
       "      <th>title</th>\n",
       "      <th>date</th>\n",
       "      <th>content</th>\n",
       "      <th>source</th>\n",
       "      <th>keyword-trump</th>\n",
       "      <th>keyword-republican</th>\n",
       "      <th>keyword-biden</th>\n",
       "      <th>keyword-democratic</th>\n",
       "      <th>keyword-election</th>\n",
       "    </tr>\n",
       "  </thead>\n",
       "  <tbody>\n",
       "    <tr>\n",
       "      <th>0</th>\n",
       "      <td>0</td>\n",
       "      <td>'Empathy matters': Joe Biden's endorsers highl...</td>\n",
       "      <td>2020-04-15</td>\n",
       "      <td>CNN Nearly every top Democrat says the same t...</td>\n",
       "      <td>cnn</td>\n",
       "      <td>True</td>\n",
       "      <td>True</td>\n",
       "      <td>True</td>\n",
       "      <td>True</td>\n",
       "      <td>False</td>\n",
       "    </tr>\n",
       "    <tr>\n",
       "      <th>1</th>\n",
       "      <td>1</td>\n",
       "      <td>Elizabeth Warren endorses Joe Biden for president</td>\n",
       "      <td>2020-04-15</td>\n",
       "      <td>The former 2020 Democratic presidential candid...</td>\n",
       "      <td>cnn</td>\n",
       "      <td>True</td>\n",
       "      <td>False</td>\n",
       "      <td>True</td>\n",
       "      <td>True</td>\n",
       "      <td>True</td>\n",
       "    </tr>\n",
       "    <tr>\n",
       "      <th>2</th>\n",
       "      <td>2</td>\n",
       "      <td>Amid a pandemic, lawmakers urge leadership to ...</td>\n",
       "      <td>2020-04-15</td>\n",
       "      <td>CNN Many rank and file House Democrats are gr...</td>\n",
       "      <td>cnn</td>\n",
       "      <td>False</td>\n",
       "      <td>True</td>\n",
       "      <td>False</td>\n",
       "      <td>True</td>\n",
       "      <td>False</td>\n",
       "    </tr>\n",
       "    <tr>\n",
       "      <th>3</th>\n",
       "      <td>3</td>\n",
       "      <td>Stacey Abrams says she would be an 'excellent ...</td>\n",
       "      <td>2020-04-15</td>\n",
       "      <td>Washington CNN Former Georgia gubernatorial ca...</td>\n",
       "      <td>cnn</td>\n",
       "      <td>False</td>\n",
       "      <td>True</td>\n",
       "      <td>True</td>\n",
       "      <td>True</td>\n",
       "      <td>True</td>\n",
       "    </tr>\n",
       "    <tr>\n",
       "      <th>4</th>\n",
       "      <td>4</td>\n",
       "      <td>Justin Amash discussing 'potential campaign' f...</td>\n",
       "      <td>2020-04-15</td>\n",
       "      <td>He has been discussing the potential campaign...</td>\n",
       "      <td>cnn</td>\n",
       "      <td>True</td>\n",
       "      <td>True</td>\n",
       "      <td>False</td>\n",
       "      <td>False</td>\n",
       "      <td>True</td>\n",
       "    </tr>\n",
       "  </tbody>\n",
       "</table>\n",
       "</div>"
      ],
      "text/plain": [
       "   Unnamed: 0                                              title        date  \\\n",
       "0           0  'Empathy matters': Joe Biden's endorsers highl...  2020-04-15   \n",
       "1           1  Elizabeth Warren endorses Joe Biden for president  2020-04-15   \n",
       "2           2  Amid a pandemic, lawmakers urge leadership to ...  2020-04-15   \n",
       "3           3  Stacey Abrams says she would be an 'excellent ...  2020-04-15   \n",
       "4           4  Justin Amash discussing 'potential campaign' f...  2020-04-15   \n",
       "\n",
       "                                             content source  keyword-trump  \\\n",
       "0   CNN Nearly every top Democrat says the same t...    cnn           True   \n",
       "1  The former 2020 Democratic presidential candid...    cnn           True   \n",
       "2   CNN Many rank and file House Democrats are gr...    cnn          False   \n",
       "3  Washington CNN Former Georgia gubernatorial ca...    cnn          False   \n",
       "4   He has been discussing the potential campaign...    cnn           True   \n",
       "\n",
       "   keyword-republican  keyword-biden  keyword-democratic  keyword-election  \n",
       "0                True           True                True             False  \n",
       "1               False           True                True              True  \n",
       "2                True          False                True             False  \n",
       "3                True           True                True              True  \n",
       "4                True          False               False              True  "
      ]
     },
     "execution_count": 61,
     "metadata": {},
     "output_type": "execute_result"
    }
   ],
   "source": [
    "df.head()"
   ]
  },
  {
   "cell_type": "markdown",
   "id": "89d3d4b9",
   "metadata": {},
   "source": [
    "## preprocess"
   ]
  },
  {
   "cell_type": "code",
   "execution_count": 62,
   "id": "363d2c13",
   "metadata": {},
   "outputs": [
    {
     "name": "stdout",
     "output_type": "stream",
     "text": [
      "cnn        7327\n",
      "foxnews    3775\n",
      "pbs        2135\n",
      "Name: source, dtype: int64\n",
      " 1    7327\n",
      "-1    3775\n",
      " 0    2135\n",
      "Name: source_num, dtype: int64\n"
     ]
    }
   ],
   "source": [
    "print(df.source.value_counts())\n",
    "df[\"source_num\"] = df.source.map({'cnn': 1, 'pbs': 0, 'foxnews': -1})\n",
    "print(df.source_num.value_counts())\n"
   ]
  },
  {
   "cell_type": "code",
   "execution_count": 63,
   "id": "3d0e87fa",
   "metadata": {},
   "outputs": [],
   "source": [
    "def clean_str(string):\n",
    "    \"\"\"\n",
    "    Tokenization/string cleaning for datasets.\n",
    "    Original taken from https://github.com/yoonkim/CNN_sentence/blob/master/process_data.py\n",
    "    \"\"\"\n",
    "    string = re.sub(r\"\\'s\", \"\", string)\n",
    "    string = re.sub(r\"\\'ve\", \"\", string)\n",
    "    string = re.sub(r\"n\\'t\", \"\", string)\n",
    "    string = re.sub(r\"\\'re\", \"\", string)\n",
    "    string = re.sub(r\"\\'d\", \"\", string)\n",
    "    string = re.sub(r\"\\'ll\", \"\", string)\n",
    "    string = re.sub(r\",\", \"\", string)\n",
    "    string = re.sub(r\"!\", \" ! \", string)\n",
    "    string = re.sub(r\"\\(\", \"\", string)\n",
    "    string = re.sub(r\"\\)\", \"\", string)\n",
    "    string = re.sub(r\"\\?\", \"\", string)\n",
    "    string = re.sub(r\"'\", \"\", string)\n",
    "    string = re.sub(r\"[^A-Za-z0-9(),!?\\'\\`]\", \" \", string)\n",
    "    string = re.sub(r\"[0-9]\\w+|[0-9]\",\"\", string)\n",
    "    string = re.sub(r\"\\s{2,}\", \" \", string)\n",
    "    return string.strip().lower()"
   ]
  },
  {
   "cell_type": "code",
   "execution_count": 64,
   "id": "6584c751",
   "metadata": {
    "scrolled": true
   },
   "outputs": [
    {
     "data": {
      "text/plain": [
       "0    cnn nearly every top democrat says the same th...\n",
       "1    the former democratic presidential candidate t...\n",
       "2    cnn many rank and file house democrats are gro...\n",
       "3    washington cnn former georgia gubernatorial ca...\n",
       "4    he has been discussing the potential campaign ...\n",
       "Name: content, dtype: object"
      ]
     },
     "execution_count": 64,
     "metadata": {},
     "output_type": "execute_result"
    }
   ],
   "source": [
    "df = df.drop(columns=['Unnamed: 0'])\n",
    "df['content'] = [clean_str(s) for s in df.content]\n",
    "df.content.head()"
   ]
  },
  {
   "cell_type": "markdown",
   "id": "c85a7b3f",
   "metadata": {},
   "source": [
    "### add sentiment"
   ]
  },
  {
   "cell_type": "code",
   "execution_count": 18,
   "id": "7d3a7735",
   "metadata": {},
   "outputs": [],
   "source": [
    "x = df[\"content\"][0]\n",
    "\n",
    "sentence = Sentence(x)\n",
    "sia.predict(sentence)\n"
   ]
  },
  {
   "cell_type": "code",
   "execution_count": 66,
   "id": "d9f78d0e",
   "metadata": {},
   "outputs": [],
   "source": [
    "p1 = re.compile(r'[(](.*?)[)]', re.S) \n",
    "\n",
    "# def sentiment_score(x):\n",
    "    \n",
    "def flair_prediction(x):\n",
    "    sentence = Sentence(x)\n",
    "    sia.predict(sentence)\n",
    "    score = str(sentence.labels[0])\n",
    "    \n",
    "    num = float(re.findall(p1, score)[0])\n",
    "       \n",
    "    if \"POSITIVE\" in score:\n",
    "        return 1, num\n",
    "    elif \"NEGATIVE\" in score:\n",
    "        return -1, num\n",
    "    else:\n",
    "        return 0, num"
   ]
  },
  {
   "cell_type": "code",
   "execution_count": null,
   "id": "f64b0cd0",
   "metadata": {},
   "outputs": [
    {
     "data": {
      "application/vnd.jupyter.widget-view+json": {
       "model_id": "d116026f6da747758101351ac8bc8584",
       "version_major": 2,
       "version_minor": 0
      },
      "text/plain": [
       "  0%|          | 0/13237 [00:00<?, ?it/s]"
      ]
     },
     "metadata": {},
     "output_type": "display_data"
    }
   ],
   "source": [
    "# df_test = df[:10]\n",
    "tqdm_notebook.pandas()\n",
    "\n",
    "# df[['sentiment', 'sentiment_num']]  = df.content[:10].apply(lambda x: flair_prediction(x) , axis=1, result_type=\"expand\")\n",
    "\n",
    "df['sentiment'], df['sentiment_score'] = zip(*df.content.progress_apply(flair_prediction))\n"
   ]
  },
  {
   "cell_type": "code",
   "execution_count": 58,
   "id": "4ac3f129",
   "metadata": {},
   "outputs": [
    {
     "data": {
      "text/html": [
       "<div>\n",
       "<style scoped>\n",
       "    .dataframe tbody tr th:only-of-type {\n",
       "        vertical-align: middle;\n",
       "    }\n",
       "\n",
       "    .dataframe tbody tr th {\n",
       "        vertical-align: top;\n",
       "    }\n",
       "\n",
       "    .dataframe thead th {\n",
       "        text-align: right;\n",
       "    }\n",
       "</style>\n",
       "<table border=\"1\" class=\"dataframe\">\n",
       "  <thead>\n",
       "    <tr style=\"text-align: right;\">\n",
       "      <th></th>\n",
       "      <th>title</th>\n",
       "      <th>date</th>\n",
       "      <th>content</th>\n",
       "      <th>source</th>\n",
       "      <th>keyword-trump</th>\n",
       "      <th>keyword-republican</th>\n",
       "      <th>keyword-biden</th>\n",
       "      <th>keyword-democratic</th>\n",
       "      <th>keyword-election</th>\n",
       "      <th>source_num</th>\n",
       "      <th>sentiment_score</th>\n",
       "      <th>sentiment</th>\n",
       "      <th>sentiment_num</th>\n",
       "    </tr>\n",
       "  </thead>\n",
       "  <tbody>\n",
       "    <tr>\n",
       "      <th>0</th>\n",
       "      <td>'Empathy matters': Joe Biden's endorsers highl...</td>\n",
       "      <td>2020-04-15</td>\n",
       "      <td>cnn nearly every top democrat says the same th...</td>\n",
       "      <td>cnn</td>\n",
       "      <td>True</td>\n",
       "      <td>True</td>\n",
       "      <td>True</td>\n",
       "      <td>True</td>\n",
       "      <td>False</td>\n",
       "      <td>1</td>\n",
       "      <td>0.1972</td>\n",
       "      <td>1</td>\n",
       "      <td>0.9922</td>\n",
       "    </tr>\n",
       "    <tr>\n",
       "      <th>1</th>\n",
       "      <td>Elizabeth Warren endorses Joe Biden for president</td>\n",
       "      <td>2020-04-15</td>\n",
       "      <td>the former democratic presidential candidate t...</td>\n",
       "      <td>cnn</td>\n",
       "      <td>True</td>\n",
       "      <td>False</td>\n",
       "      <td>True</td>\n",
       "      <td>True</td>\n",
       "      <td>True</td>\n",
       "      <td>1</td>\n",
       "      <td>0.9875</td>\n",
       "      <td>-1</td>\n",
       "      <td>0.9075</td>\n",
       "    </tr>\n",
       "    <tr>\n",
       "      <th>2</th>\n",
       "      <td>Amid a pandemic, lawmakers urge leadership to ...</td>\n",
       "      <td>2020-04-15</td>\n",
       "      <td>cnn many rank and file house democrats are gro...</td>\n",
       "      <td>cnn</td>\n",
       "      <td>False</td>\n",
       "      <td>True</td>\n",
       "      <td>False</td>\n",
       "      <td>True</td>\n",
       "      <td>False</td>\n",
       "      <td>1</td>\n",
       "      <td>0.9537</td>\n",
       "      <td>-1</td>\n",
       "      <td>0.9994</td>\n",
       "    </tr>\n",
       "    <tr>\n",
       "      <th>3</th>\n",
       "      <td>Stacey Abrams says she would be an 'excellent ...</td>\n",
       "      <td>2020-04-15</td>\n",
       "      <td>washington cnn former georgia gubernatorial ca...</td>\n",
       "      <td>cnn</td>\n",
       "      <td>False</td>\n",
       "      <td>True</td>\n",
       "      <td>True</td>\n",
       "      <td>True</td>\n",
       "      <td>True</td>\n",
       "      <td>1</td>\n",
       "      <td>0.9816</td>\n",
       "      <td>1</td>\n",
       "      <td>0.9982</td>\n",
       "    </tr>\n",
       "    <tr>\n",
       "      <th>4</th>\n",
       "      <td>Justin Amash discussing 'potential campaign' f...</td>\n",
       "      <td>2020-04-15</td>\n",
       "      <td>he has been discussing the potential campaign ...</td>\n",
       "      <td>cnn</td>\n",
       "      <td>True</td>\n",
       "      <td>True</td>\n",
       "      <td>False</td>\n",
       "      <td>False</td>\n",
       "      <td>True</td>\n",
       "      <td>1</td>\n",
       "      <td>0.9959</td>\n",
       "      <td>-1</td>\n",
       "      <td>0.7608</td>\n",
       "    </tr>\n",
       "    <tr>\n",
       "      <th>5</th>\n",
       "      <td>Barack Obama's challenge: Being the unifier he...</td>\n",
       "      <td>2020-04-15</td>\n",
       "      <td>cnn former president barack obama nearly a dec...</td>\n",
       "      <td>cnn</td>\n",
       "      <td>True</td>\n",
       "      <td>True</td>\n",
       "      <td>True</td>\n",
       "      <td>True</td>\n",
       "      <td>True</td>\n",
       "      <td>1</td>\n",
       "      <td>0.9997</td>\n",
       "      <td>-1</td>\n",
       "      <td>0.7275</td>\n",
       "    </tr>\n",
       "    <tr>\n",
       "      <th>6</th>\n",
       "      <td>'Nothing shocked me': Bernie Sanders reflects ...</td>\n",
       "      <td>2020-04-15</td>\n",
       "      <td>cnn bernie sanders ran for president in becaus...</td>\n",
       "      <td>cnn</td>\n",
       "      <td>True</td>\n",
       "      <td>False</td>\n",
       "      <td>True</td>\n",
       "      <td>True</td>\n",
       "      <td>False</td>\n",
       "      <td>1</td>\n",
       "      <td>0.9988</td>\n",
       "      <td>-1</td>\n",
       "      <td>0.9884</td>\n",
       "    </tr>\n",
       "    <tr>\n",
       "      <th>7</th>\n",
       "      <td>Fact check: Trump repeats false claim he has p...</td>\n",
       "      <td>2020-04-16</td>\n",
       "      <td>he inaccurately declared again that he has abs...</td>\n",
       "      <td>cnn</td>\n",
       "      <td>True</td>\n",
       "      <td>True</td>\n",
       "      <td>False</td>\n",
       "      <td>True</td>\n",
       "      <td>False</td>\n",
       "      <td>1</td>\n",
       "      <td>0.9002</td>\n",
       "      <td>-1</td>\n",
       "      <td>1.0000</td>\n",
       "    </tr>\n",
       "    <tr>\n",
       "      <th>8</th>\n",
       "      <td>Trump threatens to invoke never-used constitut...</td>\n",
       "      <td>2020-04-16</td>\n",
       "      <td>cnn president donald trump threatened wednesda...</td>\n",
       "      <td>cnn</td>\n",
       "      <td>True</td>\n",
       "      <td>True</td>\n",
       "      <td>False</td>\n",
       "      <td>True</td>\n",
       "      <td>False</td>\n",
       "      <td>1</td>\n",
       "      <td>0.9761</td>\n",
       "      <td>-1</td>\n",
       "      <td>0.9950</td>\n",
       "    </tr>\n",
       "    <tr>\n",
       "      <th>9</th>\n",
       "      <td>Elizabeth Warren says she'd serve as Biden's v...</td>\n",
       "      <td>2020-04-16</td>\n",
       "      <td>asked wednesday night if she would accept a po...</td>\n",
       "      <td>cnn</td>\n",
       "      <td>True</td>\n",
       "      <td>False</td>\n",
       "      <td>True</td>\n",
       "      <td>True</td>\n",
       "      <td>False</td>\n",
       "      <td>1</td>\n",
       "      <td>0.9930</td>\n",
       "      <td>-1</td>\n",
       "      <td>0.6574</td>\n",
       "    </tr>\n",
       "  </tbody>\n",
       "</table>\n",
       "</div>"
      ],
      "text/plain": [
       "                                               title        date  \\\n",
       "0  'Empathy matters': Joe Biden's endorsers highl...  2020-04-15   \n",
       "1  Elizabeth Warren endorses Joe Biden for president  2020-04-15   \n",
       "2  Amid a pandemic, lawmakers urge leadership to ...  2020-04-15   \n",
       "3  Stacey Abrams says she would be an 'excellent ...  2020-04-15   \n",
       "4  Justin Amash discussing 'potential campaign' f...  2020-04-15   \n",
       "5  Barack Obama's challenge: Being the unifier he...  2020-04-15   \n",
       "6  'Nothing shocked me': Bernie Sanders reflects ...  2020-04-15   \n",
       "7  Fact check: Trump repeats false claim he has p...  2020-04-16   \n",
       "8  Trump threatens to invoke never-used constitut...  2020-04-16   \n",
       "9  Elizabeth Warren says she'd serve as Biden's v...  2020-04-16   \n",
       "\n",
       "                                             content source  keyword-trump  \\\n",
       "0  cnn nearly every top democrat says the same th...    cnn           True   \n",
       "1  the former democratic presidential candidate t...    cnn           True   \n",
       "2  cnn many rank and file house democrats are gro...    cnn          False   \n",
       "3  washington cnn former georgia gubernatorial ca...    cnn          False   \n",
       "4  he has been discussing the potential campaign ...    cnn           True   \n",
       "5  cnn former president barack obama nearly a dec...    cnn           True   \n",
       "6  cnn bernie sanders ran for president in becaus...    cnn           True   \n",
       "7  he inaccurately declared again that he has abs...    cnn           True   \n",
       "8  cnn president donald trump threatened wednesda...    cnn           True   \n",
       "9  asked wednesday night if she would accept a po...    cnn           True   \n",
       "\n",
       "   keyword-republican  keyword-biden  keyword-democratic  keyword-election  \\\n",
       "0                True           True                True             False   \n",
       "1               False           True                True              True   \n",
       "2                True          False                True             False   \n",
       "3                True           True                True              True   \n",
       "4                True          False               False              True   \n",
       "5                True           True                True              True   \n",
       "6               False           True                True             False   \n",
       "7                True          False                True             False   \n",
       "8                True          False                True             False   \n",
       "9               False           True                True             False   \n",
       "\n",
       "   source_num  sentiment_score  sentiment  sentiment_num  \n",
       "0           1           0.1972          1         0.9922  \n",
       "1           1           0.9875         -1         0.9075  \n",
       "2           1           0.9537         -1         0.9994  \n",
       "3           1           0.9816          1         0.9982  \n",
       "4           1           0.9959         -1         0.7608  \n",
       "5           1           0.9997         -1         0.7275  \n",
       "6           1           0.9988         -1         0.9884  \n",
       "7           1           0.9002         -1         1.0000  \n",
       "8           1           0.9761         -1         0.9950  \n",
       "9           1           0.9930         -1         0.6574  "
      ]
     },
     "execution_count": 58,
     "metadata": {},
     "output_type": "execute_result"
    }
   ],
   "source": [
    "df_test"
   ]
  },
  {
   "cell_type": "code",
   "execution_count": 26,
   "id": "43878a24",
   "metadata": {},
   "outputs": [],
   "source": [
    "def undersamples(df):\n",
    "    # Count the number of observations for each source\n",
    "    source_counts = df['source'].value_counts()\n",
    "\n",
    "    # Find the minimum count among the sources\n",
    "    min_count = source_counts.min()\n",
    "\n",
    "    # Subset the data to include only observations with the minimum count for each source\n",
    "    subset_df = df.groupby('source').apply(lambda x: x.sample(min_count)).reset_index(drop=True)\n",
    "    return subset_df"
   ]
  },
  {
   "cell_type": "code",
   "execution_count": 27,
   "id": "71b55ce6",
   "metadata": {},
   "outputs": [],
   "source": [
    "republican_df = df[df['keyword-republican']==1]\n",
    "republican_subset = undersamples(republican_df)\n",
    "\n",
    "trump_df = df[df['keyword-trump']==1]\n",
    "trump_subset = undersamples(trump_df)\n",
    "\n",
    "democratic_df = df[df['keyword-democratic']==1]\n",
    "democratic_subset = undersamples(democratic_df)\n",
    "\n",
    "biden_df = df[df['keyword-biden']==1]\n",
    "biden_subset = undersamples(biden_df)\n",
    "\n",
    "election_df = df[df['keyword-election']==1]\n",
    "election_subset = undersamples(election_df)"
   ]
  },
  {
   "cell_type": "code",
   "execution_count": 9,
   "id": "21bb572d",
   "metadata": {},
   "outputs": [],
   "source": [
    "def get_xy(df):\n",
    "    x = df['content'].tolist()\n",
    "    y = df['source_num'].tolist()\n",
    "    \n",
    "    stopwordset= set(stopwords.words('english'))\n",
    "    morestop={'cnn', 'keyword', 'state', 'said'}\n",
    "    stopwordset= list(stopwordset.union(morestop))\n",
    "\n",
    "    vect = TfidfVectorizer(stop_words=stopwordset)\n",
    "    X = vect.fit_transform(x)\n",
    "    Y = np.array(y)\n",
    "    \n",
    "    return (X, Y)\n"
   ]
  },
  {
   "cell_type": "code",
   "execution_count": 10,
   "id": "acdce766",
   "metadata": {},
   "outputs": [],
   "source": [
    "(X, y) = get_xy(subset_df)\n",
    "X_train, X_test, y_train, y_test = train_test_split(X, y, test_size=0.20, random_state=42)\n"
   ]
  },
  {
   "cell_type": "code",
   "execution_count": 19,
   "id": "bfc33acf",
   "metadata": {},
   "outputs": [],
   "source": [
    "def generate_evaluate(df):\n",
    "\n",
    "    (X, y) = get_xy(df)\n",
    "    X_train, X_test, y_train, y_test = train_test_split(X, y, test_size=0.20, random_state=42)\n",
    "\n",
    "    \n",
    "    evalute_dict = {}\n",
    "    # create logistic regression model\n",
    "    # Fit logistic regression model\n",
    "   \n",
    "    evalute_dict['knn'] = {}\n",
    "    knn = KNeighborsClassifier(n_neighbors=3)\n",
    "    knn.fit(X_train, y_train)\n",
    "    evalute_dict['knn']['preds'] = knn.predict(X_test)\n",
    "    evalute_dict['knn']['acc'] = accuracy_score(y_test, evalute_dict['knn']['preds'])\n",
    "    evalute_dict['knn']['f1'] = f1_score(y_test, evalute_dict['knn']['preds'], average='weighted')\n",
    "    print(f\"K Neighbors Classifier: accuracy {evalute_dict['knn']['acc']}/ f1 {evalute_dict['knn']['f1']}\" )\n",
    "\n",
    "    \n",
    "    # Fit Multinomial Naive Bayes model\n",
    "    evalute_dict['mnb'] = {}\n",
    "    mnb = MultinomialNB()\n",
    "    mnb.fit(X_train, y_train)\n",
    "    evalute_dict['mnb']['preds'] = mnb.predict(X_test)\n",
    "    evalute_dict['mnb']['acc'] = accuracy_score(y_test, evalute_dict['mnb']['preds'])\n",
    "    evalute_dict['mnb']['f1'] = f1_score(y_test, evalute_dict['mnb']['preds'],  average='weighted')\n",
    "    print(f\"Multinomial Naive Bayes: accuracy {evalute_dict['mnb']['acc']}/ f1 {evalute_dict['mnb']['f1']}\" )\n",
    "    \n",
    "    evalute_dict['svm'] = {}\n",
    "    svm = SVC(kernel='poly', degree=3, C=1).fit(X_train, y_train)\n",
    "    evalute_dict['svm']['preds'] = svm.predict(X_test)\n",
    "    evalute_dict['svm']['acc'] = accuracy_score(y_test, evalute_dict['svm']['preds'])\n",
    "    evalute_dict['svm']['f1'] = f1_score(y_test, evalute_dict['svm']['preds'], average='weighted')\n",
    "    print(f\"Support Vector Machine: accuracy {evalute_dict['svm']['acc']}/ f1 {evalute_dict['svm']['f1']}\" )\n",
    "\n",
    "    # Decision Tree\n",
    "    evalute_dict['tree'] = {}\n",
    "    tree = DecisionTreeClassifier(random_state=1234)\n",
    "    tree.fit(X_train, y_train)\n",
    "    evalute_dict['tree']['preds'] = tree.predict(X_test)\n",
    "    evalute_dict['tree']['acc'] = accuracy_score(y_test,evalute_dict['tree']['preds'])\n",
    "    evalute_dict['tree']['f1'] = f1_score(y_test, evalute_dict['tree']['preds'], average='weighted')\n",
    "    print(f\"Decision Tree: accuracy {evalute_dict['tree']['acc']}/ f1 {evalute_dict['tree']['f1']}\" )\n",
    "   \n",
    "    return evalute_dict "
   ]
  },
  {
   "cell_type": "code",
   "execution_count": 20,
   "id": "3504b0b5",
   "metadata": {},
   "outputs": [
    {
     "name": "stdout",
     "output_type": "stream",
     "text": [
      "K Neighbors Classifier: accuracy 0.5487900078064013/ f1 0.5470695951381053\n",
      "Multinomial Naive Bayes: accuracy 0.7681498829039812/ f1 0.7671236539919905\n",
      "Support Vector Machine: accuracy 0.7283372365339579/ f1 0.7255694977571744\n",
      "Decision Tree: accuracy 0.8282591725214676/ f1 0.8283254579069258\n",
      "K Neighbors Classifier: accuracy 0.6891993957703928/ f1 0.6784629018152096\n",
      "Multinomial Naive Bayes: accuracy 0.5596676737160121/ f1 0.4189680292740334\n",
      "Support Vector Machine: accuracy 0.7111027190332326/ f1 0.6654125698816473\n",
      "Decision Tree: accuracy 0.9018126888217523/ f1 0.9011733542791027\n"
     ]
    }
   ],
   "source": [
    "subset_table = generate_evaluate(subset_df)\n",
    "\n",
    "df_table = generate_evaluate(df)"
   ]
  },
  {
   "cell_type": "code",
   "execution_count": 42,
   "id": "db2073c7",
   "metadata": {},
   "outputs": [],
   "source": [
    "subset_result = pd.DataFrame(subset_table).T\n",
    "df_result = pd.DataFrame(df_table).T\n",
    "\n",
    "subset_result.to_csv(path+ 'subset_result.csv')\n",
    "df_result.to_csv(path+ 'df_result.csv')"
   ]
  },
  {
   "cell_type": "code",
   "execution_count": 28,
   "id": "7c4a29af",
   "metadata": {},
   "outputs": [
    {
     "name": "stdout",
     "output_type": "stream",
     "text": [
      "K Neighbors Classifier: accuracy 0.5447870778267254/ f1 0.5369695568366998\n",
      "Multinomial Naive Bayes: accuracy 0.7254038179148311/ f1 0.723973111204457\n",
      "Support Vector Machine: accuracy 0.6901615271659325/ f1 0.6874450191387571\n",
      "Decision Tree: accuracy 0.8531571218795888/ f1 0.8527928510554694\n",
      "K Neighbors Classifier: accuracy 0.7144772117962467/ f1 0.7032836662716228\n",
      "Multinomial Naive Bayes: accuracy 0.5864611260053619/ f1 0.439774565769508\n",
      "Support Vector Machine: accuracy 0.7004021447721179/ f1 0.6437260254428283\n",
      "Decision Tree: accuracy 0.910857908847185/ f1 0.9104225013276099\n"
     ]
    }
   ],
   "source": [
    "republican_subset_table = generate_evaluate(republican_subset)\n",
    "republican_table = generate_evaluate(republican_df)"
   ]
  },
  {
   "cell_type": "code",
   "execution_count": 29,
   "id": "58e8b7a2",
   "metadata": {},
   "outputs": [
    {
     "name": "stdout",
     "output_type": "stream",
     "text": [
      "K Neighbors Classifier: accuracy 0.5844444444444444/ f1 0.583347845041075\n",
      "Multinomial Naive Bayes: accuracy 0.7577777777777778/ f1 0.7591195319234992\n",
      "Support Vector Machine: accuracy 0.7133333333333334/ f1 0.7104410703618003\n",
      "Decision Tree: accuracy 0.8433333333333334/ f1 0.8424775721164691\n",
      "K Neighbors Classifier: accuracy 0.6743562231759657/ f1 0.6665403068897857\n",
      "Multinomial Naive Bayes: accuracy 0.5579399141630901/ f1 0.42576303795721177\n",
      "Support Vector Machine: accuracy 0.7274678111587983/ f1 0.6896304220375314\n",
      "Decision Tree: accuracy 0.8953862660944206/ f1 0.8955288204734361\n"
     ]
    }
   ],
   "source": [
    "democratic_subset_table = generate_evaluate(democratic_subset)\n",
    "print('\\n')\n",
    "democratic_table = generate_evaluate(democratic_df)"
   ]
  },
  {
   "cell_type": "code",
   "execution_count": 30,
   "id": "009148aa",
   "metadata": {},
   "outputs": [
    {
     "name": "stdout",
     "output_type": "stream",
     "text": [
      "K Neighbors Classifier: accuracy 0.5566905005107252/ f1 0.5565546037251357\n",
      "Multinomial Naive Bayes: accuracy 0.7722165474974464/ f1 0.772522228991722\n",
      "Support Vector Machine: accuracy 0.7027579162410623/ f1 0.70252835252204\n",
      "Decision Tree: accuracy 0.8651685393258427/ f1 0.8652298770816927\n",
      "K Neighbors Classifier: accuracy 0.7063529411764706/ f1 0.6963269269824534\n",
      "Multinomial Naive Bayes: accuracy 0.5792941176470588/ f1 0.43577473185624477\n",
      "Support Vector Machine: accuracy 0.7152941176470589/ f1 0.6671286199276716\n",
      "Decision Tree: accuracy 0.9058823529411765/ f1 0.905288476214972\n"
     ]
    }
   ],
   "source": [
    "trump_subset_table = generate_evaluate(trump_subset)\n",
    "trump_table = generate_evaluate(trump_df)"
   ]
  },
  {
   "cell_type": "code",
   "execution_count": 31,
   "id": "ceae632b",
   "metadata": {},
   "outputs": [
    {
     "name": "stdout",
     "output_type": "stream",
     "text": [
      "K Neighbors Classifier: accuracy 0.5598755832037325/ f1 0.558115652669275\n",
      "Multinomial Naive Bayes: accuracy 0.7589424572317263/ f1 0.7583046676373444\n",
      "Support Vector Machine: accuracy 0.7045101088646968/ f1 0.7033438869977534\n",
      "Decision Tree: accuracy 0.8724727838258165/ f1 0.8724461222485487\n",
      "K Neighbors Classifier: accuracy 0.6851063829787234/ f1 0.6764192152365968\n",
      "Multinomial Naive Bayes: accuracy 0.5957446808510638/ f1 0.45401034827233394\n",
      "Support Vector Machine: accuracy 0.7163120567375887/ f1 0.6650012375304899\n",
      "Decision Tree: accuracy 0.8943262411347518/ f1 0.8939427294499157\n"
     ]
    }
   ],
   "source": [
    "biden_subset_table = generate_evaluate(biden_subset)\n",
    "biden_table = generate_evaluate(biden_df)"
   ]
  },
  {
   "cell_type": "code",
   "execution_count": 32,
   "id": "ef752722",
   "metadata": {},
   "outputs": [
    {
     "name": "stdout",
     "output_type": "stream",
     "text": [
      "K Neighbors Classifier: accuracy 0.5811088295687885/ f1 0.5802458068649637\n",
      "Multinomial Naive Bayes: accuracy 0.7792607802874744/ f1 0.7784675366955252\n",
      "Support Vector Machine: accuracy 0.7063655030800822/ f1 0.7057832730802301\n",
      "Decision Tree: accuracy 0.8521560574948666/ f1 0.8525356645196743\n",
      "K Neighbors Classifier: accuracy 0.7011437095972153/ f1 0.6924045223151432\n",
      "Multinomial Naive Bayes: accuracy 0.6001989060169071/ f1 0.4559806529858375\n",
      "Support Vector Machine: accuracy 0.7061163600198906/ f1 0.6521303761540761\n",
      "Decision Tree: accuracy 0.9085032322227747/ f1 0.9076214857290009\n"
     ]
    }
   ],
   "source": [
    "election_subset_table = generate_evaluate(election_subset)\n",
    "election_table = generate_evaluate(election_df)"
   ]
  },
  {
   "cell_type": "code",
   "execution_count": 44,
   "id": "67a69c97",
   "metadata": {},
   "outputs": [
    {
     "ename": "AttributeError",
     "evalue": "'DataFrame' object has no attribute 'names'",
     "output_type": "error",
     "traceback": [
      "\u001b[0;31m---------------------------------------------------------------------------\u001b[0m",
      "\u001b[0;31mAttributeError\u001b[0m                            Traceback (most recent call last)",
      "Input \u001b[0;32mIn [44]\u001b[0m, in \u001b[0;36m<cell line: 18>\u001b[0;34m()\u001b[0m\n\u001b[1;32m     14\u001b[0m democratic_subset_result \u001b[38;5;241m=\u001b[39m pd\u001b[38;5;241m.\u001b[39mDataFrame(democratic_subset_table)\u001b[38;5;241m.\u001b[39mT\n\u001b[1;32m     15\u001b[0m democratic_result \u001b[38;5;241m=\u001b[39m pd\u001b[38;5;241m.\u001b[39mDataFrame(democratic_table)\u001b[38;5;241m.\u001b[39mT\n\u001b[0;32m---> 18\u001b[0m \u001b[43melection_subset_result\u001b[49m\u001b[38;5;241;43m.\u001b[39;49m\u001b[43mnames\u001b[49m\n",
      "File \u001b[0;32m~/opt/anaconda3/envs/newsai/lib/python3.8/site-packages/pandas/core/generic.py:5902\u001b[0m, in \u001b[0;36mNDFrame.__getattr__\u001b[0;34m(self, name)\u001b[0m\n\u001b[1;32m   5895\u001b[0m \u001b[38;5;28;01mif\u001b[39;00m (\n\u001b[1;32m   5896\u001b[0m     name \u001b[38;5;129;01mnot\u001b[39;00m \u001b[38;5;129;01min\u001b[39;00m \u001b[38;5;28mself\u001b[39m\u001b[38;5;241m.\u001b[39m_internal_names_set\n\u001b[1;32m   5897\u001b[0m     \u001b[38;5;129;01mand\u001b[39;00m name \u001b[38;5;129;01mnot\u001b[39;00m \u001b[38;5;129;01min\u001b[39;00m \u001b[38;5;28mself\u001b[39m\u001b[38;5;241m.\u001b[39m_metadata\n\u001b[1;32m   5898\u001b[0m     \u001b[38;5;129;01mand\u001b[39;00m name \u001b[38;5;129;01mnot\u001b[39;00m \u001b[38;5;129;01min\u001b[39;00m \u001b[38;5;28mself\u001b[39m\u001b[38;5;241m.\u001b[39m_accessors\n\u001b[1;32m   5899\u001b[0m     \u001b[38;5;129;01mand\u001b[39;00m \u001b[38;5;28mself\u001b[39m\u001b[38;5;241m.\u001b[39m_info_axis\u001b[38;5;241m.\u001b[39m_can_hold_identifiers_and_holds_name(name)\n\u001b[1;32m   5900\u001b[0m ):\n\u001b[1;32m   5901\u001b[0m     \u001b[38;5;28;01mreturn\u001b[39;00m \u001b[38;5;28mself\u001b[39m[name]\n\u001b[0;32m-> 5902\u001b[0m \u001b[38;5;28;01mreturn\u001b[39;00m \u001b[38;5;28;43mobject\u001b[39;49m\u001b[38;5;241;43m.\u001b[39;49m\u001b[38;5;21;43m__getattribute__\u001b[39;49m\u001b[43m(\u001b[49m\u001b[38;5;28;43mself\u001b[39;49m\u001b[43m,\u001b[49m\u001b[43m \u001b[49m\u001b[43mname\u001b[49m\u001b[43m)\u001b[49m\n",
      "\u001b[0;31mAttributeError\u001b[0m: 'DataFrame' object has no attribute 'names'"
     ]
    }
   ],
   "source": [
    "election_subset_result = pd.DataFrame(election_subset_table).T\n",
    "election_result = pd.DataFrame(election_table).T\n",
    "\n",
    "biden_subset_result = pd.DataFrame(biden_subset_table).T\n",
    "biden_result = pd.DataFrame(biden_table).T\n",
    "\n",
    "\n",
    "trump_subset_result = pd.DataFrame(trump_subset_table).T\n",
    "trump_result = pd.DataFrame(trump_table).T\n",
    "\n",
    "republican_subset_result = pd.DataFrame(republican_subset_table).T\n",
    "republican_result = pd.DataFrame(republican_table).T\n",
    "\n",
    "democratic_subset_result = pd.DataFrame(democratic_subset_table).T\n",
    "democratic_result = pd.DataFrame(democratic_table).T"
   ]
  },
  {
   "cell_type": "code",
   "execution_count": 45,
   "id": "51b44ddb",
   "metadata": {},
   "outputs": [],
   "source": [
    "election_subset_result.to_csv(path+ 'election_subset_result.csv')\n",
    "election_result.to_csv(path+ 'election_result.csv')\n",
    "\n",
    "biden_subset_result.to_csv(path+ 'biden_subset_result.csv')\n",
    "biden_result.to_csv(path+ 'biden_result.csv')\n",
    "\n",
    "trump_subset_result.to_csv(path+ 'trump_subset_result.csv')\n",
    "trump_result.to_csv(path+ 'trump_result.csv')\n",
    "\n",
    "republican_subset_result.to_csv(path+ 'republican_subset_result.csv')\n",
    "republican_result.to_csv(path+ 'republican_result.csv')\n",
    "\n",
    "democratic_subset_result.to_csv(path+ 'democratic_subset_result.csv')\n",
    "democratic_result.to_csv(path+ 'democratic_result.csv')"
   ]
  },
  {
   "cell_type": "markdown",
   "id": "ebd31407",
   "metadata": {},
   "source": [
    "##  cnn: 1, pbs: 0, foxnews: -1"
   ]
  },
  {
   "cell_type": "markdown",
   "id": "4ed75ec1",
   "metadata": {},
   "source": [
    "### CNN VS PBS\n"
   ]
  },
  {
   "cell_type": "code",
   "execution_count": 41,
   "id": "6dc0d2c8",
   "metadata": {},
   "outputs": [],
   "source": [
    "def get_2news(data, except_num):\n",
    "    return data[data.source_num!=except_num]\n",
    "\n",
    "cnn_pbs = get_2news(df, -1)\n",
    "cnn_pbs_subset = get_2news(subset_df, -1)\n",
    "\n",
    "cnn_pbs_rep = get_2news(republican_df, -1)\n",
    "cnn_pbs_rep_subset = get_2news(republican_subset, -1)\n",
    "\n",
    "cnn_pbs_trump = get_2news(trump_df, -1)\n",
    "cnn_pbs_trump_subset = get_2news(trump_subset, -1)\n",
    "\n",
    "cnn_pbs_dem = get_2news(democratic_df, -1)\n",
    "cnn_pbs_dem_subset = get_2news(democratic_subset, -1)\n",
    "\n",
    "cnn_pbs_biden = get_2news(biden_df, -1)\n",
    "cnn_pbs_biden_subset = get_2news(biden_subset, -1)\n",
    "\n",
    "cnn_pbs_election = get_2news(election_df, -1)\n",
    "cnn_pbs_election_subset = get_2news(election_subset, -1)\n"
   ]
  },
  {
   "cell_type": "markdown",
   "id": "28863cd2",
   "metadata": {},
   "source": [
    "#### whole"
   ]
  },
  {
   "cell_type": "code",
   "execution_count": 46,
   "id": "d0b7f0f8",
   "metadata": {},
   "outputs": [
    {
     "name": "stdout",
     "output_type": "stream",
     "text": [
      "K Neighbors Classifier: accuracy 0.8140517696777602/ f1 0.8041968711001628\n",
      "Multinomial Naive Bayes: accuracy 0.7770734284204965/ f1 0.6801268428298619\n",
      "Support Vector Machine: accuracy 0.8103539355520338/ f1 0.752011669923128\n",
      "Decision Tree: accuracy 0.93026941362916/ f1 0.9296607939735608\n"
     ]
    }
   ],
   "source": [
    "cnn_pbs_dict = generate_evaluate(cnn_pbs)\n",
    "cnn_pbs_result = pd.DataFrame(cnn_pbs_dict).T\n",
    "cnn_pbs_result.to_csv(path+ 'cnn_pbs_result.csv')"
   ]
  },
  {
   "cell_type": "code",
   "execution_count": 47,
   "id": "2be6e500",
   "metadata": {},
   "outputs": [
    {
     "name": "stdout",
     "output_type": "stream",
     "text": [
      "K Neighbors Classifier: accuracy 0.6932084309133489/ f1 0.6932757595983048\n",
      "Multinomial Naive Bayes: accuracy 0.8044496487119438/ f1 0.8040202026492713\n",
      "Support Vector Machine: accuracy 0.7669789227166276/ f1 0.7653689139645339\n",
      "Decision Tree: accuracy 0.8723653395784543/ f1 0.8723697184805\n"
     ]
    }
   ],
   "source": [
    "cnn_pbs_subset_dict = generate_evaluate(cnn_pbs_subset)\n",
    "cnn_pbs_subset_result = pd.DataFrame(cnn_pbs_subset_dict).T\n",
    "cnn_pbs_subset_result.to_csv(path+ 'cnn_pbs_subset_result.csv')"
   ]
  },
  {
   "cell_type": "markdown",
   "id": "61959013",
   "metadata": {},
   "source": [
    "#### rep"
   ]
  },
  {
   "cell_type": "code",
   "execution_count": 48,
   "id": "44a834b1",
   "metadata": {},
   "outputs": [
    {
     "name": "stdout",
     "output_type": "stream",
     "text": [
      "K Neighbors Classifier: accuracy 0.8072289156626506/ f1 0.7966503980697741\n",
      "Multinomial Naive Bayes: accuracy 0.7849860982391103/ f1 0.6904291019818551\n",
      "Support Vector Machine: accuracy 0.8266913809082483/ f1 0.7768066570984876\n",
      "Decision Tree: accuracy 0.9249304911955515/ f1 0.9248715670094069\n"
     ]
    }
   ],
   "source": [
    "cnn_pbs_rep_dict = generate_evaluate(cnn_pbs_rep)\n",
    "cnn_pbs_rep_result = pd.DataFrame(cnn_pbs_rep_dict).T\n",
    "cnn_pbs_rep_result.to_csv(path+ 'cnn_pbs_rep_result.csv')"
   ]
  },
  {
   "cell_type": "code",
   "execution_count": 49,
   "id": "58b56897",
   "metadata": {},
   "outputs": [
    {
     "name": "stdout",
     "output_type": "stream",
     "text": [
      "K Neighbors Classifier: accuracy 0.6696035242290749/ f1 0.6693213149822066\n",
      "Multinomial Naive Bayes: accuracy 0.7775330396475771/ f1 0.7773095307253408\n",
      "Support Vector Machine: accuracy 0.7819383259911894/ f1 0.7816465031845827\n",
      "Decision Tree: accuracy 0.8832599118942731/ f1 0.8832854090377912\n"
     ]
    }
   ],
   "source": [
    "cnn_pbs_rep_subset_dict = generate_evaluate(cnn_pbs_rep_subset)\n",
    "cnn_pbs_rep_subset_result = pd.DataFrame(cnn_pbs_rep_subset_dict).T\n",
    "cnn_pbs_rep_subset_result.to_csv(path+ 'cnn_pbs_rep_subset_result.csv')\n"
   ]
  },
  {
   "cell_type": "markdown",
   "id": "7b8bd3ff",
   "metadata": {},
   "source": [
    "#### trump"
   ]
  },
  {
   "cell_type": "code",
   "execution_count": null,
   "id": "b8c31a7d",
   "metadata": {},
   "outputs": [],
   "source": [
    "cnn_pbs_trump_dict = generate_evaluate(cnn_pbs_trump)\n",
    "cnn_pbs_trump_result = pd.DataFrame(cnn_pbs_trump_dict).T\n",
    "cnn_pbs_trump_result.to_csv(path+ 'cnn_pbs_trump_result.csv')"
   ]
  },
  {
   "cell_type": "code",
   "execution_count": null,
   "id": "08b84562",
   "metadata": {},
   "outputs": [],
   "source": [
    "cnn_pbs_trump_subset_dict = generate_evaluate(cnn_pbs_trump_subset)\n",
    "cnn_pbs_trump_subset_result = pd.DataFrame(cnn_pbs_trump_subset_dict).T\n",
    "cnn_pbs_trump_subset_result.to_csv(path+ 'cnn_pbs_trump_subset_result.csv')\n"
   ]
  },
  {
   "cell_type": "markdown",
   "id": "abe9122d",
   "metadata": {},
   "source": [
    "#### democractic"
   ]
  },
  {
   "cell_type": "code",
   "execution_count": null,
   "id": "d6528ec6",
   "metadata": {},
   "outputs": [],
   "source": [
    "cnn_pbs_dem_dict = generate_evaluate(cnn_pbs_dem)\n",
    "cnn_pbs_dem_result = pd.DataFrame(cnn_pbs_dem_dict).T\n",
    "cnn_pbs_dem_result.to_csv(path+ 'cnn_pbs_dem_result.csv')"
   ]
  },
  {
   "cell_type": "code",
   "execution_count": null,
   "id": "7b98b83b",
   "metadata": {},
   "outputs": [],
   "source": [
    "cnn_pbs_dem_subset_dict = generate_evaluate(cnn_pbs_dem_subset)\n",
    "cnn_pbs_dem_subset_result = pd.DataFrame(cnn_pbs_dem_subset_dict).T\n",
    "cnn_pbs_dem_subset_result.to_csv(path+ 'cnn_pbs_dem_subset_result.csv')"
   ]
  },
  {
   "cell_type": "markdown",
   "id": "cffa902f",
   "metadata": {},
   "source": [
    "#### Biden"
   ]
  },
  {
   "cell_type": "code",
   "execution_count": null,
   "id": "c7be29ef",
   "metadata": {},
   "outputs": [],
   "source": [
    "cnn_pbs_biden_dict = generate_evaluate(cnn_pbs_biden)\n",
    "cnn_pbs_biden_result = pd.DataFrame(cnn_pbs_biden_dict).T\n",
    "cnn_pbs_biden_result.to_csv(path+ 'cnn_pbs_biden_result.csv')"
   ]
  },
  {
   "cell_type": "code",
   "execution_count": null,
   "id": "5b80f16c",
   "metadata": {},
   "outputs": [],
   "source": [
    "cnn_pbs_biden_subset_dict = generate_evaluate(cnn_pbs_biden_subset)\n",
    "cnn_pbs_biden_subset_result = pd.DataFrame(cnn_pbs_biden_subset_dict).T\n",
    "cnn_pbs_biden_subset_result.to_csv(path+ 'cnn_pbs_biden_subset_result.csv')"
   ]
  },
  {
   "cell_type": "markdown",
   "id": "41150c1e",
   "metadata": {},
   "source": [
    "#### election"
   ]
  },
  {
   "cell_type": "code",
   "execution_count": null,
   "id": "17bbe41b",
   "metadata": {},
   "outputs": [],
   "source": [
    "cnn_pbs_election_dict = generate_evaluate(cnn_pbs_election)\n",
    "cnn_pbs_election_result = pd.DataFrame(cnn_pbs_election_dict).T\n",
    "cnn_pbs_election_result.to_csv(path+ 'cnn_pbs_election_result.csv')"
   ]
  },
  {
   "cell_type": "code",
   "execution_count": null,
   "id": "4b78bc85",
   "metadata": {},
   "outputs": [],
   "source": [
    "cnn_pbs_election_subset_dict = generate_evaluate(cnn_pbs_election_subset)\n",
    "cnn_pbs_election_subset_result = pd.DataFrame(cnn_pbs_election_subset_dict).T\n",
    "cnn_pbs_election_subset_result.to_csv(path+ 'cnn_pbs_election_subset_result.csv')"
   ]
  },
  {
   "cell_type": "code",
   "execution_count": null,
   "id": "28bf0a58",
   "metadata": {},
   "outputs": [],
   "source": []
  }
 ],
 "metadata": {
  "kernelspec": {
   "display_name": "Python 3 (ipykernel)",
   "language": "python",
   "name": "python3"
  },
  "language_info": {
   "codemirror_mode": {
    "name": "ipython",
    "version": 3
   },
   "file_extension": ".py",
   "mimetype": "text/x-python",
   "name": "python",
   "nbconvert_exporter": "python",
   "pygments_lexer": "ipython3",
   "version": "3.8.16"
  }
 },
 "nbformat": 4,
 "nbformat_minor": 5
}
