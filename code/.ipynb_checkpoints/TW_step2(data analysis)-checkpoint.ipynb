{
 "cells": [
  {
   "cell_type": "code",
   "execution_count": 1,
   "id": "c2aa4f3a",
   "metadata": {},
   "outputs": [],
   "source": [
    "import requests\n",
    "import json\n",
    "import datetime\n",
    "import pandas as pd\n",
    "import re\n",
    "import os\n",
    "import random\n",
    "import urllib3\n",
    "import time\n",
    "import matplotlib\n",
    "import nltk\n",
    "\n",
    "from nltk.corpus import stopwords\n",
    "from wordcloud import WordCloud,STOPWORDS\n",
    "from datetime import datetime\n",
    "from tqdm.notebook import tqdm\n",
    "\n",
    "import matplotlib.pyplot as plt\n",
    "import seaborn as sns\n",
    "\n",
    "path = '../data/TW/'"
   ]
  },
  {
   "cell_type": "markdown",
   "id": "0cd54f10",
   "metadata": {},
   "source": [
    "# 0. load all data"
   ]
  },
  {
   "cell_type": "markdown",
   "id": "89388080",
   "metadata": {},
   "source": [
    "## read in LTN News"
   ]
  },
  {
   "cell_type": "code",
   "execution_count": 2,
   "id": "80225985",
   "metadata": {},
   "outputs": [
    {
     "ename": "FileNotFoundError",
     "evalue": "[Errno 2] No such file or directory: '../data/TW/itn_contents.csv'",
     "output_type": "error",
     "traceback": [
      "\u001b[0;31m---------------------------------------------------------------------------\u001b[0m",
      "\u001b[0;31mFileNotFoundError\u001b[0m                         Traceback (most recent call last)",
      "Input \u001b[0;32mIn [2]\u001b[0m, in \u001b[0;36m<cell line: 3>\u001b[0;34m()\u001b[0m\n\u001b[1;32m      1\u001b[0m Itn_df \u001b[38;5;241m=\u001b[39m pd\u001b[38;5;241m.\u001b[39mread_csv(path \u001b[38;5;241m+\u001b[39m \u001b[38;5;124m'\u001b[39m\u001b[38;5;124mitn_news.csv\u001b[39m\u001b[38;5;124m'\u001b[39m)\n\u001b[0;32m----> 3\u001b[0m Itn_contents_df \u001b[38;5;241m=\u001b[39m \u001b[43mpd\u001b[49m\u001b[38;5;241;43m.\u001b[39;49m\u001b[43mread_csv\u001b[49m\u001b[43m(\u001b[49m\u001b[43mpath\u001b[49m\u001b[43m \u001b[49m\u001b[38;5;241;43m+\u001b[39;49m\u001b[43m \u001b[49m\u001b[38;5;124;43m'\u001b[39;49m\u001b[38;5;124;43mitn_contents.csv\u001b[39;49m\u001b[38;5;124;43m'\u001b[39;49m\u001b[43m)\u001b[49m\n",
      "File \u001b[0;32m~/opt/anaconda3/envs/newsai/lib/python3.8/site-packages/pandas/util/_decorators.py:211\u001b[0m, in \u001b[0;36mdeprecate_kwarg.<locals>._deprecate_kwarg.<locals>.wrapper\u001b[0;34m(*args, **kwargs)\u001b[0m\n\u001b[1;32m    209\u001b[0m     \u001b[38;5;28;01melse\u001b[39;00m:\n\u001b[1;32m    210\u001b[0m         kwargs[new_arg_name] \u001b[38;5;241m=\u001b[39m new_arg_value\n\u001b[0;32m--> 211\u001b[0m \u001b[38;5;28;01mreturn\u001b[39;00m \u001b[43mfunc\u001b[49m\u001b[43m(\u001b[49m\u001b[38;5;241;43m*\u001b[39;49m\u001b[43margs\u001b[49m\u001b[43m,\u001b[49m\u001b[43m \u001b[49m\u001b[38;5;241;43m*\u001b[39;49m\u001b[38;5;241;43m*\u001b[39;49m\u001b[43mkwargs\u001b[49m\u001b[43m)\u001b[49m\n",
      "File \u001b[0;32m~/opt/anaconda3/envs/newsai/lib/python3.8/site-packages/pandas/util/_decorators.py:331\u001b[0m, in \u001b[0;36mdeprecate_nonkeyword_arguments.<locals>.decorate.<locals>.wrapper\u001b[0;34m(*args, **kwargs)\u001b[0m\n\u001b[1;32m    325\u001b[0m \u001b[38;5;28;01mif\u001b[39;00m \u001b[38;5;28mlen\u001b[39m(args) \u001b[38;5;241m>\u001b[39m num_allow_args:\n\u001b[1;32m    326\u001b[0m     warnings\u001b[38;5;241m.\u001b[39mwarn(\n\u001b[1;32m    327\u001b[0m         msg\u001b[38;5;241m.\u001b[39mformat(arguments\u001b[38;5;241m=\u001b[39m_format_argument_list(allow_args)),\n\u001b[1;32m    328\u001b[0m         \u001b[38;5;167;01mFutureWarning\u001b[39;00m,\n\u001b[1;32m    329\u001b[0m         stacklevel\u001b[38;5;241m=\u001b[39mfind_stack_level(),\n\u001b[1;32m    330\u001b[0m     )\n\u001b[0;32m--> 331\u001b[0m \u001b[38;5;28;01mreturn\u001b[39;00m \u001b[43mfunc\u001b[49m\u001b[43m(\u001b[49m\u001b[38;5;241;43m*\u001b[39;49m\u001b[43margs\u001b[49m\u001b[43m,\u001b[49m\u001b[43m \u001b[49m\u001b[38;5;241;43m*\u001b[39;49m\u001b[38;5;241;43m*\u001b[39;49m\u001b[43mkwargs\u001b[49m\u001b[43m)\u001b[49m\n",
      "File \u001b[0;32m~/opt/anaconda3/envs/newsai/lib/python3.8/site-packages/pandas/io/parsers/readers.py:950\u001b[0m, in \u001b[0;36mread_csv\u001b[0;34m(filepath_or_buffer, sep, delimiter, header, names, index_col, usecols, squeeze, prefix, mangle_dupe_cols, dtype, engine, converters, true_values, false_values, skipinitialspace, skiprows, skipfooter, nrows, na_values, keep_default_na, na_filter, verbose, skip_blank_lines, parse_dates, infer_datetime_format, keep_date_col, date_parser, dayfirst, cache_dates, iterator, chunksize, compression, thousands, decimal, lineterminator, quotechar, quoting, doublequote, escapechar, comment, encoding, encoding_errors, dialect, error_bad_lines, warn_bad_lines, on_bad_lines, delim_whitespace, low_memory, memory_map, float_precision, storage_options)\u001b[0m\n\u001b[1;32m    935\u001b[0m kwds_defaults \u001b[38;5;241m=\u001b[39m _refine_defaults_read(\n\u001b[1;32m    936\u001b[0m     dialect,\n\u001b[1;32m    937\u001b[0m     delimiter,\n\u001b[0;32m   (...)\u001b[0m\n\u001b[1;32m    946\u001b[0m     defaults\u001b[38;5;241m=\u001b[39m{\u001b[38;5;124m\"\u001b[39m\u001b[38;5;124mdelimiter\u001b[39m\u001b[38;5;124m\"\u001b[39m: \u001b[38;5;124m\"\u001b[39m\u001b[38;5;124m,\u001b[39m\u001b[38;5;124m\"\u001b[39m},\n\u001b[1;32m    947\u001b[0m )\n\u001b[1;32m    948\u001b[0m kwds\u001b[38;5;241m.\u001b[39mupdate(kwds_defaults)\n\u001b[0;32m--> 950\u001b[0m \u001b[38;5;28;01mreturn\u001b[39;00m \u001b[43m_read\u001b[49m\u001b[43m(\u001b[49m\u001b[43mfilepath_or_buffer\u001b[49m\u001b[43m,\u001b[49m\u001b[43m \u001b[49m\u001b[43mkwds\u001b[49m\u001b[43m)\u001b[49m\n",
      "File \u001b[0;32m~/opt/anaconda3/envs/newsai/lib/python3.8/site-packages/pandas/io/parsers/readers.py:605\u001b[0m, in \u001b[0;36m_read\u001b[0;34m(filepath_or_buffer, kwds)\u001b[0m\n\u001b[1;32m    602\u001b[0m _validate_names(kwds\u001b[38;5;241m.\u001b[39mget(\u001b[38;5;124m\"\u001b[39m\u001b[38;5;124mnames\u001b[39m\u001b[38;5;124m\"\u001b[39m, \u001b[38;5;28;01mNone\u001b[39;00m))\n\u001b[1;32m    604\u001b[0m \u001b[38;5;66;03m# Create the parser.\u001b[39;00m\n\u001b[0;32m--> 605\u001b[0m parser \u001b[38;5;241m=\u001b[39m \u001b[43mTextFileReader\u001b[49m\u001b[43m(\u001b[49m\u001b[43mfilepath_or_buffer\u001b[49m\u001b[43m,\u001b[49m\u001b[43m \u001b[49m\u001b[38;5;241;43m*\u001b[39;49m\u001b[38;5;241;43m*\u001b[39;49m\u001b[43mkwds\u001b[49m\u001b[43m)\u001b[49m\n\u001b[1;32m    607\u001b[0m \u001b[38;5;28;01mif\u001b[39;00m chunksize \u001b[38;5;129;01mor\u001b[39;00m iterator:\n\u001b[1;32m    608\u001b[0m     \u001b[38;5;28;01mreturn\u001b[39;00m parser\n",
      "File \u001b[0;32m~/opt/anaconda3/envs/newsai/lib/python3.8/site-packages/pandas/io/parsers/readers.py:1442\u001b[0m, in \u001b[0;36mTextFileReader.__init__\u001b[0;34m(self, f, engine, **kwds)\u001b[0m\n\u001b[1;32m   1439\u001b[0m     \u001b[38;5;28mself\u001b[39m\u001b[38;5;241m.\u001b[39moptions[\u001b[38;5;124m\"\u001b[39m\u001b[38;5;124mhas_index_names\u001b[39m\u001b[38;5;124m\"\u001b[39m] \u001b[38;5;241m=\u001b[39m kwds[\u001b[38;5;124m\"\u001b[39m\u001b[38;5;124mhas_index_names\u001b[39m\u001b[38;5;124m\"\u001b[39m]\n\u001b[1;32m   1441\u001b[0m \u001b[38;5;28mself\u001b[39m\u001b[38;5;241m.\u001b[39mhandles: IOHandles \u001b[38;5;241m|\u001b[39m \u001b[38;5;28;01mNone\u001b[39;00m \u001b[38;5;241m=\u001b[39m \u001b[38;5;28;01mNone\u001b[39;00m\n\u001b[0;32m-> 1442\u001b[0m \u001b[38;5;28mself\u001b[39m\u001b[38;5;241m.\u001b[39m_engine \u001b[38;5;241m=\u001b[39m \u001b[38;5;28;43mself\u001b[39;49m\u001b[38;5;241;43m.\u001b[39;49m\u001b[43m_make_engine\u001b[49m\u001b[43m(\u001b[49m\u001b[43mf\u001b[49m\u001b[43m,\u001b[49m\u001b[43m \u001b[49m\u001b[38;5;28;43mself\u001b[39;49m\u001b[38;5;241;43m.\u001b[39;49m\u001b[43mengine\u001b[49m\u001b[43m)\u001b[49m\n",
      "File \u001b[0;32m~/opt/anaconda3/envs/newsai/lib/python3.8/site-packages/pandas/io/parsers/readers.py:1735\u001b[0m, in \u001b[0;36mTextFileReader._make_engine\u001b[0;34m(self, f, engine)\u001b[0m\n\u001b[1;32m   1733\u001b[0m     \u001b[38;5;28;01mif\u001b[39;00m \u001b[38;5;124m\"\u001b[39m\u001b[38;5;124mb\u001b[39m\u001b[38;5;124m\"\u001b[39m \u001b[38;5;129;01mnot\u001b[39;00m \u001b[38;5;129;01min\u001b[39;00m mode:\n\u001b[1;32m   1734\u001b[0m         mode \u001b[38;5;241m+\u001b[39m\u001b[38;5;241m=\u001b[39m \u001b[38;5;124m\"\u001b[39m\u001b[38;5;124mb\u001b[39m\u001b[38;5;124m\"\u001b[39m\n\u001b[0;32m-> 1735\u001b[0m \u001b[38;5;28mself\u001b[39m\u001b[38;5;241m.\u001b[39mhandles \u001b[38;5;241m=\u001b[39m \u001b[43mget_handle\u001b[49m\u001b[43m(\u001b[49m\n\u001b[1;32m   1736\u001b[0m \u001b[43m    \u001b[49m\u001b[43mf\u001b[49m\u001b[43m,\u001b[49m\n\u001b[1;32m   1737\u001b[0m \u001b[43m    \u001b[49m\u001b[43mmode\u001b[49m\u001b[43m,\u001b[49m\n\u001b[1;32m   1738\u001b[0m \u001b[43m    \u001b[49m\u001b[43mencoding\u001b[49m\u001b[38;5;241;43m=\u001b[39;49m\u001b[38;5;28;43mself\u001b[39;49m\u001b[38;5;241;43m.\u001b[39;49m\u001b[43moptions\u001b[49m\u001b[38;5;241;43m.\u001b[39;49m\u001b[43mget\u001b[49m\u001b[43m(\u001b[49m\u001b[38;5;124;43m\"\u001b[39;49m\u001b[38;5;124;43mencoding\u001b[39;49m\u001b[38;5;124;43m\"\u001b[39;49m\u001b[43m,\u001b[49m\u001b[43m \u001b[49m\u001b[38;5;28;43;01mNone\u001b[39;49;00m\u001b[43m)\u001b[49m\u001b[43m,\u001b[49m\n\u001b[1;32m   1739\u001b[0m \u001b[43m    \u001b[49m\u001b[43mcompression\u001b[49m\u001b[38;5;241;43m=\u001b[39;49m\u001b[38;5;28;43mself\u001b[39;49m\u001b[38;5;241;43m.\u001b[39;49m\u001b[43moptions\u001b[49m\u001b[38;5;241;43m.\u001b[39;49m\u001b[43mget\u001b[49m\u001b[43m(\u001b[49m\u001b[38;5;124;43m\"\u001b[39;49m\u001b[38;5;124;43mcompression\u001b[39;49m\u001b[38;5;124;43m\"\u001b[39;49m\u001b[43m,\u001b[49m\u001b[43m \u001b[49m\u001b[38;5;28;43;01mNone\u001b[39;49;00m\u001b[43m)\u001b[49m\u001b[43m,\u001b[49m\n\u001b[1;32m   1740\u001b[0m \u001b[43m    \u001b[49m\u001b[43mmemory_map\u001b[49m\u001b[38;5;241;43m=\u001b[39;49m\u001b[38;5;28;43mself\u001b[39;49m\u001b[38;5;241;43m.\u001b[39;49m\u001b[43moptions\u001b[49m\u001b[38;5;241;43m.\u001b[39;49m\u001b[43mget\u001b[49m\u001b[43m(\u001b[49m\u001b[38;5;124;43m\"\u001b[39;49m\u001b[38;5;124;43mmemory_map\u001b[39;49m\u001b[38;5;124;43m\"\u001b[39;49m\u001b[43m,\u001b[49m\u001b[43m \u001b[49m\u001b[38;5;28;43;01mFalse\u001b[39;49;00m\u001b[43m)\u001b[49m\u001b[43m,\u001b[49m\n\u001b[1;32m   1741\u001b[0m \u001b[43m    \u001b[49m\u001b[43mis_text\u001b[49m\u001b[38;5;241;43m=\u001b[39;49m\u001b[43mis_text\u001b[49m\u001b[43m,\u001b[49m\n\u001b[1;32m   1742\u001b[0m \u001b[43m    \u001b[49m\u001b[43merrors\u001b[49m\u001b[38;5;241;43m=\u001b[39;49m\u001b[38;5;28;43mself\u001b[39;49m\u001b[38;5;241;43m.\u001b[39;49m\u001b[43moptions\u001b[49m\u001b[38;5;241;43m.\u001b[39;49m\u001b[43mget\u001b[49m\u001b[43m(\u001b[49m\u001b[38;5;124;43m\"\u001b[39;49m\u001b[38;5;124;43mencoding_errors\u001b[39;49m\u001b[38;5;124;43m\"\u001b[39;49m\u001b[43m,\u001b[49m\u001b[43m \u001b[49m\u001b[38;5;124;43m\"\u001b[39;49m\u001b[38;5;124;43mstrict\u001b[39;49m\u001b[38;5;124;43m\"\u001b[39;49m\u001b[43m)\u001b[49m\u001b[43m,\u001b[49m\n\u001b[1;32m   1743\u001b[0m \u001b[43m    \u001b[49m\u001b[43mstorage_options\u001b[49m\u001b[38;5;241;43m=\u001b[39;49m\u001b[38;5;28;43mself\u001b[39;49m\u001b[38;5;241;43m.\u001b[39;49m\u001b[43moptions\u001b[49m\u001b[38;5;241;43m.\u001b[39;49m\u001b[43mget\u001b[49m\u001b[43m(\u001b[49m\u001b[38;5;124;43m\"\u001b[39;49m\u001b[38;5;124;43mstorage_options\u001b[39;49m\u001b[38;5;124;43m\"\u001b[39;49m\u001b[43m,\u001b[49m\u001b[43m \u001b[49m\u001b[38;5;28;43;01mNone\u001b[39;49;00m\u001b[43m)\u001b[49m\u001b[43m,\u001b[49m\n\u001b[1;32m   1744\u001b[0m \u001b[43m\u001b[49m\u001b[43m)\u001b[49m\n\u001b[1;32m   1745\u001b[0m \u001b[38;5;28;01massert\u001b[39;00m \u001b[38;5;28mself\u001b[39m\u001b[38;5;241m.\u001b[39mhandles \u001b[38;5;129;01mis\u001b[39;00m \u001b[38;5;129;01mnot\u001b[39;00m \u001b[38;5;28;01mNone\u001b[39;00m\n\u001b[1;32m   1746\u001b[0m f \u001b[38;5;241m=\u001b[39m \u001b[38;5;28mself\u001b[39m\u001b[38;5;241m.\u001b[39mhandles\u001b[38;5;241m.\u001b[39mhandle\n",
      "File \u001b[0;32m~/opt/anaconda3/envs/newsai/lib/python3.8/site-packages/pandas/io/common.py:856\u001b[0m, in \u001b[0;36mget_handle\u001b[0;34m(path_or_buf, mode, encoding, compression, memory_map, is_text, errors, storage_options)\u001b[0m\n\u001b[1;32m    851\u001b[0m \u001b[38;5;28;01melif\u001b[39;00m \u001b[38;5;28misinstance\u001b[39m(handle, \u001b[38;5;28mstr\u001b[39m):\n\u001b[1;32m    852\u001b[0m     \u001b[38;5;66;03m# Check whether the filename is to be opened in binary mode.\u001b[39;00m\n\u001b[1;32m    853\u001b[0m     \u001b[38;5;66;03m# Binary mode does not support 'encoding' and 'newline'.\u001b[39;00m\n\u001b[1;32m    854\u001b[0m     \u001b[38;5;28;01mif\u001b[39;00m ioargs\u001b[38;5;241m.\u001b[39mencoding \u001b[38;5;129;01mand\u001b[39;00m \u001b[38;5;124m\"\u001b[39m\u001b[38;5;124mb\u001b[39m\u001b[38;5;124m\"\u001b[39m \u001b[38;5;129;01mnot\u001b[39;00m \u001b[38;5;129;01min\u001b[39;00m ioargs\u001b[38;5;241m.\u001b[39mmode:\n\u001b[1;32m    855\u001b[0m         \u001b[38;5;66;03m# Encoding\u001b[39;00m\n\u001b[0;32m--> 856\u001b[0m         handle \u001b[38;5;241m=\u001b[39m \u001b[38;5;28;43mopen\u001b[39;49m\u001b[43m(\u001b[49m\n\u001b[1;32m    857\u001b[0m \u001b[43m            \u001b[49m\u001b[43mhandle\u001b[49m\u001b[43m,\u001b[49m\n\u001b[1;32m    858\u001b[0m \u001b[43m            \u001b[49m\u001b[43mioargs\u001b[49m\u001b[38;5;241;43m.\u001b[39;49m\u001b[43mmode\u001b[49m\u001b[43m,\u001b[49m\n\u001b[1;32m    859\u001b[0m \u001b[43m            \u001b[49m\u001b[43mencoding\u001b[49m\u001b[38;5;241;43m=\u001b[39;49m\u001b[43mioargs\u001b[49m\u001b[38;5;241;43m.\u001b[39;49m\u001b[43mencoding\u001b[49m\u001b[43m,\u001b[49m\n\u001b[1;32m    860\u001b[0m \u001b[43m            \u001b[49m\u001b[43merrors\u001b[49m\u001b[38;5;241;43m=\u001b[39;49m\u001b[43merrors\u001b[49m\u001b[43m,\u001b[49m\n\u001b[1;32m    861\u001b[0m \u001b[43m            \u001b[49m\u001b[43mnewline\u001b[49m\u001b[38;5;241;43m=\u001b[39;49m\u001b[38;5;124;43m\"\u001b[39;49m\u001b[38;5;124;43m\"\u001b[39;49m\u001b[43m,\u001b[49m\n\u001b[1;32m    862\u001b[0m \u001b[43m        \u001b[49m\u001b[43m)\u001b[49m\n\u001b[1;32m    863\u001b[0m     \u001b[38;5;28;01melse\u001b[39;00m:\n\u001b[1;32m    864\u001b[0m         \u001b[38;5;66;03m# Binary mode\u001b[39;00m\n\u001b[1;32m    865\u001b[0m         handle \u001b[38;5;241m=\u001b[39m \u001b[38;5;28mopen\u001b[39m(handle, ioargs\u001b[38;5;241m.\u001b[39mmode)\n",
      "\u001b[0;31mFileNotFoundError\u001b[0m: [Errno 2] No such file or directory: '../data/TW/itn_contents.csv'"
     ]
    }
   ],
   "source": [
    "Itn_df = pd.read_csv(path + 'itn_news.csv')\n",
    "\n",
    "Itn_contents_df = pd.read_csv(path + 'itn_contents.csv')"
   ]
  },
  {
   "cell_type": "code",
   "execution_count": null,
   "id": "d45badcc",
   "metadata": {},
   "outputs": [],
   "source": [
    "Itn_df = pd.merge(Itn_df, Itn_contents_df, on=\"id\")\n",
    "Itn_df.shape"
   ]
  },
  {
   "cell_type": "code",
   "execution_count": null,
   "id": "6ff5d7c6",
   "metadata": {},
   "outputs": [],
   "source": [
    "Itn_df.head()"
   ]
  },
  {
   "cell_type": "code",
   "execution_count": null,
   "id": "2b3a9781",
   "metadata": {},
   "outputs": [],
   "source": [
    "print(Itn_df.shape)\n",
    "Itn_df = Itn_df.dropna(axis=0)\n",
    "Itn_df = Itn_df.drop(columns=['id', 'url'])\n",
    "print(Itn_df.shape)"
   ]
  },
  {
   "cell_type": "code",
   "execution_count": null,
   "id": "72f37017",
   "metadata": {
    "scrolled": true
   },
   "outputs": [],
   "source": [
    "Itn_df['date'] = pd.to_datetime(Itn_df[\"release_at\"], utc=True)\n",
    "Itn_df = Itn_df.drop(columns=['release_at'])\n",
    "Itn_df.head()"
   ]
  },
  {
   "cell_type": "code",
   "execution_count": null,
   "id": "91333ce5",
   "metadata": {},
   "outputs": [],
   "source": [
    "Itn_df['source'] = 'ltn'"
   ]
  },
  {
   "cell_type": "markdown",
   "id": "b77e73ba",
   "metadata": {},
   "source": [
    "## read in CTI news"
   ]
  },
  {
   "cell_type": "code",
   "execution_count": null,
   "id": "6697c01b",
   "metadata": {
    "scrolled": true
   },
   "outputs": [],
   "source": [
    "cti_df =pd.read_csv(path +\"cti_news.csv\")\n",
    "print(cti_df.shape)\n",
    "cti_df.head(2)"
   ]
  },
  {
   "cell_type": "code",
   "execution_count": null,
   "id": "c4648075",
   "metadata": {},
   "outputs": [],
   "source": [
    "print(cti_df.shape)\n",
    "cti_df = cti_df.dropna(axis=0)\n",
    "print(cti_df.shape)\n",
    "cti_df.head(2)"
   ]
  },
  {
   "cell_type": "code",
   "execution_count": null,
   "id": "f92a940e",
   "metadata": {},
   "outputs": [],
   "source": [
    "cti_df['date'] = pd.to_datetime(cti_df[\"release_at\"], utc=True)\n",
    "cti_df = cti_df.drop(columns=['release_at', 'news_type.name','url'])\n",
    "cti_df.head()"
   ]
  },
  {
   "cell_type": "code",
   "execution_count": null,
   "id": "5172e4a4",
   "metadata": {},
   "outputs": [],
   "source": [
    "cti_df['source'] = 'cti'"
   ]
  },
  {
   "cell_type": "markdown",
   "id": "507a642c",
   "metadata": {},
   "source": [
    "## read cna reporter "
   ]
  },
  {
   "cell_type": "code",
   "execution_count": null,
   "id": "2ae41394",
   "metadata": {},
   "outputs": [],
   "source": [
    "cna_df = pd.read_csv(path + 'cna_contents.csv')\n",
    "print(cna_df.shape)\n",
    "reporter_df = pd.read_csv(path + 'reporter.csv')\n",
    "print(reporter_df.shape)\n",
    "\n",
    "neu_df = pd.concat([cna_df, reporter_df]).reset_index()\n",
    "print(neu_df.shape)"
   ]
  },
  {
   "cell_type": "code",
   "execution_count": null,
   "id": "81427344",
   "metadata": {},
   "outputs": [],
   "source": [
    "neu_df[\"content\"] = neu_df.content.str.replace('請同意我們的隱私權規範，才能啟用聽新聞的功能。', '')\n",
    "neu_df[\"content\"] = neu_df.content.str.replace('\\n\\n', ' ')"
   ]
  },
  {
   "cell_type": "code",
   "execution_count": null,
   "id": "3f9157ff",
   "metadata": {
    "scrolled": true
   },
   "outputs": [],
   "source": [
    "## create onehot coded keywords recors\n",
    "neu_df['keyword_tsai'] = False\n",
    "neu_df.loc[neu_df.content.str.contains('蔡英文'), 'keyword_tsai'] = True\n",
    "\n",
    "neu_df['keyword_dpp'] = False\n",
    "neu_df.loc[neu_df.content.str.contains('民進黨'), 'keyword_dpp'] = True\n",
    "\n",
    "neu_df['keyword_han'] = False\n",
    "neu_df.loc[neu_df.content.str.contains('韓國瑜'), 'keyword_han'] = True\n",
    "\n",
    "neu_df['keyword_kmt'] = False\n",
    "neu_df.loc[neu_df.content.str.contains('國民黨'), 'keyword_kmt'] = True\n",
    "\n",
    "neu_df['keyword_election'] = False\n",
    "neu_df.loc[neu_df.content.str.contains('|'.join(['總統大選', '選舉', \"大選\"])), 'keyword_election'] = True\n",
    "\n",
    "\n",
    "neu_df.head(2)\n"
   ]
  },
  {
   "cell_type": "code",
   "execution_count": null,
   "id": "161320db",
   "metadata": {},
   "outputs": [],
   "source": [
    "neu_df = neu_df.drop(columns=['index', 'Unnamed: 0', 'description', 'url', 'publisher'])\n",
    "neu_df.head(2)"
   ]
  },
  {
   "cell_type": "code",
   "execution_count": null,
   "id": "151e8177",
   "metadata": {},
   "outputs": [],
   "source": [
    "# neu_df[neu_df.source!=\"cna\"]['source'] = 'reporter'\n",
    "# print(neu_df.shape)\n",
    "neu_df = neu_df.fillna({'source':'reporter'})\n",
    "\n",
    "neu_df[neu_df.source != 'cna']\n",
    "# neu_df.head()"
   ]
  },
  {
   "cell_type": "code",
   "execution_count": null,
   "id": "fa868458",
   "metadata": {},
   "outputs": [],
   "source": [
    "neu_df = neu_df[neu_df[['keyword_tsai', 'keyword_han', 'keyword_kmt', 'keyword_dpp', 'keyword_election']].any(axis=1)]\n",
    "print(neu_df.shape)"
   ]
  },
  {
   "cell_type": "code",
   "execution_count": null,
   "id": "b6c81855",
   "metadata": {},
   "outputs": [],
   "source": [
    "neu_df.groupby(\"source\").count()"
   ]
  },
  {
   "cell_type": "code",
   "execution_count": null,
   "id": "724ac708",
   "metadata": {
    "scrolled": true
   },
   "outputs": [],
   "source": [
    "neu_df['date'] = pd.to_datetime(neu_df[\"published date\"], utc=True)\n",
    "neu_df = neu_df.drop(columns=[\"published date\"])\n",
    "neu_df.head(2)"
   ]
  },
  {
   "cell_type": "code",
   "execution_count": null,
   "id": "b1ccc9e9",
   "metadata": {},
   "outputs": [],
   "source": [
    "neu_df['sub_source'] = neu_df.source\n",
    "neu_df['source'] = 0"
   ]
  },
  {
   "cell_type": "markdown",
   "id": "926ba710",
   "metadata": {},
   "source": [
    "## concat whole data"
   ]
  },
  {
   "cell_type": "code",
   "execution_count": null,
   "id": "f0bd561f",
   "metadata": {},
   "outputs": [],
   "source": [
    "df = pd.concat([Itn_df, cti_df, neu_df]).reset_index(drop=True)\n",
    "print(df.shape)"
   ]
  },
  {
   "cell_type": "code",
   "execution_count": null,
   "id": "e522bccf",
   "metadata": {},
   "outputs": [],
   "source": [
    "df"
   ]
  },
  {
   "cell_type": "code",
   "execution_count": null,
   "id": "724649f8",
   "metadata": {},
   "outputs": [],
   "source": [
    "## create onehot coded keywords recors\n",
    "df['keyword_tsai'] = False\n",
    "df.loc[df.content.str.contains('蔡英文'), 'keyword_tsai'] = True\n",
    "\n",
    "df['keyword_dpp'] = False\n",
    "df.loc[df.content.str.contains('民進黨'), 'keyword_dpp'] = True\n",
    "\n",
    "df['keyword_han'] = False\n",
    "df.loc[df.content.str.contains('韓國瑜'), 'keyword_han'] = True\n",
    "\n",
    "df['keyword_kmt'] = False\n",
    "df.loc[df.content.str.contains('國民黨'), 'keyword_kmt'] = True\n",
    "\n",
    "df['keyword_election'] = False\n",
    "df.loc[df.content.str.contains('|'.join(['總統大選', '選舉', \"大選\"])), 'keyword_election'] = True\n",
    "\n",
    "\n",
    "df.head(2)"
   ]
  },
  {
   "cell_type": "code",
   "execution_count": null,
   "id": "70d964fa",
   "metadata": {},
   "outputs": [],
   "source": [
    "print(df.shape)\n",
    "df = df[df[['keyword_tsai', 'keyword_han', 'keyword_kmt', 'keyword_dpp', 'keyword_election']].any(axis=1)]\n",
    "print(df.shape)\n"
   ]
  },
  {
   "cell_type": "code",
   "execution_count": null,
   "id": "85a8fd66",
   "metadata": {},
   "outputs": [],
   "source": [
    "print(len(df[df.source=='cti']), len(df[df.source=='ltn']))"
   ]
  },
  {
   "cell_type": "code",
   "execution_count": null,
   "id": "22f575e4",
   "metadata": {},
   "outputs": [],
   "source": [
    "# Count the number of observations for each source\n",
    "source_counts = df['source'].value_counts()\n",
    "\n",
    "# Find the minimum count among the sources\n",
    "min_count = source_counts.min()\n",
    "print(min_count)\n",
    "\n",
    "# Subset the data to include only observations with the minimum count for each source\n",
    "subset_df = df.groupby('source').apply(lambda x: x.sample(min_count)).reset_index(drop=True)"
   ]
  },
  {
   "cell_type": "code",
   "execution_count": null,
   "id": "83ce7fe9",
   "metadata": {},
   "outputs": [],
   "source": [
    "print(subset_df.shape)"
   ]
  },
  {
   "cell_type": "code",
   "execution_count": null,
   "id": "f13a40a1",
   "metadata": {},
   "outputs": [],
   "source": [
    "\n",
    "def show_keyword_weekly_count(data):\n",
    "#     convert 'date' column to datetime type and set as index\n",
    "\n",
    "    data = data.copy()\n",
    "    data['date'] = pd.to_datetime(data['date'])\n",
    "    \n",
    "    try:\n",
    "        data.set_index('date', inplace=True)\n",
    "    except: pass\n",
    "#     print(data)\n",
    "    \n",
    "    \n",
    "    # resample data by day and count the number of occurrences\n",
    "    weekly_counts = pd.DataFrame(data.resample('W').sum())\n",
    "    g = sns.lineplot(data=weekly_counts)\n",
    "#     , labels=['Trump', \"Republican\", \"Biden\", \"Democratic\", \"Election\"]\n",
    "    plt.axvline(x=pd.to_datetime('2020-01-11'), color='r', linestyle='--', label='2020 Presidential Election')\n",
    "\n",
    "    plt.legend(loc='upper left')\n",
    "    plt.show(g)\n"
   ]
  },
  {
   "cell_type": "code",
   "execution_count": null,
   "id": "68a3e985",
   "metadata": {},
   "outputs": [],
   "source": [
    "show_keyword_weekly_count(df)\n",
    "show_keyword_weekly_count(subset_df)"
   ]
  },
  {
   "cell_type": "code",
   "execution_count": null,
   "id": "5d0cf13f",
   "metadata": {},
   "outputs": [],
   "source": [
    "def show_source_weekly_count(data):\n",
    "    \n",
    "    data = data.copy()\n",
    "    \n",
    "    try:\n",
    "        data.set_index('date', inplace=True)\n",
    "    except: pass\n",
    "\n",
    "    # 获取“cnn”来源的数据，并按日期计数\n",
    "    cti_data = data[data['source'] == 'cti'].resample('W').count()\n",
    "\n",
    "    # 获取“fox news”来源的数据，并按日期计数\n",
    "    ltn_data = data[data['source'] == 'ltn'].resample('W').count()\n",
    "\n",
    "    # 获取“pbs”来源的数据，并按日期计数\n",
    "    neu_data = data[data['source'] == 0].resample('W').count()\n",
    "\n",
    "    # 绘制三个来源的折线图\n",
    "    plt.plot(cti_data.index, cti_data['source'], label='CTI News')\n",
    "    plt.plot(ltn_data.index, ltn_data['source'], label='LTN News')\n",
    "    plt.plot(neu_data.index, neu_data['source'], label='neutral')\n",
    "    plt.axvline(x=pd.to_datetime('2020-01-11'), color='r', linestyle='--', label='2020 Presidential Election')\n",
    "\n",
    "    # 添加标题和轴标签\n",
    "#     plt.title('Weekly Frequency by Source')\n",
    "    plt.xlabel('Date')\n",
    "    plt.ylabel('Frequency')\n",
    "\n",
    "    # 显示图例\n",
    "    plt.legend()\n",
    "\n",
    "    # 显示图形\n",
    "    plt.show()"
   ]
  },
  {
   "cell_type": "code",
   "execution_count": null,
   "id": "7ad6166a",
   "metadata": {},
   "outputs": [],
   "source": [
    "show_source_weekly_count(df)\n",
    "show_source_weekly_count(subset_df)"
   ]
  },
  {
   "cell_type": "code",
   "execution_count": null,
   "id": "68840e1b",
   "metadata": {},
   "outputs": [],
   "source": [
    "def show_keyword_source_barplot(df):\n",
    "    #show the relation between source and keyword\n",
    "\n",
    "    data = pd.DataFrame(df.groupby('source')[['keyword_tsai', 'keyword_dpp' , 'keyword_han', 'keyword_kmt', 'keyword_election']].sum())\n",
    "    data = data.reset_index()\n",
    "\n",
    "    # Melt the DataFrame to long format\n",
    "    data_melt = pd.melt(data, id_vars='source', var_name='keyword')\n",
    "#     print(data_melt)\n",
    "\n",
    "    # Group the data by source and keyword, and calculate the count\n",
    "    data_grouped = data_melt.groupby(['source', 'keyword'])['value'].sum().reset_index()\n",
    "\n",
    "#     print(data_grouped)\n",
    "    \n",
    "    sns.set_style(\"white\")\n",
    "    ax = sns.histplot(\n",
    "        data_grouped,\n",
    "        x='keyword',\n",
    "        # Use the value variable here to turn histogram counts into weighted\n",
    "        # values.\n",
    "        weights='value',\n",
    "        hue='source',\n",
    "        multiple='stack',\n",
    "        # Add white borders to the bars.\n",
    "        edgecolor='white',\n",
    "        # Shrink the bars a bit so they don't touch.\n",
    "        shrink=0.8\n",
    "    )\n",
    "    ax.set(xlabel='Keywords',\n",
    "           ylabel='Total Articles',\n",
    "           xticklabels=[\"DPP\", \"Election\",  \"Han\", \"KMT\", 'Tsai'])\n",
    "    for i in ax.containers:\n",
    "        ax.bar_label(i, label_type='center')\n",
    "\n",
    "    # Remove 'Count' ylabel.\n",
    "    ax.set_ylabel(None)\n",
    "    plt.legend(loc='upper left',labels = ['CNA&Reporter', 'CTI', 'LTN'])\n",
    "    plt.show()\n",
    "    "
   ]
  },
  {
   "cell_type": "code",
   "execution_count": null,
   "id": "1c972b05",
   "metadata": {},
   "outputs": [],
   "source": [
    "show_keyword_source_barplot(subset_df)"
   ]
  },
  {
   "cell_type": "code",
   "execution_count": null,
   "id": "0e26e1d0",
   "metadata": {},
   "outputs": [],
   "source": [
    "df.to_csv(path+ 'TW_news.')"
   ]
  },
  {
   "cell_type": "code",
   "execution_count": null,
   "id": "3be97ff3",
   "metadata": {},
   "outputs": [],
   "source": [
    "df.to_csv(path+ 'TW_news.')"
   ]
  }
 ],
 "metadata": {
  "kernelspec": {
   "display_name": "Python 3 (ipykernel)",
   "language": "python",
   "name": "python3"
  },
  "language_info": {
   "codemirror_mode": {
    "name": "ipython",
    "version": 3
   },
   "file_extension": ".py",
   "mimetype": "text/x-python",
   "name": "python",
   "nbconvert_exporter": "python",
   "pygments_lexer": "ipython3",
   "version": "3.8.16"
  }
 },
 "nbformat": 4,
 "nbformat_minor": 5
}
