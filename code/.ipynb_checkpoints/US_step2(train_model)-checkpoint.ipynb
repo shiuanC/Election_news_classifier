{
 "cells": [
  {
   "cell_type": "code",
   "execution_count": 1,
   "id": "2f16cfa8",
   "metadata": {},
   "outputs": [],
   "source": [
    "import requests\n",
    "import json\n",
    "import datetime\n",
    "import pandas as pd\n",
    "import numpy as np\n",
    "import re\n",
    "import os\n",
    "import random\n",
    "import urllib3\n",
    "import time\n",
    "import matplotlib\n",
    "import nltk\n",
    "\n",
    "from nltk.corpus import stopwords\n",
    "from wordcloud import WordCloud,STOPWORDS\n",
    "from datetime import datetime\n",
    "from tqdm.notebook import tqdm\n",
    "import matplotlib.pyplot as plt\n",
    "import seaborn as sns\n",
    "\n",
    "from sklearn.neighbors import KNeighborsClassifier\n",
    "from sklearn.naive_bayes import MultinomialNB\n",
    "from sklearn.tree import DecisionTreeClassifier, plot_tree\n",
    "from sklearn.svm import SVC\n",
    "from sklearn.feature_extraction.text import TfidfVectorizer\n",
    "from sklearn.model_selection import cross_val_score,train_test_split, validation_curve, cross_val_predict\n",
    "from sklearn.metrics import roc_curve, accuracy_score, recall_score, confusion_matrix,f1_score\n",
    "from sklearn import tree"
   ]
  },
  {
   "cell_type": "code",
   "execution_count": 2,
   "id": "0c28591a",
   "metadata": {},
   "outputs": [],
   "source": [
    "path = '../data/us/'"
   ]
  },
  {
   "cell_type": "code",
   "execution_count": 3,
   "id": "d6126a9b",
   "metadata": {},
   "outputs": [],
   "source": [
    "df = pd.read_csv(path + 'US.csv')\n"
   ]
  },
  {
   "cell_type": "code",
   "execution_count": 4,
   "id": "49ea53d3",
   "metadata": {},
   "outputs": [
    {
     "data": {
      "text/html": [
       "<div>\n",
       "<style scoped>\n",
       "    .dataframe tbody tr th:only-of-type {\n",
       "        vertical-align: middle;\n",
       "    }\n",
       "\n",
       "    .dataframe tbody tr th {\n",
       "        vertical-align: top;\n",
       "    }\n",
       "\n",
       "    .dataframe thead th {\n",
       "        text-align: right;\n",
       "    }\n",
       "</style>\n",
       "<table border=\"1\" class=\"dataframe\">\n",
       "  <thead>\n",
       "    <tr style=\"text-align: right;\">\n",
       "      <th></th>\n",
       "      <th>Unnamed: 0</th>\n",
       "      <th>title</th>\n",
       "      <th>date</th>\n",
       "      <th>content</th>\n",
       "      <th>source</th>\n",
       "      <th>keyword-trump</th>\n",
       "      <th>keyword-republican</th>\n",
       "      <th>keyword-biden</th>\n",
       "      <th>keyword-democratic</th>\n",
       "      <th>keyword-election</th>\n",
       "    </tr>\n",
       "  </thead>\n",
       "  <tbody>\n",
       "    <tr>\n",
       "      <th>0</th>\n",
       "      <td>0</td>\n",
       "      <td>'Empathy matters': Joe Biden's endorsers highl...</td>\n",
       "      <td>2020-04-15</td>\n",
       "      <td>CNN Nearly every top Democrat says the same t...</td>\n",
       "      <td>cnn</td>\n",
       "      <td>True</td>\n",
       "      <td>True</td>\n",
       "      <td>True</td>\n",
       "      <td>True</td>\n",
       "      <td>False</td>\n",
       "    </tr>\n",
       "    <tr>\n",
       "      <th>1</th>\n",
       "      <td>1</td>\n",
       "      <td>Elizabeth Warren endorses Joe Biden for president</td>\n",
       "      <td>2020-04-15</td>\n",
       "      <td>The former 2020 Democratic presidential candid...</td>\n",
       "      <td>cnn</td>\n",
       "      <td>True</td>\n",
       "      <td>False</td>\n",
       "      <td>True</td>\n",
       "      <td>True</td>\n",
       "      <td>True</td>\n",
       "    </tr>\n",
       "    <tr>\n",
       "      <th>2</th>\n",
       "      <td>2</td>\n",
       "      <td>Amid a pandemic, lawmakers urge leadership to ...</td>\n",
       "      <td>2020-04-15</td>\n",
       "      <td>CNN Many rank and file House Democrats are gr...</td>\n",
       "      <td>cnn</td>\n",
       "      <td>False</td>\n",
       "      <td>True</td>\n",
       "      <td>False</td>\n",
       "      <td>True</td>\n",
       "      <td>False</td>\n",
       "    </tr>\n",
       "    <tr>\n",
       "      <th>3</th>\n",
       "      <td>3</td>\n",
       "      <td>Stacey Abrams says she would be an 'excellent ...</td>\n",
       "      <td>2020-04-15</td>\n",
       "      <td>Washington CNN Former Georgia gubernatorial ca...</td>\n",
       "      <td>cnn</td>\n",
       "      <td>False</td>\n",
       "      <td>True</td>\n",
       "      <td>True</td>\n",
       "      <td>True</td>\n",
       "      <td>True</td>\n",
       "    </tr>\n",
       "    <tr>\n",
       "      <th>4</th>\n",
       "      <td>4</td>\n",
       "      <td>Justin Amash discussing 'potential campaign' f...</td>\n",
       "      <td>2020-04-15</td>\n",
       "      <td>He has been discussing the potential campaign...</td>\n",
       "      <td>cnn</td>\n",
       "      <td>True</td>\n",
       "      <td>True</td>\n",
       "      <td>False</td>\n",
       "      <td>False</td>\n",
       "      <td>True</td>\n",
       "    </tr>\n",
       "  </tbody>\n",
       "</table>\n",
       "</div>"
      ],
      "text/plain": [
       "   Unnamed: 0                                              title        date  \\\n",
       "0           0  'Empathy matters': Joe Biden's endorsers highl...  2020-04-15   \n",
       "1           1  Elizabeth Warren endorses Joe Biden for president  2020-04-15   \n",
       "2           2  Amid a pandemic, lawmakers urge leadership to ...  2020-04-15   \n",
       "3           3  Stacey Abrams says she would be an 'excellent ...  2020-04-15   \n",
       "4           4  Justin Amash discussing 'potential campaign' f...  2020-04-15   \n",
       "\n",
       "                                             content source  keyword-trump  \\\n",
       "0   CNN Nearly every top Democrat says the same t...    cnn           True   \n",
       "1  The former 2020 Democratic presidential candid...    cnn           True   \n",
       "2   CNN Many rank and file House Democrats are gr...    cnn          False   \n",
       "3  Washington CNN Former Georgia gubernatorial ca...    cnn          False   \n",
       "4   He has been discussing the potential campaign...    cnn           True   \n",
       "\n",
       "   keyword-republican  keyword-biden  keyword-democratic  keyword-election  \n",
       "0                True           True                True             False  \n",
       "1               False           True                True              True  \n",
       "2                True          False                True             False  \n",
       "3                True           True                True              True  \n",
       "4                True          False               False              True  "
      ]
     },
     "execution_count": 4,
     "metadata": {},
     "output_type": "execute_result"
    }
   ],
   "source": [
    "df.head()"
   ]
  },
  {
   "cell_type": "markdown",
   "id": "054d3431",
   "metadata": {},
   "source": [
    "## preprocess"
   ]
  },
  {
   "cell_type": "code",
   "execution_count": 5,
   "id": "3581d9f0",
   "metadata": {},
   "outputs": [
    {
     "name": "stdout",
     "output_type": "stream",
     "text": [
      "cnn        7327\n",
      "foxnews    3775\n",
      "pbs        2135\n",
      "Name: source, dtype: int64\n",
      " 1    7327\n",
      "-1    3775\n",
      " 0    2135\n",
      "Name: source_num, dtype: int64\n"
     ]
    }
   ],
   "source": [
    "print(df.source.value_counts())\n",
    "df[\"source_num\"] = df.source.map({'cnn': 1, 'pbs': 0, 'foxnews': -1})\n",
    "print(df.source_num.value_counts())\n"
   ]
  },
  {
   "cell_type": "code",
   "execution_count": 6,
   "id": "353117dd",
   "metadata": {},
   "outputs": [],
   "source": [
    "def clean_str(string):\n",
    "    \"\"\"\n",
    "    Tokenization/string cleaning for datasets.\n",
    "    Original taken from https://github.com/yoonkim/CNN_sentence/blob/master/process_data.py\n",
    "    \"\"\"\n",
    "    string = re.sub(r\"\\'s\", \"\", string)\n",
    "    string = re.sub(r\"\\'ve\", \"\", string)\n",
    "    string = re.sub(r\"n\\'t\", \"\", string)\n",
    "    string = re.sub(r\"\\'re\", \"\", string)\n",
    "    string = re.sub(r\"\\'d\", \"\", string)\n",
    "    string = re.sub(r\"\\'ll\", \"\", string)\n",
    "    string = re.sub(r\",\", \"\", string)\n",
    "    string = re.sub(r\"!\", \" ! \", string)\n",
    "    string = re.sub(r\"\\(\", \"\", string)\n",
    "    string = re.sub(r\"\\)\", \"\", string)\n",
    "    string = re.sub(r\"\\?\", \"\", string)\n",
    "    string = re.sub(r\"'\", \"\", string)\n",
    "    string = re.sub(r\"[^A-Za-z0-9(),!?\\'\\`]\", \" \", string)\n",
    "    string = re.sub(r\"[0-9]\\w+|[0-9]\",\"\", string)\n",
    "    string = re.sub(r\"\\s{2,}\", \" \", string)\n",
    "\n",
    "    \n",
    "    return string.strip().lower()"
   ]
  },
  {
   "cell_type": "code",
   "execution_count": 7,
   "id": "aabd81cd",
   "metadata": {
    "scrolled": true
   },
   "outputs": [
    {
     "data": {
      "text/plain": [
       "0    cnn nearly every top democrat says the same th...\n",
       "1    the former democratic presidential candidate t...\n",
       "2    cnn many rank and file house democrats are gro...\n",
       "3    washington cnn former georgia gubernatorial ca...\n",
       "4    he has been discussing the potential campaign ...\n",
       "Name: content, dtype: object"
      ]
     },
     "execution_count": 7,
     "metadata": {},
     "output_type": "execute_result"
    }
   ],
   "source": [
    "# df = df.drop(columns=['Unnamed: 0'])\n",
    "df['content'] = [clean_str(s) for s in df.content]\n",
    "df.content.head()"
   ]
  },
  {
   "cell_type": "code",
   "execution_count": 8,
   "id": "ea121f05",
   "metadata": {},
   "outputs": [],
   "source": [
    "def undersamples(df):\n",
    "    # Count the number of observations for each source\n",
    "    source_counts = df['source'].value_counts()\n",
    "\n",
    "    # Find the minimum count among the sources\n",
    "    min_count = source_counts.min()\n",
    "\n",
    "    # Subset the data to include only observations with the minimum count for each source\n",
    "    subset_df = df.groupby('source').apply(lambda x: x.sample(min_count)).reset_index(drop=True)\n",
    "    return subset_df"
   ]
  },
  {
   "cell_type": "code",
   "execution_count": 14,
   "id": "a9c99083-43e0-4772-92d5-a35a644b9f6e",
   "metadata": {},
   "outputs": [],
   "source": [
    "subset_df = undersamples(df)"
   ]
  },
  {
   "cell_type": "code",
   "execution_count": 10,
   "id": "c29a8d1c",
   "metadata": {},
   "outputs": [],
   "source": [
    "republican_df = df[df['keyword-republican']==1]\n",
    "republican_subset = undersamples(republican_df)\n",
    "\n",
    "trump_df = df[df['keyword-trump']==1]\n",
    "trump_subset = undersamples(trump_df)\n",
    "\n",
    "democratic_df = df[df['keyword-democratic']==1]\n",
    "democratic_subset = undersamples(democratic_df)\n",
    "\n",
    "biden_df = df[df['keyword-biden']==1]\n",
    "biden_subset = undersamples(biden_df)\n",
    "\n",
    "election_df = df[df['keyword-election']==1]\n",
    "election_subset = undersamples(election_df)"
   ]
  },
  {
   "cell_type": "code",
   "execution_count": 11,
   "id": "fa20af50",
   "metadata": {},
   "outputs": [],
   "source": [
    "def get_xy(df):\n",
    "    x = df['content'].tolist()\n",
    "    y = df['source_num'].tolist()\n",
    "    \n",
    "    stopwordset= set(stopwords.words('english'))\n",
    "    morestop={'cnn','fox', 'news', 'pbs','subscribe', 'click', 'keyword', 'state', 'said', 'app', 'ap'}\n",
    "    stopwordset= list(stopwordset.union(morestop))\n",
    "\n",
    "    vect = TfidfVectorizer(stop_words=stopwordset)\n",
    "    X = vect.fit_transform(x)\n",
    "    Y = np.array(y)\n",
    "    \n",
    "    return (X, Y, vect)\n"
   ]
  },
  {
   "cell_type": "code",
   "execution_count": 16,
   "id": "2cc99991",
   "metadata": {},
   "outputs": [],
   "source": [
    "def generate_evaluate(df):\n",
    "\n",
    "    (X, y, vect) = get_xy(df)\n",
    "    X_train, X_test, y_train, y_test = train_test_split(X, y, test_size=0.20, random_state=42)\n",
    "\n",
    "    \n",
    "    evalute_dict = {}\n",
    "    # create logistic regression model\n",
    "    # Fit logistic regression model\n",
    "   \n",
    "    evalute_dict['knn'] = {}\n",
    "    knn = KNeighborsClassifier(n_neighbors=3)\n",
    "    knn.fit(X_train, y_train)\n",
    "    evalute_dict['knn']['preds'] = knn.predict(X_test)\n",
    "    evalute_dict['knn']['acc'] = accuracy_score(y_test, evalute_dict['knn']['preds'])\n",
    "    evalute_dict['knn']['f1'] = f1_score(y_test, evalute_dict['knn']['preds'], average='weighted')\n",
    "    print(f\"K Neighbors Classifier: accuracy {evalute_dict['knn']['acc']}/ f1 {evalute_dict['knn']['f1']}\" )\n",
    "\n",
    "    \n",
    "    # Fit Multinomial Naive Bayes model\n",
    "    evalute_dict['mnb'] = {}\n",
    "    mnb = MultinomialNB()\n",
    "    mnb.fit(X_train, y_train)\n",
    "    evalute_dict['mnb']['preds'] = mnb.predict(X_test)\n",
    "    evalute_dict['mnb']['acc'] = accuracy_score(y_test, evalute_dict['mnb']['preds'])\n",
    "    evalute_dict['mnb']['f1'] = f1_score(y_test, evalute_dict['mnb']['preds'],  average='weighted')\n",
    "    print(f\"Multinomial Naive Bayes: accuracy {evalute_dict['mnb']['acc']}/ f1 {evalute_dict['mnb']['f1']}\" )\n",
    "    \n",
    "    evalute_dict['svm'] = {}\n",
    "    svm = SVC(kernel='poly', degree=3, C=1).fit(X_train, y_train)\n",
    "    evalute_dict['svm']['preds'] = svm.predict(X_test)\n",
    "    evalute_dict['svm']['acc'] = accuracy_score(y_test, evalute_dict['svm']['preds'])\n",
    "    evalute_dict['svm']['f1'] = f1_score(y_test, evalute_dict['svm']['preds'], average='weighted')\n",
    "    print(f\"Support Vector Machine: accuracy {evalute_dict['svm']['acc']}/ f1 {evalute_dict['svm']['f1']}\" )\n",
    "\n",
    "    # Decision Tree\n",
    "    evalute_dict['tree'] = {}\n",
    "    tree = DecisionTreeClassifier(random_state=1234)\n",
    "    tree.fit(X_train, y_train)\n",
    "    evalute_dict['tree']['preds'] = tree.predict(X_test)\n",
    "    evalute_dict['tree']['acc'] = accuracy_score(y_test,evalute_dict['tree']['preds'])\n",
    "    evalute_dict['tree']['f1'] = f1_score(y_test, evalute_dict['tree']['preds'], average='weighted')\n",
    "    print(f\"Decision Tree: accuracy {evalute_dict['tree']['acc']}/ f1 {evalute_dict['tree']['f1']}\" )\n",
    "   \n",
    "    return evalute_dict "
   ]
  },
  {
   "cell_type": "markdown",
   "id": "9c48f139-fa12-44ef-b454-676241ed8da3",
   "metadata": {
    "tags": []
   },
   "source": [
    "## run models"
   ]
  },
  {
   "cell_type": "markdown",
   "id": "40f445e5-d9fc-43d6-87b8-f406dc12a396",
   "metadata": {},
   "source": [
    "## get all result"
   ]
  },
  {
   "cell_type": "code",
   "execution_count": 17,
   "id": "94337dcd",
   "metadata": {
    "scrolled": true,
    "tags": []
   },
   "outputs": [
    {
     "name": "stdout",
     "output_type": "stream",
     "text": [
      "K Neighbors Classifier: accuracy 0.550351288056206/ f1 0.5451467867706501\n",
      "Multinomial Naive Bayes: accuracy 0.7205308352849337/ f1 0.7206217540647823\n",
      "Support Vector Machine: accuracy 0.6666666666666666/ f1 0.6643363436401506\n",
      "Decision Tree: accuracy 0.7088212334113974/ f1 0.7088985524664037\n",
      "K Neighbors Classifier: accuracy 0.6850453172205438/ f1 0.6738715546666756\n",
      "Multinomial Naive Bayes: accuracy 0.5513595166163142/ f1 0.4016220900634081\n",
      "Support Vector Machine: accuracy 0.6858006042296072/ f1 0.6336950385211502\n",
      "Decision Tree: accuracy 0.774546827794562/ f1 0.7715484862575606\n"
     ]
    }
   ],
   "source": [
    "subset_table = generate_evaluate(subset_df)\n",
    "\n",
    "df_table = generate_evaluate(df)"
   ]
  },
  {
   "cell_type": "code",
   "execution_count": 18,
   "id": "ed7d64ed-a56c-4ec1-8a56-5a59f10dd2c7",
   "metadata": {},
   "outputs": [
    {
     "ename": "ValueError",
     "evalue": "too many values to unpack (expected 2)",
     "output_type": "error",
     "traceback": [
      "\u001b[0;31m---------------------------------------------------------------------------\u001b[0m",
      "\u001b[0;31mValueError\u001b[0m                                Traceback (most recent call last)",
      "Input \u001b[0;32mIn [18]\u001b[0m, in \u001b[0;36m<cell line: 2>\u001b[0;34m()\u001b[0m\n\u001b[1;32m      1\u001b[0m \u001b[38;5;66;03m# analysis model \u001b[39;00m\n\u001b[0;32m----> 2\u001b[0m (X, y) \u001b[38;5;241m=\u001b[39m get_xy(df)\n\u001b[1;32m      3\u001b[0m X_train, X_test, y_train, y_test \u001b[38;5;241m=\u001b[39m train_test_split(X, y, test_size\u001b[38;5;241m=\u001b[39m\u001b[38;5;241m0.20\u001b[39m, random_state\u001b[38;5;241m=\u001b[39m\u001b[38;5;241m42\u001b[39m)\n\u001b[1;32m      6\u001b[0m evalute_dict[\u001b[38;5;124m'\u001b[39m\u001b[38;5;124mtree\u001b[39m\u001b[38;5;124m'\u001b[39m] \u001b[38;5;241m=\u001b[39m {}\n",
      "\u001b[0;31mValueError\u001b[0m: too many values to unpack (expected 2)"
     ]
    }
   ],
   "source": [
    "# analysis model \n",
    "(X, y) = get_xy(df)\n",
    "X_train, X_test, y_train, y_test = train_test_split(X, y, test_size=0.20, random_state=42)\n",
    "\n",
    "\n",
    "evalute_dict['tree'] = {}\n",
    "df_tree = DecisionTreeClassifier(random_state=2027)\n",
    "tree.fit(X_train, y_train)\n",
    "evalute_dict['tree']['preds'] = tree.predict(X_test)\n",
    "evalute_dict['tree']['acc'] = accuracy_score(y_test,evalute_dict['tree']['preds'])\n",
    "evalute_dict['tree']['f1'] = f1_score(y_test, evalute_dict['tree']['preds'], average='weighted')\n",
    "print(f\"Decision Tree: accuracy {evalute_dict['tree']['acc']}/ f1 {evalute_dict['tree']['f1']}\" )\n",
    "   "
   ]
  },
  {
   "cell_type": "code",
   "execution_count": 19,
   "id": "511cb29f",
   "metadata": {},
   "outputs": [],
   "source": [
    "subset_result = pd.DataFrame(subset_table).T\n",
    "df_result = pd.DataFrame(df_table).T\n",
    "\n",
    "subset_result.to_csv(path+ 'subset_result.csv')\n",
    "df_result.to_csv(path+ 'df_result.csv')"
   ]
  },
  {
   "cell_type": "markdown",
   "id": "36874b8c-53b2-4051-8a10-2faee58c7eee",
   "metadata": {},
   "source": [
    "### get keywords' models"
   ]
  },
  {
   "cell_type": "code",
   "execution_count": 20,
   "id": "812ab493",
   "metadata": {},
   "outputs": [
    {
     "name": "stdout",
     "output_type": "stream",
     "text": [
      "K Neighbors Classifier: accuracy 0.5447870778267254/ f1 0.5451962779127796\n",
      "Multinomial Naive Bayes: accuracy 0.7063142437591777/ f1 0.7085383395712002\n",
      "Support Vector Machine: accuracy 0.6740088105726872/ f1 0.6750363245499439\n",
      "Decision Tree: accuracy 0.6945668135095447/ f1 0.6944406647049819\n",
      "K Neighbors Classifier: accuracy 0.7084450402144772/ f1 0.6969470062371851\n",
      "Multinomial Naive Bayes: accuracy 0.5831099195710456/ f1 0.43237144836139496\n",
      "Support Vector Machine: accuracy 0.6823056300268097/ f1 0.619742052416972\n",
      "Decision Tree: accuracy 0.8002680965147453/ f1 0.7986928148814855\n"
     ]
    }
   ],
   "source": [
    "republican_subset_table = generate_evaluate(republican_subset)\n",
    "republican_table = generate_evaluate(republican_df)"
   ]
  },
  {
   "cell_type": "code",
   "execution_count": 21,
   "id": "f900b2fa",
   "metadata": {},
   "outputs": [
    {
     "name": "stdout",
     "output_type": "stream",
     "text": [
      "K Neighbors Classifier: accuracy 0.5722222222222222/ f1 0.5695434805745275\n",
      "Multinomial Naive Bayes: accuracy 0.7266666666666667/ f1 0.7269997874526464\n",
      "Support Vector Machine: accuracy 0.6766666666666666/ f1 0.6766935113665429\n",
      "Decision Tree: accuracy 0.6966666666666667/ f1 0.6965655192326143\n",
      "\n",
      "\n",
      "K Neighbors Classifier: accuracy 0.6727467811158798/ f1 0.6648623158955824\n",
      "Multinomial Naive Bayes: accuracy 0.5472103004291845/ f1 0.4044557659680107\n",
      "Support Vector Machine: accuracy 0.6952789699570815/ f1 0.6515617822094962\n",
      "Decision Tree: accuracy 0.776824034334764/ f1 0.7756012973771391\n"
     ]
    }
   ],
   "source": [
    "democratic_subset_table = generate_evaluate(democratic_subset)\n",
    "print('\\n')\n",
    "democratic_table = generate_evaluate(democratic_df)"
   ]
  },
  {
   "cell_type": "code",
   "execution_count": null,
   "id": "84287390",
   "metadata": {},
   "outputs": [],
   "source": [
    "trump_subset_table = generate_evaluate(trump_subset)\n",
    "trump_table = generate_evaluate(trump_df)"
   ]
  },
  {
   "cell_type": "code",
   "execution_count": null,
   "id": "f6b0d7ba",
   "metadata": {},
   "outputs": [],
   "source": [
    "biden_subset_table = generate_evaluate(biden_subset)\n",
    "biden_table = generate_evaluate(biden_df)"
   ]
  },
  {
   "cell_type": "code",
   "execution_count": 24,
   "id": "dde33824",
   "metadata": {},
   "outputs": [
    {
     "name": "stdout",
     "output_type": "stream",
     "text": [
      "K Neighbors Classifier: accuracy 0.5903490759753593/ f1 0.5904028098884936\n",
      "Multinomial Naive Bayes: accuracy 0.7248459958932238/ f1 0.7226987219348795\n",
      "Support Vector Machine: accuracy 0.6827515400410678/ f1 0.6829618122812482\n",
      "Decision Tree: accuracy 0.6745379876796714/ f1 0.6743279804741135\n",
      "K Neighbors Classifier: accuracy 0.6971655892590751/ f1 0.6884723459802465\n",
      "Multinomial Naive Bayes: accuracy 0.5977125808055693/ f1 0.45046561953609987\n",
      "Support Vector Machine: accuracy 0.6872202884137245/ f1 0.625878133747446\n",
      "Decision Tree: accuracy 0.7797115862754849/ f1 0.7789783998627547\n"
     ]
    }
   ],
   "source": [
    "election_subset_table = generate_evaluate(election_subset)\n",
    "election_table = generate_evaluate(election_df)"
   ]
  },
  {
   "cell_type": "code",
   "execution_count": 25,
   "id": "3ecc7639",
   "metadata": {},
   "outputs": [],
   "source": [
    "election_subset_result = pd.DataFrame(election_subset_table).T\n",
    "election_result = pd.DataFrame(election_table).T\n",
    "\n",
    "biden_subset_result = pd.DataFrame(biden_subset_table).T\n",
    "biden_result = pd.DataFrame(biden_table).T\n",
    "\n",
    "trump_subset_result = pd.DataFrame(trump_subset_table).T\n",
    "trump_result = pd.DataFrame(trump_table).T\n",
    "\n",
    "republican_subset_result = pd.DataFrame(republican_subset_table).T\n",
    "republican_result = pd.DataFrame(republican_table).T\n",
    "\n",
    "democratic_subset_result = pd.DataFrame(democratic_subset_table).T\n",
    "democratic_result = pd.DataFrame(democratic_table).T"
   ]
  },
  {
   "cell_type": "code",
   "execution_count": 45,
   "id": "4ba69b86",
   "metadata": {},
   "outputs": [],
   "source": [
    "election_subset_result.to_csv(path+ 'election_subset_result.csv')\n",
    "election_result.to_csv(path+ 'election_result.csv')\n",
    "\n",
    "biden_subset_result.to_csv(path+ 'biden_subset_result.csv')\n",
    "biden_result.to_csv(path+ 'biden_result.csv')\n",
    "\n",
    "trump_subset_result.to_csv(path+ 'trump_subset_result.csv')\n",
    "trump_result.to_csv(path+ 'trump_result.csv')\n",
    "\n",
    "republican_subset_result.to_csv(path+ 'republican_subset_result.csv')\n",
    "republican_result.to_csv(path+ 'republican_result.csv')\n",
    "\n",
    "democratic_subset_result.to_csv(path+ 'democratic_subset_result.csv')\n",
    "democratic_result.to_csv(path+ 'democratic_result.csv')"
   ]
  },
  {
   "cell_type": "markdown",
   "id": "32bc5dd4-87c5-4684-bba0-47f62b085f34",
   "metadata": {},
   "source": [
    "## evaluate tree"
   ]
  },
  {
   "cell_type": "code",
   "execution_count": 46,
   "id": "04e51c55-f065-45d1-8349-b8e4182cea20",
   "metadata": {},
   "outputs": [
    {
     "data": {
      "text/html": [
       "<style>#sk-container-id-2 {color: black;background-color: white;}#sk-container-id-2 pre{padding: 0;}#sk-container-id-2 div.sk-toggleable {background-color: white;}#sk-container-id-2 label.sk-toggleable__label {cursor: pointer;display: block;width: 100%;margin-bottom: 0;padding: 0.3em;box-sizing: border-box;text-align: center;}#sk-container-id-2 label.sk-toggleable__label-arrow:before {content: \"▸\";float: left;margin-right: 0.25em;color: #696969;}#sk-container-id-2 label.sk-toggleable__label-arrow:hover:before {color: black;}#sk-container-id-2 div.sk-estimator:hover label.sk-toggleable__label-arrow:before {color: black;}#sk-container-id-2 div.sk-toggleable__content {max-height: 0;max-width: 0;overflow: hidden;text-align: left;background-color: #f0f8ff;}#sk-container-id-2 div.sk-toggleable__content pre {margin: 0.2em;color: black;border-radius: 0.25em;background-color: #f0f8ff;}#sk-container-id-2 input.sk-toggleable__control:checked~div.sk-toggleable__content {max-height: 200px;max-width: 100%;overflow: auto;}#sk-container-id-2 input.sk-toggleable__control:checked~label.sk-toggleable__label-arrow:before {content: \"▾\";}#sk-container-id-2 div.sk-estimator input.sk-toggleable__control:checked~label.sk-toggleable__label {background-color: #d4ebff;}#sk-container-id-2 div.sk-label input.sk-toggleable__control:checked~label.sk-toggleable__label {background-color: #d4ebff;}#sk-container-id-2 input.sk-hidden--visually {border: 0;clip: rect(1px 1px 1px 1px);clip: rect(1px, 1px, 1px, 1px);height: 1px;margin: -1px;overflow: hidden;padding: 0;position: absolute;width: 1px;}#sk-container-id-2 div.sk-estimator {font-family: monospace;background-color: #f0f8ff;border: 1px dotted black;border-radius: 0.25em;box-sizing: border-box;margin-bottom: 0.5em;}#sk-container-id-2 div.sk-estimator:hover {background-color: #d4ebff;}#sk-container-id-2 div.sk-parallel-item::after {content: \"\";width: 100%;border-bottom: 1px solid gray;flex-grow: 1;}#sk-container-id-2 div.sk-label:hover label.sk-toggleable__label {background-color: #d4ebff;}#sk-container-id-2 div.sk-serial::before {content: \"\";position: absolute;border-left: 1px solid gray;box-sizing: border-box;top: 0;bottom: 0;left: 50%;z-index: 0;}#sk-container-id-2 div.sk-serial {display: flex;flex-direction: column;align-items: center;background-color: white;padding-right: 0.2em;padding-left: 0.2em;position: relative;}#sk-container-id-2 div.sk-item {position: relative;z-index: 1;}#sk-container-id-2 div.sk-parallel {display: flex;align-items: stretch;justify-content: center;background-color: white;position: relative;}#sk-container-id-2 div.sk-item::before, #sk-container-id-2 div.sk-parallel-item::before {content: \"\";position: absolute;border-left: 1px solid gray;box-sizing: border-box;top: 0;bottom: 0;left: 50%;z-index: -1;}#sk-container-id-2 div.sk-parallel-item {display: flex;flex-direction: column;z-index: 1;position: relative;background-color: white;}#sk-container-id-2 div.sk-parallel-item:first-child::after {align-self: flex-end;width: 50%;}#sk-container-id-2 div.sk-parallel-item:last-child::after {align-self: flex-start;width: 50%;}#sk-container-id-2 div.sk-parallel-item:only-child::after {width: 0;}#sk-container-id-2 div.sk-dashed-wrapped {border: 1px dashed gray;margin: 0 0.4em 0.5em 0.4em;box-sizing: border-box;padding-bottom: 0.4em;background-color: white;}#sk-container-id-2 div.sk-label label {font-family: monospace;font-weight: bold;display: inline-block;line-height: 1.2em;}#sk-container-id-2 div.sk-label-container {text-align: center;}#sk-container-id-2 div.sk-container {/* jupyter's `normalize.less` sets `[hidden] { display: none; }` but bootstrap.min.css set `[hidden] { display: none !important; }` so we also need the `!important` here to be able to override the default hidden behavior on the sphinx rendered scikit-learn.org. See: https://github.com/scikit-learn/scikit-learn/issues/21755 */display: inline-block !important;position: relative;}#sk-container-id-2 div.sk-text-repr-fallback {display: none;}</style><div id=\"sk-container-id-2\" class=\"sk-top-container\"><div class=\"sk-text-repr-fallback\"><pre>DecisionTreeClassifier(random_state=2027)</pre><b>In a Jupyter environment, please rerun this cell to show the HTML representation or trust the notebook. <br />On GitHub, the HTML representation is unable to render, please try loading this page with nbviewer.org.</b></div><div class=\"sk-container\" hidden><div class=\"sk-item\"><div class=\"sk-estimator sk-toggleable\"><input class=\"sk-toggleable__control sk-hidden--visually\" id=\"sk-estimator-id-2\" type=\"checkbox\" checked><label for=\"sk-estimator-id-2\" class=\"sk-toggleable__label sk-toggleable__label-arrow\">DecisionTreeClassifier</label><div class=\"sk-toggleable__content\"><pre>DecisionTreeClassifier(random_state=2027)</pre></div></div></div></div></div>"
      ],
      "text/plain": [
       "DecisionTreeClassifier(random_state=2027)"
      ]
     },
     "execution_count": 46,
     "metadata": {},
     "output_type": "execute_result"
    }
   ],
   "source": [
    "# analysis model \n",
    "(X, y, vect) = get_xy(df)\n",
    "X_train, X_test, y_train, y_test = train_test_split(X, y, test_size=0.20, random_state=42)\n",
    "\n",
    "\n",
    "df_tree = DecisionTreeClassifier(random_state=2027)\n",
    "df_tree.fit(X_train, y_train)\n"
   ]
  },
  {
   "cell_type": "code",
   "execution_count": null,
   "id": "0dba1283-bb0a-49d1-87e2-c22fe033aad6",
   "metadata": {
    "scrolled": true,
    "tags": []
   },
   "outputs": [],
   "source": [
    "vect.get_feature_names_out()[19478]"
   ]
  },
  {
   "cell_type": "code",
   "execution_count": 48,
   "id": "d032ade3-4a48-49f0-bf37-1eaeb0e14fe6",
   "metadata": {
    "scrolled": true,
    "tags": []
   },
   "outputs": [
    {
     "data": {
      "text/plain": [
       "[Text(0.5, 0.875, 'x[13980] <= 0.004\\ngini = 0.585\\nsamples = 10589\\nvalue = [2974, 1723, 5892]'),\n",
       " Text(0.25, 0.625, 'x[19478] <= 0.012\\ngini = 0.597\\nsamples = 5114\\nvalue = [2412, 615, 2087]'),\n",
       " Text(0.125, 0.375, 'x[50995] <= 0.013\\ngini = 0.601\\nsamples = 2672\\nvalue = [746, 497, 1429]'),\n",
       " Text(0.0625, 0.125, '\\n  (...)  \\n'),\n",
       " Text(0.1875, 0.125, '\\n  (...)  \\n'),\n",
       " Text(0.375, 0.375, 'x[26905] <= 0.002\\ngini = 0.46\\nsamples = 2442\\nvalue = [1666, 118, 658]'),\n",
       " Text(0.3125, 0.125, '\\n  (...)  \\n'),\n",
       " Text(0.4375, 0.125, '\\n  (...)  \\n'),\n",
       " Text(0.75, 0.625, 'x[2731] <= 0.013\\ngini = 0.466\\nsamples = 5475\\nvalue = [562, 1108, 3805]'),\n",
       " Text(0.625, 0.375, 'x[35246] <= 0.002\\ngini = 0.398\\nsamples = 4898\\nvalue = [507, 689, 3702]'),\n",
       " Text(0.5625, 0.125, '\\n  (...)  \\n'),\n",
       " Text(0.6875, 0.125, '\\n  (...)  \\n'),\n",
       " Text(0.875, 0.375, 'x[37030] <= 0.004\\ngini = 0.432\\nsamples = 577\\nvalue = [55, 419, 103]'),\n",
       " Text(0.8125, 0.125, '\\n  (...)  \\n'),\n",
       " Text(0.9375, 0.125, '\\n  (...)  \\n')]"
      ]
     },
     "execution_count": 48,
     "metadata": {},
     "output_type": "execute_result"
    },
    {
     "data": {
      "image/png": "[encoded data removed]",
      "text/plain": [
       "<Figure size 720x576 with 1 Axes>"
      ]
     },
     "metadata": {
      "needs_background": "light"
     },
     "output_type": "display_data"
    }
   ],
   "source": [
    "plt.figure(figsize=(10, 8))\n",
    "plot_tree(df_tree,\n",
    "          max_depth = 2)"
   ]
  },
  {
   "cell_type": "markdown",
   "id": "17ea5c00",
   "metadata": {
    "tags": []
   },
   "source": [
    "### get sources"
   ]
  },
  {
   "cell_type": "markdown",
   "id": "be4855e9",
   "metadata": {
    "jp-MarkdownHeadingCollapsed": true,
    "tags": []
   },
   "source": [
    "#### CNN VS PBS\n"
   ]
  },
  {
   "cell_type": "code",
   "execution_count": 30,
   "id": "76d83b32",
   "metadata": {},
   "outputs": [],
   "source": [
    "def get_2news(data, except_num):\n",
    "    return data[data.source_num!=except_num]\n",
    "\n",
    "cnn_pbs = get_2news(df, -1)\n",
    "cnn_pbs_subset = get_2news(subset_df, -1)\n",
    "\n",
    "cnn_pbs_rep = get_2news(republican_df, -1)\n",
    "cnn_pbs_rep_subset = get_2news(republican_subset, -1)\n",
    "\n",
    "cnn_pbs_trump = get_2news(trump_df, -1)\n",
    "cnn_pbs_trump_subset = get_2news(trump_subset, -1)\n",
    "\n",
    "cnn_pbs_dem = get_2news(democratic_df, -1)\n",
    "cnn_pbs_dem_subset = get_2news(democratic_subset, -1)\n",
    "\n",
    "cnn_pbs_biden = get_2news(biden_df, -1)\n",
    "cnn_pbs_biden_subset = get_2news(biden_subset, -1)\n",
    "\n",
    "cnn_pbs_election = get_2news(election_df, -1)\n",
    "cnn_pbs_election_subset = get_2news(election_subset, -1)\n"
   ]
  },
  {
   "cell_type": "markdown",
   "id": "cdf3675f",
   "metadata": {},
   "source": [
    "#### whole"
   ]
  },
  {
   "cell_type": "code",
   "execution_count": null,
   "id": "fc118684",
   "metadata": {
    "scrolled": true
   },
   "outputs": [],
   "source": [
    "cnn_pbs_dict = generate_evaluate(cnn_pbs)\n",
    "cnn_pbs_result = pd.DataFrame(cnn_pbs_dict).T\n",
    "cnn_pbs_result.to_csv(path+ 'cnn_pbs_result.csv')"
   ]
  },
  {
   "cell_type": "code",
   "execution_count": null,
   "id": "3f6a2175",
   "metadata": {},
   "outputs": [],
   "source": [
    "cnn_pbs_subset_dict = generate_evaluate(cnn_pbs_subset)\n",
    "cnn_pbs_subset_result = pd.DataFrame(cnn_pbs_subset_dict).T\n",
    "cnn_pbs_subset_result.to_csv(path+ 'cnn_pbs_subset_result.csv')"
   ]
  },
  {
   "cell_type": "markdown",
   "id": "8e50a2ff",
   "metadata": {},
   "source": [
    "#### rep"
   ]
  },
  {
   "cell_type": "code",
   "execution_count": null,
   "id": "53298852",
   "metadata": {},
   "outputs": [],
   "source": [
    "cnn_pbs_rep_dict = generate_evaluate(cnn_pbs_rep)\n",
    "cnn_pbs_rep_result = pd.DataFrame(cnn_pbs_rep_dict).T\n",
    "cnn_pbs_rep_result.to_csv(path+ 'cnn_pbs_rep_result.csv')"
   ]
  },
  {
   "cell_type": "code",
   "execution_count": null,
   "id": "3c662508",
   "metadata": {},
   "outputs": [],
   "source": [
    "cnn_pbs_rep_subset_dict = generate_evaluate(cnn_pbs_rep_subset)\n",
    "cnn_pbs_rep_subset_result = pd.DataFrame(cnn_pbs_rep_subset_dict).T\n",
    "cnn_pbs_rep_subset_result.to_csv(path+ 'cnn_pbs_rep_subset_result.csv')"
   ]
  },
  {
   "cell_type": "markdown",
   "id": "301b0bed",
   "metadata": {},
   "source": [
    "#### trump"
   ]
  },
  {
   "cell_type": "code",
   "execution_count": 35,
   "id": "5b83016f",
   "metadata": {},
   "outputs": [
    {
     "name": "stdout",
     "output_type": "stream",
     "text": [
      "K Neighbors Classifier: accuracy 0.8137573004542504/ f1 0.7979450985157795\n",
      "Multinomial Naive Bayes: accuracy 0.7890979883192732/ f1 0.6960777321699211\n",
      "Support Vector Machine: accuracy 0.8234912394548994/ f1 0.7696030852922202\n",
      "Decision Tree: accuracy 0.8799480856586632/ f1 0.8773835788558233\n"
     ]
    }
   ],
   "source": [
    "cnn_pbs_trump_dict = generate_evaluate(cnn_pbs_trump)\n",
    "cnn_pbs_trump_result = pd.DataFrame(cnn_pbs_trump_dict).T\n",
    "cnn_pbs_trump_result.to_csv(path+ 'cnn_pbs_trump_result.csv')"
   ]
  },
  {
   "cell_type": "code",
   "execution_count": 36,
   "id": "998c59d2",
   "metadata": {},
   "outputs": [
    {
     "name": "stdout",
     "output_type": "stream",
     "text": [
      "K Neighbors Classifier: accuracy 0.6799387442572741/ f1 0.6795332850286229\n",
      "Multinomial Naive Bayes: accuracy 0.8085758039816233/ f1 0.8085093610967478\n",
      "Support Vector Machine: accuracy 0.7672281776416539/ f1 0.7659252195406603\n",
      "Decision Tree: accuracy 0.8300153139356815/ f1 0.8298640011654093\n"
     ]
    }
   ],
   "source": [
    "cnn_pbs_trump_subset_dict = generate_evaluate(cnn_pbs_trump_subset)\n",
    "cnn_pbs_trump_subset_result = pd.DataFrame(cnn_pbs_trump_subset_dict).T\n",
    "cnn_pbs_trump_subset_result.to_csv(path+ 'cnn_pbs_trump_subset_result.csv')\n"
   ]
  },
  {
   "cell_type": "markdown",
   "id": "6be4f090",
   "metadata": {},
   "source": [
    "#### democractic"
   ]
  },
  {
   "cell_type": "code",
   "execution_count": 37,
   "id": "b11c017b",
   "metadata": {},
   "outputs": [
    {
     "name": "stdout",
     "output_type": "stream",
     "text": [
      "K Neighbors Classifier: accuracy 0.80234375/ f1 0.7883130639281084\n",
      "Multinomial Naive Bayes: accuracy 0.7546875/ f1 0.6491790961709706\n",
      "Support Vector Machine: accuracy 0.79609375/ f1 0.7374383672528287\n",
      "Decision Tree: accuracy 0.86796875/ f1 0.8660751106289368\n"
     ]
    }
   ],
   "source": [
    "cnn_pbs_dem_dict = generate_evaluate(cnn_pbs_dem)\n",
    "cnn_pbs_dem_result = pd.DataFrame(cnn_pbs_dem_dict).T\n",
    "cnn_pbs_dem_result.to_csv(path+ 'cnn_pbs_dem_result.csv')"
   ]
  },
  {
   "cell_type": "code",
   "execution_count": 38,
   "id": "b622b6a7",
   "metadata": {},
   "outputs": [
    {
     "name": "stdout",
     "output_type": "stream",
     "text": [
      "K Neighbors Classifier: accuracy 0.6733333333333333/ f1 0.6735294117647059\n",
      "Multinomial Naive Bayes: accuracy 0.8133333333333334/ f1 0.813445434224135\n",
      "Support Vector Machine: accuracy 0.7883333333333333/ f1 0.788004507671657\n",
      "Decision Tree: accuracy 0.8083333333333333/ f1 0.8083998888811722\n"
     ]
    }
   ],
   "source": [
    "# cnn_pbs_dem_subset_dict = generate_evaluate(cnn_pbs_dem_subset)\n",
    "# cnn_pbs_dem_subset_result = pd.DataFrame(cnn_pbs_dem_subset_dict).T\n",
    "# cnn_pbs_dem_subset_result.to_csv(path+ 'cnn_pbs_dem_subset_result.csv')"
   ]
  },
  {
   "cell_type": "markdown",
   "id": "de0dbdd3",
   "metadata": {},
   "source": [
    "#### Biden"
   ]
  },
  {
   "cell_type": "code",
   "execution_count": 39,
   "id": "3b5ba9d7",
   "metadata": {},
   "outputs": [
    {
     "name": "stdout",
     "output_type": "stream",
     "text": [
      "K Neighbors Classifier: accuracy 0.8098039215686275/ f1 0.7929997845291963\n",
      "Multinomial Naive Bayes: accuracy 0.7901960784313725/ f1 0.6975882138178383\n",
      "Support Vector Machine: accuracy 0.8186274509803921/ f1 0.7601358091983312\n",
      "Decision Tree: accuracy 0.8892156862745098/ f1 0.8868491757332676\n"
     ]
    }
   ],
   "source": [
    "cnn_pbs_biden_dict = generate_evaluate(cnn_pbs_biden)\n",
    "cnn_pbs_biden_result = pd.DataFrame(cnn_pbs_biden_dict).T\n",
    "cnn_pbs_biden_result.to_csv(path+ 'cnn_pbs_biden_result.csv')"
   ]
  },
  {
   "cell_type": "code",
   "execution_count": 40,
   "id": "242d533f",
   "metadata": {},
   "outputs": [
    {
     "name": "stdout",
     "output_type": "stream",
     "text": [
      "K Neighbors Classifier: accuracy 0.6899766899766899/ f1 0.6894027009142915\n",
      "Multinomial Naive Bayes: accuracy 0.7878787878787878/ f1 0.7878672618697721\n",
      "Support Vector Machine: accuracy 0.7622377622377622/ f1 0.7622145069328169\n",
      "Decision Tree: accuracy 0.7995337995337995/ f1 0.7993920672088093\n"
     ]
    }
   ],
   "source": [
    "# cnn_pbs_biden_subset_dict = generate_evaluate(cnn_pbs_biden_subset)\n",
    "# cnn_pbs_biden_subset_result = pd.DataFrame(cnn_pbs_biden_subset_dict).T\n",
    "# cnn_pbs_biden_subset_result.to_csv(path+ 'cnn_pbs_biden_subset_result.csv')"
   ]
  },
  {
   "cell_type": "markdown",
   "id": "7ccbc288",
   "metadata": {},
   "source": [
    "#### election"
   ]
  },
  {
   "cell_type": "code",
   "execution_count": 41,
   "id": "d7a01265",
   "metadata": {},
   "outputs": [
    {
     "name": "stdout",
     "output_type": "stream",
     "text": [
      "K Neighbors Classifier: accuracy 0.8100671140939597/ f1 0.7964763374043107\n",
      "Multinomial Naive Bayes: accuracy 0.7798657718120805/ f1 0.6840891324285018\n",
      "Support Vector Machine: accuracy 0.8093959731543624/ f1 0.7482401880431757\n",
      "Decision Tree: accuracy 0.876510067114094/ f1 0.872901977769762\n"
     ]
    }
   ],
   "source": [
    "cnn_pbs_election_dict = generate_evaluate(cnn_pbs_election)\n",
    "cnn_pbs_election_result = pd.DataFrame(cnn_pbs_election_dict).T\n",
    "cnn_pbs_election_result.to_csv(path+ 'cnn_pbs_election_result.csv')"
   ]
  },
  {
   "cell_type": "code",
   "execution_count": 42,
   "id": "f3dfc718",
   "metadata": {},
   "outputs": [
    {
     "name": "stdout",
     "output_type": "stream",
     "text": [
      "K Neighbors Classifier: accuracy 0.6579352850539292/ f1 0.6591214053054354\n",
      "Multinomial Naive Bayes: accuracy 0.7966101694915254/ f1 0.7971174539005293\n",
      "Support Vector Machine: accuracy 0.7103235747303543/ f1 0.7059175603345387\n",
      "Decision Tree: accuracy 0.8135593220338984/ f1 0.8140855552554427\n"
     ]
    }
   ],
   "source": [
    "cnn_pbs_election_subset_dict = generate_evaluate(cnn_pbs_election_subset)\n",
    "cnn_pbs_election_subset_result = pd.DataFrame(cnn_pbs_election_subset_dict).T\n",
    "cnn_pbs_election_subset_result.to_csv(path+ 'cnn_pbs_election_subset_result.csv')"
   ]
  },
  {
   "cell_type": "markdown",
   "id": "51808f14",
   "metadata": {
    "jp-MarkdownHeadingCollapsed": true,
    "tags": []
   },
   "source": [
    "#### cnn fox"
   ]
  },
  {
   "cell_type": "code",
   "execution_count": 43,
   "id": "7cd05b8f",
   "metadata": {},
   "outputs": [],
   "source": [
    "cnn_fox = get_2news(df, 0)\n",
    "cnn_fox_subset = get_2news(subset_df, 0)"
   ]
  },
  {
   "cell_type": "code",
   "execution_count": 44,
   "id": "fe2a983c",
   "metadata": {},
   "outputs": [
    {
     "ename": "KeyboardInterrupt",
     "evalue": "",
     "output_type": "error",
     "traceback": [
      "\u001b[0;31m---------------------------------------------------------------------------\u001b[0m",
      "\u001b[0;31mKeyboardInterrupt\u001b[0m                         Traceback (most recent call last)",
      "Input \u001b[0;32mIn [44]\u001b[0m, in \u001b[0;36m<cell line: 1>\u001b[0;34m()\u001b[0m\n\u001b[0;32m----> 1\u001b[0m cnn_fox_dict \u001b[38;5;241m=\u001b[39m \u001b[43mgenerate_evaluate\u001b[49m\u001b[43m(\u001b[49m\u001b[43mcnn_fox\u001b[49m\u001b[43m)\u001b[49m\n\u001b[1;32m      2\u001b[0m cnn_fox_result \u001b[38;5;241m=\u001b[39m pd\u001b[38;5;241m.\u001b[39mDataFrame(cnn_fox_dict)\u001b[38;5;241m.\u001b[39mT\n\u001b[1;32m      3\u001b[0m cnn_fox_result\u001b[38;5;241m.\u001b[39mto_csv(path\u001b[38;5;241m+\u001b[39m \u001b[38;5;124m'\u001b[39m\u001b[38;5;124mcnn_fox_result.csv\u001b[39m\u001b[38;5;124m'\u001b[39m)\n",
      "Input \u001b[0;32mIn [16]\u001b[0m, in \u001b[0;36mgenerate_evaluate\u001b[0;34m(df)\u001b[0m\n\u001b[1;32m     12\u001b[0m knn \u001b[38;5;241m=\u001b[39m KNeighborsClassifier(n_neighbors\u001b[38;5;241m=\u001b[39m\u001b[38;5;241m3\u001b[39m)\n\u001b[1;32m     13\u001b[0m knn\u001b[38;5;241m.\u001b[39mfit(X_train, y_train)\n\u001b[0;32m---> 14\u001b[0m evalute_dict[\u001b[38;5;124m'\u001b[39m\u001b[38;5;124mknn\u001b[39m\u001b[38;5;124m'\u001b[39m][\u001b[38;5;124m'\u001b[39m\u001b[38;5;124mpreds\u001b[39m\u001b[38;5;124m'\u001b[39m] \u001b[38;5;241m=\u001b[39m \u001b[43mknn\u001b[49m\u001b[38;5;241;43m.\u001b[39;49m\u001b[43mpredict\u001b[49m\u001b[43m(\u001b[49m\u001b[43mX_test\u001b[49m\u001b[43m)\u001b[49m\n\u001b[1;32m     15\u001b[0m evalute_dict[\u001b[38;5;124m'\u001b[39m\u001b[38;5;124mknn\u001b[39m\u001b[38;5;124m'\u001b[39m][\u001b[38;5;124m'\u001b[39m\u001b[38;5;124macc\u001b[39m\u001b[38;5;124m'\u001b[39m] \u001b[38;5;241m=\u001b[39m accuracy_score(y_test, evalute_dict[\u001b[38;5;124m'\u001b[39m\u001b[38;5;124mknn\u001b[39m\u001b[38;5;124m'\u001b[39m][\u001b[38;5;124m'\u001b[39m\u001b[38;5;124mpreds\u001b[39m\u001b[38;5;124m'\u001b[39m])\n\u001b[1;32m     16\u001b[0m evalute_dict[\u001b[38;5;124m'\u001b[39m\u001b[38;5;124mknn\u001b[39m\u001b[38;5;124m'\u001b[39m][\u001b[38;5;124m'\u001b[39m\u001b[38;5;124mf1\u001b[39m\u001b[38;5;124m'\u001b[39m] \u001b[38;5;241m=\u001b[39m f1_score(y_test, evalute_dict[\u001b[38;5;124m'\u001b[39m\u001b[38;5;124mknn\u001b[39m\u001b[38;5;124m'\u001b[39m][\u001b[38;5;124m'\u001b[39m\u001b[38;5;124mpreds\u001b[39m\u001b[38;5;124m'\u001b[39m], average\u001b[38;5;241m=\u001b[39m\u001b[38;5;124m'\u001b[39m\u001b[38;5;124mweighted\u001b[39m\u001b[38;5;124m'\u001b[39m)\n",
      "File \u001b[0;32m~/opt/anaconda3/envs/newsai/lib/python3.8/site-packages/sklearn/neighbors/_classification.py:234\u001b[0m, in \u001b[0;36mKNeighborsClassifier.predict\u001b[0;34m(self, X)\u001b[0m\n\u001b[1;32m    218\u001b[0m \u001b[38;5;124;03m\"\"\"Predict the class labels for the provided data.\u001b[39;00m\n\u001b[1;32m    219\u001b[0m \n\u001b[1;32m    220\u001b[0m \u001b[38;5;124;03mParameters\u001b[39;00m\n\u001b[0;32m   (...)\u001b[0m\n\u001b[1;32m    229\u001b[0m \u001b[38;5;124;03m    Class labels for each data sample.\u001b[39;00m\n\u001b[1;32m    230\u001b[0m \u001b[38;5;124;03m\"\"\"\u001b[39;00m\n\u001b[1;32m    231\u001b[0m \u001b[38;5;28;01mif\u001b[39;00m \u001b[38;5;28mself\u001b[39m\u001b[38;5;241m.\u001b[39mweights \u001b[38;5;241m==\u001b[39m \u001b[38;5;124m\"\u001b[39m\u001b[38;5;124muniform\u001b[39m\u001b[38;5;124m\"\u001b[39m:\n\u001b[1;32m    232\u001b[0m     \u001b[38;5;66;03m# In that case, we do not need the distances to perform\u001b[39;00m\n\u001b[1;32m    233\u001b[0m     \u001b[38;5;66;03m# the weighting so we do not compute them.\u001b[39;00m\n\u001b[0;32m--> 234\u001b[0m     neigh_ind \u001b[38;5;241m=\u001b[39m \u001b[38;5;28;43mself\u001b[39;49m\u001b[38;5;241;43m.\u001b[39;49m\u001b[43mkneighbors\u001b[49m\u001b[43m(\u001b[49m\u001b[43mX\u001b[49m\u001b[43m,\u001b[49m\u001b[43m \u001b[49m\u001b[43mreturn_distance\u001b[49m\u001b[38;5;241;43m=\u001b[39;49m\u001b[38;5;28;43;01mFalse\u001b[39;49;00m\u001b[43m)\u001b[49m\n\u001b[1;32m    235\u001b[0m     neigh_dist \u001b[38;5;241m=\u001b[39m \u001b[38;5;28;01mNone\u001b[39;00m\n\u001b[1;32m    236\u001b[0m \u001b[38;5;28;01melse\u001b[39;00m:\n",
      "File \u001b[0;32m~/opt/anaconda3/envs/newsai/lib/python3.8/site-packages/sklearn/neighbors/_base.py:824\u001b[0m, in \u001b[0;36mKNeighborsMixin.kneighbors\u001b[0;34m(self, X, n_neighbors, return_distance)\u001b[0m\n\u001b[1;32m    817\u001b[0m use_pairwise_distances_reductions \u001b[38;5;241m=\u001b[39m (\n\u001b[1;32m    818\u001b[0m     \u001b[38;5;28mself\u001b[39m\u001b[38;5;241m.\u001b[39m_fit_method \u001b[38;5;241m==\u001b[39m \u001b[38;5;124m\"\u001b[39m\u001b[38;5;124mbrute\u001b[39m\u001b[38;5;124m\"\u001b[39m\n\u001b[1;32m    819\u001b[0m     \u001b[38;5;129;01mand\u001b[39;00m ArgKmin\u001b[38;5;241m.\u001b[39mis_usable_for(\n\u001b[1;32m    820\u001b[0m         X \u001b[38;5;28;01mif\u001b[39;00m X \u001b[38;5;129;01mis\u001b[39;00m \u001b[38;5;129;01mnot\u001b[39;00m \u001b[38;5;28;01mNone\u001b[39;00m \u001b[38;5;28;01melse\u001b[39;00m \u001b[38;5;28mself\u001b[39m\u001b[38;5;241m.\u001b[39m_fit_X, \u001b[38;5;28mself\u001b[39m\u001b[38;5;241m.\u001b[39m_fit_X, \u001b[38;5;28mself\u001b[39m\u001b[38;5;241m.\u001b[39meffective_metric_\n\u001b[1;32m    821\u001b[0m     )\n\u001b[1;32m    822\u001b[0m )\n\u001b[1;32m    823\u001b[0m \u001b[38;5;28;01mif\u001b[39;00m use_pairwise_distances_reductions:\n\u001b[0;32m--> 824\u001b[0m     results \u001b[38;5;241m=\u001b[39m \u001b[43mArgKmin\u001b[49m\u001b[38;5;241;43m.\u001b[39;49m\u001b[43mcompute\u001b[49m\u001b[43m(\u001b[49m\n\u001b[1;32m    825\u001b[0m \u001b[43m        \u001b[49m\u001b[43mX\u001b[49m\u001b[38;5;241;43m=\u001b[39;49m\u001b[43mX\u001b[49m\u001b[43m,\u001b[49m\n\u001b[1;32m    826\u001b[0m \u001b[43m        \u001b[49m\u001b[43mY\u001b[49m\u001b[38;5;241;43m=\u001b[39;49m\u001b[38;5;28;43mself\u001b[39;49m\u001b[38;5;241;43m.\u001b[39;49m\u001b[43m_fit_X\u001b[49m\u001b[43m,\u001b[49m\n\u001b[1;32m    827\u001b[0m \u001b[43m        \u001b[49m\u001b[43mk\u001b[49m\u001b[38;5;241;43m=\u001b[39;49m\u001b[43mn_neighbors\u001b[49m\u001b[43m,\u001b[49m\n\u001b[1;32m    828\u001b[0m \u001b[43m        \u001b[49m\u001b[43mmetric\u001b[49m\u001b[38;5;241;43m=\u001b[39;49m\u001b[38;5;28;43mself\u001b[39;49m\u001b[38;5;241;43m.\u001b[39;49m\u001b[43meffective_metric_\u001b[49m\u001b[43m,\u001b[49m\n\u001b[1;32m    829\u001b[0m \u001b[43m        \u001b[49m\u001b[43mmetric_kwargs\u001b[49m\u001b[38;5;241;43m=\u001b[39;49m\u001b[38;5;28;43mself\u001b[39;49m\u001b[38;5;241;43m.\u001b[39;49m\u001b[43meffective_metric_params_\u001b[49m\u001b[43m,\u001b[49m\n\u001b[1;32m    830\u001b[0m \u001b[43m        \u001b[49m\u001b[43mstrategy\u001b[49m\u001b[38;5;241;43m=\u001b[39;49m\u001b[38;5;124;43m\"\u001b[39;49m\u001b[38;5;124;43mauto\u001b[39;49m\u001b[38;5;124;43m\"\u001b[39;49m\u001b[43m,\u001b[49m\n\u001b[1;32m    831\u001b[0m \u001b[43m        \u001b[49m\u001b[43mreturn_distance\u001b[49m\u001b[38;5;241;43m=\u001b[39;49m\u001b[43mreturn_distance\u001b[49m\u001b[43m,\u001b[49m\n\u001b[1;32m    832\u001b[0m \u001b[43m    \u001b[49m\u001b[43m)\u001b[49m\n\u001b[1;32m    834\u001b[0m \u001b[38;5;28;01melif\u001b[39;00m (\n\u001b[1;32m    835\u001b[0m     \u001b[38;5;28mself\u001b[39m\u001b[38;5;241m.\u001b[39m_fit_method \u001b[38;5;241m==\u001b[39m \u001b[38;5;124m\"\u001b[39m\u001b[38;5;124mbrute\u001b[39m\u001b[38;5;124m\"\u001b[39m \u001b[38;5;129;01mand\u001b[39;00m \u001b[38;5;28mself\u001b[39m\u001b[38;5;241m.\u001b[39mmetric \u001b[38;5;241m==\u001b[39m \u001b[38;5;124m\"\u001b[39m\u001b[38;5;124mprecomputed\u001b[39m\u001b[38;5;124m\"\u001b[39m \u001b[38;5;129;01mand\u001b[39;00m issparse(X)\n\u001b[1;32m    836\u001b[0m ):\n\u001b[1;32m    837\u001b[0m     results \u001b[38;5;241m=\u001b[39m _kneighbors_from_graph(\n\u001b[1;32m    838\u001b[0m         X, n_neighbors\u001b[38;5;241m=\u001b[39mn_neighbors, return_distance\u001b[38;5;241m=\u001b[39mreturn_distance\n\u001b[1;32m    839\u001b[0m     )\n",
      "File \u001b[0;32m~/opt/anaconda3/envs/newsai/lib/python3.8/site-packages/sklearn/metrics/_pairwise_distances_reduction/_dispatcher.py:277\u001b[0m, in \u001b[0;36mArgKmin.compute\u001b[0;34m(cls, X, Y, k, metric, chunk_size, metric_kwargs, strategy, return_distance)\u001b[0m\n\u001b[1;32m    196\u001b[0m \u001b[38;5;124;03m\"\"\"Compute the argkmin reduction.\u001b[39;00m\n\u001b[1;32m    197\u001b[0m \n\u001b[1;32m    198\u001b[0m \u001b[38;5;124;03mParameters\u001b[39;00m\n\u001b[0;32m   (...)\u001b[0m\n\u001b[1;32m    274\u001b[0m \u001b[38;5;124;03mreturns.\u001b[39;00m\n\u001b[1;32m    275\u001b[0m \u001b[38;5;124;03m\"\"\"\u001b[39;00m\n\u001b[1;32m    276\u001b[0m \u001b[38;5;28;01mif\u001b[39;00m X\u001b[38;5;241m.\u001b[39mdtype \u001b[38;5;241m==\u001b[39m Y\u001b[38;5;241m.\u001b[39mdtype \u001b[38;5;241m==\u001b[39m np\u001b[38;5;241m.\u001b[39mfloat64:\n\u001b[0;32m--> 277\u001b[0m     \u001b[38;5;28;01mreturn\u001b[39;00m \u001b[43mArgKmin64\u001b[49m\u001b[38;5;241;43m.\u001b[39;49m\u001b[43mcompute\u001b[49m\u001b[43m(\u001b[49m\n\u001b[1;32m    278\u001b[0m \u001b[43m        \u001b[49m\u001b[43mX\u001b[49m\u001b[38;5;241;43m=\u001b[39;49m\u001b[43mX\u001b[49m\u001b[43m,\u001b[49m\n\u001b[1;32m    279\u001b[0m \u001b[43m        \u001b[49m\u001b[43mY\u001b[49m\u001b[38;5;241;43m=\u001b[39;49m\u001b[43mY\u001b[49m\u001b[43m,\u001b[49m\n\u001b[1;32m    280\u001b[0m \u001b[43m        \u001b[49m\u001b[43mk\u001b[49m\u001b[38;5;241;43m=\u001b[39;49m\u001b[43mk\u001b[49m\u001b[43m,\u001b[49m\n\u001b[1;32m    281\u001b[0m \u001b[43m        \u001b[49m\u001b[43mmetric\u001b[49m\u001b[38;5;241;43m=\u001b[39;49m\u001b[43mmetric\u001b[49m\u001b[43m,\u001b[49m\n\u001b[1;32m    282\u001b[0m \u001b[43m        \u001b[49m\u001b[43mchunk_size\u001b[49m\u001b[38;5;241;43m=\u001b[39;49m\u001b[43mchunk_size\u001b[49m\u001b[43m,\u001b[49m\n\u001b[1;32m    283\u001b[0m \u001b[43m        \u001b[49m\u001b[43mmetric_kwargs\u001b[49m\u001b[38;5;241;43m=\u001b[39;49m\u001b[43mmetric_kwargs\u001b[49m\u001b[43m,\u001b[49m\n\u001b[1;32m    284\u001b[0m \u001b[43m        \u001b[49m\u001b[43mstrategy\u001b[49m\u001b[38;5;241;43m=\u001b[39;49m\u001b[43mstrategy\u001b[49m\u001b[43m,\u001b[49m\n\u001b[1;32m    285\u001b[0m \u001b[43m        \u001b[49m\u001b[43mreturn_distance\u001b[49m\u001b[38;5;241;43m=\u001b[39;49m\u001b[43mreturn_distance\u001b[49m\u001b[43m,\u001b[49m\n\u001b[1;32m    286\u001b[0m \u001b[43m    \u001b[49m\u001b[43m)\u001b[49m\n\u001b[1;32m    288\u001b[0m \u001b[38;5;28;01mif\u001b[39;00m X\u001b[38;5;241m.\u001b[39mdtype \u001b[38;5;241m==\u001b[39m Y\u001b[38;5;241m.\u001b[39mdtype \u001b[38;5;241m==\u001b[39m np\u001b[38;5;241m.\u001b[39mfloat32:\n\u001b[1;32m    289\u001b[0m     \u001b[38;5;28;01mreturn\u001b[39;00m ArgKmin32\u001b[38;5;241m.\u001b[39mcompute(\n\u001b[1;32m    290\u001b[0m         X\u001b[38;5;241m=\u001b[39mX,\n\u001b[1;32m    291\u001b[0m         Y\u001b[38;5;241m=\u001b[39mY,\n\u001b[0;32m   (...)\u001b[0m\n\u001b[1;32m    297\u001b[0m         return_distance\u001b[38;5;241m=\u001b[39mreturn_distance,\n\u001b[1;32m    298\u001b[0m     )\n",
      "File \u001b[0;32msklearn/metrics/_pairwise_distances_reduction/_argkmin.pyx:95\u001b[0m, in \u001b[0;36msklearn.metrics._pairwise_distances_reduction._argkmin.ArgKmin64.compute\u001b[0;34m()\u001b[0m\n",
      "File \u001b[0;32m~/opt/anaconda3/envs/newsai/lib/python3.8/site-packages/threadpoolctl.py:171\u001b[0m, in \u001b[0;36m_ThreadpoolLimiter.__exit__\u001b[0;34m(self, type, value, traceback)\u001b[0m\n\u001b[1;32m    168\u001b[0m \u001b[38;5;28;01mdef\u001b[39;00m \u001b[38;5;21m__enter__\u001b[39m(\u001b[38;5;28mself\u001b[39m):\n\u001b[1;32m    169\u001b[0m     \u001b[38;5;28;01mreturn\u001b[39;00m \u001b[38;5;28mself\u001b[39m\n\u001b[0;32m--> 171\u001b[0m \u001b[38;5;28;01mdef\u001b[39;00m \u001b[38;5;21m__exit__\u001b[39m(\u001b[38;5;28mself\u001b[39m, \u001b[38;5;28mtype\u001b[39m, value, traceback):\n\u001b[1;32m    172\u001b[0m     \u001b[38;5;28mself\u001b[39m\u001b[38;5;241m.\u001b[39mrestore_original_limits()\n\u001b[1;32m    174\u001b[0m \u001b[38;5;129m@classmethod\u001b[39m\n\u001b[1;32m    175\u001b[0m \u001b[38;5;28;01mdef\u001b[39;00m \u001b[38;5;21mwrap\u001b[39m(\u001b[38;5;28mcls\u001b[39m, controller, \u001b[38;5;241m*\u001b[39m, limits\u001b[38;5;241m=\u001b[39m\u001b[38;5;28;01mNone\u001b[39;00m, user_api\u001b[38;5;241m=\u001b[39m\u001b[38;5;28;01mNone\u001b[39;00m):\n",
      "\u001b[0;31mKeyboardInterrupt\u001b[0m: "
     ]
    }
   ],
   "source": [
    "cnn_fox_dict = generate_evaluate(cnn_fox)\n",
    "cnn_fox_result = pd.DataFrame(cnn_fox_dict).T\n",
    "cnn_fox_result.to_csv(path+ 'cnn_fox_result.csv')"
   ]
  },
  {
   "cell_type": "code",
   "execution_count": null,
   "id": "239565e5",
   "metadata": {},
   "outputs": [],
   "source": [
    "cnn_fox_subset_dict = generate_evaluate(cnn_fox_subset)\n",
    "cnn_fox_subset_result = pd.DataFrame(cnn_fox_subset_dict).T\n",
    "cnn_fox_subset_result.to_csv(path+ 'cnn_fox_subset_result.csv')"
   ]
  },
  {
   "cell_type": "code",
   "execution_count": null,
   "id": "8fbc3c54",
   "metadata": {},
   "outputs": [],
   "source": [
    "\n",
    "cnn_pbs_rep = get_2news(republican_df, -1)\n",
    "cnn_pbs_rep_subset = get_2news(republican_subset, -1)\n",
    "\n",
    "cnn_pbs_trump = get_2news(trump_df, -1)\n",
    "cnn_pbs_trump_subset = get_2news(trump_subset, -1)\n",
    "\n",
    "cnn_pbs_dem = get_2news(democratic_df, -1)\n",
    "cnn_pbs_dem_subset = get_2news(democratic_subset, -1)\n",
    "\n",
    "cnn_pbs_biden = get_2news(biden_df, -1)\n",
    "cnn_pbs_biden_subset = get_2news(biden_subset, -1)\n",
    "\n",
    "cnn_pbs_election = get_2news(election_df, -1)\n",
    "cnn_pbs_election_subset = get_2news(election_subset, -1)\n"
   ]
  },
  {
   "cell_type": "markdown",
   "id": "2e91211e",
   "metadata": {},
   "source": [
    "#### fox pbs"
   ]
  },
  {
   "cell_type": "code",
   "execution_count": null,
   "id": "9189ffa1",
   "metadata": {},
   "outputs": [],
   "source": [
    "fox_pbs = get_2news(df, 1)\n",
    "fox_pbs_subset = get_2news(subset_df, 1)"
   ]
  },
  {
   "cell_type": "code",
   "execution_count": null,
   "id": "bdb22911",
   "metadata": {},
   "outputs": [],
   "source": [
    "fox_pbs_dict = generate_evaluate(fox_pbs)\n",
    "fox_pbs_result = pd.DataFrame(fox_pbs_dict).T\n",
    "fox_pbs_result.to_csv(path+ 'fox_pbs_result.csv')"
   ]
  },
  {
   "cell_type": "code",
   "execution_count": null,
   "id": "89e36c5e",
   "metadata": {},
   "outputs": [],
   "source": [
    "fox_pbs_subset_dict = generate_evaluate(fox_pbs_subset)\n",
    "fox_pbs_subset_result = pd.DataFrame(fox_pbs_subset_dict).T\n",
    "fox_pbs_subset_result.to_csv(path+ 'fox_pbs_subset_result.csv')"
   ]
  },
  {
   "cell_type": "markdown",
   "id": "4e7d379e-989a-46eb-946d-f3c4bf150759",
   "metadata": {},
   "source": [
    "## analysis"
   ]
  },
  {
   "cell_type": "markdown",
   "id": "ea2b6a33-c81a-4a74-8d3a-82201f3d7ea7",
   "metadata": {
    "tags": []
   },
   "source": [
    "### read in datas and form data table"
   ]
  },
  {
   "cell_type": "markdown",
   "id": "3a14a640-755e-43e6-8cca-af40a8979bf3",
   "metadata": {
    "tags": []
   },
   "source": [
    "#### source"
   ]
  },
  {
   "cell_type": "code",
   "execution_count": null,
   "id": "03d70bfa-cd3d-4375-b838-48d6a7e96056",
   "metadata": {},
   "outputs": [],
   "source": [
    "# generate mean\n",
    "def get_avg(data):\n",
    "\n",
    "    data.loc['mean'] = [None, data['acc'].mean(), data['f1'].mean()]\n",
    "    return data"
   ]
  },
  {
   "cell_type": "code",
   "execution_count": null,
   "id": "7a147b79-5d45-4346-87eb-b4a1c8fdc7c8",
   "metadata": {},
   "outputs": [],
   "source": [
    "data"
   ]
  },
  {
   "cell_type": "code",
   "execution_count": null,
   "id": "8b12c6f1-2bf6-4cd3-aa92-9f144585a2e5",
   "metadata": {},
   "outputs": [],
   "source": [
    "\n",
    "df_result = get_avg(pd.read_csv(path+ 'df_result.csv').rename(columns={\"Unnamed: 0\": \"model\"}).set_index('model'))\n",
    "\n",
    "cnn_fox_result = get_avg(pd.read_csv(path+ 'cnn_fox_result.csv').rename(columns={\"Unnamed: 0\": \"model\"}).set_index('model'))\n",
    "fox_pbs_result = get_avg(pd.read_csv(path+ 'fox_pbs_result.csv').rename(columns={\"Unnamed: 0\": \"model\"}).set_index('model'))\n",
    "cnn_pbs_result = get_avg( pd.read_csv(path+ 'cnn_pbs_result.csv').rename(columns={\"Unnamed: 0\": \"model\"}).set_index('model'))\n",
    "\n",
    "subset_result = get_avg(pd.read_csv(path+ 'subset_result.csv').rename(columns={\"Unnamed: 0\": \"model\"}).set_index('model'))\n",
    "\n",
    "cnn_fox_subset_result = get_avg(pd.read_csv(path+ 'cnn_fox_subset_result.csv').rename(columns={\"Unnamed: 0\": \"model\"}).set_index('model'))\n",
    "fox_pbs_subset_result = get_avg(pd.read_csv(path+ 'fox_pbs_subset_result.csv').rename(columns={\"Unnamed: 0\": \"model\"}).set_index('model'))\n",
    "cnn_pbs_subset_result = get_avg(pd.read_csv(path+ 'cnn_pbs_subset_result.csv').rename(columns={\"Unnamed: 0\": \"model\"}).set_index('model'))\n",
    "\n",
    "\n",
    "df_result['acc'].mean()\n",
    "subset_result['acc'].mean()"
   ]
  },
  {
   "cell_type": "code",
   "execution_count": null,
   "id": "9336df54-6ec8-4ac3-afa6-d5d38ca54f05",
   "metadata": {},
   "outputs": [],
   "source": [
    "models_list = []\n",
    "\n",
    "models = ['knn', 'mnb', 'svm', 'tree', 'mean']\n",
    "\n",
    "for m in models:\n",
    "    model_df = pd.DataFrame()\n",
    "    model_df.attrs['name'] = m\n",
    "    \n",
    "    model_df['whole data'] = df_result.loc[m, ['acc', 'f1']]\n",
    "    model_df['CNN vs FOX'] = cnn_fox_result.loc[m, ['acc', 'f1']]\n",
    "    model_df['FOX vs PBS'] = fox_pbs_result.loc[m, ['acc', 'f1']]\n",
    "    model_df['CNN vs PBS'] = cnn_pbs_result.loc[m, ['acc', 'f1']]\n",
    "    \n",
    "    models_list.append(model_df)"
   ]
  },
  {
   "cell_type": "code",
   "execution_count": null,
   "id": "da9909d8-52ca-4e6e-bd60-136f32075129",
   "metadata": {},
   "outputs": [],
   "source": [
    "\n",
    "\n",
    "sub_models_list = []\n",
    "\n",
    "models = ['knn', 'mnb', 'svm', 'tree', 'mean']\n",
    "\n",
    "for m in models:\n",
    "    model_df = pd.DataFrame()\n",
    "    model_df.attrs['name'] = m\n",
    "    \n",
    "    model_df['whole data'] = subset_result.loc[m, ['acc', 'f1']]\n",
    "    model_df['CNN vs FOX'] = cnn_fox_subset_result.loc[m, ['acc', 'f1']]\n",
    "    model_df['FOX vs PBS'] = fox_pbs_subset_result.loc[m, ['acc', 'f1']]\n",
    "    model_df['CNN vs PBS'] = cnn_pbs_subset_result.loc[m, ['acc', 'f1']]\n",
    "    \n",
    "    sub_models_list.append(model_df)\n",
    "    \n",
    "    \n",
    "sub_models_list[0]"
   ]
  },
  {
   "cell_type": "markdown",
   "id": "0628bc92-f80c-4e58-8478-ab419dd0f977",
   "metadata": {
    "tags": []
   },
   "source": [
    "#### keywords"
   ]
  },
  {
   "cell_type": "code",
   "execution_count": null,
   "id": "5bf46a30-fc60-4d53-a88e-dd518659bf9e",
   "metadata": {},
   "outputs": [],
   "source": [
    "election_result = get_avg(pd.read_csv(path+ 'election_result.csv').rename(columns={\"Unnamed: 0\": \"model\"}).set_index('model'))\n",
    "biden_result = get_avg(pd.read_csv(path+ 'biden_result.csv').rename(columns={\"Unnamed: 0\": \"model\"}).set_index('model'))\n",
    "trump_result =get_avg( pd.read_csv(path+ 'trump_result.csv').rename(columns={\"Unnamed: 0\": \"model\"}).set_index('model'))\n",
    "republican_result = get_avg(pd.read_csv(path+ 'republican_result.csv').rename(columns={\"Unnamed: 0\": \"model\"}).set_index('model'))\n",
    "democratic_result = get_avg( pd.read_csv(path+ 'democratic_result.csv').rename(columns={\"Unnamed: 0\": \"model\"}).set_index('model'))\n",
    "\n",
    "\n",
    "election_subset_result = get_avg(pd.read_csv(path+ 'cnn_fox_subset_result.csv').rename(columns={\"Unnamed: 0\": \"model\"}).set_index('model'))\n",
    "biden_subset_result =get_avg( pd.read_csv(path+ 'biden_subset_result.csv').rename(columns={\"Unnamed: 0\": \"model\"}).set_index('model'))\n",
    "trump_subset_result = get_avg(pd.read_csv(path+ 'trump_subset_result.csv').rename(columns={\"Unnamed: 0\": \"model\"}).set_index('model'))\n",
    "republican_subset_result = get_avg( pd.read_csv(path+ 'republican_subset_result.csv').rename(columns={\"Unnamed: 0\": \"model\"}).set_index('model'))\n",
    "democratic_subset_result = get_avg(pd.read_csv(path+ 'democratic_subset_result.csv').rename(columns={\"Unnamed: 0\": \"model\"}).set_index('model'))\n",
    "\n",
    "\n",
    "df_result.head()"
   ]
  },
  {
   "cell_type": "code",
   "execution_count": null,
   "id": "79f2c5b2-e90e-498e-a204-d1d76d4dfbb0",
   "metadata": {},
   "outputs": [],
   "source": [
    "keywords_models_list = []\n",
    "\n",
    "models = ['knn', 'mnb', 'svm', 'tree', 'mean']\n",
    "\n",
    "for m in models:\n",
    "    model_df = pd.DataFrame()\n",
    "    model_df.attrs['name'] = m\n",
    "    \n",
    "    model_df['whole data'] = df_result.loc[m, ['acc', 'f1']]\n",
    "    model_df['election'] = election_result.loc[m, ['acc', 'f1']]\n",
    "    model_df['Trump'] = trump_result.loc[m, ['acc', 'f1']]\n",
    "    model_df['Biden'] = biden_result.loc[m, ['acc', 'f1']]\n",
    "    model_df['Democra'] = democratic_result.loc[m, ['acc', 'f1']]\n",
    "    model_df['Republican'] = republican_result.loc[m, ['acc', 'f1']]\n",
    "    \n",
    "    keywords_models_list.append(model_df)\n",
    "    \n",
    "keywords_models_list[0]"
   ]
  },
  {
   "cell_type": "code",
   "execution_count": null,
   "id": "999305ce-6b33-4c7d-8aef-58e321755c90",
   "metadata": {},
   "outputs": [],
   "source": [
    "\n",
    "\n",
    "sub_keywords_models_list = []\n",
    "\n",
    "models = ['knn', 'mnb', 'svm', 'tree']\n",
    "\n",
    "for m in models:\n",
    "    model_df = pd.DataFrame()\n",
    "    model_df.attrs['name'] = m\n",
    "    \n",
    "    model_df['whole data'] = subset_result.loc[m, ['acc', 'f1']]\n",
    "    model_df['election'] = election_subset_result.loc[m, ['acc', 'f1']]\n",
    "    model_df['Trump'] = trump_subset_result.loc[m, ['acc', 'f1']]\n",
    "    model_df['Biden'] = biden_subset_result.loc[m, ['acc', 'f1']]\n",
    "    model_df['Republican'] = republican_subset_result.loc[m, ['acc', 'f1']]\n",
    "    model_df['Democratic'] = democratic_subset_result.loc[m, ['acc', 'f1']]\n",
    "    \n",
    "    sub_keywords_models_list.append(model_df)\n",
    "    \n",
    "sub_keywords_models_list[0]"
   ]
  },
  {
   "cell_type": "markdown",
   "id": "75e6103c-7f35-4b33-ab2b-42bcb7fa4159",
   "metadata": {},
   "source": [
    "### show graphs"
   ]
  },
  {
   "cell_type": "markdown",
   "id": "22cda503-9e9a-4b0a-aa8a-34ccbbf89de4",
   "metadata": {
    "tags": []
   },
   "source": [
    "#### functions"
   ]
  },
  {
   "cell_type": "code",
   "execution_count": null,
   "id": "4d61480c-802d-419b-832a-0bc62f9b69ca",
   "metadata": {},
   "outputs": [],
   "source": [
    "\n",
    "def bars_2data(df1, df2):\n",
    "    name = df1.attrs[\"name\"] \n",
    "    # create a bar plot comparing the 'acc' values of the two data frames\n",
    "    print(name)\n",
    "    fig, ax = plt.subplots()\n",
    "    bar_width = 0.35\n",
    "    opacity = 0.8\n",
    "\n",
    "    index = range(len(df1.columns))\n",
    "    rects1 = ax.bar(index, df1.loc['acc'], bar_width, alpha=opacity, color='b', label='Whole Dataset')\n",
    "    rects2 = ax.bar([i + bar_width for i in index], df2.loc['acc'], bar_width, alpha=opacity, color='g', label='Undersample')\n",
    "\n",
    "    ax.set_xlabel('Columns')\n",
    "    ax.set_ylabel('Accuracy')\n",
    "    ax.set_ylim(0,1)\n",
    "    # ax.set_title(f'Accuracy of {name} model')\n",
    "    ax.set_xticks([i + bar_width/2 for i in index])\n",
    "    ax.set_xticklabels(df1.columns)\n",
    "    ax.legend()\n",
    "\n",
    "    # plt.figure(figsize=(20,8))\n",
    "    fig.set_dpi(100)\n",
    "    plt.tight_layout()\n",
    "    plt.show()"
   ]
  },
  {
   "cell_type": "code",
   "execution_count": null,
   "id": "3cb7757d-2a0a-4669-873d-b0c80dc4abeb",
   "metadata": {},
   "outputs": [],
   "source": [
    "def show_bar(data):\n",
    "    # create the bar plot\n",
    "    name = data.attrs[\"name\"] \n",
    "    print(name)\n",
    "    bar_width = 0.35\n",
    "    index = range(len(data.columns))\n",
    "    \n",
    "    fig, ax = plt.subplots()\n",
    "    fig.set_dpi(100)\n",
    "    \n",
    "    ax.bar(index, data.loc['acc'],  bar_width , color=['blue', 'orange', 'green', 'red'])\n",
    "    # ax = .plot(kind='bar', figsize=(12, 10))\n",
    "    ax.set_ylabel('Accuracy')\n",
    "\n",
    "    # ax.set_title(f'Accuracy of {name} model')\n",
    "    \n",
    "    ax.set_xticks([i + bar_width/2 for i in index])\n",
    "    ax.set_xticklabels(data.columns)\n",
    "    plt.figure(figsize=(12,10))\n",
    "    \n",
    "    plt.show()\n",
    "    \n"
   ]
  },
  {
   "cell_type": "markdown",
   "id": "80b93d85-d85c-4bc7-a489-ccffdb7d8705",
   "metadata": {},
   "source": [
    "#### shoe viz"
   ]
  },
  {
   "cell_type": "code",
   "execution_count": null,
   "id": "1499aefe-c93e-4311-8a02-7440203464cb",
   "metadata": {},
   "outputs": [],
   "source": [
    "bars_2data(models_list[4], sub_models_list[4])"
   ]
  },
  {
   "cell_type": "code",
   "execution_count": null,
   "id": "c070bfa1-7879-4097-a393-74b99d7f3c94",
   "metadata": {},
   "outputs": [],
   "source": [
    "for i in range(4):\n",
    "    show_bar(sub_keywords_models_list[i])"
   ]
  },
  {
   "cell_type": "code",
   "execution_count": null,
   "id": "f4a34273-23f8-4275-9b8d-a1f4dca35794",
   "metadata": {},
   "outputs": [],
   "source": [
    "for i in range(5):\n",
    "    show_bar(sub_models_list[i])"
   ]
  },
  {
   "cell_type": "code",
   "execution_count": null,
   "id": "c2b6c7aa-f9b8-4f87-95c4-c022cdb445f7",
   "metadata": {},
   "outputs": [],
   "source": [
    "show_bar(keywords_models_list[0])"
   ]
  },
  {
   "cell_type": "code",
   "execution_count": null,
   "id": "f7102447-235c-4bb3-a104-e8bba4f2147c",
   "metadata": {
    "scrolled": true,
    "tags": []
   },
   "outputs": [],
   "source": [
    "for i in range(4):\n",
    "    bars_2data(models_list[i], sub_models_list[i])"
   ]
  },
  {
   "cell_type": "code",
   "execution_count": null,
   "id": "87faa0ad-e90c-450b-a172-488023360429",
   "metadata": {},
   "outputs": [],
   "source": [
    "for i in range(4):\n",
    "    bars_2data(keywords_models_list[i], sub_keywords_models_list[i])"
   ]
  },
  {
   "cell_type": "code",
   "execution_count": null,
   "id": "6f547846-11c9-4df7-bf9a-874c0cfb20b4",
   "metadata": {},
   "outputs": [],
   "source": []
  }
 ],
 "metadata": {
  "kernelspec": {
   "display_name": "Python 3 (ipykernel)",
   "language": "python",
   "name": "python3"
  },
  "language_info": {
   "codemirror_mode": {
    "name": "ipython",
    "version": 3
   },
   "file_extension": ".py",
   "mimetype": "text/x-python",
   "name": "python",
   "nbconvert_exporter": "python",
   "pygments_lexer": "ipython3",
   "version": "3.8.16"
  }
 },
 "nbformat": 4,
 "nbformat_minor": 5
}
