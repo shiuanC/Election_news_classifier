{
 "cells": [
  {
   "cell_type": "code",
   "execution_count": null,
   "id": "f9bf0884",
   "metadata": {},
   "outputs": [],
   "source": [
    "import requests\n",
    "import json\n",
    "import datetime\n",
    "import pandas as pd\n",
    "import re\n",
    "import os\n",
    "import random\n",
    "import urllib3\n",
    "import time\n",
    "import matplotlib\n",
    "import nltk\n",
    "import jieba\n",
    "\n",
    "from ckiptagger import data_utils, construct_dictionary, WS, POS, NER\n",
    "\n",
    "from nltk.corpus import stopwords\n",
    "from wordcloud import WordCloud,STOPWORDS\n",
    "from datetime import datetime\n",
    "from tqdm.notebook import tqdm, tqdm_notebook\n",
    "\n",
    "import matplotlib.pyplot as plt\n",
    "import seaborn as sns\n",
    "\n",
    "from sklearn.neighbors import KNeighborsClassifier\n",
    "from sklearn.naive_bayes import MultinomialNB\n",
    "from sklearn.tree import DecisionTreeClassifier, plot_tree\n",
    "from sklearn.svm import SVC\n",
    "from sklearn.feature_extraction.text import TfidfVectorizer\n",
    "from sklearn.model_selection import cross_val_score,train_test_split, validation_curve, cross_val_predict\n",
    "from sklearn.metrics import roc_curve, accuracy_score, recall_score, confusion_matrix,f1_score\n",
    "\n",
    "tqdm_notebook.pandas()\n",
    "\n",
    "path = '../data/TW/'\n",
    "ckiptagger_path = \"//Users/user/ckiptagger\""
   ]
  },
  {
   "cell_type": "code",
   "execution_count": 4,
   "id": "4f04f52c",
   "metadata": {},
   "outputs": [
    {
     "data": {
      "text/html": [
       "<div>\n",
       "<style scoped>\n",
       "    .dataframe tbody tr th:only-of-type {\n",
       "        vertical-align: middle;\n",
       "    }\n",
       "\n",
       "    .dataframe tbody tr th {\n",
       "        vertical-align: top;\n",
       "    }\n",
       "\n",
       "    .dataframe thead th {\n",
       "        text-align: right;\n",
       "    }\n",
       "</style>\n",
       "<table border=\"1\" class=\"dataframe\">\n",
       "  <thead>\n",
       "    <tr style=\"text-align: right;\">\n",
       "      <th></th>\n",
       "      <th>title</th>\n",
       "      <th>keyword_dpp</th>\n",
       "      <th>keyword_han</th>\n",
       "      <th>keyword_kmt</th>\n",
       "      <th>keyword_tsai</th>\n",
       "      <th>content</th>\n",
       "      <th>date</th>\n",
       "      <th>source</th>\n",
       "      <th>keyword_election</th>\n",
       "    </tr>\n",
       "  </thead>\n",
       "  <tbody>\n",
       "    <tr>\n",
       "      <th>0</th>\n",
       "      <td>台中想吃雞排看這裡 2500份19、20日手刀排一波</td>\n",
       "      <td>False</td>\n",
       "      <td>False</td>\n",
       "      <td>False</td>\n",
       "      <td>True</td>\n",
       "      <td>館長兌現承諾發送雞排，其中2000份20日下午3點在陳柏惟烏日新興路481號服務處發放。（記...</td>\n",
       "      <td>2020-01-17 00:00:00+00:00</td>\n",
       "      <td>ltn</td>\n",
       "      <td>True</td>\n",
       "    </tr>\n",
       "    <tr>\n",
       "      <th>1</th>\n",
       "      <td>英國駐台代表晉見蔡總統 恭賀台灣蓬勃發展的民主機制</td>\n",
       "      <td>False</td>\n",
       "      <td>False</td>\n",
       "      <td>False</td>\n",
       "      <td>True</td>\n",
       "      <td>總統蔡英文（右）17日上午在總統府接見英國在台辦事處代表唐凱琳（Catherine Nett...</td>\n",
       "      <td>2020-01-17 00:00:00+00:00</td>\n",
       "      <td>ltn</td>\n",
       "      <td>True</td>\n",
       "    </tr>\n",
       "    <tr>\n",
       "      <th>2</th>\n",
       "      <td>與國外知名網紅聊女權、寵物 蔡總統：台灣重能力不看性別</td>\n",
       "      <td>False</td>\n",
       "      <td>False</td>\n",
       "      <td>False</td>\n",
       "      <td>True</td>\n",
       "      <td>總統蔡英文與百萬網紅塔米爾暢談各項議題。（中央社） 〔即時新聞／綜合報導〕總統蔡英文近期接受...</td>\n",
       "      <td>2020-01-17 00:00:00+00:00</td>\n",
       "      <td>ltn</td>\n",
       "      <td>False</td>\n",
       "    </tr>\n",
       "    <tr>\n",
       "      <th>3</th>\n",
       "      <td>酈英傑：美台盼締造共同未來 是「真朋友真進展」</td>\n",
       "      <td>False</td>\n",
       "      <td>False</td>\n",
       "      <td>False</td>\n",
       "      <td>True</td>\n",
       "      <td>美國在台協會與外交部17日舉辦「數位對話公共論壇：增進美台人民的關係」，美國在台協會處長酈英...</td>\n",
       "      <td>2020-01-17 00:00:00+00:00</td>\n",
       "      <td>ltn</td>\n",
       "      <td>False</td>\n",
       "    </tr>\n",
       "    <tr>\n",
       "      <th>4</th>\n",
       "      <td>台美瓜宏四方會談 吳釗燮：促進區域合作及發展</td>\n",
       "      <td>False</td>\n",
       "      <td>False</td>\n",
       "      <td>False</td>\n",
       "      <td>True</td>\n",
       "      <td>外交部長吳釗燮今在推特上推文表示，台美瓜宏舉行四方會談，推文照片並清楚可見四國國旗。（取自外...</td>\n",
       "      <td>2020-01-17 00:00:00+00:00</td>\n",
       "      <td>ltn</td>\n",
       "      <td>False</td>\n",
       "    </tr>\n",
       "  </tbody>\n",
       "</table>\n",
       "</div>"
      ],
      "text/plain": [
       "                         title  keyword_dpp  keyword_han  keyword_kmt  \\\n",
       "0   台中想吃雞排看這裡 2500份19、20日手刀排一波        False        False        False   \n",
       "1    英國駐台代表晉見蔡總統 恭賀台灣蓬勃發展的民主機制        False        False        False   \n",
       "2  與國外知名網紅聊女權、寵物 蔡總統：台灣重能力不看性別        False        False        False   \n",
       "3      酈英傑：美台盼締造共同未來 是「真朋友真進展」        False        False        False   \n",
       "4       台美瓜宏四方會談 吳釗燮：促進區域合作及發展        False        False        False   \n",
       "\n",
       "   keyword_tsai                                            content  \\\n",
       "0          True  館長兌現承諾發送雞排，其中2000份20日下午3點在陳柏惟烏日新興路481號服務處發放。（記...   \n",
       "1          True  總統蔡英文（右）17日上午在總統府接見英國在台辦事處代表唐凱琳（Catherine Nett...   \n",
       "2          True  總統蔡英文與百萬網紅塔米爾暢談各項議題。（中央社） 〔即時新聞／綜合報導〕總統蔡英文近期接受...   \n",
       "3          True  美國在台協會與外交部17日舉辦「數位對話公共論壇：增進美台人民的關係」，美國在台協會處長酈英...   \n",
       "4          True  外交部長吳釗燮今在推特上推文表示，台美瓜宏舉行四方會談，推文照片並清楚可見四國國旗。（取自外...   \n",
       "\n",
       "                        date source  keyword_election  \n",
       "0  2020-01-17 00:00:00+00:00    ltn              True  \n",
       "1  2020-01-17 00:00:00+00:00    ltn              True  \n",
       "2  2020-01-17 00:00:00+00:00    ltn             False  \n",
       "3  2020-01-17 00:00:00+00:00    ltn             False  \n",
       "4  2020-01-17 00:00:00+00:00    ltn             False  "
      ]
     },
     "execution_count": 4,
     "metadata": {},
     "output_type": "execute_result"
    }
   ],
   "source": [
    "df = pd.read_csv(path + 'TW_news.csv')\n",
    "df = df.drop(columns=['Unnamed: 0',\"index\", \"sub_source\"])\n",
    "df.head()"
   ]
  },
  {
   "cell_type": "markdown",
   "id": "c1871c55",
   "metadata": {},
   "source": [
    "## preprocess"
   ]
  },
  {
   "cell_type": "code",
   "execution_count": 55,
   "id": "8abfaa80",
   "metadata": {},
   "outputs": [],
   "source": [
    "def clean_str(string):\n",
    "    \"\"\"\n",
    "    Tokenization/string cleaning for datasets.\n",
    "    Original taken from https://github.com/yoonkim/CNN_sentence/blob/master/process_data.py\n",
    "    \"\"\"\n",
    "    string = re.sub(r\"\\'s\", \"\", string)\n",
    "    string = re.sub(r\"\\'ve\", \"\", string)\n",
    "    string = re.sub(r\"n\\'t\", \"\", string)\n",
    "    string = re.sub(r\"\\'re\", \"\", string)\n",
    "    string = re.sub(r\"\\'d\", \"\", string)\n",
    "    string = re.sub(r\"\\'ll\", \"\", string)\n",
    "    string = re.sub(r\",\", \"\", string)\n",
    "    string = re.sub(r\"!\", \" ! \", string)\n",
    "    string = re.sub(r\"\\(\", \"\", string)\n",
    "    string = re.sub(r\"\\（\", \"\", string)\n",
    "    string = re.sub(r\"\\）\", \"\", string)\n",
    "    string = re.sub(r\"\\)\", \"\", string)\n",
    "    string = re.sub(r\"\\『\", \"\", string)\n",
    "    string = re.sub(r\"\\』\", \"\", string)\n",
    "    string = re.sub(r\"\\「\", \"\", string)\n",
    "    string = re.sub(r\"\\」\", \"\", string)\n",
    "    string = re.sub(r\"\\：\", \"\", string)\n",
    "    string = re.sub(r\"\\；\", \"\", string)\n",
    "    string = re.sub(r\"\\。\", \"\", string)\n",
    "    string = re.sub(r\"\\，\", \"\", string)\n",
    "    string = re.sub(r\"\\、\", \"\", string)\n",
    "    string = re.sub(r\"\\?\", \"\", string)\n",
    "    string = re.sub(r\"\\？\", \"\", string)\n",
    "    string = re.sub(r\"\\〔\", \"\", string)\n",
    "    string = re.sub(r\"\\〕\", \"\", string)\n",
    "    string = re.sub(r\"\\／\", \"\", string)\n",
    "    string = re.sub(r\"\\.\", \"\", string)\n",
    "    string = re.sub(r\"\\記者\", \"\", string)\n",
    "    string = re.sub(r\"\\報導\", \"\", string)\n",
    "    string = re.sub(r\"\\請繼續往下閱讀\", \"\", string)   \n",
    "    string = re.sub(r\"'\", \"\", string)\n",
    "    return string.strip().lower()"
   ]
  },
  {
   "cell_type": "code",
   "execution_count": 56,
   "id": "5e6d9cbf",
   "metadata": {},
   "outputs": [
    {
     "data": {
      "application/vnd.jupyter.widget-view+json": {
       "model_id": "d6fa797fea324fe5929362029f6ba396",
       "version_major": 2,
       "version_minor": 0
      },
      "text/plain": [
       "  0%|          | 0/11076 [00:00<?, ?it/s]"
      ]
     },
     "metadata": {},
     "output_type": "display_data"
    }
   ],
   "source": [
    "\n",
    "df['content'] = df.content.progress_apply(clean_str)\n"
   ]
  },
  {
   "cell_type": "markdown",
   "id": "df4d02a8",
   "metadata": {},
   "source": [
    "### slice the characters to words"
   ]
  },
  {
   "cell_type": "code",
   "execution_count": null,
   "id": "c986cc54",
   "metadata": {},
   "outputs": [],
   "source": [
    "ws = WS(ckiptagger_path)\n",
    "word_sliced = ws(df.content)"
   ]
  },
  {
   "cell_type": "code",
   "execution_count": null,
   "id": "317e60f6",
   "metadata": {},
   "outputs": [],
   "source": [
    "\n",
    "df[\"content\"] = [\" \".join(s) for s in tqdm(word_sliced)]\n"
   ]
  },
  {
   "cell_type": "code",
   "execution_count": null,
   "id": "9686c300",
   "metadata": {},
   "outputs": [],
   "source": [
    "df.to_csv(path+\"ws_TW.csv\")"
   ]
  },
  {
   "cell_type": "markdown",
   "id": "a99ced5c",
   "metadata": {},
   "source": [
    "### tfidf"
   ]
  },
  {
   "cell_type": "code",
   "execution_count": null,
   "id": "9f85c6a5",
   "metadata": {},
   "outputs": [],
   "source": [
    "vect.fit_transform(df[\"content\"])"
   ]
  }
 ],
 "metadata": {
  "kernelspec": {
   "display_name": "Python 3 (ipykernel)",
   "language": "python",
   "name": "python3"
  },
  "language_info": {
   "codemirror_mode": {
    "name": "ipython",
    "version": 3
   },
   "file_extension": ".py",
   "mimetype": "text/x-python",
   "name": "python",
   "nbconvert_exporter": "python",
   "pygments_lexer": "ipython3",
   "version": "3.8.16"
  }
 },
 "nbformat": 4,
 "nbformat_minor": 5
}
