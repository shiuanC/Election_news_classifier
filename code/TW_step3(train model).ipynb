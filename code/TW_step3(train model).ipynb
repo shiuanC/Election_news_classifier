{
 "cells": [
  {
   "cell_type": "code",
   "execution_count": 3,
   "id": "33ae0a2f",
   "metadata": {},
   "outputs": [],
   "source": [
    "import requests\n",
    "import json\n",
    "import datetime\n",
    "import pandas as pd\n",
    "import numpy as np\n",
    "import re\n",
    "import os\n",
    "import random\n",
    "import urllib3\n",
    "import time\n",
    "import matplotlib\n",
    "import nltk\n",
    "import jieba\n",
    "\n",
    "from ckiptagger import data_utils, construct_dictionary, WS, POS, NER\n",
    "\n",
    "from nltk.corpus import stopwords\n",
    "from wordcloud import WordCloud,STOPWORDS\n",
    "from datetime import datetime\n",
    "from tqdm.notebook import tqdm, tqdm_notebook\n",
    "\n",
    "import matplotlib.pyplot as plt\n",
    "import seaborn as sns\n",
    "\n",
    "from sklearn.neighbors import KNeighborsClassifier\n",
    "from sklearn.naive_bayes import MultinomialNB\n",
    "from sklearn.tree import DecisionTreeClassifier, plot_tree\n",
    "from sklearn.svm import SVC\n",
    "from sklearn.feature_extraction.text import TfidfVectorizer\n",
    "from sklearn.model_selection import cross_val_score,train_test_split, validation_curve, cross_val_predict\n",
    "from sklearn.metrics import roc_curve, accuracy_score, recall_score, confusion_matrix,f1_score\n",
    "\n",
    "tqdm_notebook.pandas()\n",
    "\n",
    "path = '../data/TW/'\n",
    "ckiptagger_path = \"//Users/user/ckiptagger\""
   ]
  },
  {
   "cell_type": "code",
   "execution_count": 4,
   "id": "b4039d64",
   "metadata": {},
   "outputs": [
    {
     "ename": "FileNotFoundError",
     "evalue": "[Errno 2] No such file or directory: '../data/TW/TW_news.csv'",
     "output_type": "error",
     "traceback": [
      "\u001b[0;31m---------------------------------------------------------------------------\u001b[0m",
      "\u001b[0;31mFileNotFoundError\u001b[0m                         Traceback (most recent call last)",
      "Input \u001b[0;32mIn [4]\u001b[0m, in \u001b[0;36m<cell line: 1>\u001b[0;34m()\u001b[0m\n\u001b[0;32m----> 1\u001b[0m df \u001b[38;5;241m=\u001b[39m \u001b[43mpd\u001b[49m\u001b[38;5;241;43m.\u001b[39;49m\u001b[43mread_csv\u001b[49m\u001b[43m(\u001b[49m\u001b[43mpath\u001b[49m\u001b[43m \u001b[49m\u001b[38;5;241;43m+\u001b[39;49m\u001b[43m \u001b[49m\u001b[38;5;124;43m'\u001b[39;49m\u001b[38;5;124;43mTW_news.csv\u001b[39;49m\u001b[38;5;124;43m'\u001b[39;49m\u001b[43m)\u001b[49m\n\u001b[1;32m      2\u001b[0m df \u001b[38;5;241m=\u001b[39m df\u001b[38;5;241m.\u001b[39mdrop(columns\u001b[38;5;241m=\u001b[39m[\u001b[38;5;124m\"\u001b[39m\u001b[38;5;124mindex\u001b[39m\u001b[38;5;124m\"\u001b[39m, \u001b[38;5;124m\"\u001b[39m\u001b[38;5;124msub_source\u001b[39m\u001b[38;5;124m\"\u001b[39m])\n\u001b[1;32m      3\u001b[0m df\u001b[38;5;241m.\u001b[39mhead()\n",
      "File \u001b[0;32m~/opt/anaconda3/envs/newsai/lib/python3.8/site-packages/pandas/util/_decorators.py:211\u001b[0m, in \u001b[0;36mdeprecate_kwarg.<locals>._deprecate_kwarg.<locals>.wrapper\u001b[0;34m(*args, **kwargs)\u001b[0m\n\u001b[1;32m    209\u001b[0m     \u001b[38;5;28;01melse\u001b[39;00m:\n\u001b[1;32m    210\u001b[0m         kwargs[new_arg_name] \u001b[38;5;241m=\u001b[39m new_arg_value\n\u001b[0;32m--> 211\u001b[0m \u001b[38;5;28;01mreturn\u001b[39;00m \u001b[43mfunc\u001b[49m\u001b[43m(\u001b[49m\u001b[38;5;241;43m*\u001b[39;49m\u001b[43margs\u001b[49m\u001b[43m,\u001b[49m\u001b[43m \u001b[49m\u001b[38;5;241;43m*\u001b[39;49m\u001b[38;5;241;43m*\u001b[39;49m\u001b[43mkwargs\u001b[49m\u001b[43m)\u001b[49m\n",
      "File \u001b[0;32m~/opt/anaconda3/envs/newsai/lib/python3.8/site-packages/pandas/util/_decorators.py:331\u001b[0m, in \u001b[0;36mdeprecate_nonkeyword_arguments.<locals>.decorate.<locals>.wrapper\u001b[0;34m(*args, **kwargs)\u001b[0m\n\u001b[1;32m    325\u001b[0m \u001b[38;5;28;01mif\u001b[39;00m \u001b[38;5;28mlen\u001b[39m(args) \u001b[38;5;241m>\u001b[39m num_allow_args:\n\u001b[1;32m    326\u001b[0m     warnings\u001b[38;5;241m.\u001b[39mwarn(\n\u001b[1;32m    327\u001b[0m         msg\u001b[38;5;241m.\u001b[39mformat(arguments\u001b[38;5;241m=\u001b[39m_format_argument_list(allow_args)),\n\u001b[1;32m    328\u001b[0m         \u001b[38;5;167;01mFutureWarning\u001b[39;00m,\n\u001b[1;32m    329\u001b[0m         stacklevel\u001b[38;5;241m=\u001b[39mfind_stack_level(),\n\u001b[1;32m    330\u001b[0m     )\n\u001b[0;32m--> 331\u001b[0m \u001b[38;5;28;01mreturn\u001b[39;00m \u001b[43mfunc\u001b[49m\u001b[43m(\u001b[49m\u001b[38;5;241;43m*\u001b[39;49m\u001b[43margs\u001b[49m\u001b[43m,\u001b[49m\u001b[43m \u001b[49m\u001b[38;5;241;43m*\u001b[39;49m\u001b[38;5;241;43m*\u001b[39;49m\u001b[43mkwargs\u001b[49m\u001b[43m)\u001b[49m\n",
      "File \u001b[0;32m~/opt/anaconda3/envs/newsai/lib/python3.8/site-packages/pandas/io/parsers/readers.py:950\u001b[0m, in \u001b[0;36mread_csv\u001b[0;34m(filepath_or_buffer, sep, delimiter, header, names, index_col, usecols, squeeze, prefix, mangle_dupe_cols, dtype, engine, converters, true_values, false_values, skipinitialspace, skiprows, skipfooter, nrows, na_values, keep_default_na, na_filter, verbose, skip_blank_lines, parse_dates, infer_datetime_format, keep_date_col, date_parser, dayfirst, cache_dates, iterator, chunksize, compression, thousands, decimal, lineterminator, quotechar, quoting, doublequote, escapechar, comment, encoding, encoding_errors, dialect, error_bad_lines, warn_bad_lines, on_bad_lines, delim_whitespace, low_memory, memory_map, float_precision, storage_options)\u001b[0m\n\u001b[1;32m    935\u001b[0m kwds_defaults \u001b[38;5;241m=\u001b[39m _refine_defaults_read(\n\u001b[1;32m    936\u001b[0m     dialect,\n\u001b[1;32m    937\u001b[0m     delimiter,\n\u001b[0;32m   (...)\u001b[0m\n\u001b[1;32m    946\u001b[0m     defaults\u001b[38;5;241m=\u001b[39m{\u001b[38;5;124m\"\u001b[39m\u001b[38;5;124mdelimiter\u001b[39m\u001b[38;5;124m\"\u001b[39m: \u001b[38;5;124m\"\u001b[39m\u001b[38;5;124m,\u001b[39m\u001b[38;5;124m\"\u001b[39m},\n\u001b[1;32m    947\u001b[0m )\n\u001b[1;32m    948\u001b[0m kwds\u001b[38;5;241m.\u001b[39mupdate(kwds_defaults)\n\u001b[0;32m--> 950\u001b[0m \u001b[38;5;28;01mreturn\u001b[39;00m \u001b[43m_read\u001b[49m\u001b[43m(\u001b[49m\u001b[43mfilepath_or_buffer\u001b[49m\u001b[43m,\u001b[49m\u001b[43m \u001b[49m\u001b[43mkwds\u001b[49m\u001b[43m)\u001b[49m\n",
      "File \u001b[0;32m~/opt/anaconda3/envs/newsai/lib/python3.8/site-packages/pandas/io/parsers/readers.py:605\u001b[0m, in \u001b[0;36m_read\u001b[0;34m(filepath_or_buffer, kwds)\u001b[0m\n\u001b[1;32m    602\u001b[0m _validate_names(kwds\u001b[38;5;241m.\u001b[39mget(\u001b[38;5;124m\"\u001b[39m\u001b[38;5;124mnames\u001b[39m\u001b[38;5;124m\"\u001b[39m, \u001b[38;5;28;01mNone\u001b[39;00m))\n\u001b[1;32m    604\u001b[0m \u001b[38;5;66;03m# Create the parser.\u001b[39;00m\n\u001b[0;32m--> 605\u001b[0m parser \u001b[38;5;241m=\u001b[39m \u001b[43mTextFileReader\u001b[49m\u001b[43m(\u001b[49m\u001b[43mfilepath_or_buffer\u001b[49m\u001b[43m,\u001b[49m\u001b[43m \u001b[49m\u001b[38;5;241;43m*\u001b[39;49m\u001b[38;5;241;43m*\u001b[39;49m\u001b[43mkwds\u001b[49m\u001b[43m)\u001b[49m\n\u001b[1;32m    607\u001b[0m \u001b[38;5;28;01mif\u001b[39;00m chunksize \u001b[38;5;129;01mor\u001b[39;00m iterator:\n\u001b[1;32m    608\u001b[0m     \u001b[38;5;28;01mreturn\u001b[39;00m parser\n",
      "File \u001b[0;32m~/opt/anaconda3/envs/newsai/lib/python3.8/site-packages/pandas/io/parsers/readers.py:1442\u001b[0m, in \u001b[0;36mTextFileReader.__init__\u001b[0;34m(self, f, engine, **kwds)\u001b[0m\n\u001b[1;32m   1439\u001b[0m     \u001b[38;5;28mself\u001b[39m\u001b[38;5;241m.\u001b[39moptions[\u001b[38;5;124m\"\u001b[39m\u001b[38;5;124mhas_index_names\u001b[39m\u001b[38;5;124m\"\u001b[39m] \u001b[38;5;241m=\u001b[39m kwds[\u001b[38;5;124m\"\u001b[39m\u001b[38;5;124mhas_index_names\u001b[39m\u001b[38;5;124m\"\u001b[39m]\n\u001b[1;32m   1441\u001b[0m \u001b[38;5;28mself\u001b[39m\u001b[38;5;241m.\u001b[39mhandles: IOHandles \u001b[38;5;241m|\u001b[39m \u001b[38;5;28;01mNone\u001b[39;00m \u001b[38;5;241m=\u001b[39m \u001b[38;5;28;01mNone\u001b[39;00m\n\u001b[0;32m-> 1442\u001b[0m \u001b[38;5;28mself\u001b[39m\u001b[38;5;241m.\u001b[39m_engine \u001b[38;5;241m=\u001b[39m \u001b[38;5;28;43mself\u001b[39;49m\u001b[38;5;241;43m.\u001b[39;49m\u001b[43m_make_engine\u001b[49m\u001b[43m(\u001b[49m\u001b[43mf\u001b[49m\u001b[43m,\u001b[49m\u001b[43m \u001b[49m\u001b[38;5;28;43mself\u001b[39;49m\u001b[38;5;241;43m.\u001b[39;49m\u001b[43mengine\u001b[49m\u001b[43m)\u001b[49m\n",
      "File \u001b[0;32m~/opt/anaconda3/envs/newsai/lib/python3.8/site-packages/pandas/io/parsers/readers.py:1735\u001b[0m, in \u001b[0;36mTextFileReader._make_engine\u001b[0;34m(self, f, engine)\u001b[0m\n\u001b[1;32m   1733\u001b[0m     \u001b[38;5;28;01mif\u001b[39;00m \u001b[38;5;124m\"\u001b[39m\u001b[38;5;124mb\u001b[39m\u001b[38;5;124m\"\u001b[39m \u001b[38;5;129;01mnot\u001b[39;00m \u001b[38;5;129;01min\u001b[39;00m mode:\n\u001b[1;32m   1734\u001b[0m         mode \u001b[38;5;241m+\u001b[39m\u001b[38;5;241m=\u001b[39m \u001b[38;5;124m\"\u001b[39m\u001b[38;5;124mb\u001b[39m\u001b[38;5;124m\"\u001b[39m\n\u001b[0;32m-> 1735\u001b[0m \u001b[38;5;28mself\u001b[39m\u001b[38;5;241m.\u001b[39mhandles \u001b[38;5;241m=\u001b[39m \u001b[43mget_handle\u001b[49m\u001b[43m(\u001b[49m\n\u001b[1;32m   1736\u001b[0m \u001b[43m    \u001b[49m\u001b[43mf\u001b[49m\u001b[43m,\u001b[49m\n\u001b[1;32m   1737\u001b[0m \u001b[43m    \u001b[49m\u001b[43mmode\u001b[49m\u001b[43m,\u001b[49m\n\u001b[1;32m   1738\u001b[0m \u001b[43m    \u001b[49m\u001b[43mencoding\u001b[49m\u001b[38;5;241;43m=\u001b[39;49m\u001b[38;5;28;43mself\u001b[39;49m\u001b[38;5;241;43m.\u001b[39;49m\u001b[43moptions\u001b[49m\u001b[38;5;241;43m.\u001b[39;49m\u001b[43mget\u001b[49m\u001b[43m(\u001b[49m\u001b[38;5;124;43m\"\u001b[39;49m\u001b[38;5;124;43mencoding\u001b[39;49m\u001b[38;5;124;43m\"\u001b[39;49m\u001b[43m,\u001b[49m\u001b[43m \u001b[49m\u001b[38;5;28;43;01mNone\u001b[39;49;00m\u001b[43m)\u001b[49m\u001b[43m,\u001b[49m\n\u001b[1;32m   1739\u001b[0m \u001b[43m    \u001b[49m\u001b[43mcompression\u001b[49m\u001b[38;5;241;43m=\u001b[39;49m\u001b[38;5;28;43mself\u001b[39;49m\u001b[38;5;241;43m.\u001b[39;49m\u001b[43moptions\u001b[49m\u001b[38;5;241;43m.\u001b[39;49m\u001b[43mget\u001b[49m\u001b[43m(\u001b[49m\u001b[38;5;124;43m\"\u001b[39;49m\u001b[38;5;124;43mcompression\u001b[39;49m\u001b[38;5;124;43m\"\u001b[39;49m\u001b[43m,\u001b[49m\u001b[43m \u001b[49m\u001b[38;5;28;43;01mNone\u001b[39;49;00m\u001b[43m)\u001b[49m\u001b[43m,\u001b[49m\n\u001b[1;32m   1740\u001b[0m \u001b[43m    \u001b[49m\u001b[43mmemory_map\u001b[49m\u001b[38;5;241;43m=\u001b[39;49m\u001b[38;5;28;43mself\u001b[39;49m\u001b[38;5;241;43m.\u001b[39;49m\u001b[43moptions\u001b[49m\u001b[38;5;241;43m.\u001b[39;49m\u001b[43mget\u001b[49m\u001b[43m(\u001b[49m\u001b[38;5;124;43m\"\u001b[39;49m\u001b[38;5;124;43mmemory_map\u001b[39;49m\u001b[38;5;124;43m\"\u001b[39;49m\u001b[43m,\u001b[49m\u001b[43m \u001b[49m\u001b[38;5;28;43;01mFalse\u001b[39;49;00m\u001b[43m)\u001b[49m\u001b[43m,\u001b[49m\n\u001b[1;32m   1741\u001b[0m \u001b[43m    \u001b[49m\u001b[43mis_text\u001b[49m\u001b[38;5;241;43m=\u001b[39;49m\u001b[43mis_text\u001b[49m\u001b[43m,\u001b[49m\n\u001b[1;32m   1742\u001b[0m \u001b[43m    \u001b[49m\u001b[43merrors\u001b[49m\u001b[38;5;241;43m=\u001b[39;49m\u001b[38;5;28;43mself\u001b[39;49m\u001b[38;5;241;43m.\u001b[39;49m\u001b[43moptions\u001b[49m\u001b[38;5;241;43m.\u001b[39;49m\u001b[43mget\u001b[49m\u001b[43m(\u001b[49m\u001b[38;5;124;43m\"\u001b[39;49m\u001b[38;5;124;43mencoding_errors\u001b[39;49m\u001b[38;5;124;43m\"\u001b[39;49m\u001b[43m,\u001b[49m\u001b[43m \u001b[49m\u001b[38;5;124;43m\"\u001b[39;49m\u001b[38;5;124;43mstrict\u001b[39;49m\u001b[38;5;124;43m\"\u001b[39;49m\u001b[43m)\u001b[49m\u001b[43m,\u001b[49m\n\u001b[1;32m   1743\u001b[0m \u001b[43m    \u001b[49m\u001b[43mstorage_options\u001b[49m\u001b[38;5;241;43m=\u001b[39;49m\u001b[38;5;28;43mself\u001b[39;49m\u001b[38;5;241;43m.\u001b[39;49m\u001b[43moptions\u001b[49m\u001b[38;5;241;43m.\u001b[39;49m\u001b[43mget\u001b[49m\u001b[43m(\u001b[49m\u001b[38;5;124;43m\"\u001b[39;49m\u001b[38;5;124;43mstorage_options\u001b[39;49m\u001b[38;5;124;43m\"\u001b[39;49m\u001b[43m,\u001b[49m\u001b[43m \u001b[49m\u001b[38;5;28;43;01mNone\u001b[39;49;00m\u001b[43m)\u001b[49m\u001b[43m,\u001b[49m\n\u001b[1;32m   1744\u001b[0m \u001b[43m\u001b[49m\u001b[43m)\u001b[49m\n\u001b[1;32m   1745\u001b[0m \u001b[38;5;28;01massert\u001b[39;00m \u001b[38;5;28mself\u001b[39m\u001b[38;5;241m.\u001b[39mhandles \u001b[38;5;129;01mis\u001b[39;00m \u001b[38;5;129;01mnot\u001b[39;00m \u001b[38;5;28;01mNone\u001b[39;00m\n\u001b[1;32m   1746\u001b[0m f \u001b[38;5;241m=\u001b[39m \u001b[38;5;28mself\u001b[39m\u001b[38;5;241m.\u001b[39mhandles\u001b[38;5;241m.\u001b[39mhandle\n",
      "File \u001b[0;32m~/opt/anaconda3/envs/newsai/lib/python3.8/site-packages/pandas/io/common.py:856\u001b[0m, in \u001b[0;36mget_handle\u001b[0;34m(path_or_buf, mode, encoding, compression, memory_map, is_text, errors, storage_options)\u001b[0m\n\u001b[1;32m    851\u001b[0m \u001b[38;5;28;01melif\u001b[39;00m \u001b[38;5;28misinstance\u001b[39m(handle, \u001b[38;5;28mstr\u001b[39m):\n\u001b[1;32m    852\u001b[0m     \u001b[38;5;66;03m# Check whether the filename is to be opened in binary mode.\u001b[39;00m\n\u001b[1;32m    853\u001b[0m     \u001b[38;5;66;03m# Binary mode does not support 'encoding' and 'newline'.\u001b[39;00m\n\u001b[1;32m    854\u001b[0m     \u001b[38;5;28;01mif\u001b[39;00m ioargs\u001b[38;5;241m.\u001b[39mencoding \u001b[38;5;129;01mand\u001b[39;00m \u001b[38;5;124m\"\u001b[39m\u001b[38;5;124mb\u001b[39m\u001b[38;5;124m\"\u001b[39m \u001b[38;5;129;01mnot\u001b[39;00m \u001b[38;5;129;01min\u001b[39;00m ioargs\u001b[38;5;241m.\u001b[39mmode:\n\u001b[1;32m    855\u001b[0m         \u001b[38;5;66;03m# Encoding\u001b[39;00m\n\u001b[0;32m--> 856\u001b[0m         handle \u001b[38;5;241m=\u001b[39m \u001b[38;5;28;43mopen\u001b[39;49m\u001b[43m(\u001b[49m\n\u001b[1;32m    857\u001b[0m \u001b[43m            \u001b[49m\u001b[43mhandle\u001b[49m\u001b[43m,\u001b[49m\n\u001b[1;32m    858\u001b[0m \u001b[43m            \u001b[49m\u001b[43mioargs\u001b[49m\u001b[38;5;241;43m.\u001b[39;49m\u001b[43mmode\u001b[49m\u001b[43m,\u001b[49m\n\u001b[1;32m    859\u001b[0m \u001b[43m            \u001b[49m\u001b[43mencoding\u001b[49m\u001b[38;5;241;43m=\u001b[39;49m\u001b[43mioargs\u001b[49m\u001b[38;5;241;43m.\u001b[39;49m\u001b[43mencoding\u001b[49m\u001b[43m,\u001b[49m\n\u001b[1;32m    860\u001b[0m \u001b[43m            \u001b[49m\u001b[43merrors\u001b[49m\u001b[38;5;241;43m=\u001b[39;49m\u001b[43merrors\u001b[49m\u001b[43m,\u001b[49m\n\u001b[1;32m    861\u001b[0m \u001b[43m            \u001b[49m\u001b[43mnewline\u001b[49m\u001b[38;5;241;43m=\u001b[39;49m\u001b[38;5;124;43m\"\u001b[39;49m\u001b[38;5;124;43m\"\u001b[39;49m\u001b[43m,\u001b[49m\n\u001b[1;32m    862\u001b[0m \u001b[43m        \u001b[49m\u001b[43m)\u001b[49m\n\u001b[1;32m    863\u001b[0m     \u001b[38;5;28;01melse\u001b[39;00m:\n\u001b[1;32m    864\u001b[0m         \u001b[38;5;66;03m# Binary mode\u001b[39;00m\n\u001b[1;32m    865\u001b[0m         handle \u001b[38;5;241m=\u001b[39m \u001b[38;5;28mopen\u001b[39m(handle, ioargs\u001b[38;5;241m.\u001b[39mmode)\n",
      "\u001b[0;31mFileNotFoundError\u001b[0m: [Errno 2] No such file or directory: '../data/TW/TW_news.csv'"
     ]
    }
   ],
   "source": [
    "df = pd.read_csv(path + 'TW_news.csv')\n",
    "df = df.drop(columns=[\"index\", \"sub_source\"])\n",
    "df.head()"
   ]
  },
  {
   "cell_type": "markdown",
   "id": "0f3b6618",
   "metadata": {},
   "source": [
    "## preprocess"
   ]
  },
  {
   "cell_type": "code",
   "execution_count": 7,
   "id": "e06d9f4d",
   "metadata": {},
   "outputs": [
    {
     "name": "stdout",
     "output_type": "stream",
     "text": [
      "ltn        6387\n",
      "cti        4269\n",
      "central     962\n",
      "Name: source, dtype: int64\n",
      " 1    6387\n",
      "-1    4269\n",
      " 0     962\n",
      "Name: source_num, dtype: int64\n"
     ]
    }
   ],
   "source": [
    "print(df.source.value_counts())\n",
    "df[\"source_num\"] = df.source.map({'ltn': 1, 'central': 0, 'cti': -1})\n",
    "print(df.source_num.value_counts())"
   ]
  },
  {
   "cell_type": "code",
   "execution_count": 8,
   "id": "ccee76b9",
   "metadata": {},
   "outputs": [],
   "source": [
    "def clean_str(string):\n",
    "    \"\"\"\n",
    "    Tokenization/string cleaning for datasets.\n",
    "    Original taken from https://github.com/yoonkim/CNN_sentence/blob/master/process_data.py\n",
    "    \"\"\"\n",
    "    string = re.sub(r\"\\'s\", \"\", string)\n",
    "    string = re.sub(r\"\\'ve\", \"\", string)\n",
    "    string = re.sub(r\"n\\'t\", \"\", string)\n",
    "    string = re.sub(r\"\\'re\", \"\", string)\n",
    "    string = re.sub(r\"\\'d\", \"\", string)\n",
    "    string = re.sub(r\"\\'ll\", \"\", string)\n",
    "    string = re.sub(r\",\", \"\", string)\n",
    "    string = re.sub(r\"!\", \" ! \", string)\n",
    "    string = re.sub(r\"\\(\", \"\", string)\n",
    "    string = re.sub(r\"\\（\", \"\", string)\n",
    "    string = re.sub(r\"\\）\", \"\", string)\n",
    "    string = re.sub(r\"\\)\", \"\", string)\n",
    "    string = re.sub(r\"\\『\", \"\", string)\n",
    "    string = re.sub(r\"\\』\", \"\", string)\n",
    "    string = re.sub(r\"\\「\", \"\", string)\n",
    "    string = re.sub(r\"\\」\", \"\", string)\n",
    "    string = re.sub(r\"\\：\", \"\", string)\n",
    "    string = re.sub(r\"\\；\", \"\", string)\n",
    "    string = re.sub(r\"\\。\", \"\", string)\n",
    "    string = re.sub(r\"\\，\", \"\", string)\n",
    "    string = re.sub(r\"\\、\", \"\", string)\n",
    "    string = re.sub(r\"\\?\", \"\", string)\n",
    "    string = re.sub(r\"\\？\", \"\", string)\n",
    "    string = re.sub(r\"\\〔\", \"\", string)\n",
    "    string = re.sub(r\"\\〕\", \"\", string)\n",
    "    string = re.sub(r\"\\／\", \"\", string)\n",
    "    string = re.sub(r\"\\.\", \"\", string)\n",
    "    string = re.sub(r\"\\記者\", \"\", string)\n",
    "    string = re.sub(r\"\\報導\", \"\", string)\n",
    "    string = re.sub(r\"\\請繼續往下閱讀\", \"\", string)   \n",
    "    string = re.sub(r\"'\", \"\", string)\n",
    "    return string.strip().lower()"
   ]
  },
  {
   "cell_type": "code",
   "execution_count": 9,
   "id": "cf43aea4",
   "metadata": {},
   "outputs": [
    {
     "data": {
      "application/vnd.jupyter.widget-view+json": {
       "model_id": "904e264abd0f485fa36d911675581dfd",
       "version_major": 2,
       "version_minor": 0
      },
      "text/plain": [
       "  0%|          | 0/11618 [00:00<?, ?it/s]"
      ]
     },
     "metadata": {},
     "output_type": "display_data"
    }
   ],
   "source": [
    "\n",
    "df['content'] = df.content.progress_apply(clean_str)\n"
   ]
  },
  {
   "cell_type": "markdown",
   "id": "06468d52",
   "metadata": {},
   "source": [
    "### slice the characters to words"
   ]
  },
  {
   "cell_type": "code",
   "execution_count": 10,
   "id": "99b12924",
   "metadata": {},
   "outputs": [
    {
     "name": "stderr",
     "output_type": "stream",
     "text": [
      "2023-05-08 17:36:48.648752: I tensorflow/core/platform/cpu_feature_guard.cc:143] Your CPU supports instructions that this TensorFlow binary was not compiled to use: AVX2 FMA\n",
      "2023-05-08 17:36:48.685857: I tensorflow/compiler/xla/service/service.cc:168] XLA service 0x7feb377909c0 initialized for platform Host (this does not guarantee that XLA will be used). Devices:\n",
      "2023-05-08 17:36:48.685877: I tensorflow/compiler/xla/service/service.cc:176]   StreamExecutor device (0): Host, Default Version\n"
     ]
    }
   ],
   "source": [
    "ws = WS(ckiptagger_path)\n",
    "word_sliced = ws(df.content)"
   ]
  },
  {
   "cell_type": "code",
   "execution_count": 11,
   "id": "0da5eb46",
   "metadata": {},
   "outputs": [
    {
     "data": {
      "application/vnd.jupyter.widget-view+json": {
       "model_id": "a4b58ed76f8a4f29a2d129f088ea798e",
       "version_major": 2,
       "version_minor": 0
      },
      "text/plain": [
       "  0%|          | 0/11618 [00:00<?, ?it/s]"
      ]
     },
     "metadata": {},
     "output_type": "display_data"
    }
   ],
   "source": [
    "\n",
    "df[\"content\"] = [\" \".join(s) for s in tqdm(word_sliced)]\n"
   ]
  },
  {
   "cell_type": "code",
   "execution_count": 16,
   "id": "55146c92-0fb1-4dfe-863d-cad9996e13ed",
   "metadata": {},
   "outputs": [],
   "source": [
    "def write_list_to_file(lst, filename):\n",
    "    with open(filename, 'w') as file:\n",
    "        for item in tqdm(lst):\n",
    "            file.write(str(item) + '\\n')\n",
    "\n"
   ]
  },
  {
   "cell_type": "code",
   "execution_count": 17,
   "id": "c33fff3c",
   "metadata": {},
   "outputs": [],
   "source": [
    "\n",
    "write_list_to_file(word_sliced, path + 'ws_TW.txt')"
   ]
  },
  {
   "cell_type": "markdown",
   "id": "2b03bb48",
   "metadata": {
    "tags": []
   },
   "source": [
    "## train models"
   ]
  },
  {
   "cell_type": "markdown",
   "id": "57349578-12de-4e26-95d5-81a6dcd32fc4",
   "metadata": {},
   "source": [
    "### functions"
   ]
  },
  {
   "cell_type": "code",
   "execution_count": 18,
   "id": "5eaa5ef0",
   "metadata": {},
   "outputs": [],
   "source": [
    "def undersamples(df):\n",
    "    # Count the number of observations for each source\n",
    "    source_counts = df['source'].value_counts()\n",
    "\n",
    "    # Find the minimum count among the sources\n",
    "    min_count = source_counts.min()\n",
    "\n",
    "    # Subset the data to include only observations with the minimum count for each source\n",
    "    subset_df = df.groupby('source').apply(lambda x: x.sample(min_count)).reset_index(drop=True)\n",
    "    return subset_df"
   ]
  },
  {
   "cell_type": "code",
   "execution_count": 19,
   "id": "cf147948",
   "metadata": {},
   "outputs": [],
   "source": [
    "def get_xy(df):\n",
    "    x = df['content'].tolist()\n",
    "    y = df['source_num'].tolist()\n",
    "    \n",
    "    stopwordset= set(stopwords.words('english'))\n",
    "    morestop={'cnn', 'keyword', 'state', 'said'}\n",
    "    stopwordset= list(stopwordset.union(morestop))\n",
    "\n",
    "    vect = TfidfVectorizer(stop_words=stopwordset)\n",
    "    X = vect.fit_transform(x)\n",
    "    Y = np.array(y)\n",
    "    \n",
    "    return (X, Y)\n"
   ]
  },
  {
   "cell_type": "code",
   "execution_count": 20,
   "id": "ad7bde28",
   "metadata": {},
   "outputs": [],
   "source": [
    "def generate_evaluate(df):\n",
    "\n",
    "    (X, y) = get_xy(df)\n",
    "    X_train, X_test, y_train, y_test = train_test_split(X, y, test_size=0.20, random_state=42)\n",
    "\n",
    "    \n",
    "    evalute_dict = {}\n",
    "    # create logistic regression model\n",
    "    # Fit logistic regression model\n",
    "   \n",
    "    evalute_dict['knn'] = {}\n",
    "    knn = KNeighborsClassifier(n_neighbors=3)\n",
    "    knn.fit(X_train, y_train)\n",
    "    evalute_dict['knn']['preds'] = knn.predict(X_test)\n",
    "    evalute_dict['knn']['acc'] = accuracy_score(y_test, evalute_dict['knn']['preds'])\n",
    "    evalute_dict['knn']['f1'] = f1_score(y_test, evalute_dict['knn']['preds'], average='weighted')\n",
    "    print(f\"K Neighbors Classifier: accuracy {evalute_dict['knn']['acc']}/ f1 {evalute_dict['knn']['f1']}\" )\n",
    "\n",
    "    \n",
    "    # Fit Multinomial Naive Bayes model\n",
    "    evalute_dict['mnb'] = {}\n",
    "    mnb = MultinomialNB()\n",
    "    mnb.fit(X_train, y_train)\n",
    "    evalute_dict['mnb']['preds'] = mnb.predict(X_test)\n",
    "    evalute_dict['mnb']['acc'] = accuracy_score(y_test, evalute_dict['mnb']['preds'])\n",
    "    evalute_dict['mnb']['f1'] = f1_score(y_test, evalute_dict['mnb']['preds'],  average='weighted')\n",
    "    print(f\"Multinomial Naive Bayes: accuracy {evalute_dict['mnb']['acc']}/ f1 {evalute_dict['mnb']['f1']}\" )\n",
    "    \n",
    "    evalute_dict['svm'] = {}\n",
    "    svm = SVC(kernel='poly', degree=3, C=1).fit(X_train, y_train)\n",
    "    evalute_dict['svm']['preds'] = svm.predict(X_test)\n",
    "    evalute_dict['svm']['acc'] = accuracy_score(y_test, evalute_dict['svm']['preds'])\n",
    "    evalute_dict['svm']['f1'] = f1_score(y_test, evalute_dict['svm']['preds'], average='weighted')\n",
    "    print(f\"Support Vector Machine: accuracy {evalute_dict['svm']['acc']}/ f1 {evalute_dict['svm']['f1']}\" )\n",
    "\n",
    "    # Decision Tree\n",
    "    evalute_dict['tree'] = {}\n",
    "    tree = DecisionTreeClassifier(random_state=1234)\n",
    "    tree.fit(X_train, y_train)\n",
    "    evalute_dict['tree']['preds'] = tree.predict(X_test)\n",
    "    evalute_dict['tree']['acc'] = accuracy_score(y_test,evalute_dict['tree']['preds'])\n",
    "    evalute_dict['tree']['f1'] = f1_score(y_test, evalute_dict['tree']['preds'], average='weighted')\n",
    "    print(f\"Decision Tree: accuracy {evalute_dict['tree']['acc']}/ f1 {evalute_dict['tree']['f1']}\" )\n",
    "   \n",
    "    return evalute_dict "
   ]
  },
  {
   "cell_type": "markdown",
   "id": "a39d864c-ffcf-4faa-8644-709d1087761f",
   "metadata": {},
   "source": [
    "### whole"
   ]
  },
  {
   "cell_type": "code",
   "execution_count": 21,
   "id": "1d073e14",
   "metadata": {},
   "outputs": [
    {
     "name": "stdout",
     "output_type": "stream",
     "text": [
      "K Neighbors Classifier: accuracy 0.6962134251290878/ f1 0.6911489772026836\n",
      "Multinomial Naive Bayes: accuracy 0.6222030981067126/ f1 0.522360651754961\n",
      "Support Vector Machine: accuracy 0.6858864027538726/ f1 0.6324095417109867\n",
      "Decision Tree: accuracy 0.8128227194492255/ f1 0.8129613539134045\n"
     ]
    }
   ],
   "source": [
    "df_dict = generate_evaluate(df)\n",
    "df_result = pd.DataFrame(df_dict).T\n",
    "df_result.to_csv(path+ 'tw_result.csv')"
   ]
  },
  {
   "cell_type": "code",
   "execution_count": 22,
   "id": "f68cd9fb",
   "metadata": {},
   "outputs": [
    {
     "name": "stdout",
     "output_type": "stream",
     "text": [
      "K Neighbors Classifier: accuracy 0.6089965397923875/ f1 0.5961585620836751\n",
      "Multinomial Naive Bayes: accuracy 0.7560553633217993/ f1 0.7472446722447881\n",
      "Support Vector Machine: accuracy 0.7231833910034602/ f1 0.7277878656206317\n",
      "Decision Tree: accuracy 0.7716262975778547/ f1 0.7679082325537702\n"
     ]
    }
   ],
   "source": [
    "df_subset = undersamples(df)\n",
    "sub_dict = generate_evaluate(df_subset)\n",
    "sub_result = pd.DataFrame(sub_dict).T\n",
    "sub_result.to_csv(path+ 'sub_result.csv')"
   ]
  },
  {
   "cell_type": "markdown",
   "id": "01d59df1",
   "metadata": {},
   "source": [
    "### get keywords"
   ]
  },
  {
   "cell_type": "code",
   "execution_count": 23,
   "id": "bde47d7c",
   "metadata": {},
   "outputs": [],
   "source": [
    "dpp_df = df[df['keyword_dpp']==1]\n",
    "dpp_subset = undersamples(dpp_df)\n"
   ]
  },
  {
   "cell_type": "code",
   "execution_count": 24,
   "id": "0c7291a5",
   "metadata": {},
   "outputs": [
    {
     "name": "stdout",
     "output_type": "stream",
     "text": [
      "K Neighbors Classifier: accuracy 0.693564862104188/ f1 0.6921595337827657\n",
      "Multinomial Naive Bayes: accuracy 0.7129724208375894/ f1 0.674129861418139\n",
      "Support Vector Machine: accuracy 0.7558733401430031/ f1 0.7473724235039667\n",
      "Decision Tree: accuracy 0.7916241062308478/ f1 0.7914791033140148\n"
     ]
    }
   ],
   "source": [
    "dpp_dict = generate_evaluate(dpp_df)\n",
    "dpp_result = pd.DataFrame(dpp_dict).T\n",
    "dpp_result.to_csv(path+ 'dpp_result.csv')"
   ]
  },
  {
   "cell_type": "code",
   "execution_count": 25,
   "id": "c0e33125",
   "metadata": {},
   "outputs": [
    {
     "name": "stdout",
     "output_type": "stream",
     "text": [
      "K Neighbors Classifier: accuracy 0.6078431372549019/ f1 0.5914946956145716\n",
      "Multinomial Naive Bayes: accuracy 0.7529411764705882/ f1 0.7464939520302842\n",
      "Support Vector Machine: accuracy 0.6941176470588235/ f1 0.6927575953458306\n",
      "Decision Tree: accuracy 0.7372549019607844/ f1 0.730381020842179\n"
     ]
    }
   ],
   "source": [
    "dpp_sub_dict = generate_evaluate(dpp_subset)\n",
    "dpp_sub_result = pd.DataFrame(dpp_sub_dict).T\n",
    "dpp_sub_result.to_csv(path+ 'dpp_sub_result.csv')"
   ]
  },
  {
   "cell_type": "code",
   "execution_count": 26,
   "id": "639ca396",
   "metadata": {},
   "outputs": [],
   "source": [
    "kmt_df = df[df['keyword_kmt']==1]\n",
    "kmt_subset = undersamples(kmt_df)\n"
   ]
  },
  {
   "cell_type": "code",
   "execution_count": 27,
   "id": "f06cc904",
   "metadata": {},
   "outputs": [
    {
     "name": "stdout",
     "output_type": "stream",
     "text": [
      "K Neighbors Classifier: accuracy 0.6888315041962556/ f1 0.6862121166610551\n",
      "Multinomial Naive Bayes: accuracy 0.6262104583602324/ f1 0.5380523841697535\n",
      "Support Vector Machine: accuracy 0.6701097482246611/ f1 0.6030176766566738\n",
      "Decision Tree: accuracy 0.8121368624919303/ f1 0.8118577663878619\n"
     ]
    }
   ],
   "source": [
    "kmt_dict = generate_evaluate(kmt_df)\n",
    "kmt_result = pd.DataFrame(kmt_dict).T\n",
    "kmt_result.to_csv(path+ 'kmt_result.csv')"
   ]
  },
  {
   "cell_type": "code",
   "execution_count": 28,
   "id": "164e17a6",
   "metadata": {},
   "outputs": [
    {
     "name": "stdout",
     "output_type": "stream",
     "text": [
      "K Neighbors Classifier: accuracy 0.6368715083798883/ f1 0.6228995146352111\n",
      "Multinomial Naive Bayes: accuracy 0.7486033519553073/ f1 0.7354702877045135\n",
      "Support Vector Machine: accuracy 0.7737430167597765/ f1 0.7747638003607777\n",
      "Decision Tree: accuracy 0.7681564245810056/ f1 0.7627839860425765\n"
     ]
    }
   ],
   "source": [
    "kmt_sub_dict = generate_evaluate(kmt_subset)\n",
    "kmt_sub_result = pd.DataFrame(kmt_sub_dict).T\n",
    "kmt_sub_result.to_csv(path+ 'kmt_sub_result.csv')"
   ]
  },
  {
   "cell_type": "code",
   "execution_count": 29,
   "id": "2ed7c898",
   "metadata": {},
   "outputs": [
    {
     "name": "stdout",
     "output_type": "stream",
     "text": [
      "K Neighbors Classifier: accuracy 0.7116654438738078/ f1 0.7079878978996208\n",
      "Multinomial Naive Bayes: accuracy 0.7263389581804842/ f1 0.6893658911053573\n",
      "Support Vector Machine: accuracy 0.7109317681584739/ f1 0.6869167462033382\n",
      "Decision Tree: accuracy 0.8239178283198826/ f1 0.8238550261979709\n",
      "K Neighbors Classifier: accuracy 0.7078189300411523/ f1 0.7005557612346008\n",
      "Multinomial Naive Bayes: accuracy 0.7037037037037037/ f1 0.6879557793206984\n",
      "Support Vector Machine: accuracy 0.6666666666666666/ f1 0.6021459965901803\n",
      "Decision Tree: accuracy 0.7860082304526749/ f1 0.7785533415432693\n"
     ]
    }
   ],
   "source": [
    "han_df = df[df['keyword_han']==1]\n",
    "han_subset = undersamples(han_df)\n",
    "\n",
    "han_dict = generate_evaluate(han_df)\n",
    "han_result = pd.DataFrame(han_dict).T\n",
    "han_result.to_csv(path+ 'han_result.csv')\n",
    "\n",
    "han_sub_dict = generate_evaluate(han_subset)\n",
    "han_sub_result = pd.DataFrame(han_sub_dict).T\n",
    "han_sub_result.to_csv(path+ 'han_sub_result.csv')"
   ]
  },
  {
   "cell_type": "code",
   "execution_count": 30,
   "id": "4026fffe",
   "metadata": {},
   "outputs": [
    {
     "name": "stdout",
     "output_type": "stream",
     "text": [
      "K Neighbors Classifier: accuracy 0.7062391681109186/ f1 0.7010566906803947\n",
      "Multinomial Naive Bayes: accuracy 0.6403812824956673/ f1 0.5604011192315143\n",
      "Support Vector Machine: accuracy 0.6681109185441941/ f1 0.6051943361969969\n",
      "Decision Tree: accuracy 0.7902946273830156/ f1 0.7900991601314897\n",
      "K Neighbors Classifier: accuracy 0.6460176991150443/ f1 0.6350395313333913\n",
      "Multinomial Naive Bayes: accuracy 0.7699115044247787/ f1 0.76020626413886\n",
      "Support Vector Machine: accuracy 0.7035398230088495/ f1 0.699827678914696\n",
      "Decision Tree: accuracy 0.7522123893805309/ f1 0.7462518831056673\n"
     ]
    }
   ],
   "source": [
    "tasi_df = df[df['keyword_tsai']==1]\n",
    "tasi_subset = undersamples(tasi_df)\n",
    "\n",
    "tasi_dict = generate_evaluate(tasi_df)\n",
    "tasi_result = pd.DataFrame(tasi_dict).T\n",
    "tasi_result.to_csv(path+ 'tasi_result.csv')\n",
    "\n",
    "tasi_sub_dict = generate_evaluate(tasi_subset)\n",
    "tasi_sub_result = pd.DataFrame(tasi_sub_dict).T\n",
    "tasi_sub_result.to_csv(path+ 'tasi_sub_result.csv')"
   ]
  },
  {
   "cell_type": "code",
   "execution_count": 31,
   "id": "588be497",
   "metadata": {},
   "outputs": [
    {
     "name": "stdout",
     "output_type": "stream",
     "text": [
      "K Neighbors Classifier: accuracy 0.6678321678321678/ f1 0.6606763142054749\n",
      "Multinomial Naive Bayes: accuracy 0.5944055944055944/ f1 0.4601332798192025\n",
      "Support Vector Machine: accuracy 0.6826923076923077/ f1 0.5977507684095016\n",
      "Decision Tree: accuracy 0.7840909090909091/ f1 0.7837905280565749\n",
      "K Neighbors Classifier: accuracy 0.6563307493540051/ f1 0.6415240929710417\n",
      "Multinomial Naive Bayes: accuracy 0.7493540051679587/ f1 0.7385803545729619\n",
      "Support Vector Machine: accuracy 0.7209302325581395/ f1 0.7216717722606342\n",
      "Decision Tree: accuracy 0.7545219638242894/ f1 0.7497408852097984\n"
     ]
    }
   ],
   "source": [
    "election_df = df[df['keyword_election']==1]\n",
    "election_subset = undersamples(election_df)\n",
    "\n",
    "election_dict = generate_evaluate(election_df)\n",
    "election_result = pd.DataFrame(election_dict).T\n",
    "election_result.to_csv(path+ 'election_result.csv')\n",
    "\n",
    "election_sub_dict = generate_evaluate(election_subset)\n",
    "election_sub_result = pd.DataFrame(election_sub_dict).T\n",
    "election_sub_result.to_csv(path+ 'election_sub_result.csv')"
   ]
  },
  {
   "cell_type": "markdown",
   "id": "118143b7",
   "metadata": {
    "toc-hr-collapsed": true
   },
   "source": [
    "### get sources"
   ]
  },
  {
   "cell_type": "markdown",
   "id": "c284c75a",
   "metadata": {},
   "source": [
    "#### cti vs ltn"
   ]
  },
  {
   "cell_type": "code",
   "execution_count": 32,
   "id": "cd352766",
   "metadata": {},
   "outputs": [],
   "source": [
    "def get_2news(data, except_num):\n",
    "    return data[data.source_num!=except_num]"
   ]
  },
  {
   "cell_type": "code",
   "execution_count": 33,
   "id": "9438e708",
   "metadata": {},
   "outputs": [],
   "source": [
    "cti_ltn = get_2news(df, 0)\n",
    "cti_ltn_sub = get_2news(df_subset, 0)"
   ]
  },
  {
   "cell_type": "code",
   "execution_count": 34,
   "id": "fe5f84b3",
   "metadata": {},
   "outputs": [
    {
     "name": "stdout",
     "output_type": "stream",
     "text": [
      "K Neighbors Classifier: accuracy 0.725609756097561/ f1 0.7166559264363898\n",
      "Multinomial Naive Bayes: accuracy 0.6838649155722326/ f1 0.609212188219585\n",
      "Support Vector Machine: accuracy 0.6791744840525328/ f1 0.6184408658976812\n",
      "Decision Tree: accuracy 0.8348968105065666/ f1 0.8350054846229278\n"
     ]
    }
   ],
   "source": [
    "cti_ltn_dict = generate_evaluate(cti_ltn)\n",
    "cti_ltn_result = pd.DataFrame(cti_ltn_dict).T\n",
    "cti_ltn_result.to_csv(path+ 'cti_ltn_result.csv')"
   ]
  },
  {
   "cell_type": "code",
   "execution_count": 35,
   "id": "d860a12a",
   "metadata": {},
   "outputs": [
    {
     "name": "stdout",
     "output_type": "stream",
     "text": [
      "K Neighbors Classifier: accuracy 0.6519480519480519/ f1 0.651004821736529\n",
      "Multinomial Naive Bayes: accuracy 0.7558441558441559/ f1 0.7551146722626282\n",
      "Support Vector Machine: accuracy 0.7012987012987013/ f1 0.6965370894989664\n",
      "Decision Tree: accuracy 0.825974025974026/ f1 0.825990463345494\n"
     ]
    }
   ],
   "source": [
    "cti_ltn_sub_dict = generate_evaluate(cti_ltn_sub)\n",
    "cti_ltn_sub_result = pd.DataFrame(cti_ltn_sub_dict).T\n",
    "cti_ltn_sub_result.to_csv(path+ 'cti_ltn_sub_result.csv')"
   ]
  },
  {
   "cell_type": "markdown",
   "id": "2b2805dd",
   "metadata": {},
   "source": [
    "#### cti vs neutral"
   ]
  },
  {
   "cell_type": "code",
   "execution_count": 36,
   "id": "85fef68d",
   "metadata": {},
   "outputs": [],
   "source": [
    "cti_neu = get_2news(df, 1)\n",
    "cti_neu_sub = get_2news(df_subset, 1)"
   ]
  },
  {
   "cell_type": "code",
   "execution_count": 37,
   "id": "79ad35da",
   "metadata": {},
   "outputs": [
    {
     "name": "stdout",
     "output_type": "stream",
     "text": [
      "K Neighbors Classifier: accuracy 0.8624641833810889/ f1 0.8720365243260741\n",
      "Multinomial Naive Bayes: accuracy 0.8299904489016237/ f1 0.7538355261603952\n",
      "Support Vector Machine: accuracy 0.9713467048710601/ f1 0.9702797152984914\n",
      "Decision Tree: accuracy 0.9503342884431709/ f1 0.9517285394980873\n"
     ]
    }
   ],
   "source": [
    "cti_neu_dict = generate_evaluate(cti_neu)\n",
    "cti_neu_result = pd.DataFrame(cti_neu_dict).T\n",
    "cti_neu_result.to_csv(path+ 'cti_neu_result.csv')"
   ]
  },
  {
   "cell_type": "code",
   "execution_count": 38,
   "id": "3b676c08",
   "metadata": {},
   "outputs": [
    {
     "name": "stdout",
     "output_type": "stream",
     "text": [
      "K Neighbors Classifier: accuracy 0.7766233766233767/ f1 0.7712081857536403\n",
      "Multinomial Naive Bayes: accuracy 0.8389610389610389/ f1 0.8353220031879878\n",
      "Support Vector Machine: accuracy 0.9064935064935065/ f1 0.9056563482374161\n",
      "Decision Tree: accuracy 0.8961038961038961/ f1 0.8955861601295466\n"
     ]
    }
   ],
   "source": [
    "cti_neu_sub_dict = generate_evaluate(cti_neu_sub)\n",
    "cti_neu_sub_result = pd.DataFrame(cti_neu_sub_dict).T\n",
    "cti_neu_sub_result.to_csv(path+ 'cti_neu_sub_result.csv')"
   ]
  },
  {
   "cell_type": "markdown",
   "id": "e3c189e4",
   "metadata": {},
   "source": [
    "### ltn vs neutral"
   ]
  },
  {
   "cell_type": "code",
   "execution_count": 39,
   "id": "d3e753f4",
   "metadata": {},
   "outputs": [],
   "source": [
    "ltn_neu = get_2news(df, -1)\n",
    "ltn_neu_sub = get_2news(df_subset, -1)"
   ]
  },
  {
   "cell_type": "code",
   "execution_count": 40,
   "id": "bd6f95f9",
   "metadata": {},
   "outputs": [
    {
     "name": "stdout",
     "output_type": "stream",
     "text": [
      "K Neighbors Classifier: accuracy 0.8965986394557823/ f1 0.9019643096226306\n",
      "Multinomial Naive Bayes: accuracy 0.8755102040816326/ f1 0.8173969043547777\n",
      "Support Vector Machine: accuracy 0.9741496598639455/ f1 0.972994500853043\n",
      "Decision Tree: accuracy 0.9530612244897959/ f1 0.9541417069656272\n"
     ]
    }
   ],
   "source": [
    "ltn_neu_dict = generate_evaluate(ltn_neu)\n",
    "ltn_neu_result = pd.DataFrame(ltn_neu_dict).T\n",
    "ltn_neu_result.to_csv(path+ 'ltn_neu_result.csv')"
   ]
  },
  {
   "cell_type": "code",
   "execution_count": 41,
   "id": "1bc835b3",
   "metadata": {},
   "outputs": [
    {
     "name": "stdout",
     "output_type": "stream",
     "text": [
      "K Neighbors Classifier: accuracy 0.7480519480519481/ f1 0.7446840491137167\n",
      "Multinomial Naive Bayes: accuracy 0.8233766233766234/ f1 0.818793401720231\n",
      "Support Vector Machine: accuracy 0.9064935064935065/ f1 0.9055595658645339\n",
      "Decision Tree: accuracy 0.8753246753246753/ f1 0.8742748776647081\n"
     ]
    }
   ],
   "source": [
    "ltn_neu_sub_dict = generate_evaluate(ltn_neu_sub)\n",
    "ltn_neu_sub_result = pd.DataFrame(ltn_neu_sub_dict).T\n",
    "ltn_neu_sub_result.to_csv(path+ 'ltn_neu_sub_result.csv')"
   ]
  },
  {
   "cell_type": "markdown",
   "id": "8786dfb6",
   "metadata": {},
   "source": [
    "## analysis result"
   ]
  },
  {
   "cell_type": "code",
   "execution_count": 5,
   "id": "19474b71-eed7-4dfa-beb0-44fa3f3c1598",
   "metadata": {},
   "outputs": [],
   "source": [
    "# generate mean\n",
    "def get_avg(data):\n",
    "\n",
    "    data.loc['mean'] = [None, data['acc'].mean(), data['f1'].mean()]\n",
    "    return data"
   ]
  },
  {
   "cell_type": "markdown",
   "id": "9c506706-4763-4dbc-8c7a-8c299ad283d2",
   "metadata": {},
   "source": [
    "### read in data"
   ]
  },
  {
   "cell_type": "code",
   "execution_count": 7,
   "id": "9e3cace4-a003-49d6-a21e-24aa733542d6",
   "metadata": {},
   "outputs": [
    {
     "data": {
      "text/html": [
       "<div>\n",
       "<style scoped>\n",
       "    .dataframe tbody tr th:only-of-type {\n",
       "        vertical-align: middle;\n",
       "    }\n",
       "\n",
       "    .dataframe tbody tr th {\n",
       "        vertical-align: top;\n",
       "    }\n",
       "\n",
       "    .dataframe thead th {\n",
       "        text-align: right;\n",
       "    }\n",
       "</style>\n",
       "<table border=\"1\" class=\"dataframe\">\n",
       "  <thead>\n",
       "    <tr style=\"text-align: right;\">\n",
       "      <th></th>\n",
       "      <th>preds</th>\n",
       "      <th>acc</th>\n",
       "      <th>f1</th>\n",
       "    </tr>\n",
       "    <tr>\n",
       "      <th>model</th>\n",
       "      <th></th>\n",
       "      <th></th>\n",
       "      <th></th>\n",
       "    </tr>\n",
       "  </thead>\n",
       "  <tbody>\n",
       "    <tr>\n",
       "      <th>knn</th>\n",
       "      <td>[ 1 -1 -1 ... -1 -1  1]</td>\n",
       "      <td>0.696213</td>\n",
       "      <td>0.691149</td>\n",
       "    </tr>\n",
       "    <tr>\n",
       "      <th>mnb</th>\n",
       "      <td>[ 1 -1  1 ...  1  1  1]</td>\n",
       "      <td>0.622203</td>\n",
       "      <td>0.522361</td>\n",
       "    </tr>\n",
       "    <tr>\n",
       "      <th>svm</th>\n",
       "      <td>[ 1  1 -1 ...  1  1  1]</td>\n",
       "      <td>0.685886</td>\n",
       "      <td>0.632410</td>\n",
       "    </tr>\n",
       "    <tr>\n",
       "      <th>tree</th>\n",
       "      <td>[ 1 -1 -1 ...  1 -1 -1]</td>\n",
       "      <td>0.812823</td>\n",
       "      <td>0.812961</td>\n",
       "    </tr>\n",
       "    <tr>\n",
       "      <th>mean</th>\n",
       "      <td>NaN</td>\n",
       "      <td>0.704281</td>\n",
       "      <td>0.664720</td>\n",
       "    </tr>\n",
       "  </tbody>\n",
       "</table>\n",
       "</div>"
      ],
      "text/plain": [
       "                         preds       acc        f1\n",
       "model                                             \n",
       "knn    [ 1 -1 -1 ... -1 -1  1]  0.696213  0.691149\n",
       "mnb    [ 1 -1  1 ...  1  1  1]  0.622203  0.522361\n",
       "svm    [ 1  1 -1 ...  1  1  1]  0.685886  0.632410\n",
       "tree   [ 1 -1 -1 ...  1 -1 -1]  0.812823  0.812961\n",
       "mean                       NaN  0.704281  0.664720"
      ]
     },
     "execution_count": 7,
     "metadata": {},
     "output_type": "execute_result"
    }
   ],
   "source": [
    "## keywords\n",
    "\n",
    "df_result = get_avg(pd.read_csv(path+ 'tw_result.csv').rename(columns={\"Unnamed: 0\": \"model\"}).set_index('model'))\n",
    "dpp_result =get_avg( pd.read_csv(path+ 'dpp_result.csv').rename(columns={\"Unnamed: 0\": \"model\"}).set_index('model'))\n",
    "kmt_result = get_avg( pd.read_csv(path+ 'kmt_result.csv').rename(columns={\"Unnamed: 0\": \"model\"}).set_index('model'))\n",
    "han_result = get_avg(pd.read_csv(path+ 'han_result.csv').rename(columns={\"Unnamed: 0\": \"model\"}).set_index('model'))\n",
    "tsai_result = get_avg(pd.read_csv(path+ 'tsai_result.csv').rename(columns={\"Unnamed: 0\": \"model\"}).set_index('model'))\n",
    "election_result = get_avg( pd.read_csv(path+ 'election_result.csv').rename(columns={\"Unnamed: 0\": \"model\"}).set_index('model'))\n",
    "\n",
    "sub_result = get_avg( pd.read_csv(path+ 'sub_result.csv').rename(columns={\"Unnamed: 0\": \"model\"}).set_index('model'))\n",
    "dpp_sub_result = get_avg( pd.read_csv(path+ 'dpp_sub_result.csv').rename(columns={\"Unnamed: 0\": \"model\"}).set_index('model'))\n",
    "kmt_sub_result = get_avg( pd.read_csv(path+ 'kmt_sub_result.csv').rename(columns={\"Unnamed: 0\": \"model\"}).set_index('model'))\n",
    "han_sub_result = get_avg( pd.read_csv(path+ 'han_sub_result.csv').rename(columns={\"Unnamed: 0\": \"model\"}).set_index('model'))\n",
    "tsai_sub_result = get_avg( pd.read_csv(path+ 'tsai_sub_result.csv').rename(columns={\"Unnamed: 0\": \"model\"}).set_index('model'))\n",
    "election_sub_result = get_avg (pd.read_csv(path+ 'election_sub_result.csv').rename(columns={\"Unnamed: 0\": \"model\"}).set_index('model'))\n",
    "\n",
    "\n",
    "\n",
    "df_result.head()"
   ]
  },
  {
   "cell_type": "code",
   "execution_count": 8,
   "id": "b873216f-2a60-4713-b3b5-7d5b2c42849b",
   "metadata": {},
   "outputs": [
    {
     "data": {
      "text/html": [
       "<div>\n",
       "<style scoped>\n",
       "    .dataframe tbody tr th:only-of-type {\n",
       "        vertical-align: middle;\n",
       "    }\n",
       "\n",
       "    .dataframe tbody tr th {\n",
       "        vertical-align: top;\n",
       "    }\n",
       "\n",
       "    .dataframe thead th {\n",
       "        text-align: right;\n",
       "    }\n",
       "</style>\n",
       "<table border=\"1\" class=\"dataframe\">\n",
       "  <thead>\n",
       "    <tr style=\"text-align: right;\">\n",
       "      <th></th>\n",
       "      <th>preds</th>\n",
       "      <th>acc</th>\n",
       "      <th>f1</th>\n",
       "    </tr>\n",
       "    <tr>\n",
       "      <th>model</th>\n",
       "      <th></th>\n",
       "      <th></th>\n",
       "      <th></th>\n",
       "    </tr>\n",
       "  </thead>\n",
       "  <tbody>\n",
       "    <tr>\n",
       "      <th>knn</th>\n",
       "      <td>[-1  0  0  0  0 -1  0  0  0  0 -1 -1  0 -1 -1 ...</td>\n",
       "      <td>0.776623</td>\n",
       "      <td>0.771208</td>\n",
       "    </tr>\n",
       "    <tr>\n",
       "      <th>mnb</th>\n",
       "      <td>[-1  0  0  0  0 -1  0  0  0  0 -1 -1  0  0 -1 ...</td>\n",
       "      <td>0.838961</td>\n",
       "      <td>0.835322</td>\n",
       "    </tr>\n",
       "    <tr>\n",
       "      <th>svm</th>\n",
       "      <td>[-1 -1  0  0 -1 -1  0  0  0  0 -1 -1  0  0 -1 ...</td>\n",
       "      <td>0.906494</td>\n",
       "      <td>0.905656</td>\n",
       "    </tr>\n",
       "    <tr>\n",
       "      <th>tree</th>\n",
       "      <td>[-1 -1  0  0  0 -1  0  0  0  0 -1 -1  0  0 -1 ...</td>\n",
       "      <td>0.896104</td>\n",
       "      <td>0.895586</td>\n",
       "    </tr>\n",
       "    <tr>\n",
       "      <th>mean</th>\n",
       "      <td>NaN</td>\n",
       "      <td>0.854545</td>\n",
       "      <td>0.851943</td>\n",
       "    </tr>\n",
       "  </tbody>\n",
       "</table>\n",
       "</div>"
      ],
      "text/plain": [
       "                                                   preds       acc        f1\n",
       "model                                                                       \n",
       "knn    [-1  0  0  0  0 -1  0  0  0  0 -1 -1  0 -1 -1 ...  0.776623  0.771208\n",
       "mnb    [-1  0  0  0  0 -1  0  0  0  0 -1 -1  0  0 -1 ...  0.838961  0.835322\n",
       "svm    [-1 -1  0  0 -1 -1  0  0  0  0 -1 -1  0  0 -1 ...  0.906494  0.905656\n",
       "tree   [-1 -1  0  0  0 -1  0  0  0  0 -1 -1  0  0 -1 ...  0.896104  0.895586\n",
       "mean                                                 NaN  0.854545  0.851943"
      ]
     },
     "execution_count": 8,
     "metadata": {},
     "output_type": "execute_result"
    }
   ],
   "source": [
    "## source\n",
    "\n",
    "cti_neu_result = get_avg( pd.read_csv(path+ 'cti_neu_result.csv').rename(columns={\"Unnamed: 0\": \"model\"}).set_index('model'))\n",
    "ltn_neu_result = get_avg( pd.read_csv(path+ 'ltn_neu_result.csv').rename(columns={\"Unnamed: 0\": \"model\"}).set_index('model'))\n",
    "cti_ltn_result =get_avg( pd.read_csv(path+ 'cti_ltn_result.csv').rename(columns={\"Unnamed: 0\": \"model\"}).set_index('model'))\n",
    "\n",
    "cti_neu_sub_result = get_avg( pd.read_csv(path+ 'cti_neu_sub_result.csv').rename(columns={\"Unnamed: 0\": \"model\"}).set_index('model'))\n",
    "ltn_neu_sub_result = get_avg(pd.read_csv(path+ 'ltn_neu_sub_result.csv').rename(columns={\"Unnamed: 0\": \"model\"}).set_index('model'))\n",
    "cti_ltn_sub_result = get_avg( pd.read_csv(path+ 'cti_ltn_sub_result.csv').rename(columns={\"Unnamed: 0\": \"model\"}).set_index('model'))\n",
    "\n",
    "cti_neu_sub_result.head()\n",
    "                                                                                                                   "
   ]
  },
  {
   "cell_type": "markdown",
   "id": "6e769eb0-e705-4226-b008-7049b127adf3",
   "metadata": {},
   "source": [
    "### functions"
   ]
  },
  {
   "cell_type": "code",
   "execution_count": 37,
   "id": "98ff1f32",
   "metadata": {},
   "outputs": [],
   "source": [
    "def show_bar(data):\n",
    "    # create the bar plot\n",
    "    name = data.attrs[\"name\"] \n",
    "    print(name)\n",
    "    bar_width = 0.35\n",
    "    index = range(len(data.columns))\n",
    "    \n",
    "    print(data.loc['acc'])\n",
    "    \n",
    "    fig, ax = plt.subplots()\n",
    "    ax.bar(index, data.loc['acc'],  bar_width , color=['blue', 'orange', 'green', 'red'])\n",
    "    # ax = .plot(kind='bar', figsize=(12, 10))\n",
    "    ax.set_ylabel('Accuracy')\n",
    "    # ax.set_title(f'Accuracy of {name} model')\n",
    "    \n",
    "    ax.set_xticks([i + bar_width/2 for i in index])\n",
    "    ax.set_xticklabels(data.columns)\n",
    "    ax.figsize=(12,10)\n",
    "    # plt.figure(figsize=(12,10))\n",
    "    \n",
    "    plt.show()\n",
    "    "
   ]
  },
  {
   "cell_type": "code",
   "execution_count": 23,
   "id": "be7ad7e4",
   "metadata": {},
   "outputs": [],
   "source": [
    "\n",
    "\n",
    "def bars_2data(df1, df2):\n",
    "    name = df1.attrs[\"name\"] \n",
    "    print(name)\n",
    "    # create a bar plot comparing the 'acc' values of the two data frames\n",
    "    fig, ax = plt.subplots()\n",
    "    bar_width = 0.35\n",
    "    opacity = 0.8\n",
    "\n",
    "    index = range(len(df1.columns))\n",
    "    rects1 = ax.bar(index, df1.loc['acc'], bar_width, alpha=opacity, color='b', label='Whole Dataset')\n",
    "    rects2 = ax.bar([i + bar_width for i in index], df2.loc['acc'], bar_width, alpha=opacity, color='g', label='Undersample')\n",
    "\n",
    "    ax.set_xlabel('Columns')\n",
    "    ax.set_ylabel('Accuracy')\n",
    "    # ax.set_title(f'Accuracy of {name} model')\n",
    "    ax.set_xticks([i + bar_width/2 for i in index])\n",
    "    ax.set_xticklabels(df1.columns)\n",
    "    ax.legend()\n",
    "    ax.figsize=(20,8)\n",
    "\n",
    "    # plt.figure(figsize=(20,8))\n",
    "#     plt.tight_layout()\n",
    "    plt.show()"
   ]
  },
  {
   "cell_type": "markdown",
   "id": "aa167776-3cba-49c6-ba99-fbad358b1b84",
   "metadata": {},
   "source": [
    "### source comparison|"
   ]
  },
  {
   "cell_type": "code",
   "execution_count": 27,
   "id": "c2aa38dd",
   "metadata": {},
   "outputs": [],
   "source": [
    "models_list = []\n",
    "\n",
    "models = ['knn', 'mnb', 'svm', 'tree', 'mean']\n",
    "\n",
    "for m in models:\n",
    "    model_df = pd.DataFrame()\n",
    "    model_df.attrs['name'] = m\n",
    "    \n",
    "    model_df['whole data'] = df_result.loc[m, ['acc', 'f1']]\n",
    "    model_df['cti_ltn'] = cti_ltn_result.loc[m, ['acc', 'f1']]\n",
    "    model_df['ltn_neu'] = ltn_neu_result.loc[m, ['acc', 'f1']]\n",
    "    model_df['cti_neu'] = cti_neu_result.loc[m, ['acc', 'f1']]\n",
    "    \n",
    "    models_list.append(model_df)"
   ]
  },
  {
   "cell_type": "code",
   "execution_count": 28,
   "id": "467438d0",
   "metadata": {},
   "outputs": [],
   "source": [
    "sub_models_list = []\n",
    "\n",
    "models = ['knn', 'mnb', 'svm', 'tree', 'mean']\n",
    "\n",
    "for m in models:\n",
    "    model_df = pd.DataFrame()\n",
    "    model_df.attrs['name'] = m\n",
    "    \n",
    "    model_df['whole data'] = sub_result.loc[m, ['acc', 'f1']]\n",
    "    model_df['cti_ltn'] = cti_ltn_sub_result.loc[m, ['acc', 'f1']]\n",
    "    model_df['ltn_neu'] = ltn_neu_sub_result.loc[m, ['acc', 'f1']]\n",
    "    model_df['cti_neu'] = cti_neu_sub_result.loc[m, ['acc', 'f1']]\n",
    "    \n",
    "    sub_models_list.append(model_df)"
   ]
  },
  {
   "cell_type": "code",
   "execution_count": 29,
   "id": "a5ccce94",
   "metadata": {},
   "outputs": [
    {
     "data": {
      "text/html": [
       "<div>\n",
       "<style scoped>\n",
       "    .dataframe tbody tr th:only-of-type {\n",
       "        vertical-align: middle;\n",
       "    }\n",
       "\n",
       "    .dataframe tbody tr th {\n",
       "        vertical-align: top;\n",
       "    }\n",
       "\n",
       "    .dataframe thead th {\n",
       "        text-align: right;\n",
       "    }\n",
       "</style>\n",
       "<table border=\"1\" class=\"dataframe\">\n",
       "  <thead>\n",
       "    <tr style=\"text-align: right;\">\n",
       "      <th></th>\n",
       "      <th>whole data</th>\n",
       "      <th>cti_ltn</th>\n",
       "      <th>ltn_neu</th>\n",
       "      <th>cti_neu</th>\n",
       "    </tr>\n",
       "  </thead>\n",
       "  <tbody>\n",
       "    <tr>\n",
       "      <th>acc</th>\n",
       "      <td>0.608997</td>\n",
       "      <td>0.651948</td>\n",
       "      <td>0.748052</td>\n",
       "      <td>0.776623</td>\n",
       "    </tr>\n",
       "    <tr>\n",
       "      <th>f1</th>\n",
       "      <td>0.596159</td>\n",
       "      <td>0.651005</td>\n",
       "      <td>0.744684</td>\n",
       "      <td>0.771208</td>\n",
       "    </tr>\n",
       "  </tbody>\n",
       "</table>\n",
       "</div>"
      ],
      "text/plain": [
       "    whole data   cti_ltn   ltn_neu   cti_neu\n",
       "acc   0.608997  0.651948  0.748052  0.776623\n",
       "f1    0.596159  0.651005  0.744684  0.771208"
      ]
     },
     "execution_count": 29,
     "metadata": {},
     "output_type": "execute_result"
    }
   ],
   "source": [
    "sub_models_list[0]"
   ]
  },
  {
   "cell_type": "markdown",
   "id": "03036ed5",
   "metadata": {},
   "source": [
    "### keyword comparison"
   ]
  },
  {
   "cell_type": "code",
   "execution_count": 30,
   "id": "2e85e77c",
   "metadata": {
    "tags": []
   },
   "outputs": [],
   "source": [
    "keyword_models_list = []\n",
    "\n",
    "models = ['knn', 'mnb', 'svm', 'tree']\n",
    "\n",
    "for m in models:\n",
    "    model_df = pd.DataFrame()\n",
    "    model_df.attrs['name'] = m\n",
    "    \n",
    "    model_df['whole data'] = df_result.loc[m, ['acc', 'f1']]\n",
    "    model_df['Tsai'] = tsai_result.loc[m, ['acc', 'f1']]\n",
    "    model_df['Han'] = han_result.loc[m, ['acc', 'f1']]\n",
    "    model_df['KMT'] = kmt_result.loc[m, ['acc', 'f1']]\n",
    "    model_df['DPP'] = dpp_result.loc[m, ['acc', 'f1']]\n",
    "    model_df['election'] = election_result.loc[m, ['acc', 'f1']]\n",
    "    \n",
    "    keyword_models_list.append(model_df)"
   ]
  },
  {
   "cell_type": "code",
   "execution_count": 31,
   "id": "7e461f4f",
   "metadata": {},
   "outputs": [],
   "source": [
    "keyword_sub_models_list = []\n",
    "\n",
    "models = ['knn', 'mnb', 'svm', 'tree', 'mean']\n",
    "\n",
    "for m in models:\n",
    "    model_df = pd.DataFrame()\n",
    "    model_df.attrs['name'] = m\n",
    "    \n",
    "    model_df['whole data'] = sub_result.loc[m, ['acc', 'f1']]\n",
    "    model_df['Tsai'] = tsai_sub_result.loc[m, ['acc', 'f1']]\n",
    "    model_df['Han'] = han_sub_result.loc[m, ['acc', 'f1']]\n",
    "    model_df['KMT'] = kmt_sub_result.loc[m, ['acc', 'f1']]\n",
    "    model_df['DPP'] = dpp_sub_result.loc[m, ['acc', 'f1']]\n",
    "    model_df['election'] = election_sub_result.loc[m, ['acc', 'f1']]\n",
    "    \n",
    "    keyword_sub_models_list.append(model_df)"
   ]
  },
  {
   "cell_type": "markdown",
   "id": "671ef034-97e3-45f9-a5e8-76687c922dbc",
   "metadata": {},
   "source": [
    "### show graphs"
   ]
  },
  {
   "cell_type": "code",
   "execution_count": 38,
   "id": "40e31082",
   "metadata": {},
   "outputs": [
    {
     "name": "stdout",
     "output_type": "stream",
     "text": [
      "knn\n",
      "whole data    0.608997\n",
      "Tsai          0.553398\n",
      "Han           0.707819\n",
      "KMT           0.636872\n",
      "DPP           0.607843\n",
      "election      0.656331\n",
      "Name: acc, dtype: object\n"
     ]
    },
    {
     "data": {
      "image/png": "[encoded data removed]",
      "text/plain": [
       "<Figure size 432x288 with 1 Axes>"
      ]
     },
     "metadata": {
      "needs_background": "light"
     },
     "output_type": "display_data"
    },
    {
     "name": "stdout",
     "output_type": "stream",
     "text": [
      "mnb\n",
      "whole data    0.756055\n",
      "Tsai          0.640777\n",
      "Han           0.703704\n",
      "KMT           0.748603\n",
      "DPP           0.752941\n",
      "election      0.749354\n",
      "Name: acc, dtype: object\n"
     ]
    },
    {
     "data": {
      "image/png": "[encoded data removed]",
      "text/plain": [
       "<Figure size 432x288 with 1 Axes>"
      ]
     },
     "metadata": {
      "needs_background": "light"
     },
     "output_type": "display_data"
    },
    {
     "name": "stdout",
     "output_type": "stream",
     "text": [
      "svm\n",
      "whole data    0.723183\n",
      "Tsai          0.456311\n",
      "Han           0.666667\n",
      "KMT           0.773743\n",
      "DPP           0.694118\n",
      "election       0.72093\n",
      "Name: acc, dtype: object\n"
     ]
    },
    {
     "data": {
      "image/png": "[encoded data removed]",
      "text/plain": [
       "<Figure size 432x288 with 1 Axes>"
      ]
     },
     "metadata": {
      "needs_background": "light"
     },
     "output_type": "display_data"
    },
    {
     "name": "stdout",
     "output_type": "stream",
     "text": [
      "tree\n",
      "whole data    0.771626\n",
      "Tsai          0.805825\n",
      "Han           0.786008\n",
      "KMT           0.768156\n",
      "DPP           0.737255\n",
      "election      0.754522\n",
      "Name: acc, dtype: object\n"
     ]
    },
    {
     "data": {
      "image/png": "[encoded data removed]",
      "text/plain": [
       "<Figure size 432x288 with 1 Axes>"
      ]
     },
     "metadata": {
      "needs_background": "light"
     },
     "output_type": "display_data"
    },
    {
     "name": "stdout",
     "output_type": "stream",
     "text": [
      "mean\n",
      "whole data    0.714965\n",
      "Tsai          0.614078\n",
      "Han           0.716049\n",
      "KMT           0.731844\n",
      "DPP           0.698039\n",
      "election      0.720284\n",
      "Name: acc, dtype: object\n"
     ]
    },
    {
     "data": {
      "image/png": "[encoded data removed]",
      "text/plain": [
       "<Figure size 432x288 with 1 Axes>"
      ]
     },
     "metadata": {
      "needs_background": "light"
     },
     "output_type": "display_data"
    }
   ],
   "source": [
    "for i in range(5):\n",
    "    show_bar(keyword_sub_models_list[i])"
   ]
  },
  {
   "cell_type": "code",
   "execution_count": 35,
   "id": "8921f24f-b74c-4e81-b8a0-2c57ce98b4cb",
   "metadata": {},
   "outputs": [
    {
     "name": "stdout",
     "output_type": "stream",
     "text": [
      "knn\n"
     ]
    },
    {
     "data": {
      "image/png": "[encoded data removed]",
      "text/plain": [
       "<Figure size 432x288 with 1 Axes>"
      ]
     },
     "metadata": {
      "needs_background": "light"
     },
     "output_type": "display_data"
    },
    {
     "name": "stdout",
     "output_type": "stream",
     "text": [
      "mnb\n"
     ]
    },
    {
     "data": {
      "image/png": "[encoded data removed]",
      "text/plain": [
       "<Figure size 432x288 with 1 Axes>"
      ]
     },
     "metadata": {
      "needs_background": "light"
     },
     "output_type": "display_data"
    },
    {
     "name": "stdout",
     "output_type": "stream",
     "text": [
      "svm\n"
     ]
    },
    {
     "data": {
      "image/png": "[encoded data removed]",
      "text/plain": [
       "<Figure size 432x288 with 1 Axes>"
      ]
     },
     "metadata": {
      "needs_background": "light"
     },
     "output_type": "display_data"
    },
    {
     "name": "stdout",
     "output_type": "stream",
     "text": [
      "tree\n"
     ]
    },
    {
     "data": {
      "image/png": "[encoded data removed]",
      "text/plain": [
       "<Figure size 432x288 with 1 Axes>"
      ]
     },
     "metadata": {
      "needs_background": "light"
     },
     "output_type": "display_data"
    },
    {
     "name": "stdout",
     "output_type": "stream",
     "text": [
      "mean\n"
     ]
    },
    {
     "data": {
      "image/png": "[encoded data removed]",
      "text/plain": [
       "<Figure size 432x288 with 1 Axes>"
      ]
     },
     "metadata": {
      "needs_background": "light"
     },
     "output_type": "display_data"
    }
   ],
   "source": [
    "for i in range(5):\n",
    "    show_bar(sub_models_list[i])"
   ]
  },
  {
   "cell_type": "code",
   "execution_count": 36,
   "id": "993fc842",
   "metadata": {},
   "outputs": [
    {
     "name": "stdout",
     "output_type": "stream",
     "text": [
      "knn\n"
     ]
    },
    {
     "data": {
      "image/png": "[encoded data removed]",
      "text/plain": [
       "<Figure size 432x288 with 1 Axes>"
      ]
     },
     "metadata": {
      "needs_background": "light"
     },
     "output_type": "display_data"
    },
    {
     "name": "stdout",
     "output_type": "stream",
     "text": [
      "mnb\n"
     ]
    },
    {
     "data": {
      "image/png": "[encoded data removed]",
      "text/plain": [
       "<Figure size 432x288 with 1 Axes>"
      ]
     },
     "metadata": {
      "needs_background": "light"
     },
     "output_type": "display_data"
    },
    {
     "name": "stdout",
     "output_type": "stream",
     "text": [
      "svm\n"
     ]
    },
    {
     "data": {
      "image/png": "[encoded data removed]",
      "text/plain": [
       "<Figure size 432x288 with 1 Axes>"
      ]
     },
     "metadata": {
      "needs_background": "light"
     },
     "output_type": "display_data"
    },
    {
     "name": "stdout",
     "output_type": "stream",
     "text": [
      "tree\n"
     ]
    },
    {
     "data": {
      "image/png": "[encoded data removed]",
      "text/plain": [
       "<Figure size 432x288 with 1 Axes>"
      ]
     },
     "metadata": {
      "needs_background": "light"
     },
     "output_type": "display_data"
    },
    {
     "name": "stdout",
     "output_type": "stream",
     "text": [
      "mean\n"
     ]
    },
    {
     "data": {
      "image/png": "[encoded data removed]",
      "text/plain": [
       "<Figure size 432x288 with 1 Axes>"
      ]
     },
     "metadata": {
      "needs_background": "light"
     },
     "output_type": "display_data"
    }
   ],
   "source": [
    "for i in range(5):\n",
    "\n",
    "    bars_2data(models_list[i], sub_models_list[i])"
   ]
  },
  {
   "cell_type": "code",
   "execution_count": null,
   "id": "55649d20",
   "metadata": {},
   "outputs": [],
   "source": [
    "for i in range(4):\n",
    "\n",
    "    bars_2data(keyword_models_list[i], keyword_sub_models_list[i])"
   ]
  },
  {
   "cell_type": "code",
   "execution_count": null,
   "id": "2adaf062",
   "metadata": {},
   "outputs": [],
   "source": [
    "\n",
    "for i in range(4):\n",
    "\n",
    "    show_bar(keyword_models_list[i])"
   ]
  },
  {
   "cell_type": "code",
   "execution_count": null,
   "id": "dd779b94",
   "metadata": {},
   "outputs": [],
   "source": []
  }
 ],
 "metadata": {
  "kernelspec": {
   "display_name": "Python 3 (ipykernel)",
   "language": "python",
   "name": "python3"
  },
  "language_info": {
   "codemirror_mode": {
    "name": "ipython",
    "version": 3
   },
   "file_extension": ".py",
   "mimetype": "text/x-python",
   "name": "python",
   "nbconvert_exporter": "python",
   "pygments_lexer": "ipython3",
   "version": "3.8.16"
  }
 },
 "nbformat": 4,
 "nbformat_minor": 5
}
